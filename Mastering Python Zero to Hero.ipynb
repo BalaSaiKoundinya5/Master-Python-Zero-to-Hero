{
 "cells": [
  {
   "cell_type": "code",
   "execution_count": 2,
   "id": "97ac6369-dbca-483a-9b4e-7cde9e5a1990",
   "metadata": {},
   "outputs": [],
   "source": [
    "# Why Python?\n",
    "# "
   ]
  }
 ],
 "metadata": {
  "kernelspec": {
   "display_name": "Python 3 (ipykernel)",
   "language": "python",
   "name": "python3"
  },
  "language_info": {
   "codemirror_mode": {
    "name": "ipython",
    "version": 3
   },
   "file_extension": ".py",
   "mimetype": "text/x-python",
   "name": "python",
   "nbconvert_exporter": "python",
   "pygments_lexer": "ipython3",
   "version": "3.12.5"
  }
 },
 "nbformat": 4,
 "nbformat_minor": 5
}
