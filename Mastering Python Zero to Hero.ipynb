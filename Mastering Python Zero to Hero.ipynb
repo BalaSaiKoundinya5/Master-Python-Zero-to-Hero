{
 "cells": [
  {
   "cell_type": "markdown",
   "id": "199e73a6-3962-407d-b834-1a017e03c377",
   "metadata": {},
   "source": [
    "# Why Python?\n",
    "1. Beginner Friendly \n",
    "2. Versatile and Flexible\n",
    "3. Most Popular in Machine learning world\n",
    "4. Most Mature package libraries around"
   ]
  },
  {
   "cell_type": "markdown",
   "id": "785b79f2-9312-421f-8944-814118820d3f",
   "metadata": {},
   "source": [
    "- As of today, there are over 137,000 Python libraries and a significantly larger number of packages available, with estimates placing the total package count on the Python Package Index (PyPI) at over 530,000 packages."
   ]
  },
  {
   "cell_type": "code",
   "execution_count": 1,
   "id": "2f00ca7d-fcb5-43c2-82de-4a5abd4b108b",
   "metadata": {},
   "outputs": [
    {
     "name": "stdout",
     "output_type": "stream",
     "text": [
      "Hello World!\n"
     ]
    }
   ],
   "source": [
    "print(\"Hello World!\")"
   ]
  },
  {
   "cell_type": "markdown",
   "id": "315c2b36-b3a3-4102-ba27-9702f15bb7b9",
   "metadata": {},
   "source": [
    "- If we want to write a math equation then change it into markdown cell and then apply $ at the starting and ending of the equation.\n",
    "\n",
    "$a=b+c$"
   ]
  },
  {
   "cell_type": "code",
   "execution_count": null,
   "id": "3f3f3119-8723-4c7f-8d76-93e92260d63a",
   "metadata": {},
   "outputs": [],
   "source": []
  }
 ],
 "metadata": {
  "kernelspec": {
   "display_name": "Python 3 (ipykernel)",
   "language": "python",
   "name": "python3"
  },
  "language_info": {
   "codemirror_mode": {
    "name": "ipython",
    "version": 3
   },
   "file_extension": ".py",
   "mimetype": "text/x-python",
   "name": "python",
   "nbconvert_exporter": "python",
   "pygments_lexer": "ipython3",
   "version": "3.12.5"
  }
 },
 "nbformat": 4,
 "nbformat_minor": 5
}
