{
 "cells": [
  {
   "cell_type": "markdown",
   "id": "ed1497a0-3147-4a6b-9517-1adf5a6232f1",
   "metadata": {},
   "source": [
    "# What is Python?\n",
    "- Python is a popular programming language. It was created by Guido van Rossum, and released in 1991.\n",
    "- It is used for:\n",
    "- web development (server-side),\n",
    "- software development,\n",
    "- mathematics,\n",
    "- system scripting."
   ]
  },
  {
   "cell_type": "markdown",
   "id": "199e73a6-3962-407d-b834-1a017e03c377",
   "metadata": {},
   "source": [
    "# Why Python?\n",
    "1. Beginner Friendly \n",
    "2. Versatile and Flexible\n",
    "3. Most Popular in Machine learning world\n",
    "4. Most Mature package libraries around\n",
    "5. It works on different platforms like Windows, Mac, Linux, Raspberry Pi."
   ]
  },
  {
   "cell_type": "markdown",
   "id": "785b79f2-9312-421f-8944-814118820d3f",
   "metadata": {},
   "source": [
    "- As of today, there are over 137,000 Python libraries and a significantly larger number of packages available, with estimates placing the total package count on the Python Package Index (PyPI) at over 530,000 packages."
   ]
  },
  {
   "cell_type": "code",
   "execution_count": 1,
   "id": "2f00ca7d-fcb5-43c2-82de-4a5abd4b108b",
   "metadata": {},
   "outputs": [
    {
     "name": "stdout",
     "output_type": "stream",
     "text": [
      "Hello World!\n"
     ]
    }
   ],
   "source": [
    "print(\"Hello World!\")"
   ]
  },
  {
   "cell_type": "markdown",
   "id": "315c2b36-b3a3-4102-ba27-9702f15bb7b9",
   "metadata": {},
   "source": [
    "- If we want to write a math equation then change it into markdown cell and then apply $ at the starting and ending of the equation.\n",
    "\n",
    "$a=b+c$"
   ]
  },
  {
   "cell_type": "markdown",
   "id": "5a73d4bb-4086-429a-a730-6af672f5bd65",
   "metadata": {},
   "source": [
    "# Variable \n",
    "- It is like a container to store the value in it.\n",
    "# Operators\n",
    "- Operators are used to perform operations on variables and values."
   ]
  },
  {
   "cell_type": "markdown",
   "id": "2189d099-6232-4c28-b919-de75d0810dab",
   "metadata": {},
   "source": [
    "- Here = is used for assigning the value on the right hand side to the variable that is present in the left hand side."
   ]
  },
  {
   "cell_type": "markdown",
   "id": "792b7692-60a7-4471-bca9-680eb31539f1",
   "metadata": {},
   "source": [
    "- Common Operators Used\n",
    "- Addition +\n",
    "- Subtraction -\n",
    "- Multiplication *\n",
    "- Division /\n",
    "- mod %\n",
    "- floor division //\n",
    "- to the power of **"
   ]
  },
  {
   "cell_type": "code",
   "execution_count": 20,
   "id": "a26d5296-a936-4d87-a99b-643eca136e80",
   "metadata": {},
   "outputs": [],
   "source": [
    "x = 2\n",
    "y = 5.0\n",
    "z = 2 + 4j\n",
    "s = 'Hello'"
   ]
  },
  {
   "cell_type": "code",
   "execution_count": 21,
   "id": "723f12a6-5c89-44cf-98c8-6cde411a52bc",
   "metadata": {},
   "outputs": [
    {
     "name": "stdout",
     "output_type": "stream",
     "text": [
      "<class 'int'>\n",
      "<class 'float'>\n",
      "<class 'complex'>\n",
      "<class 'str'>\n"
     ]
    }
   ],
   "source": [
    "print(type(x))\n",
    "print(type(y))\n",
    "print(type(z))\n",
    "print(type(s))"
   ]
  },
  {
   "cell_type": "markdown",
   "id": "b8c857c4-824b-47e0-9551-19add1b659bb",
   "metadata": {},
   "source": [
    "- Float can also be scientific numbers with an \"e\" to indicate the power of 10."
   ]
  },
  {
   "cell_type": "code",
   "execution_count": 151,
   "id": "f0410cdd-c984-408b-8e15-32b9cafba40d",
   "metadata": {},
   "outputs": [
    {
     "name": "stdout",
     "output_type": "stream",
     "text": [
      "<class 'float'>\n",
      "<class 'float'>\n",
      "<class 'float'>\n"
     ]
    }
   ],
   "source": [
    "x = 35e3\n",
    "y = 12E4\n",
    "z = -87.7e100\n",
    "\n",
    "print(type(x))\n",
    "print(type(y))\n",
    "print(type(z))"
   ]
  },
  {
   "cell_type": "markdown",
   "id": "6ec79f9e-71c0-42d6-a031-fa8e88d5c7cc",
   "metadata": {},
   "source": [
    "- To get the length of a string, use the len() function."
   ]
  },
  {
   "cell_type": "code",
   "execution_count": 152,
   "id": "210ba250-416e-4f60-8a58-dce22830d8b6",
   "metadata": {},
   "outputs": [
    {
     "name": "stdout",
     "output_type": "stream",
     "text": [
      "13\n"
     ]
    }
   ],
   "source": [
    "a = \"Hello, World!\"\n",
    "print(len(a))"
   ]
  },
  {
   "cell_type": "markdown",
   "id": "54eca559-2e96-4da5-ac45-553d22960b6c",
   "metadata": {},
   "source": [
    "# Casting\n",
    "- If you want to specify the data type of a variable, this can be done with casting."
   ]
  },
  {
   "cell_type": "code",
   "execution_count": 149,
   "id": "7034a487-741d-4f00-a16c-42d24c8568b0",
   "metadata": {},
   "outputs": [],
   "source": [
    "i = int(5) # i will be 5\n",
    "j = str(3) # j will be '3'"
   ]
  },
  {
   "cell_type": "markdown",
   "id": "75b5fd8c-66be-4be4-afc7-caeb9020248e",
   "metadata": {},
   "source": [
    "# Multiple Assignment\n",
    "- Note: The number of variable must be equal to number of values or else it will throw an error"
   ]
  },
  {
   "cell_type": "code",
   "execution_count": 15,
   "id": "53ac0aa3-2ff2-4835-b65e-4cb41edbd47e",
   "metadata": {},
   "outputs": [],
   "source": [
    "a,b=1,2"
   ]
  },
  {
   "cell_type": "code",
   "execution_count": 16,
   "id": "f3a4b3d1-5a11-42e7-923c-fcfd2267672e",
   "metadata": {},
   "outputs": [
    {
     "name": "stdout",
     "output_type": "stream",
     "text": [
      "1\n",
      "2\n"
     ]
    }
   ],
   "source": [
    "print(a)\n",
    "print(b)"
   ]
  },
  {
   "cell_type": "markdown",
   "id": "55c6d1c4-a37d-4e87-98ec-f4ba55d98032",
   "metadata": {},
   "source": [
    "- If you have a collection of values in a list, tuple etc. Python allows you to extract the values into variables. This is called unpacking."
   ]
  },
  {
   "cell_type": "code",
   "execution_count": 150,
   "id": "65b986fe-cda0-484c-aff9-92bff26f35c6",
   "metadata": {},
   "outputs": [
    {
     "name": "stdout",
     "output_type": "stream",
     "text": [
      "apple\n",
      "banana\n",
      "cherry\n"
     ]
    }
   ],
   "source": [
    "fruits = [\"apple\", \"banana\", \"cherry\"]\n",
    "x, y, z = fruits\n",
    "print(x)\n",
    "print(y)\n",
    "print(z)"
   ]
  },
  {
   "cell_type": "code",
   "execution_count": 22,
   "id": "209c5858-68fa-4f87-a4f8-fc0eb97fcb3e",
   "metadata": {},
   "outputs": [],
   "source": [
    "p = 1"
   ]
  },
  {
   "cell_type": "code",
   "execution_count": 24,
   "id": "a53a0408-9645-4aaa-80f6-5a379f87546d",
   "metadata": {},
   "outputs": [
    {
     "name": "stdout",
     "output_type": "stream",
     "text": [
      "1\n"
     ]
    }
   ],
   "source": [
    "print(p)"
   ]
  },
  {
   "cell_type": "markdown",
   "id": "cd4ea583-ef86-4466-833e-1574258da65d",
   "metadata": {},
   "source": [
    "- Del is used to delete the variable from the memory"
   ]
  },
  {
   "cell_type": "code",
   "execution_count": 25,
   "id": "5b5689b1-4877-46a5-88f3-accd142399ee",
   "metadata": {},
   "outputs": [],
   "source": [
    "del(p)"
   ]
  },
  {
   "cell_type": "code",
   "execution_count": 26,
   "id": "2b2daa2e-9d18-461c-9a90-5210437cbf8f",
   "metadata": {},
   "outputs": [
    {
     "ename": "NameError",
     "evalue": "name 'p' is not defined",
     "output_type": "error",
     "traceback": [
      "\u001b[1;31m---------------------------------------------------------------------------\u001b[0m",
      "\u001b[1;31mNameError\u001b[0m                                 Traceback (most recent call last)",
      "Cell \u001b[1;32mIn[26], line 1\u001b[0m\n\u001b[1;32m----> 1\u001b[0m \u001b[38;5;28mprint\u001b[39m(\u001b[43mp\u001b[49m)\n",
      "\u001b[1;31mNameError\u001b[0m: name 'p' is not defined"
     ]
    }
   ],
   "source": [
    "print(p)"
   ]
  },
  {
   "cell_type": "markdown",
   "id": "b220e16f-765c-4e8c-b5d7-d40ce656b271",
   "metadata": {},
   "source": [
    "- if we want to know how many variables are there in the memory then we can use %whos.it gives complete info about the variables and their type that are present in the memory."
   ]
  },
  {
   "cell_type": "code",
   "execution_count": 29,
   "id": "cc547ec2-d7a7-4d48-938a-c111adca3e9b",
   "metadata": {},
   "outputs": [
    {
     "name": "stdout",
     "output_type": "stream",
     "text": [
      "Variable   Type       Data/Info\n",
      "-------------------------------\n",
      "a          int        1\n",
      "b          int        2\n",
      "s          str        Hello\n",
      "x          int        2\n",
      "y          float      5.0\n",
      "z          complex    (2+4j)\n"
     ]
    }
   ],
   "source": [
    "%whos"
   ]
  },
  {
   "cell_type": "code",
   "execution_count": 30,
   "id": "d55d5b33-0128-4e9d-bc3d-54845a11a450",
   "metadata": {},
   "outputs": [],
   "source": [
    "abcd = 1.2345"
   ]
  },
  {
   "cell_type": "code",
   "execution_count": 31,
   "id": "448a2f1a-475d-4b51-ae30-2f09744c07f1",
   "metadata": {},
   "outputs": [
    {
     "name": "stdout",
     "output_type": "stream",
     "text": [
      "1.2345\n"
     ]
    }
   ],
   "source": [
    "print(abcd)"
   ]
  },
  {
   "cell_type": "code",
   "execution_count": 32,
   "id": "a9cb60a3-ebcf-4d48-87f1-8127acf026f0",
   "metadata": {},
   "outputs": [
    {
     "name": "stdout",
     "output_type": "stream",
     "text": [
      "Variable   Type       Data/Info\n",
      "-------------------------------\n",
      "a          int        1\n",
      "abcd       float      1.2345\n",
      "b          int        2\n",
      "s          str        Hello\n",
      "x          int        2\n",
      "y          float      5.0\n",
      "z          complex    (2+4j)\n"
     ]
    }
   ],
   "source": [
    "%whos"
   ]
  },
  {
   "cell_type": "code",
   "execution_count": 33,
   "id": "c290a730-4e27-43b5-b8a7-3f00fc503dd6",
   "metadata": {},
   "outputs": [],
   "source": [
    "del abcd"
   ]
  },
  {
   "cell_type": "code",
   "execution_count": 34,
   "id": "51b2b1e8-4307-4580-8972-86ad7846ab4e",
   "metadata": {},
   "outputs": [
    {
     "name": "stdout",
     "output_type": "stream",
     "text": [
      "Variable   Type       Data/Info\n",
      "-------------------------------\n",
      "a          int        1\n",
      "b          int        2\n",
      "s          str        Hello\n",
      "x          int        2\n",
      "y          float      5.0\n",
      "z          complex    (2+4j)\n"
     ]
    }
   ],
   "source": [
    "%whos"
   ]
  },
  {
   "cell_type": "code",
   "execution_count": 35,
   "id": "7b59fb01-70ee-423a-890c-e2e20025a165",
   "metadata": {},
   "outputs": [],
   "source": [
    "SumOfaAndb = type(a + b)"
   ]
  },
  {
   "cell_type": "code",
   "execution_count": 36,
   "id": "2473a22a-fc80-4b41-b930-e9fcd01944f7",
   "metadata": {},
   "outputs": [
    {
     "name": "stdout",
     "output_type": "stream",
     "text": [
      "<class 'int'>\n"
     ]
    }
   ],
   "source": [
    "print(SumOfaAndb)"
   ]
  },
  {
   "cell_type": "code",
   "execution_count": 37,
   "id": "984f28ff-ff21-48f5-a8de-c711c02fdd1b",
   "metadata": {},
   "outputs": [
    {
     "data": {
      "text/plain": [
       "float"
      ]
     },
     "execution_count": 37,
     "metadata": {},
     "output_type": "execute_result"
    }
   ],
   "source": [
    "type(x+y)"
   ]
  },
  {
   "cell_type": "code",
   "execution_count": 38,
   "id": "72b1a455-e993-470c-9af3-fcc6c76c7112",
   "metadata": {},
   "outputs": [],
   "source": [
    "diffOfaAndb = a-b"
   ]
  },
  {
   "cell_type": "code",
   "execution_count": 39,
   "id": "6abcc57d-6866-40c3-9be9-ebd09e9b88cd",
   "metadata": {},
   "outputs": [
    {
     "name": "stdout",
     "output_type": "stream",
     "text": [
      "-1\n"
     ]
    }
   ],
   "source": [
    "print(diffOfaAndb)"
   ]
  },
  {
   "cell_type": "code",
   "execution_count": 40,
   "id": "e81a0628-cc7d-4b94-99ce-4ef091a6138b",
   "metadata": {},
   "outputs": [
    {
     "name": "stdout",
     "output_type": "stream",
     "text": [
      "10.0\n"
     ]
    }
   ],
   "source": [
    "print(x*y)"
   ]
  },
  {
   "cell_type": "code",
   "execution_count": 41,
   "id": "49205119-ded5-43f9-968e-2abb01692c52",
   "metadata": {},
   "outputs": [
    {
     "name": "stdout",
     "output_type": "stream",
     "text": [
      "0.4\n"
     ]
    }
   ],
   "source": [
    "print(x/y)"
   ]
  },
  {
   "cell_type": "code",
   "execution_count": 42,
   "id": "2ae1780a-5718-4bd5-a6e4-361d2f6d30ac",
   "metadata": {},
   "outputs": [
    {
     "name": "stdout",
     "output_type": "stream",
     "text": [
      "0.0\n"
     ]
    }
   ],
   "source": [
    "print(x//y)"
   ]
  },
  {
   "cell_type": "code",
   "execution_count": 43,
   "id": "2703eb2a-9c20-44f5-83bb-547a1d16c9ab",
   "metadata": {},
   "outputs": [
    {
     "name": "stdout",
     "output_type": "stream",
     "text": [
      "2.0\n"
     ]
    }
   ],
   "source": [
    "print(x%y)"
   ]
  },
  {
   "cell_type": "code",
   "execution_count": 44,
   "id": "acddb85b-5137-4767-a90a-0ace07d8b0ff",
   "metadata": {},
   "outputs": [
    {
     "name": "stdout",
     "output_type": "stream",
     "text": [
      "32.0\n"
     ]
    }
   ],
   "source": [
    "print(x**y)"
   ]
  },
  {
   "cell_type": "markdown",
   "id": "e96a0133-7cac-48bb-9d67-91d984f70f6c",
   "metadata": {},
   "source": [
    "- we can store the value in a variable explicitly but if we didn't store the value then in python the previous value is stored in _ (default variable)"
   ]
  },
  {
   "cell_type": "code",
   "execution_count": 46,
   "id": "4b9cc988-53fd-4b08-868b-1b6ca77edb41",
   "metadata": {},
   "outputs": [
    {
     "data": {
      "text/plain": [
       "1"
      ]
     },
     "execution_count": 46,
     "metadata": {},
     "output_type": "execute_result"
    }
   ],
   "source": [
    "a**b"
   ]
  },
  {
   "cell_type": "code",
   "execution_count": 47,
   "id": "f000731d-3154-443c-86c7-d3147e747100",
   "metadata": {},
   "outputs": [
    {
     "data": {
      "text/plain": [
       "1"
      ]
     },
     "execution_count": 47,
     "metadata": {},
     "output_type": "execute_result"
    }
   ],
   "source": [
    "_"
   ]
  },
  {
   "cell_type": "markdown",
   "id": "ccd0445e-8ec4-4c8e-bbae-c56c34d664d5",
   "metadata": {},
   "source": [
    "- Can a variable name start with a digit i.e, 3x ?"
   ]
  },
  {
   "cell_type": "code",
   "execution_count": 50,
   "id": "b96a2261-8aba-406c-b575-3fa784148ef9",
   "metadata": {},
   "outputs": [
    {
     "ename": "SyntaxError",
     "evalue": "invalid decimal literal (172784892.py, line 1)",
     "output_type": "error",
     "traceback": [
      "\u001b[1;36m  Cell \u001b[1;32mIn[50], line 1\u001b[1;36m\u001b[0m\n\u001b[1;33m    3x = 10\u001b[0m\n\u001b[1;37m    ^\u001b[0m\n\u001b[1;31mSyntaxError\u001b[0m\u001b[1;31m:\u001b[0m invalid decimal literal\n"
     ]
    }
   ],
   "source": [
    "3x = 10"
   ]
  },
  {
   "cell_type": "markdown",
   "id": "47417152-61b5-4fcc-9354-ac172a63f7a7",
   "metadata": {},
   "source": [
    "- So the answer is No."
   ]
  },
  {
   "cell_type": "code",
   "execution_count": 54,
   "id": "7c3c0301-fc20-44d8-9de3-8c8d913a0ced",
   "metadata": {},
   "outputs": [
    {
     "ename": "SyntaxError",
     "evalue": "invalid syntax. Maybe you meant '==' or ':=' instead of '='? (2082238116.py, line 1)",
     "output_type": "error",
     "traceback": [
      "\u001b[1;36m  Cell \u001b[1;32mIn[54], line 1\u001b[1;36m\u001b[0m\n\u001b[1;33m    @y = 5\u001b[0m\n\u001b[1;37m     ^\u001b[0m\n\u001b[1;31mSyntaxError\u001b[0m\u001b[1;31m:\u001b[0m invalid syntax. Maybe you meant '==' or ':=' instead of '='?\n"
     ]
    }
   ],
   "source": [
    "@y = 5"
   ]
  },
  {
   "cell_type": "code",
   "execution_count": 55,
   "id": "ddbbeae9-9569-4c89-8c6b-8ee7ab291d53",
   "metadata": {},
   "outputs": [
    {
     "name": "stderr",
     "output_type": "stream",
     "text": [
      "'z' is not recognized as an internal or external command,\n",
      "operable program or batch file.\n"
     ]
    }
   ],
   "source": [
    "!z = 10"
   ]
  },
  {
   "cell_type": "code",
   "execution_count": 56,
   "id": "2470411c-2f87-4cda-99ee-ad745bff10b5",
   "metadata": {},
   "outputs": [
    {
     "ename": "SyntaxError",
     "evalue": "starred assignment target must be in a list or tuple (1864937.py, line 1)",
     "output_type": "error",
     "traceback": [
      "\u001b[1;36m  Cell \u001b[1;32mIn[56], line 1\u001b[1;36m\u001b[0m\n\u001b[1;33m    *t = 1\u001b[0m\n\u001b[1;37m    ^\u001b[0m\n\u001b[1;31mSyntaxError\u001b[0m\u001b[1;31m:\u001b[0m starred assignment target must be in a list or tuple\n"
     ]
    }
   ],
   "source": [
    "*t = 1"
   ]
  },
  {
   "cell_type": "code",
   "execution_count": 57,
   "id": "7ff02e61-c472-4a13-9df7-0acbb201271f",
   "metadata": {},
   "outputs": [],
   "source": [
    "_e = 10"
   ]
  },
  {
   "cell_type": "code",
   "execution_count": 58,
   "id": "76b94ab7-807e-4ad0-b154-4a77052edab6",
   "metadata": {},
   "outputs": [
    {
     "name": "stdout",
     "output_type": "stream",
     "text": [
      "10\n"
     ]
    }
   ],
   "source": [
    "print(_e)"
   ]
  },
  {
   "cell_type": "markdown",
   "id": "4df54c54-7aa0-449f-87f9-d9cbc7b748c1",
   "metadata": {},
   "source": [
    "- Remember that variable names are case-sensitive."
   ]
  },
  {
   "cell_type": "markdown",
   "id": "f6893dd2-47b1-43b5-ae78-17cc256fd782",
   "metadata": {},
   "source": [
    "# Boolean\n",
    "- Booleans represent one of two values: True or False."
   ]
  },
  {
   "cell_type": "code",
   "execution_count": 62,
   "id": "5f8a83dd-f4dc-44a6-94fe-46d3962938db",
   "metadata": {},
   "outputs": [
    {
     "name": "stdout",
     "output_type": "stream",
     "text": [
      "True\n",
      "<class 'bool'>\n"
     ]
    }
   ],
   "source": [
    "print(a<b)\n",
    "print(type(a<b))"
   ]
  },
  {
   "cell_type": "markdown",
   "id": "d2b09648-1990-4c1a-8c4b-ba94a3bee385",
   "metadata": {},
   "source": [
    "# Comparision Operators"
   ]
  },
  {
   "cell_type": "code",
   "execution_count": 114,
   "id": "2280fde6-310b-4a52-ae60-6186ccf6d644",
   "metadata": {},
   "outputs": [],
   "source": [
    "# == if Equals to \n",
    "# != if not Equal to \n",
    "# > is Greater than\n",
    "# < is less than\n",
    "# >= is Greater than equal to\n",
    "# <= is less than equal to"
   ]
  },
  {
   "cell_type": "markdown",
   "id": "0f33acaa-2c01-429e-b62f-78c336f00442",
   "metadata": {},
   "source": [
    "<!-- - == if it is equal\n",
    "- != if not equal\n",
    "- < less than\n",
    "- > greater than\n",
    "- <= less than or equal to \n",
    "- >= greater than or equal to  -->"
   ]
  },
  {
   "cell_type": "code",
   "execution_count": 112,
   "id": "8854e700-12b8-4f36-bf6c-e984a4d30dbf",
   "metadata": {},
   "outputs": [
    {
     "data": {
      "text/plain": [
       "False"
      ]
     },
     "execution_count": 112,
     "metadata": {},
     "output_type": "execute_result"
    }
   ],
   "source": [
    "a == b"
   ]
  },
  {
   "cell_type": "code",
   "execution_count": 65,
   "id": "8faf08be-e18f-460c-9f6d-09955d2a08fa",
   "metadata": {},
   "outputs": [
    {
     "data": {
      "text/plain": [
       "True"
      ]
     },
     "execution_count": 65,
     "metadata": {},
     "output_type": "execute_result"
    }
   ],
   "source": [
    "a != b"
   ]
  },
  {
   "cell_type": "code",
   "execution_count": 66,
   "id": "4acbade3-2d61-48b2-87c5-a950a9d96446",
   "metadata": {},
   "outputs": [
    {
     "data": {
      "text/plain": [
       "True"
      ]
     },
     "execution_count": 66,
     "metadata": {},
     "output_type": "execute_result"
    }
   ],
   "source": [
    "a < b"
   ]
  },
  {
   "cell_type": "code",
   "execution_count": 67,
   "id": "8eb16532-c13b-4e7e-82b7-d17af69972bd",
   "metadata": {},
   "outputs": [
    {
     "data": {
      "text/plain": [
       "False"
      ]
     },
     "execution_count": 67,
     "metadata": {},
     "output_type": "execute_result"
    }
   ],
   "source": [
    "a > b"
   ]
  },
  {
   "cell_type": "code",
   "execution_count": 68,
   "id": "cd8a8464-35e8-4e95-be22-3fc51214315b",
   "metadata": {},
   "outputs": [
    {
     "data": {
      "text/plain": [
       "False"
      ]
     },
     "execution_count": 68,
     "metadata": {},
     "output_type": "execute_result"
    }
   ],
   "source": [
    "a >= b"
   ]
  },
  {
   "cell_type": "code",
   "execution_count": 69,
   "id": "6231ae7d-c46b-4f1b-8329-87a3542d870c",
   "metadata": {},
   "outputs": [
    {
     "data": {
      "text/plain": [
       "True"
      ]
     },
     "execution_count": 69,
     "metadata": {},
     "output_type": "execute_result"
    }
   ],
   "source": [
    "a <= b"
   ]
  },
  {
   "cell_type": "code",
   "execution_count": 82,
   "id": "7c2b750c-8d86-4f6b-9f38-0ebd31631fd2",
   "metadata": {},
   "outputs": [
    {
     "data": {
      "text/plain": [
       "True"
      ]
     },
     "execution_count": 82,
     "metadata": {},
     "output_type": "execute_result"
    }
   ],
   "source": [
    "3 == 3.0"
   ]
  },
  {
   "cell_type": "markdown",
   "id": "c2836416-742f-4a1c-9dd0-b46f8cb8ae3f",
   "metadata": {},
   "source": [
    "# Logical Operators\n",
    "- Logical operators are used to combine conditional statements\n",
    "- and\n",
    "- or\n",
    "- not"
   ]
  },
  {
   "cell_type": "code",
   "execution_count": 71,
   "id": "fd879bee-5550-47e6-8b9c-cb96c7a56807",
   "metadata": {},
   "outputs": [],
   "source": [
    "m = True\n",
    "n = False\n",
    "o = True"
   ]
  },
  {
   "cell_type": "code",
   "execution_count": 72,
   "id": "05ed6cc8-6727-4f69-92d4-5be4d253eea2",
   "metadata": {},
   "outputs": [
    {
     "name": "stdout",
     "output_type": "stream",
     "text": [
      "False\n",
      "False\n",
      "True\n"
     ]
    }
   ],
   "source": [
    "print(m and n) # False\n",
    "print(n and o) # False\n",
    "print(o and m) # True"
   ]
  },
  {
   "cell_type": "code",
   "execution_count": 73,
   "id": "a9bc12f3-40cb-4534-829b-ff26976ac46d",
   "metadata": {},
   "outputs": [
    {
     "name": "stdout",
     "output_type": "stream",
     "text": [
      "True\n",
      "True\n",
      "True\n"
     ]
    }
   ],
   "source": [
    "print(m or n) # True\n",
    "print(n or o) # True\n",
    "print(o or m) # True"
   ]
  },
  {
   "cell_type": "code",
   "execution_count": 76,
   "id": "aa3cc76e-62a0-43f0-92ec-099358b4f62a",
   "metadata": {},
   "outputs": [
    {
     "name": "stdout",
     "output_type": "stream",
     "text": [
      "False\n",
      "True\n",
      "False\n"
     ]
    }
   ],
   "source": [
    "print(not(m))\n",
    "print(not(n))\n",
    "print(not(o))"
   ]
  },
  {
   "cell_type": "code",
   "execution_count": 77,
   "id": "2fbe0734-b943-4fd3-942a-4a685c32d018",
   "metadata": {},
   "outputs": [
    {
     "data": {
      "text/plain": [
       "False"
      ]
     },
     "execution_count": 77,
     "metadata": {},
     "output_type": "execute_result"
    }
   ],
   "source": [
    "not((m and o) or (n or o) and (m and n) or not(o or n))  "
   ]
  },
  {
   "cell_type": "code",
   "execution_count": 83,
   "id": "fc1bb1ca-b68c-4ee0-bbbf-45901ceddb04",
   "metadata": {},
   "outputs": [
    {
     "name": "stdout",
     "output_type": "stream",
     "text": [
      "False\n"
     ]
    }
   ],
   "source": [
    "print((not(2!=3) and True) or (False and True))"
   ]
  },
  {
   "cell_type": "markdown",
   "id": "ed382aad-fd21-4844-aaa9-ef0c520cdfba",
   "metadata": {},
   "source": [
    "# Other Functions"
   ]
  },
  {
   "cell_type": "markdown",
   "id": "76cb996a-9268-4a43-b029-f54984ab7df8",
   "metadata": {},
   "source": [
    "- round() function is used to round the input value to a specified number of places or to the nearest integer"
   ]
  },
  {
   "cell_type": "code",
   "execution_count": 85,
   "id": "134324a4-9b4a-4daa-aeae-b749a917e7ac",
   "metadata": {},
   "outputs": [
    {
     "name": "stdout",
     "output_type": "stream",
     "text": [
      "2\n"
     ]
    }
   ],
   "source": [
    "print(round(1.923456789))"
   ]
  },
  {
   "cell_type": "code",
   "execution_count": 88,
   "id": "7ebefd69-a90d-43de-9da5-177ad482fa28",
   "metadata": {},
   "outputs": [
    {
     "name": "stdout",
     "output_type": "stream",
     "text": [
      "1.988\n"
     ]
    }
   ],
   "source": [
    "print(round(1.987999999,3))"
   ]
  },
  {
   "cell_type": "markdown",
   "id": "14b9f2ac-549b-4f7f-b178-6404aec235c1",
   "metadata": {},
   "source": [
    "- divmod() function outputs the quotient and the remainder in a tuple"
   ]
  },
  {
   "cell_type": "code",
   "execution_count": 89,
   "id": "388c2d75-9cb7-46ca-abca-153e37d2238a",
   "metadata": {},
   "outputs": [
    {
     "data": {
      "text/plain": [
       "(0, 2)"
      ]
     },
     "execution_count": 89,
     "metadata": {},
     "output_type": "execute_result"
    }
   ],
   "source": [
    "divmod(2,5)"
   ]
  },
  {
   "cell_type": "code",
   "execution_count": 91,
   "id": "1a0dafc2-6c0f-42d8-946a-45bf303fb9f0",
   "metadata": {},
   "outputs": [],
   "source": [
    "g = divmod(27,5)"
   ]
  },
  {
   "cell_type": "code",
   "execution_count": 93,
   "id": "937052c9-a5b4-4267-bb26-c9fe88f3c0a1",
   "metadata": {},
   "outputs": [
    {
     "name": "stdout",
     "output_type": "stream",
     "text": [
      "(5, 2)\n",
      "<class 'tuple'>\n"
     ]
    }
   ],
   "source": [
    "print(g)\n",
    "print(type(g))"
   ]
  },
  {
   "cell_type": "markdown",
   "id": "ab331a21-6c7e-4622-8276-945b5012e8d3",
   "metadata": {},
   "source": [
    "- isinstance() function returns True if the first argument is an instance of that class. Multiple classes can also be checked at once."
   ]
  },
  {
   "cell_type": "code",
   "execution_count": 95,
   "id": "5abe5ce5-b2d1-488b-8e97-dfb01ccd2f78",
   "metadata": {},
   "outputs": [
    {
     "name": "stdout",
     "output_type": "stream",
     "text": [
      "True\n"
     ]
    }
   ],
   "source": [
    "print(isinstance(1,int))"
   ]
  },
  {
   "cell_type": "code",
   "execution_count": 96,
   "id": "81bb0547-ae6d-4f90-a13b-81213cdeb9b8",
   "metadata": {},
   "outputs": [
    {
     "name": "stdout",
     "output_type": "stream",
     "text": [
      "False\n"
     ]
    }
   ],
   "source": [
    "print(isinstance(1.0,int))"
   ]
  },
  {
   "cell_type": "code",
   "execution_count": 100,
   "id": "d9a1c7e9-4f0b-4602-b22f-4def01346a98",
   "metadata": {},
   "outputs": [
    {
     "name": "stdout",
     "output_type": "stream",
     "text": [
      "True\n"
     ]
    }
   ],
   "source": [
    "print(isinstance(1.0,(int,float)))"
   ]
  },
  {
   "cell_type": "code",
   "execution_count": 103,
   "id": "7e61bce7-4c80-4ef3-b274-f6cf8e3acf30",
   "metadata": {},
   "outputs": [
    {
     "name": "stdout",
     "output_type": "stream",
     "text": [
      "False\n"
     ]
    }
   ],
   "source": [
    "print(isinstance('True',(int,float,bool)))"
   ]
  },
  {
   "cell_type": "code",
   "execution_count": 104,
   "id": "2a830fb4-f276-44d1-8b01-ad499d1a9ffc",
   "metadata": {},
   "outputs": [
    {
     "name": "stdout",
     "output_type": "stream",
     "text": [
      "True\n"
     ]
    }
   ],
   "source": [
    "print(isinstance(True,(int,float,str,bool)))"
   ]
  },
  {
   "cell_type": "markdown",
   "id": "2f01f4c3-f1d0-4ab0-929d-7932cfc8aac9",
   "metadata": {},
   "source": [
    "- pow(x,y,z) function x raise to the power y and remainder by z"
   ]
  },
  {
   "cell_type": "code",
   "execution_count": 111,
   "id": "b8787387-8800-4502-9dd1-8c4a939aab25",
   "metadata": {},
   "outputs": [
    {
     "data": {
      "text/plain": [
       "0"
      ]
     },
     "execution_count": 111,
     "metadata": {},
     "output_type": "execute_result"
    }
   ],
   "source": [
    "pow(2,3,4)\n",
    "# 2 ** 3\n",
    "# 8 / 4\n",
    "# remainder is 0"
   ]
  },
  {
   "cell_type": "markdown",
   "id": "aeb32f49-41c1-4427-9596-2230463e07b0",
   "metadata": {},
   "source": [
    "- input() function takes the input from the user"
   ]
  },
  {
   "cell_type": "code",
   "execution_count": 118,
   "id": "bbed3e35-9031-4a8b-bf18-b6d5932fb28a",
   "metadata": {},
   "outputs": [
    {
     "name": "stdin",
     "output_type": "stream",
     "text": [
      "Enter a number 100\n"
     ]
    }
   ],
   "source": [
    "d = input(\"Enter a number\")"
   ]
  },
  {
   "cell_type": "code",
   "execution_count": 119,
   "id": "78198c73-51be-4cc7-bfcd-83cf6f268ed3",
   "metadata": {},
   "outputs": [
    {
     "name": "stdout",
     "output_type": "stream",
     "text": [
      "100\n",
      "<class 'str'>\n"
     ]
    }
   ],
   "source": [
    "print(d)\n",
    "print(type(d))"
   ]
  },
  {
   "cell_type": "code",
   "execution_count": 121,
   "id": "fe90bfda-3c63-4ce9-b1b1-6128805f3a7d",
   "metadata": {},
   "outputs": [
    {
     "name": "stdin",
     "output_type": "stream",
     "text": [
      "Enter a number 100\n"
     ]
    }
   ],
   "source": [
    "d = int(input(\"Enter a number\"))"
   ]
  },
  {
   "cell_type": "code",
   "execution_count": 122,
   "id": "b1b877c0-6c32-4466-9c41-418068c9ee21",
   "metadata": {},
   "outputs": [
    {
     "name": "stdout",
     "output_type": "stream",
     "text": [
      "100\n",
      "<class 'int'>\n"
     ]
    }
   ],
   "source": [
    "print(d)\n",
    "print(type(d))"
   ]
  },
  {
   "cell_type": "code",
   "execution_count": 123,
   "id": "7f592e5c-1ad4-4dce-b118-67c48d6a1a6b",
   "metadata": {},
   "outputs": [
    {
     "name": "stdin",
     "output_type": "stream",
     "text": [
      "Enter a number 100.1\n"
     ]
    }
   ],
   "source": [
    "d = float(input(\"Enter a number\"))"
   ]
  },
  {
   "cell_type": "code",
   "execution_count": 124,
   "id": "1ba22b39-60eb-4919-bae4-e2d1ab779883",
   "metadata": {},
   "outputs": [
    {
     "name": "stdout",
     "output_type": "stream",
     "text": [
      "100.1\n",
      "<class 'float'>\n"
     ]
    }
   ],
   "source": [
    "print(d)\n",
    "print(type(d))"
   ]
  },
  {
   "cell_type": "code",
   "execution_count": 126,
   "id": "63b23b2f-fdab-45bd-8c8a-1944056df862",
   "metadata": {},
   "outputs": [
    {
     "name": "stdin",
     "output_type": "stream",
     "text": [
      "Enter a number 123\n"
     ]
    }
   ],
   "source": [
    "d = float(input(\"Enter a number\"))"
   ]
  },
  {
   "cell_type": "code",
   "execution_count": 127,
   "id": "054914af-664f-4e08-98b8-66d1cb132773",
   "metadata": {},
   "outputs": [
    {
     "name": "stdout",
     "output_type": "stream",
     "text": [
      "123.0\n",
      "<class 'float'>\n"
     ]
    }
   ],
   "source": [
    "print(d)\n",
    "print(type(d))"
   ]
  },
  {
   "cell_type": "code",
   "execution_count": 128,
   "id": "2c988eda-7f61-4a62-b271-e38b7fed856a",
   "metadata": {},
   "outputs": [
    {
     "name": "stdin",
     "output_type": "stream",
     "text": [
      "Enter a real number 100\n"
     ]
    }
   ],
   "source": [
    "d = float(input(\"Enter a real number\"))"
   ]
  },
  {
   "cell_type": "code",
   "execution_count": 129,
   "id": "e6aa3ad7-0591-496d-bf74-9b7540191342",
   "metadata": {},
   "outputs": [
    {
     "name": "stdout",
     "output_type": "stream",
     "text": [
      "100.0\n",
      "<class 'float'>\n"
     ]
    }
   ],
   "source": [
    "print(d)\n",
    "print(type(d))"
   ]
  },
  {
   "cell_type": "code",
   "execution_count": 131,
   "id": "10d364a0-a52b-4f9a-b985-1d400b571d69",
   "metadata": {},
   "outputs": [
    {
     "name": "stdin",
     "output_type": "stream",
     "text": [
      "Enter a integer value 123\n"
     ]
    }
   ],
   "source": [
    "d = int(input(\"Enter a integer value\"))"
   ]
  },
  {
   "cell_type": "code",
   "execution_count": 132,
   "id": "408c4db1-2d6c-408c-be65-477891ea4427",
   "metadata": {},
   "outputs": [
    {
     "name": "stdout",
     "output_type": "stream",
     "text": [
      "123\n",
      "<class 'int'>\n"
     ]
    }
   ],
   "source": [
    "print(d)\n",
    "print(type(d))"
   ]
  },
  {
   "cell_type": "code",
   "execution_count": 133,
   "id": "583bcda6-6191-4598-bcbb-806abf10c91e",
   "metadata": {},
   "outputs": [
    {
     "name": "stdin",
     "output_type": "stream",
     "text": [
      "Enter a real number 123.1\n"
     ]
    }
   ],
   "source": [
    "d = float(input(\"Enter a real number\"))"
   ]
  },
  {
   "cell_type": "code",
   "execution_count": 134,
   "id": "fe5d6c8f-1738-44db-9e15-53541ff8dd98",
   "metadata": {},
   "outputs": [
    {
     "name": "stdout",
     "output_type": "stream",
     "text": [
      "123.1\n",
      "<class 'float'>\n"
     ]
    }
   ],
   "source": [
    "print(d)\n",
    "print(type(d))"
   ]
  },
  {
   "cell_type": "markdown",
   "id": "602d95ca-d26a-4941-b23a-3ee91da83194",
   "metadata": {},
   "source": [
    "- Let's say if there is a function and we don't know what are the arguments to be passed and how to use that function then we can use this method \n",
    "- name of the function?\n",
    "- for example pow?"
   ]
  },
  {
   "cell_type": "code",
   "execution_count": 137,
   "id": "e9225248-7ab4-417b-90e3-6b0257f2efc8",
   "metadata": {},
   "outputs": [
    {
     "data": {
      "text/plain": [
       "\u001b[1;31mSignature:\u001b[0m \u001b[0minput\u001b[0m\u001b[1;33m(\u001b[0m\u001b[0mprompt\u001b[0m\u001b[1;33m=\u001b[0m\u001b[1;34m''\u001b[0m\u001b[1;33m)\u001b[0m\u001b[1;33m\u001b[0m\u001b[1;33m\u001b[0m\u001b[0m\n",
       "\u001b[1;31mDocstring:\u001b[0m\n",
       "Forward raw_input to frontends\n",
       "\n",
       "Raises\n",
       "------\n",
       "StdinNotImplementedError if active frontend doesn't support stdin.\n",
       "\u001b[1;31mFile:\u001b[0m      c:\\users\\dell\\appdata\\roaming\\python\\python312\\site-packages\\ipykernel\\kernelbase.py\n",
       "\u001b[1;31mType:\u001b[0m      method"
      ]
     },
     "metadata": {},
     "output_type": "display_data"
    }
   ],
   "source": [
    "input?"
   ]
  },
  {
   "cell_type": "code",
   "execution_count": 138,
   "id": "7d034810-a654-4da9-bfb7-05f581397033",
   "metadata": {},
   "outputs": [
    {
     "data": {
      "text/plain": [
       "\u001b[1;31mSignature:\u001b[0m \u001b[0mpow\u001b[0m\u001b[1;33m(\u001b[0m\u001b[0mbase\u001b[0m\u001b[1;33m,\u001b[0m \u001b[0mexp\u001b[0m\u001b[1;33m,\u001b[0m \u001b[0mmod\u001b[0m\u001b[1;33m=\u001b[0m\u001b[1;32mNone\u001b[0m\u001b[1;33m)\u001b[0m\u001b[1;33m\u001b[0m\u001b[1;33m\u001b[0m\u001b[0m\n",
       "\u001b[1;31mDocstring:\u001b[0m\n",
       "Equivalent to base**exp with 2 arguments or base**exp % mod with 3 arguments\n",
       "\n",
       "Some types, such as ints, are able to use a more efficient algorithm when\n",
       "invoked using the three argument form.\n",
       "\u001b[1;31mType:\u001b[0m      builtin_function_or_method"
      ]
     },
     "metadata": {},
     "output_type": "display_data"
    }
   ],
   "source": [
    "pow?"
   ]
  },
  {
   "cell_type": "code",
   "execution_count": 139,
   "id": "b2f99aa4-5695-4c15-b241-9fbd743a484f",
   "metadata": {},
   "outputs": [
    {
     "data": {
      "text/plain": [
       "\u001b[1;31mSignature:\u001b[0m \u001b[0misinstance\u001b[0m\u001b[1;33m(\u001b[0m\u001b[0mobj\u001b[0m\u001b[1;33m,\u001b[0m \u001b[0mclass_or_tuple\u001b[0m\u001b[1;33m,\u001b[0m \u001b[1;33m/\u001b[0m\u001b[1;33m)\u001b[0m\u001b[1;33m\u001b[0m\u001b[1;33m\u001b[0m\u001b[0m\n",
       "\u001b[1;31mDocstring:\u001b[0m\n",
       "Return whether an object is an instance of a class or of a subclass thereof.\n",
       "\n",
       "A tuple, as in ``isinstance(x, (A, B, ...))``, may be given as the target to\n",
       "check against. This is equivalent to ``isinstance(x, A) or isinstance(x, B)\n",
       "or ...`` etc.\n",
       "\u001b[1;31mType:\u001b[0m      builtin_function_or_method"
      ]
     },
     "metadata": {},
     "output_type": "display_data"
    }
   ],
   "source": [
    "isinstance?"
   ]
  },
  {
   "cell_type": "code",
   "execution_count": 140,
   "id": "b0c8c193-714a-4c83-a3ef-06ab0a4b51e8",
   "metadata": {},
   "outputs": [
    {
     "data": {
      "text/plain": [
       "\u001b[1;31mSignature:\u001b[0m \u001b[0mdivmod\u001b[0m\u001b[1;33m(\u001b[0m\u001b[0mx\u001b[0m\u001b[1;33m,\u001b[0m \u001b[0my\u001b[0m\u001b[1;33m,\u001b[0m \u001b[1;33m/\u001b[0m\u001b[1;33m)\u001b[0m\u001b[1;33m\u001b[0m\u001b[1;33m\u001b[0m\u001b[0m\n",
       "\u001b[1;31mDocstring:\u001b[0m Return the tuple (x//y, x%y).  Invariant: div*y + mod == x.\n",
       "\u001b[1;31mType:\u001b[0m      builtin_function_or_method"
      ]
     },
     "metadata": {},
     "output_type": "display_data"
    }
   ],
   "source": [
    "divmod?"
   ]
  },
  {
   "cell_type": "markdown",
   "id": "3e87f819-1a20-4004-af7b-d9e44f6be237",
   "metadata": {},
   "source": [
    "- if we want to get help for any specific function then we can use help(name of the function)\n",
    "- for example help(isinstance)"
   ]
  },
  {
   "cell_type": "code",
   "execution_count": 146,
   "id": "3a1ef784-4eb0-4f02-8573-8ed050d28fcd",
   "metadata": {},
   "outputs": [
    {
     "name": "stdout",
     "output_type": "stream",
     "text": [
      "Help on built-in function isinstance in module builtins:\n",
      "\n",
      "isinstance(obj, class_or_tuple, /)\n",
      "    Return whether an object is an instance of a class or of a subclass thereof.\n",
      "\n",
      "    A tuple, as in ``isinstance(x, (A, B, ...))``, may be given as the target to\n",
      "    check against. This is equivalent to ``isinstance(x, A) or isinstance(x, B)\n",
      "    or ...`` etc.\n",
      "\n"
     ]
    }
   ],
   "source": [
    "help(isinstance)"
   ]
  },
  {
   "cell_type": "code",
   "execution_count": 147,
   "id": "295ffe71-f285-4258-9a63-2785bc987978",
   "metadata": {},
   "outputs": [
    {
     "name": "stdout",
     "output_type": "stream",
     "text": [
      "Help on built-in function pow in module builtins:\n",
      "\n",
      "pow(base, exp, mod=None)\n",
      "    Equivalent to base**exp with 2 arguments or base**exp % mod with 3 arguments\n",
      "\n",
      "    Some types, such as ints, are able to use a more efficient algorithm when\n",
      "    invoked using the three argument form.\n",
      "\n"
     ]
    }
   ],
   "source": [
    "help(pow)"
   ]
  },
  {
   "cell_type": "code",
   "execution_count": 148,
   "id": "c12e4b5f-f3aa-4c7f-bfa7-1b179d7b40e0",
   "metadata": {},
   "outputs": [
    {
     "name": "stdout",
     "output_type": "stream",
     "text": [
      "Help on method raw_input in module ipykernel.kernelbase:\n",
      "\n",
      "raw_input(prompt='') method of ipykernel.ipkernel.IPythonKernel instance\n",
      "    Forward raw_input to frontends\n",
      "\n",
      "    Raises\n",
      "    ------\n",
      "    StdinNotImplementedError if active frontend doesn't support stdin.\n",
      "\n"
     ]
    }
   ],
   "source": [
    "help(input)"
   ]
  },
  {
   "cell_type": "markdown",
   "id": "4c204ad8-d2bd-4b36-99b3-259c8f785089",
   "metadata": {},
   "source": [
    "# Slicing\n",
    "- You can return a range of characters by using the slice syntax.\n",
    "- Specify the start index and the end index, separated by a colon, to return a part of the string."
   ]
  },
  {
   "cell_type": "code",
   "execution_count": 153,
   "id": "eb01bfb3-f371-4363-b9dc-5e644a528016",
   "metadata": {},
   "outputs": [
    {
     "name": "stdout",
     "output_type": "stream",
     "text": [
      "llo\n"
     ]
    }
   ],
   "source": [
    "txt = \"Hello, World!\"\n",
    "print(txt[2:5])"
   ]
  },
  {
   "cell_type": "markdown",
   "id": "b018bde6-e059-4a09-b49b-1a0d50f401a2",
   "metadata": {},
   "source": [
    "# Control Flow"
   ]
  },
  {
   "cell_type": "code",
   "execution_count": 38,
   "id": "a6c0b751-6734-4f6c-8dcc-9b7abe635362",
   "metadata": {},
   "outputs": [
    {
     "name": "stdin",
     "output_type": "stream",
     "text": [
      "Enter first number:  10\n",
      "Enter second number:  20\n"
     ]
    },
    {
     "name": "stdout",
     "output_type": "stream",
     "text": [
      "Number2 is greater than Number1 i.e,20.\n"
     ]
    }
   ],
   "source": [
    "num1 = int(input(\"Enter first number: \"))\n",
    "num2 = int(input(\"Enter second number: \"))\n",
    "if num1 > num2 :\n",
    "    result = f\"Number1 is greater than Number2 i.e,{num1}.\"\n",
    "    print(result)\n",
    "elif num1 == num2 :\n",
    "    result = f\"Number1 is equal to Number2.\"\n",
    "    print(result)\n",
    "else :\n",
    "    result = f\"Number2 is greater than Number1 i.e,{num2}.\"\n",
    "    print(result)"
   ]
  },
  {
   "cell_type": "markdown",
   "id": "752bac36-d854-441d-a6a6-22421c7c23eb",
   "metadata": {},
   "source": [
    "- In the above example code snippet I used format strings concept for string concatenation"
   ]
  },
  {
   "cell_type": "code",
   "execution_count": 41,
   "id": "1c1778ae-ff1b-45cd-bf22-3237eb341607",
   "metadata": {},
   "outputs": [
    {
     "name": "stdin",
     "output_type": "stream",
     "text": [
      "Enter Marks:  12\n"
     ]
    },
    {
     "name": "stdout",
     "output_type": "stream",
     "text": [
      "You achieved E Grade! Your are below Average.\n"
     ]
    }
   ],
   "source": [
    "marks = int(input(\"Enter Marks: \"))\n",
    "if marks >= 85:\n",
    "    print(\"Congrats! You achieved A Grade!\")\n",
    "elif (marks >= 80 and marks < 85) :\n",
    "    print(\"You achieved B Grade!\")\n",
    "elif (marks < 80 and marks >= 75) :\n",
    "    print(\"You achieved C Grade!\")\n",
    "elif (marks < 75 and marks >= 65) :\n",
    "    print(\"You achieved D Grade! Need to improve.\")\n",
    "else :\n",
    "    print(\"You achieved E Grade! Your are below Average.\")"
   ]
  },
  {
   "cell_type": "markdown",
   "id": "7050575d-d55f-4747-96bb-891a10f1d2ea",
   "metadata": {},
   "source": [
    "# Nested if\n",
    "- if condition inside another if condition"
   ]
  },
  {
   "cell_type": "code",
   "execution_count": 48,
   "id": "adc9481d-68df-4acd-987d-d10345c88e0b",
   "metadata": {},
   "outputs": [
    {
     "name": "stdin",
     "output_type": "stream",
     "text": [
      "Enter a number:  15\n"
     ]
    },
    {
     "name": "stdout",
     "output_type": "stream",
     "text": [
      "You have entered a number greater than 10!\n",
      "But not greater than 20!\n"
     ]
    }
   ],
   "source": [
    "number = int(input(\"Enter a number: \"))\n",
    "if number > 10 :\n",
    "    print(\"You have entered a number greater than 10!\")\n",
    "    if number >= 20 :\n",
    "        print(\"You have entered a number greater than 20!\")\n",
    "    else :\n",
    "        print(\"But not greater than 20!\")\n",
    "elif number == 10 :\n",
    "    print(\"You have entered a number equal than 10!\")\n",
    "else :\n",
    "    print(\"You have entered a number less than 10!\")"
   ]
  },
  {
   "cell_type": "markdown",
   "id": "8074621b-f676-430c-a2e1-39f85e25f9e2",
   "metadata": {},
   "source": [
    "# Assignment\n",
    "- User will enter a floating point number let say 238.915. Your task\n",
    "is to find out the integer portion before the point (in this case 238) and then check if that integer portion is an even number or not?"
   ]
  },
  {
   "cell_type": "code",
   "execution_count": 127,
   "id": "a214b9d4-16b8-47f4-ac0f-98584e739d40",
   "metadata": {},
   "outputs": [
    {
     "name": "stdin",
     "output_type": "stream",
     "text": [
      "Enter a floating point number:  -89.6\n"
     ]
    },
    {
     "name": "stdout",
     "output_type": "stream",
     "text": [
      "The number you have entered is a Odd Number.\n"
     ]
    }
   ],
   "source": [
    "num = float(input(\"Enter a floating point number: \"))\n",
    "round_num = round(num)\n",
    "if num > 0 :\n",
    "    if round_num > num :\n",
    "        intPortion = round_num - 1\n",
    "    else :\n",
    "        intPortion = round_num\n",
    "else:\n",
    "    if round_num < num :\n",
    "        intPortion = round_num + 1\n",
    "    else :\n",
    "        intPortion = round_num\n",
    "if intPortion % 2 == 0 :\n",
    "    print(\"The number you have entered is a Even Number.\")\n",
    "else :\n",
    "    print(\"The number you have entered is a Odd Number.\")"
   ]
  },
  {
   "cell_type": "markdown",
   "id": "a7dc7cb0-146d-4f7f-ba48-4277a97ae4d0",
   "metadata": {},
   "source": [
    "# Another way"
   ]
  },
  {
   "cell_type": "code",
   "execution_count": 88,
   "id": "2d583d47-a878-4ced-b877-c717dcad38f0",
   "metadata": {},
   "outputs": [
    {
     "name": "stdin",
     "output_type": "stream",
     "text": [
      "Enter a floating point number:  122.123\n"
     ]
    },
    {
     "name": "stdout",
     "output_type": "stream",
     "text": [
      "The number you entered is Even number.\n"
     ]
    }
   ],
   "source": [
    "n = float(input(\"Enter a floating point number: \"))\n",
    "#n = round(n)\n",
    "#print(n)\n",
    "int_num = str(n).split(\".\")\n",
    "#print(int_num)\n",
    "#print(int_num[0])\n",
    "int_num = int(int_num[0])\n",
    "if int_num % 2 == 0:\n",
    "    print(\"The number you entered is Even number.\")\n",
    "else :\n",
    "    print(\"The number you entered is Odd number\")"
   ]
  },
  {
   "cell_type": "markdown",
   "id": "69ebc63f-f8da-4c18-acc9-3a02494e1f8e",
   "metadata": {},
   "source": [
    "# Loops\n",
    "- A loop is a sequence of instruction s that is continually repeated until a certain condition is reached."
   ]
  },
  {
   "cell_type": "code",
   "execution_count": 15,
   "id": "659237d7-ba25-42aa-964c-92a5ea047d6e",
   "metadata": {},
   "outputs": [
    {
     "name": "stdin",
     "output_type": "stream",
     "text": [
      "Enter a number:  10\n"
     ]
    },
    {
     "name": "stdout",
     "output_type": "stream",
     "text": [
      "1\n",
      "2\n",
      "3\n",
      "4\n",
      "5\n",
      "6\n",
      "7\n",
      "8\n",
      "9\n",
      "10\n"
     ]
    }
   ],
   "source": [
    "value = int(input(\"Enter a number: \"))\n",
    "i = 1\n",
    "while i <= value:\n",
    "    print(i)\n",
    "    i += 1"
   ]
  },
  {
   "cell_type": "code",
   "execution_count": 9,
   "id": "a62ea9ad-5b59-4521-abec-df6b84c08317",
   "metadata": {},
   "outputs": [
    {
     "name": "stdin",
     "output_type": "stream",
     "text": [
      "Enter a number:  10\n"
     ]
    },
    {
     "name": "stdout",
     "output_type": "stream",
     "text": [
      "2\n",
      "4\n",
      "6\n",
      "8\n",
      "10\n"
     ]
    }
   ],
   "source": [
    "# Print even numbers using while loop\n",
    "even_num = int(input(\"Enter a number: \"))\n",
    "i = 1\n",
    "while i <= even_num:\n",
    "    if i % 2 == 0 :\n",
    "        print(i)\n",
    "    else :\n",
    "        pass\n",
    "    i+=1"
   ]
  },
  {
   "cell_type": "code",
   "execution_count": 6,
   "id": "d6120a28-d151-4d9b-8fb4-a9be3a8991d7",
   "metadata": {},
   "outputs": [
    {
     "name": "stdin",
     "output_type": "stream",
     "text": [
      "Enter a number:  10\n"
     ]
    },
    {
     "name": "stdout",
     "output_type": "stream",
     "text": [
      "1\n",
      "4\n",
      "9\n",
      "16\n",
      "25\n",
      "36\n",
      "49\n",
      "64\n",
      "81\n",
      "100\n"
     ]
    }
   ],
   "source": [
    "# Print square of number using while loop\n",
    "sqr_num = int(input(\"Enter a number: \"))\n",
    "i = 1 \n",
    "while i <= sqr_num:\n",
    "    sqrd_num = i ** 2\n",
    "    print(sqrd_num)\n",
    "    i += 1"
   ]
  },
  {
   "cell_type": "code",
   "execution_count": 15,
   "id": "7a27b323-53a7-45f0-8136-dd14f798edd8",
   "metadata": {},
   "outputs": [
    {
     "name": "stdin",
     "output_type": "stream",
     "text": [
      "Enter a number:  8\n"
     ]
    },
    {
     "name": "stdout",
     "output_type": "stream",
     "text": [
      "Inside Else\n",
      "Inside Else\n",
      "Inside Else\n",
      "Inside Else\n",
      "Inside Else\n",
      "Inside Else\n",
      "Inside Else\n",
      "Inside Else\n",
      "Inside if\n",
      "Done\n"
     ]
    }
   ],
   "source": [
    "l = int(input(\"Enter a number: \"))\n",
    "i = 1\n",
    "while True :\n",
    "    if i % 9 == 0 :\n",
    "        print(\"Inside if\")\n",
    "        break\n",
    "    else :\n",
    "        print(\"Inside Else\")\n",
    "        i= i + 1\n",
    "print(\"Done\")"
   ]
  },
  {
   "cell_type": "code",
   "execution_count": 19,
   "id": "8ecc1359-41da-4783-b111-70a7c5f153fa",
   "metadata": {},
   "outputs": [
    {
     "name": "stdout",
     "output_type": "stream",
     "text": [
      "Inside if\n",
      "Inside if\n",
      "Inside if\n",
      "Inside if\n",
      "Inside if\n",
      "Inside if\n",
      "Inside if\n",
      "Inside if\n",
      "Something\n",
      "Something Else\n",
      "Done\n"
     ]
    }
   ],
   "source": [
    "d = 10\n",
    "i = 1\n",
    "while True:\n",
    "    if i % 9 != 0:\n",
    "        print('Inside if')\n",
    "        i = i + 1\n",
    "        continue\n",
    "    print(\"Something\")\n",
    "    print(\"Something Else\")\n",
    "    break\n",
    "print(\"Done\")"
   ]
  },
  {
   "cell_type": "markdown",
   "id": "c8cd887d-011d-4e7c-ba20-a3953b82ed67",
   "metadata": {},
   "source": [
    "# For Loop"
   ]
  },
  {
   "cell_type": "code",
   "execution_count": 58,
   "id": "c7fd5f7e-4507-44dc-8b79-61a30d6d47e4",
   "metadata": {},
   "outputs": [
    {
     "name": "stdin",
     "output_type": "stream",
     "text": [
      "Enter a range:  20\n"
     ]
    },
    {
     "name": "stdout",
     "output_type": "stream",
     "text": [
      "[0, 4, 16, 36, 64, 100, 144, 196, 256, 324, 400]\n"
     ]
    }
   ],
   "source": [
    "# Create a empty list and range upto 10 square \n",
    "# the numbers and append it to that empty list\n",
    "l = [] # Empty list\n",
    "j = int(input(\"Enter a range: \"))\n",
    "for i in range (0,j+1,2):\n",
    "    if i % 2 == 0 :\n",
    "        i = i ** 2\n",
    "        l.append(i)\n",
    "print(l)"
   ]
  },
  {
   "cell_type": "markdown",
   "id": "a2c6ed0d-33b5-4465-97a1-cf810fe81418",
   "metadata": {},
   "source": [
    "# Else in for Loops"
   ]
  },
  {
   "cell_type": "code",
   "execution_count": 73,
   "id": "67a883cd-cccd-4222-bebe-c1114f73f2f3",
   "metadata": {},
   "outputs": [
    {
     "name": "stdout",
     "output_type": "stream",
     "text": [
      "apple\n",
      "1.5\n",
      "Outside the loop\n"
     ]
    }
   ],
   "source": [
    "S = {\"apple\",1.5,\"python\",\"programming\"}\n",
    "j = 1\n",
    "for i in S :\n",
    "    print(i)\n",
    "    j = j + 1\n",
    "    if j == 3:\n",
    "        break\n",
    "    else:\n",
    "        pass\n",
    "else :\n",
    "    print(\"Loop completes its iteration\") # Here the else part executes if the complete for loop is executed\n",
    "print(\"Outside the loop\")"
   ]
  },
  {
   "cell_type": "code",
   "execution_count": 82,
   "id": "bac4097a-c786-4dee-b2a5-25d41e1a3920",
   "metadata": {
    "scrolled": true
   },
   "outputs": [
    {
     "name": "stdout",
     "output_type": "stream",
     "text": [
      "Fruit\n",
      "Fruit Apple\n",
      "Game\n",
      "Game Chess\n"
     ]
    }
   ],
   "source": [
    "D = {\"Fruit\":\"Apple\",\"Game\":\"Chess\"}\n",
    "for x in D :\n",
    "    print(x)\n",
    "    print(x,D[x])"
   ]
  },
  {
   "cell_type": "markdown",
   "id": "4441772b-5936-4121-ad1c-57275ff5078b",
   "metadata": {},
   "source": [
    "# Assignment\n",
    "-  Given a list of numbers i.e., [1,2,4,-5,7,9,3,2],make another list that contains all the items in sorted order from min to max i.e., your result will be another list like [-5,1,2,2,3,4,7,9]"
   ]
  },
  {
   "cell_type": "code",
   "execution_count": 116,
   "id": "060278b5-83b0-4ced-a78f-39138b94dab5",
   "metadata": {},
   "outputs": [
    {
     "name": "stdout",
     "output_type": "stream",
     "text": [
      "[-5, 1, 2, 2, 3, 4, 7, 9]\n"
     ]
    }
   ],
   "source": [
    "L = [1,2,4,-5,7,9,3,2]\n",
    "for j in range (len(L)):\n",
    "    m = L[j]\n",
    "    idx = j\n",
    "    c = j\n",
    "    for i in range(j,len(L)):\n",
    "        if L[i] < m:\n",
    "            m = L[i]\n",
    "            idx = c \n",
    "        c = c + 1\n",
    "    tmp = L[j]\n",
    "    L[j] = m\n",
    "    L[idx] = tmp\n",
    "print(L)"
   ]
  },
  {
   "cell_type": "code",
   "execution_count": 104,
   "id": "af35924b-469f-4865-85a1-19fc3a954f1b",
   "metadata": {},
   "outputs": [
    {
     "name": "stdout",
     "output_type": "stream",
     "text": [
      "[-5, 1, 2, 2, 3, 4, 7, 9]\n"
     ]
    }
   ],
   "source": [
    "# In python we have built in functions that are predefined and we can use them without writing a block of code.\n",
    "L = [1,2,4,-5,7,9,3,2]\n",
    "L.sort()\n",
    "print(L)"
   ]
  },
  {
   "cell_type": "markdown",
   "id": "5eb37e7a-4410-4ab9-a2c0-68cf93eb48fd",
   "metadata": {},
   "source": [
    "# Functions"
   ]
  },
  {
   "cell_type": "code",
   "execution_count": 119,
   "id": "300af9d7-5b1c-4bde-bc35-c313e1980d3b",
   "metadata": {},
   "outputs": [],
   "source": [
    "def printSuccess():\n",
    "    print(\"The task was successful!\")\n",
    "    print(\"Moving on to the next task\")\n",
    "    print(\"Send me the next task\")"
   ]
  },
  {
   "cell_type": "code",
   "execution_count": 121,
   "id": "e2c2ea02-375c-4af7-8856-51f2dc28e3c7",
   "metadata": {},
   "outputs": [
    {
     "name": "stdout",
     "output_type": "stream",
     "text": [
      "The task was successful!\n",
      "Moving on to the next task\n",
      "Send me the next task\n"
     ]
    }
   ],
   "source": [
    "printSuccess()"
   ]
  },
  {
   "cell_type": "code",
   "execution_count": 4,
   "id": "123e04f7-f3bf-4b8b-abd6-6520b0e92065",
   "metadata": {},
   "outputs": [
    {
     "data": {
      "text/plain": [
       "\u001b[1;31mSignature:\u001b[0m \u001b[0mlen\u001b[0m\u001b[1;33m(\u001b[0m\u001b[0mobj\u001b[0m\u001b[1;33m,\u001b[0m \u001b[1;33m/\u001b[0m\u001b[1;33m)\u001b[0m\u001b[1;33m\u001b[0m\u001b[1;33m\u001b[0m\u001b[0m\n",
       "\u001b[1;31mDocstring:\u001b[0m Return the number of items in a container.\n",
       "\u001b[1;31mType:\u001b[0m      builtin_function_or_method"
      ]
     },
     "metadata": {},
     "output_type": "display_data"
    }
   ],
   "source": [
    "len?"
   ]
  },
  {
   "cell_type": "code",
   "execution_count": 34,
   "id": "c8d1f092-67f2-40e1-bf73-57dee1856c8f",
   "metadata": {},
   "outputs": [],
   "source": [
    "def printmsg(msg):\n",
    "    \"\"\"The function prints the message supplied by the user\n",
    "    or prints that msg is not in the form of string\"\"\"\n",
    "    if isinstance(msg,str):\n",
    "        print(msg)\n",
    "    else :\n",
    "        print(\"Your input argument is not a string!\")\n",
    "        print(\"Here is the type of what you have supplied:\",type(msg))"
   ]
  },
  {
   "cell_type": "code",
   "execution_count": 35,
   "id": "67d3acf4-6240-4e4f-81ee-bfc0aa9bc51c",
   "metadata": {},
   "outputs": [
    {
     "name": "stdout",
     "output_type": "stream",
     "text": [
      "Your input argument is not a string!\n",
      "Here is the type of what you have supplied: <class 'int'>\n"
     ]
    }
   ],
   "source": [
    "printmsg(123)"
   ]
  },
  {
   "cell_type": "code",
   "execution_count": 36,
   "id": "0b677b0e-bdb8-414d-8335-035833d77b8b",
   "metadata": {},
   "outputs": [],
   "source": [
    "def mypow(a,b):\n",
    "    \"\"\" This function computes power just like builtin pow functions\n",
    "    \"\"\"\n",
    "    c = a ** b\n",
    "    print(c)"
   ]
  },
  {
   "cell_type": "code",
   "execution_count": 42,
   "id": "d049b998-b307-4df1-81c6-da9235ad9d47",
   "metadata": {},
   "outputs": [
    {
     "name": "stdout",
     "output_type": "stream",
     "text": [
      "8\n"
     ]
    }
   ],
   "source": [
    "mypow(2,3)"
   ]
  },
  {
   "cell_type": "code",
   "execution_count": 62,
   "id": "80fb83c7-4a83-4c91-a648-d70d21879764",
   "metadata": {},
   "outputs": [],
   "source": [
    "def twoArgs(arg1,arg2) :\n",
    "    \"\"\" This function is used to pass two args \n",
    "    for the same function \"\"\"\n",
    "    greet = \"Welcome \" + arg1 + \"!\" + \"Your last name is \" + arg2 + \". Glad to see you here!\"\n",
    "    print(greet)"
   ]
  },
  {
   "cell_type": "code",
   "execution_count": 63,
   "id": "78658435-71b8-4e2f-b026-29c2c78189fe",
   "metadata": {},
   "outputs": [
    {
     "name": "stdout",
     "output_type": "stream",
     "text": [
      "Welcome Ravi!Your last name is Kumar. Glad to see you here!\n"
     ]
    }
   ],
   "source": [
    "twoArgs(\"Ravi\",\"Kumar\")"
   ]
  },
  {
   "cell_type": "code",
   "execution_count": 64,
   "id": "f1960277-424a-4213-b7f6-46461afc0302",
   "metadata": {},
   "outputs": [],
   "source": [
    "def checkArgs(a,b,c):\n",
    "    if isinstance(a,(int,float)) and isinstance(b,(int,float)) and isinstance(c,(int,float)) :\n",
    "        print((a+b+c) ** 2)\n",
    "    else :\n",
    "        print(\"Error: The input arguments are not of the expected types!\")"
   ]
  },
  {
   "cell_type": "code",
   "execution_count": 66,
   "id": "b1c5cd10-d17b-4a01-aafa-5bac280c3967",
   "metadata": {},
   "outputs": [
    {
     "name": "stdout",
     "output_type": "stream",
     "text": [
      "36\n"
     ]
    }
   ],
   "source": [
    "checkArgs(1,2,3)"
   ]
  },
  {
   "cell_type": "code",
   "execution_count": 67,
   "id": "d9e78172-f144-48cb-bf87-85ba50ab4f89",
   "metadata": {},
   "outputs": [
    {
     "name": "stdout",
     "output_type": "stream",
     "text": [
      "Error: The input arguments are not of the expected types!\n"
     ]
    }
   ],
   "source": [
    "checkArgs(3,4,\"A\")"
   ]
  },
  {
   "cell_type": "code",
   "execution_count": 68,
   "id": "671c7c41-ef4c-4acc-9fbf-e09d1dac30c9",
   "metadata": {},
   "outputs": [
    {
     "ename": "TypeError",
     "evalue": "checkArgs() missing 1 required positional argument: 'c'",
     "output_type": "error",
     "traceback": [
      "\u001b[1;31m---------------------------------------------------------------------------\u001b[0m",
      "\u001b[1;31mTypeError\u001b[0m                                 Traceback (most recent call last)",
      "Cell \u001b[1;32mIn[68], line 1\u001b[0m\n\u001b[1;32m----> 1\u001b[0m \u001b[43mcheckArgs\u001b[49m\u001b[43m(\u001b[49m\u001b[38;5;241;43m1\u001b[39;49m\u001b[43m,\u001b[49m\u001b[38;5;241;43m2\u001b[39;49m\u001b[43m)\u001b[49m\n",
      "\u001b[1;31mTypeError\u001b[0m: checkArgs() missing 1 required positional argument: 'c'"
     ]
    }
   ],
   "source": [
    "checkArgs(1,2)"
   ]
  },
  {
   "cell_type": "code",
   "execution_count": 69,
   "id": "b1a9f186-3c6f-43ee-b647-691709e66201",
   "metadata": {},
   "outputs": [
    {
     "ename": "TypeError",
     "evalue": "checkArgs() takes 3 positional arguments but 4 were given",
     "output_type": "error",
     "traceback": [
      "\u001b[1;31m---------------------------------------------------------------------------\u001b[0m",
      "\u001b[1;31mTypeError\u001b[0m                                 Traceback (most recent call last)",
      "Cell \u001b[1;32mIn[69], line 1\u001b[0m\n\u001b[1;32m----> 1\u001b[0m \u001b[43mcheckArgs\u001b[49m\u001b[43m(\u001b[49m\u001b[38;5;241;43m1\u001b[39;49m\u001b[43m,\u001b[49m\u001b[38;5;241;43m2\u001b[39;49m\u001b[43m,\u001b[49m\u001b[38;5;241;43m3\u001b[39;49m\u001b[43m,\u001b[49m\u001b[38;5;241;43m4\u001b[39;49m\u001b[43m)\u001b[49m\n",
      "\u001b[1;31mTypeError\u001b[0m: checkArgs() takes 3 positional arguments but 4 were given"
     ]
    }
   ],
   "source": [
    "checkArgs(1,2,3,4)"
   ]
  },
  {
   "cell_type": "code",
   "execution_count": 71,
   "id": "aaabd364-24da-4fdd-9f3d-82c91f826c45",
   "metadata": {},
   "outputs": [],
   "source": [
    "def args(a,b,c):\n",
    "    print(\"A is :\",a)\n",
    "    print(\"B is :\",b)\n",
    "    print(\"C is :\",c)"
   ]
  },
  {
   "cell_type": "code",
   "execution_count": 72,
   "id": "9ad9b369-0562-41fb-8ca7-3f2033f9ce2d",
   "metadata": {},
   "outputs": [
    {
     "name": "stdout",
     "output_type": "stream",
     "text": [
      "A is : 2\n",
      "B is : 3\n",
      "C is : Python\n"
     ]
    }
   ],
   "source": [
    "args(2,3,\"Python\")"
   ]
  },
  {
   "cell_type": "code",
   "execution_count": 73,
   "id": "b81cf8ad-785a-499f-a2a6-47e4a70a0ae5",
   "metadata": {},
   "outputs": [
    {
     "name": "stdout",
     "output_type": "stream",
     "text": [
      "A is : Python\n",
      "B is : 3\n",
      "C is : 2\n"
     ]
    }
   ],
   "source": [
    "args(\"Python\",3,2)"
   ]
  },
  {
   "cell_type": "code",
   "execution_count": 74,
   "id": "fe6a8709-17cd-4079-85ff-3045a02a5b2e",
   "metadata": {},
   "outputs": [
    {
     "name": "stdout",
     "output_type": "stream",
     "text": [
      "A is : 2\n",
      "B is : 3\n",
      "C is : Python\n"
     ]
    }
   ],
   "source": [
    "args(a=2,b=3,c=\"Python\")"
   ]
  },
  {
   "cell_type": "code",
   "execution_count": 75,
   "id": "d88edf4e-139c-4c46-8c86-02c21f63ee51",
   "metadata": {},
   "outputs": [
    {
     "name": "stdout",
     "output_type": "stream",
     "text": [
      "A is : Python\n",
      "B is : 2\n",
      "C is : 3\n"
     ]
    }
   ],
   "source": [
    "args(a=\"Python\",b=2,c=3)"
   ]
  },
  {
   "cell_type": "code",
   "execution_count": 83,
   "id": "efded930-24f5-4195-97e9-d5e59b97414d",
   "metadata": {},
   "outputs": [],
   "source": [
    "def add(x,y):\n",
    "    return x + y"
   ]
  },
  {
   "cell_type": "code",
   "execution_count": 86,
   "id": "53058afa-0066-49e9-8ea8-d45483301f76",
   "metadata": {},
   "outputs": [
    {
     "data": {
      "text/plain": [
       "25"
      ]
     },
     "execution_count": 86,
     "metadata": {},
     "output_type": "execute_result"
    }
   ],
   "source": [
    "add(12,13)"
   ]
  },
  {
   "cell_type": "code",
   "execution_count": 87,
   "id": "7f39fb27-efbf-46f7-97a4-3277a5c89203",
   "metadata": {},
   "outputs": [],
   "source": [
    "variableOutsideTheFunction = 3"
   ]
  },
  {
   "cell_type": "code",
   "execution_count": 96,
   "id": "6443be6b-27fe-4b4a-b577-674f138f05fa",
   "metadata": {},
   "outputs": [],
   "source": [
    "def g():\n",
    "    variableOutsideTheFunction = 5\n",
    "    print(variableOutsideTheFunction)"
   ]
  },
  {
   "cell_type": "code",
   "execution_count": 97,
   "id": "9bb277e1-131a-4afb-919b-54062c1daa77",
   "metadata": {},
   "outputs": [
    {
     "name": "stdout",
     "output_type": "stream",
     "text": [
      "5\n"
     ]
    }
   ],
   "source": [
    "g()"
   ]
  },
  {
   "cell_type": "code",
   "execution_count": 98,
   "id": "2f4920c6-3382-41c5-a6b0-691154d1a8ec",
   "metadata": {},
   "outputs": [
    {
     "name": "stdout",
     "output_type": "stream",
     "text": [
      "3\n"
     ]
    }
   ],
   "source": [
    "print(variableOutsideTheFunction)"
   ]
  },
  {
   "cell_type": "code",
   "execution_count": 99,
   "id": "33812e30-2893-49be-92a1-e0a2dd5bd8a8",
   "metadata": {},
   "outputs": [],
   "source": [
    "def r():\n",
    "    a = 5\n",
    "    b = 7\n",
    "    c = \"Something\"\n",
    "    return a,b,c"
   ]
  },
  {
   "cell_type": "code",
   "execution_count": 100,
   "id": "58f82a9b-b40d-4e61-9e69-1db69c99152f",
   "metadata": {},
   "outputs": [
    {
     "name": "stdout",
     "output_type": "stream",
     "text": [
      "5 7 Something\n"
     ]
    }
   ],
   "source": [
    "x,y,z=r()\n",
    "print(x,y,z)"
   ]
  },
  {
   "cell_type": "code",
   "execution_count": 107,
   "id": "6f92222d-de92-4f05-8722-af7f51320eef",
   "metadata": {},
   "outputs": [],
   "source": [
    "# Functions - variables of input arguments\n",
    "def add(*args):\n",
    "    sum = 0\n",
    "    for i in range(len(args)):\n",
    "        sum = sum + args[i]\n",
    "    return sum"
   ]
  },
  {
   "cell_type": "code",
   "execution_count": 111,
   "id": "1356e011-cdcb-45aa-b8b8-935698fd7a57",
   "metadata": {},
   "outputs": [
    {
     "name": "stdout",
     "output_type": "stream",
     "text": [
      "3\n"
     ]
    }
   ],
   "source": [
    "print(add(1,2))"
   ]
  },
  {
   "cell_type": "code",
   "execution_count": 112,
   "id": "17f84b20-3454-419e-876f-95acab79d26e",
   "metadata": {},
   "outputs": [
    {
     "data": {
      "text/plain": [
       "35"
      ]
     },
     "execution_count": 112,
     "metadata": {},
     "output_type": "execute_result"
    }
   ],
   "source": [
    "add(9,8,7,6,5)"
   ]
  },
  {
   "cell_type": "code",
   "execution_count": 133,
   "id": "b0962e44-9e2b-408e-b25f-52fb8217a8bf",
   "metadata": {},
   "outputs": [],
   "source": [
    "# Functions - variables number of input arguments\n",
    "def f(**args):\n",
    "    for x in args :\n",
    "        print(\"Variable name is : \" ,x,\" And Value is : \", args[x])"
   ]
  },
  {
   "cell_type": "code",
   "execution_count": 134,
   "id": "9aca6480-ddf6-4cea-add8-bc1d88cea6a0",
   "metadata": {},
   "outputs": [
    {
     "name": "stdout",
     "output_type": "stream",
     "text": [
      "Variable name is :  a  And Value is :  1\n",
      "Variable name is :  b  And Value is :  5.9\n",
      "Variable name is :  c  And Value is :  Python\n"
     ]
    }
   ],
   "source": [
    "f(a=1,b=5.9,c=\"Python\")"
   ]
  },
  {
   "cell_type": "code",
   "execution_count": 137,
   "id": "cbe05e3a-8072-427e-9e4f-e1132e35a43d",
   "metadata": {},
   "outputs": [],
   "source": [
    "def f(sum=10):\n",
    "    print(sum)"
   ]
  },
  {
   "cell_type": "code",
   "execution_count": 138,
   "id": "95bd7141-ccb7-4cb2-a468-9bb1bf07417f",
   "metadata": {},
   "outputs": [
    {
     "name": "stdout",
     "output_type": "stream",
     "text": [
      "10\n"
     ]
    }
   ],
   "source": [
    "f()"
   ]
  },
  {
   "cell_type": "code",
   "execution_count": 141,
   "id": "c79c79de-42cd-416b-b6a6-840e6c85a188",
   "metadata": {},
   "outputs": [
    {
     "name": "stdout",
     "output_type": "stream",
     "text": [
      "[-5, 2, 3]\n"
     ]
    }
   ],
   "source": [
    "L = [1,2,3]\n",
    "L2 = L\n",
    "L[0] = -5\n",
    "print(L)"
   ]
  },
  {
   "cell_type": "markdown",
   "id": "7cbb3531-35a0-4f27-94ab-ae1bb12dae3a",
   "metadata": {},
   "source": [
    "# What is a Module?\n",
    "- Consider a module to be the same as a code library.\n",
    "- A file containing a set of functions you want to include in your application."
   ]
  },
  {
   "cell_type": "markdown",
   "id": "16b482c3-df36-4235-a5ed-2d360847320b",
   "metadata": {},
   "source": [
    "# Practicing Functions"
   ]
  },
  {
   "cell_type": "markdown",
   "id": "fc8208fc-ee80-48c5-bd4e-b7a277834621",
   "metadata": {},
   "source": [
    "-  Given a list of numbers i.e., [1,2,4,-5,7,9,3,2],make another list that contains all the items in sorted order from min to max i.e., your result will be another list like [-5,1,2,2,3,4,7,9]"
   ]
  },
  {
   "cell_type": "code",
   "execution_count": 12,
   "id": "145649f1-85b0-41d1-867a-2e94b93c5731",
   "metadata": {},
   "outputs": [],
   "source": [
    "def findMin(L) :\n",
    "    m = L[0]\n",
    "    idx = 0\n",
    "    i = 0\n",
    "    for x in L:\n",
    "        if x < m:\n",
    "            m = x\n",
    "            idx = i\n",
    "        else:\n",
    "            pass\n",
    "        i+=1\n",
    "    return m,idx"
   ]
  },
  {
   "cell_type": "code",
   "execution_count": 13,
   "id": "b3cc9b61-00df-40b1-b849-054709bf2526",
   "metadata": {},
   "outputs": [],
   "source": [
    "a,b = findMin([1,2,-4,5,-10])"
   ]
  },
  {
   "cell_type": "code",
   "execution_count": 14,
   "id": "118ab020-dfe1-4d4e-beef-f7b2031f7658",
   "metadata": {},
   "outputs": [
    {
     "name": "stdout",
     "output_type": "stream",
     "text": [
      "-10 4\n"
     ]
    }
   ],
   "source": [
    "print(a,b)"
   ]
  },
  {
   "cell_type": "markdown",
   "id": "384adb04-878f-4106-9be4-20bec79faa71",
   "metadata": {},
   "source": [
    "# Swap two numbers in a list"
   ]
  },
  {
   "cell_type": "code",
   "execution_count": 22,
   "id": "b976b446-f774-4973-9792-af0b75eaca78",
   "metadata": {},
   "outputs": [],
   "source": [
    "def swap(L,idx1,idx2):\n",
    "    tmp = L[idx1]\n",
    "    L[idx1] = L[idx2]\n",
    "    L[idx2] = tmp\n",
    "    return L"
   ]
  },
  {
   "cell_type": "code",
   "execution_count": 23,
   "id": "4c18b2a5-c7bb-4efb-ad5a-528f160219bf",
   "metadata": {},
   "outputs": [],
   "source": [
    "result = swap([9,8,7,6,5],1,4)"
   ]
  },
  {
   "cell_type": "code",
   "execution_count": 24,
   "id": "0e4cf067-33f5-4bd3-aaa4-3ba527011f5d",
   "metadata": {},
   "outputs": [
    {
     "name": "stdout",
     "output_type": "stream",
     "text": [
      "[9, 5, 7, 6, 8]\n"
     ]
    }
   ],
   "source": [
    "print(result)"
   ]
  },
  {
   "cell_type": "code",
   "execution_count": 32,
   "id": "b1e31b4a-5625-4989-8745-edbb9c915158",
   "metadata": {},
   "outputs": [],
   "source": [
    "Lst = [1,2,3,9,8,7,4,2,-10,-5,-3]\n",
    "Lst.sort()"
   ]
  },
  {
   "cell_type": "code",
   "execution_count": 33,
   "id": "2992c47d-005a-48dc-acfc-d8d3d1cdfca3",
   "metadata": {},
   "outputs": [
    {
     "name": "stdout",
     "output_type": "stream",
     "text": [
      "[-10, -5, -3, 1, 2, 2, 3, 4, 7, 8, 9]\n"
     ]
    }
   ],
   "source": [
    "print(Lst)"
   ]
  },
  {
   "cell_type": "markdown",
   "id": "7c3a09fb-c472-411f-95a4-00aef4be52af",
   "metadata": {},
   "source": [
    "# Python String Function"
   ]
  },
  {
   "cell_type": "markdown",
   "id": "1e2a3bee-e0a0-4cdc-a005-066ef5a318bd",
   "metadata": {},
   "source": [
    "- \"Python\" is as same as 'Python' but be careful and don't mix like this 'Python\" and \"Python'"
   ]
  },
  {
   "cell_type": "markdown",
   "id": "ab4a8fdf-bd7d-43af-867a-76def824b5af",
   "metadata": {},
   "source": [
    "- String Concatenation"
   ]
  },
  {
   "cell_type": "code",
   "execution_count": 5,
   "id": "489b8fbf-c878-4f44-9809-c8a2f0439006",
   "metadata": {},
   "outputs": [
    {
     "name": "stdout",
     "output_type": "stream",
     "text": [
      "Python is best language for Data Science and,in this notebook we shall practice python.\n"
     ]
    }
   ],
   "source": [
    "s = \"Python is best language for Data Science\"\n",
    "t = 'in this notebook we shall practice python.'\n",
    "print(s + ' and,' + t)"
   ]
  },
  {
   "cell_type": "markdown",
   "id": "0340851d-ee27-4dcb-9c36-41b6bf0f9c80",
   "metadata": {},
   "source": [
    "- Concatenating a string and a integer"
   ]
  },
  {
   "cell_type": "code",
   "execution_count": 11,
   "id": "0ed6ed1b-aa68-40ba-89d9-03c4a21d607c",
   "metadata": {},
   "outputs": [
    {
     "name": "stdout",
     "output_type": "stream",
     "text": [
      "The price of this book is: 10\n",
      "The price of this book is: 10\n"
     ]
    }
   ],
   "source": [
    "# Method 1\n",
    "price = 10\n",
    "a = \"The price of this book\"\n",
    "b = a + \" is: \" + str(price)\n",
    "print(b)\n",
    "# Method 2\n",
    "print(a,\"is:\",price)"
   ]
  },
  {
   "cell_type": "markdown",
   "id": "81daa221-030e-441e-b032-46c45f3f62a6",
   "metadata": {},
   "source": [
    "- Multi line String"
   ]
  },
  {
   "cell_type": "code",
   "execution_count": 16,
   "id": "41a18639-f05d-43d9-850d-b8ed9a9f4331",
   "metadata": {},
   "outputs": [],
   "source": [
    "multilineString = \"\"\"This is the first line in the multiline string\n",
    "This is the second line in the multiline string\n",
    "This is the third line and final line in the multiline string.\"\"\""
   ]
  },
  {
   "cell_type": "code",
   "execution_count": 17,
   "id": "cdf06965-16a6-46c8-9267-dcacdf78dd41",
   "metadata": {},
   "outputs": [
    {
     "name": "stdout",
     "output_type": "stream",
     "text": [
      "This is the first line in the multiline string\n",
      "This is the second line in the multiline string\n",
      "This is the third line and final line in the multiline string.\n"
     ]
    }
   ],
   "source": [
    "print(multilineString)"
   ]
  },
  {
   "cell_type": "markdown",
   "id": "d300384a-cbe0-43a0-9403-7764613fbb3a",
   "metadata": {},
   "source": [
    "# String Indexing and Slicing"
   ]
  },
  {
   "cell_type": "code",
   "execution_count": 31,
   "id": "e71de88f-c49b-4c6e-bb9d-5be3b5472d2a",
   "metadata": {},
   "outputs": [
    {
     "name": "stdout",
     "output_type": "stream",
     "text": [
      "e\n",
      "f Prog\n"
     ]
    }
   ],
   "source": [
    "string = \"Game of Programming\"\n",
    "print(string[3]) # Starting from 0th char prints the third character\n",
    "print(string[6:12]) \n",
    "# Starting from 6th char prints till 11th char \n",
    "# but 12th char is not included."
   ]
  },
  {
   "cell_type": "markdown",
   "id": "096fd28e-e893-4ec6-ae10-113c0f02b61e",
   "metadata": {},
   "source": [
    "# Negative Indexing"
   ]
  },
  {
   "cell_type": "markdown",
   "id": "50b5a982-8ee9-4912-b570-edf6b5011e52",
   "metadata": {},
   "source": [
    "- Use negative indexes to start the slice from the end of the string:"
   ]
  },
  {
   "cell_type": "code",
   "execution_count": 39,
   "id": "c3fe4f3a-cd43-4cab-b324-f0cf7f9ee0aa",
   "metadata": {},
   "outputs": [
    {
     "name": "stdout",
     "output_type": "stream",
     "text": [
      " Programm\n"
     ]
    }
   ],
   "source": [
    "string = \"Game of Programming\"\n",
    "print(string[-12:-3])"
   ]
  },
  {
   "cell_type": "code",
   "execution_count": 41,
   "id": "95389894-e8b8-4717-92d7-ce99ba58eb10",
   "metadata": {},
   "outputs": [
    {
     "data": {
      "text/plain": [
       "'Gm fPo'"
      ]
     },
     "execution_count": 41,
     "metadata": {},
     "output_type": "execute_result"
    }
   ],
   "source": [
    "string[0:12:2]"
   ]
  },
  {
   "cell_type": "code",
   "execution_count": 42,
   "id": "5c501473-c07d-4cdd-8dfb-a789568350ab",
   "metadata": {},
   "outputs": [],
   "source": [
    "# string[startindex:endindex:step]\n",
    "# by default step is 1"
   ]
  },
  {
   "cell_type": "code",
   "execution_count": 43,
   "id": "f8d018b1-f954-4714-ada1-52c8470498ba",
   "metadata": {},
   "outputs": [
    {
     "data": {
      "text/plain": [
       "'Game of Prog'"
      ]
     },
     "execution_count": 43,
     "metadata": {},
     "output_type": "execute_result"
    }
   ],
   "source": [
    "# starting from 1st char till 11th char 12th char is not included\n",
    "string[:12]"
   ]
  },
  {
   "cell_type": "code",
   "execution_count": 45,
   "id": "76700df3-e430-4c46-a140-416a273b05fa",
   "metadata": {},
   "outputs": [
    {
     "data": {
      "text/plain": [
       "'e of Programming'"
      ]
     },
     "execution_count": 45,
     "metadata": {},
     "output_type": "execute_result"
    }
   ],
   "source": [
    "# starting from 3rd char till last char\n",
    "string[3:]"
   ]
  },
  {
   "cell_type": "code",
   "execution_count": 46,
   "id": "36eff3c1-4cf2-4e2e-b6e9-c059fc60382e",
   "metadata": {},
   "outputs": [
    {
     "data": {
      "text/plain": [
       "'me of Prog'"
      ]
     },
     "execution_count": 46,
     "metadata": {},
     "output_type": "execute_result"
    }
   ],
   "source": [
    "# starting from 2nd char till 11th char 12th char is not included\n",
    "string[2:12]"
   ]
  },
  {
   "cell_type": "code",
   "execution_count": 47,
   "id": "a27c1199-3ef9-4c24-b394-f85ddf03f493",
   "metadata": {},
   "outputs": [
    {
     "data": {
      "text/plain": [
       "'me of Prog'"
      ]
     },
     "execution_count": 47,
     "metadata": {},
     "output_type": "execute_result"
    }
   ],
   "source": [
    "# starting from 2nd char till 11th char 12th char is not included\n",
    "# with step 1\n",
    "string[2:12:1]"
   ]
  },
  {
   "cell_type": "code",
   "execution_count": 49,
   "id": "e7ac3ba2-5d79-47ed-bc94-24738467eea1",
   "metadata": {},
   "outputs": [
    {
     "data": {
      "text/plain": [
       "'m fPo'"
      ]
     },
     "execution_count": 49,
     "metadata": {},
     "output_type": "execute_result"
    }
   ],
   "source": [
    "# starting from 2nd char till 11th char 12th char is not included\n",
    "# with step 2\n",
    "string[2:12:2]"
   ]
  },
  {
   "cell_type": "code",
   "execution_count": 50,
   "id": "4c43a7f8-3a42-4883-b66b-e5219af9b5ed",
   "metadata": {},
   "outputs": [
    {
     "data": {
      "text/plain": [
       "'gnimmargorP fo emaG'"
      ]
     },
     "execution_count": 50,
     "metadata": {},
     "output_type": "execute_result"
    }
   ],
   "source": [
    "# starting from 1st char till last char but in reverse order\n",
    "string[::-1]"
   ]
  },
  {
   "cell_type": "markdown",
   "id": "bbf1662f-80a1-4100-84fb-a1b0622d8405",
   "metadata": {},
   "source": [
    "# Length of a string"
   ]
  },
  {
   "cell_type": "markdown",
   "id": "ae123390-b5df-4730-8c95-08602379aa27",
   "metadata": {},
   "source": [
    "- To get the length of a string, use the len() function."
   ]
  },
  {
   "cell_type": "code",
   "execution_count": 51,
   "id": "abc04d59-1743-46bb-9c1a-f9ba5d00d7c8",
   "metadata": {},
   "outputs": [
    {
     "data": {
      "text/plain": [
       "19"
      ]
     },
     "execution_count": 51,
     "metadata": {},
     "output_type": "execute_result"
    }
   ],
   "source": [
    "len(string)"
   ]
  },
  {
   "cell_type": "code",
   "execution_count": 53,
   "id": "88db0158-277c-4070-a6e2-7c721168c12e",
   "metadata": {},
   "outputs": [
    {
     "data": {
      "text/plain": [
       "9"
      ]
     },
     "execution_count": 53,
     "metadata": {},
     "output_type": "execute_result"
    }
   ],
   "source": [
    "# Length of substring\n",
    "len(string[3:12])"
   ]
  },
  {
   "cell_type": "markdown",
   "id": "379c6dad-8690-42ad-9111-28b4e7b81a58",
   "metadata": {},
   "source": [
    "# String Functions"
   ]
  },
  {
   "cell_type": "code",
   "execution_count": 58,
   "id": "2efec2f6-edfe-4cce-80d3-0a3f0de92331",
   "metadata": {},
   "outputs": [],
   "source": [
    "a = \"     A lot OF Spaces at The            beGinning and at the END\"\n",
    "b = a.strip()\n",
    "# strip is used to remove all the spaces at the \n",
    "# starting and the ending"
   ]
  },
  {
   "cell_type": "code",
   "execution_count": 59,
   "id": "af3a625a-87bb-4904-bd85-72162723fe45",
   "metadata": {},
   "outputs": [
    {
     "data": {
      "text/plain": [
       "'A lot OF Spaces at The            beGinning and at the END'"
      ]
     },
     "execution_count": 59,
     "metadata": {},
     "output_type": "execute_result"
    }
   ],
   "source": [
    "b"
   ]
  },
  {
   "cell_type": "code",
   "execution_count": 60,
   "id": "5062b5eb-8427-4328-a3aa-6f072cb24e3f",
   "metadata": {},
   "outputs": [
    {
     "name": "stdout",
     "output_type": "stream",
     "text": [
      "a lot of spaces at the            beginning and at the end\n"
     ]
    }
   ],
   "source": [
    "# Converts the string into lower case\n",
    "print(b.lower())"
   ]
  },
  {
   "cell_type": "code",
   "execution_count": 61,
   "id": "9c9666e8-1290-445c-ade2-ed29471d64ef",
   "metadata": {},
   "outputs": [
    {
     "name": "stdout",
     "output_type": "stream",
     "text": [
      "A LOT OF SPACES AT THE            BEGINNING AND AT THE END\n"
     ]
    }
   ],
   "source": [
    "# Converts the string into upper case\n",
    "print(b.upper())"
   ]
  },
  {
   "cell_type": "code",
   "execution_count": 62,
   "id": "94ff4caa-8e45-4a1d-be0e-714340ea570c",
   "metadata": {},
   "outputs": [
    {
     "name": "stdout",
     "output_type": "stream",
     "text": [
      "A,lot,OF,Spaces,at,The,,,,,,,,,,,,beGinning,and,at,the,END\n"
     ]
    }
   ],
   "source": [
    "# The replace() method replaces a specified phrase \n",
    "# with another specified phrase. \n",
    "print(b.replace(\" \",\",\"))"
   ]
  },
  {
   "cell_type": "code",
   "execution_count": 69,
   "id": "93af6af7-5d7d-42ce-924f-a4b39fb9f0df",
   "metadata": {},
   "outputs": [
    {
     "name": "stdout",
     "output_type": "stream",
     "text": [
      "['This ', ' is the ', ' example for split', '', ' string', '', '', '']\n"
     ]
    }
   ],
   "source": [
    "# The split() method splits a string into a list.\n",
    "# You can specify the separator, default separator is any whitespace.\n",
    "# Note: When maxsplit is specified, the list will contain the \n",
    "# specified number of elements plus one.\n",
    "splitString = \"This , is the , example for split,, string,,,\"\n",
    "print(splitString.split(\",\"))"
   ]
  },
  {
   "cell_type": "code",
   "execution_count": 72,
   "id": "0f7925d6-70da-4b5f-a21e-13f409c3f0a2",
   "metadata": {},
   "outputs": [
    {
     "data": {
      "text/plain": [
       "'This is a string'"
      ]
     },
     "execution_count": 72,
     "metadata": {},
     "output_type": "execute_result"
    }
   ],
   "source": [
    "s = \"this is a string\"\n",
    "s.capitalize() # Returns a capitalized version of the string."
   ]
  },
  {
   "cell_type": "code",
   "execution_count": 73,
   "id": "735aec38-6cf4-441a-8b87-387a6bf15988",
   "metadata": {},
   "outputs": [
    {
     "name": "stdout",
     "output_type": "stream",
     "text": [
      "True\n"
     ]
    }
   ],
   "source": [
    "# whether a particular substring is present in string or not\n",
    "print(\"at\" in \"abcdefghijklmnat\")"
   ]
  },
  {
   "cell_type": "code",
   "execution_count": 75,
   "id": "8d3b9c0b-0c05-4594-a4e9-bb48df50a081",
   "metadata": {},
   "outputs": [
    {
     "name": "stdout",
     "output_type": "stream",
     "text": [
      "False\n"
     ]
    }
   ],
   "source": [
    "print(\"at\" not in \"abcdefghijklmnat\")"
   ]
  },
  {
   "cell_type": "code",
   "execution_count": 86,
   "id": "f22d8d96-c9df-4660-a8a9-76c156542b1d",
   "metadata": {},
   "outputs": [
    {
     "data": {
      "text/plain": [
       "True"
      ]
     },
     "execution_count": 86,
     "metadata": {},
     "output_type": "execute_result"
    }
   ],
   "source": [
    "# It compares based on the alphabetical order\n",
    "\"abc\"<\"xyz\""
   ]
  },
  {
   "cell_type": "code",
   "execution_count": 93,
   "id": "564690dd-8b30-463d-a222-ee8f0a794744",
   "metadata": {},
   "outputs": [
    {
     "name": "stdout",
     "output_type": "stream",
     "text": [
      "We are learning 'string' here\n"
     ]
    }
   ],
   "source": [
    "print(\"We are learning 'string' here\")"
   ]
  },
  {
   "cell_type": "code",
   "execution_count": 95,
   "id": "e2ffe62c-1b82-49fc-9e13-12c268331639",
   "metadata": {},
   "outputs": [
    {
     "name": "stdout",
     "output_type": "stream",
     "text": [
      "We are learning \"string\" here\n"
     ]
    }
   ],
   "source": [
    "print(\"We are learning \\\"string\\\" here\")"
   ]
  },
  {
   "cell_type": "code",
   "execution_count": 96,
   "id": "bf2fff79-8836-459f-8d30-2f00a0743aef",
   "metadata": {},
   "outputs": [
    {
     "name": "stdout",
     "output_type": "stream",
     "text": [
      "We are learning \"string\" here\n"
     ]
    }
   ],
   "source": [
    "print('We are learning \"string\" here')"
   ]
  },
  {
   "cell_type": "code",
   "execution_count": 97,
   "id": "2f6146a2-7c67-42b5-b417-6bcb644d5251",
   "metadata": {},
   "outputs": [
    {
     "name": "stdout",
     "output_type": "stream",
     "text": [
      "We are \t on another line\n"
     ]
    }
   ],
   "source": [
    "print(\"We are \\t on another line\")"
   ]
  },
  {
   "cell_type": "code",
   "execution_count": 98,
   "id": "439ad892-8ddb-4d03-a47d-a2de179e13fd",
   "metadata": {},
   "outputs": [
    {
     "name": "stdout",
     "output_type": "stream",
     "text": [
      "c:\n",
      "ame\\drive\n"
     ]
    },
    {
     "name": "stderr",
     "output_type": "stream",
     "text": [
      "<>:1: SyntaxWarning: invalid escape sequence '\\d'\n",
      "<>:1: SyntaxWarning: invalid escape sequence '\\d'\n",
      "C:\\Users\\DELL\\AppData\\Local\\Temp\\ipykernel_19504\\1646069977.py:1: SyntaxWarning: invalid escape sequence '\\d'\n",
      "  print(\"c:\\name\\drive\")\n"
     ]
    }
   ],
   "source": [
    "print(\"c:\\name\\drive\")"
   ]
  },
  {
   "cell_type": "code",
   "execution_count": 99,
   "id": "5f0e36b3-2534-4454-a006-349e86575f7d",
   "metadata": {},
   "outputs": [
    {
     "name": "stdout",
     "output_type": "stream",
     "text": [
      "c:\\name\\drive\n"
     ]
    }
   ],
   "source": [
    "print(r\"c:\\name\\drive\")"
   ]
  },
  {
   "cell_type": "markdown",
   "id": "35ac5882-b101-4a5f-97cb-04a212b0d5b8",
   "metadata": {},
   "source": [
    "# Data Structures in Python\n",
    "1. List - [] -ordered,changeable or mutable,duplicates\n",
    "2. Tuple - () - ordered,Unchangeable  or immutable,duplicates\n",
    "3. Set - {} - Unordered,addable/removable,no duplicates\n",
    "4. Dictionary - {keyvalue:pairs}  - Unordered,changeable,no duplicates"
   ]
  },
  {
   "cell_type": "markdown",
   "id": "c052eef4-53fe-4058-a848-7754460360f1",
   "metadata": {},
   "source": [
    "- Data structure in simple terms is a collection of lot of values and data.\n",
    "- all the data structures have data of heterogeneous types which means one value can be integer another value can be string or float etc. "
   ]
  },
  {
   "cell_type": "code",
   "execution_count": 105,
   "id": "68af9bc2-83a7-4e62-90bd-f0ff373faee6",
   "metadata": {},
   "outputs": [],
   "source": [
    "L = [1,3,4.9,\"name\",3]\n",
    "T = (1,3,4.9,\"name\",3)\n",
    "S = {1,3,4.9,\"name\",3}\n",
    "D = {23:\"Twothree\",\"B\":43,\"C\":\"CCD\"}"
   ]
  },
  {
   "cell_type": "code",
   "execution_count": 106,
   "id": "55fbcea4-7a95-4e51-8668-0f39be0a62f7",
   "metadata": {},
   "outputs": [
    {
     "name": "stdout",
     "output_type": "stream",
     "text": [
      "The type of L is  <class 'list'>\n",
      "The type of T is  <class 'tuple'>\n",
      "The type of S is  <class 'set'>\n",
      "The type of D is  <class 'dict'>\n"
     ]
    }
   ],
   "source": [
    "print(\"The type of L is \",type(L))\n",
    "print(\"The type of T is \",type(T))\n",
    "print(\"The type of S is \",type(S))\n",
    "print(\"The type of D is \",type(D))"
   ]
  },
  {
   "cell_type": "code",
   "execution_count": 107,
   "id": "3c99eb1a-23cc-44bf-b2f0-e335aae851cd",
   "metadata": {},
   "outputs": [
    {
     "name": "stdout",
     "output_type": "stream",
     "text": [
      "3\n",
      "3\n",
      "True\n",
      "Twothree\n"
     ]
    }
   ],
   "source": [
    "print(L[1])\n",
    "print(T[1])\n",
    "print(3 in S)\n",
    "print(D[23])"
   ]
  },
  {
   "cell_type": "code",
   "execution_count": 109,
   "id": "f9af4b32-5bc0-414b-84af-ecb2fa5c2826",
   "metadata": {},
   "outputs": [
    {
     "name": "stdout",
     "output_type": "stream",
     "text": [
      "43\n"
     ]
    }
   ],
   "source": [
    "print(D[\"B\"])"
   ]
  },
  {
   "cell_type": "code",
   "execution_count": 110,
   "id": "5320aea8-6708-4d58-9b0f-7eb1c420f7fb",
   "metadata": {},
   "outputs": [
    {
     "data": {
      "text/plain": [
       "{1, 3, 4.9, 'name'}"
      ]
     },
     "execution_count": 110,
     "metadata": {},
     "output_type": "execute_result"
    }
   ],
   "source": [
    "S\n",
    "# Here we have given the value 3 two times but instead \n",
    "# we got only one time because the set has no duplicate values."
   ]
  },
  {
   "cell_type": "code",
   "execution_count": 111,
   "id": "6ed7d679-5801-404d-80c7-4f8d1b5f579e",
   "metadata": {},
   "outputs": [
    {
     "data": {
      "text/plain": [
       "[3, 4.9]"
      ]
     },
     "execution_count": 111,
     "metadata": {},
     "output_type": "execute_result"
    }
   ],
   "source": [
    "L[1:3]"
   ]
  },
  {
   "cell_type": "code",
   "execution_count": 112,
   "id": "e8a5a2f4-d03f-4097-b928-a5c881cafa09",
   "metadata": {},
   "outputs": [
    {
     "data": {
      "text/plain": [
       "[3, 'name', 4.9, 3, 1]"
      ]
     },
     "execution_count": 112,
     "metadata": {},
     "output_type": "execute_result"
    }
   ],
   "source": [
    "L[::-1]"
   ]
  },
  {
   "cell_type": "code",
   "execution_count": 116,
   "id": "3ab893a0-8b36-4b4c-baba-52e6f1459ed6",
   "metadata": {},
   "outputs": [
    {
     "data": {
      "text/plain": [
       "(1, 3, 4.9)"
      ]
     },
     "execution_count": 116,
     "metadata": {},
     "output_type": "execute_result"
    }
   ],
   "source": [
    "T[:3]"
   ]
  },
  {
   "cell_type": "code",
   "execution_count": 114,
   "id": "072e57de-feca-41c5-9f69-98229f69eeac",
   "metadata": {},
   "outputs": [
    {
     "data": {
      "text/plain": [
       "(3, 4.9)"
      ]
     },
     "execution_count": 114,
     "metadata": {},
     "output_type": "execute_result"
    }
   ],
   "source": [
    "T[1:3]"
   ]
  },
  {
   "cell_type": "code",
   "execution_count": 115,
   "id": "6254f035-85ea-4fc6-af5d-8d469795366d",
   "metadata": {},
   "outputs": [
    {
     "data": {
      "text/plain": [
       "(3, 'name', 4.9, 3, 1)"
      ]
     },
     "execution_count": 115,
     "metadata": {},
     "output_type": "execute_result"
    }
   ],
   "source": [
    "T[::-1]"
   ]
  },
  {
   "cell_type": "code",
   "execution_count": 117,
   "id": "e0277a34-4ef4-415a-b427-dd235127ebe3",
   "metadata": {},
   "outputs": [],
   "source": [
    "# If we want to add new items to list we can do like this\n",
    "L = L + [\"Game\"]"
   ]
  },
  {
   "cell_type": "code",
   "execution_count": 118,
   "id": "528632e6-3fda-4198-832a-77ce27dd104b",
   "metadata": {},
   "outputs": [
    {
     "data": {
      "text/plain": [
       "[1, 3, 4.9, 'name', 3, 'Game']"
      ]
     },
     "execution_count": 118,
     "metadata": {},
     "output_type": "execute_result"
    }
   ],
   "source": [
    "L"
   ]
  },
  {
   "cell_type": "code",
   "execution_count": 132,
   "id": "99e89d6d-fe5c-426c-af4a-e0ee42460cfb",
   "metadata": {},
   "outputs": [],
   "source": [
    "# We can achieve the above result using the predefined python\n",
    "# append function\n",
    "L.append(\"Fruits\")"
   ]
  },
  {
   "cell_type": "code",
   "execution_count": 131,
   "id": "9b0a8aac-7a76-42e4-bc93-162d3b5e0720",
   "metadata": {},
   "outputs": [
    {
     "data": {
      "text/plain": [
       "[1,\n",
       " 3,\n",
       " 4.9,\n",
       " 'name',\n",
       " 3,\n",
       " 'Game',\n",
       " 'Fruits',\n",
       " 'Fruits',\n",
       " 'Fruits',\n",
       " 'Fruits',\n",
       " 'Fruits',\n",
       " 'Fruits']"
      ]
     },
     "execution_count": 131,
     "metadata": {},
     "output_type": "execute_result"
    }
   ],
   "source": [
    "L"
   ]
  },
  {
   "cell_type": "code",
   "execution_count": null,
   "id": "e4b91ffd-e7b7-4a56-af3e-e8c938bd3ed6",
   "metadata": {},
   "outputs": [],
   "source": []
  }
 ],
 "metadata": {
  "kernelspec": {
   "display_name": "Python 3 (ipykernel)",
   "language": "python",
   "name": "python3"
  },
  "language_info": {
   "codemirror_mode": {
    "name": "ipython",
    "version": 3
   },
   "file_extension": ".py",
   "mimetype": "text/x-python",
   "name": "python",
   "nbconvert_exporter": "python",
   "pygments_lexer": "ipython3",
   "version": "3.12.5"
  }
 },
 "nbformat": 4,
 "nbformat_minor": 5
}
