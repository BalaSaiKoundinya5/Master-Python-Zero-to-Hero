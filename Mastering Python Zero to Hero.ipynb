{
 "cells": [
  {
   "cell_type": "markdown",
   "id": "ed1497a0-3147-4a6b-9517-1adf5a6232f1",
   "metadata": {},
   "source": [
    "# What is Python?\n",
    "- Python is a popular programming language. It was created by Guido van Rossum, and released in 1991.\n",
    "- It is used for:\n",
    "- web development (server-side),\n",
    "- software development,\n",
    "- mathematics,\n",
    "- system scripting."
   ]
  },
  {
   "cell_type": "markdown",
   "id": "199e73a6-3962-407d-b834-1a017e03c377",
   "metadata": {},
   "source": [
    "# Why Python?\n",
    "1. Beginner Friendly \n",
    "2. Versatile and Flexible\n",
    "3. Most Popular in Machine learning world\n",
    "4. Most Mature package libraries around\n",
    "5. It works on different platforms like Windows, Mac, Linux, Raspberry Pi."
   ]
  },
  {
   "cell_type": "markdown",
   "id": "785b79f2-9312-421f-8944-814118820d3f",
   "metadata": {},
   "source": [
    "- As of today, there are over 137,000 Python libraries and a significantly larger number of packages available, with estimates placing the total package count on the Python Package Index (PyPI) at over 530,000 packages."
   ]
  },
  {
   "cell_type": "code",
   "execution_count": 1,
   "id": "2f00ca7d-fcb5-43c2-82de-4a5abd4b108b",
   "metadata": {},
   "outputs": [
    {
     "name": "stdout",
     "output_type": "stream",
     "text": [
      "Hello World!\n"
     ]
    }
   ],
   "source": [
    "print(\"Hello World!\")"
   ]
  },
  {
   "cell_type": "markdown",
   "id": "315c2b36-b3a3-4102-ba27-9702f15bb7b9",
   "metadata": {},
   "source": [
    "- If we want to write a math equation then change it into markdown cell and then apply $ at the starting and ending of the equation.\n",
    "\n",
    "$a=b+c$"
   ]
  },
  {
   "cell_type": "markdown",
   "id": "5a73d4bb-4086-429a-a730-6af672f5bd65",
   "metadata": {},
   "source": [
    "# Variable \n",
    "- It is like a container to store the value in it.\n",
    "# Operators\n",
    "- Operators are used to perform operations on variables and values."
   ]
  },
  {
   "cell_type": "markdown",
   "id": "2189d099-6232-4c28-b919-de75d0810dab",
   "metadata": {},
   "source": [
    "- Here = is used for assigning the value on the right hand side to the variable that is present in the left hand side."
   ]
  },
  {
   "cell_type": "markdown",
   "id": "792b7692-60a7-4471-bca9-680eb31539f1",
   "metadata": {},
   "source": [
    "- Common Operators Used\n",
    "- Addition +\n",
    "- Subtraction -\n",
    "- Multiplication *\n",
    "- Division /\n",
    "- mod %\n",
    "- floor division //\n",
    "- to the power of **"
   ]
  },
  {
   "cell_type": "code",
   "execution_count": 20,
   "id": "a26d5296-a936-4d87-a99b-643eca136e80",
   "metadata": {},
   "outputs": [],
   "source": [
    "x = 2\n",
    "y = 5.0\n",
    "z = 2 + 4j\n",
    "s = 'Hello'"
   ]
  },
  {
   "cell_type": "code",
   "execution_count": 21,
   "id": "723f12a6-5c89-44cf-98c8-6cde411a52bc",
   "metadata": {},
   "outputs": [
    {
     "name": "stdout",
     "output_type": "stream",
     "text": [
      "<class 'int'>\n",
      "<class 'float'>\n",
      "<class 'complex'>\n",
      "<class 'str'>\n"
     ]
    }
   ],
   "source": [
    "print(type(x))\n",
    "print(type(y))\n",
    "print(type(z))\n",
    "print(type(s))"
   ]
  },
  {
   "cell_type": "markdown",
   "id": "b8c857c4-824b-47e0-9551-19add1b659bb",
   "metadata": {},
   "source": [
    "- Float can also be scientific numbers with an \"e\" to indicate the power of 10."
   ]
  },
  {
   "cell_type": "code",
   "execution_count": 151,
   "id": "f0410cdd-c984-408b-8e15-32b9cafba40d",
   "metadata": {},
   "outputs": [
    {
     "name": "stdout",
     "output_type": "stream",
     "text": [
      "<class 'float'>\n",
      "<class 'float'>\n",
      "<class 'float'>\n"
     ]
    }
   ],
   "source": [
    "x = 35e3\n",
    "y = 12E4\n",
    "z = -87.7e100\n",
    "\n",
    "print(type(x))\n",
    "print(type(y))\n",
    "print(type(z))"
   ]
  },
  {
   "cell_type": "markdown",
   "id": "6ec79f9e-71c0-42d6-a031-fa8e88d5c7cc",
   "metadata": {},
   "source": [
    "- To get the length of a string, use the len() function."
   ]
  },
  {
   "cell_type": "code",
   "execution_count": 152,
   "id": "210ba250-416e-4f60-8a58-dce22830d8b6",
   "metadata": {},
   "outputs": [
    {
     "name": "stdout",
     "output_type": "stream",
     "text": [
      "13\n"
     ]
    }
   ],
   "source": [
    "a = \"Hello, World!\"\n",
    "print(len(a))"
   ]
  },
  {
   "cell_type": "markdown",
   "id": "54eca559-2e96-4da5-ac45-553d22960b6c",
   "metadata": {},
   "source": [
    "# Casting\n",
    "- If you want to specify the data type of a variable, this can be done with casting."
   ]
  },
  {
   "cell_type": "code",
   "execution_count": 149,
   "id": "7034a487-741d-4f00-a16c-42d24c8568b0",
   "metadata": {},
   "outputs": [],
   "source": [
    "i = int(5) # i will be 5\n",
    "j = str(3) # j will be '3'"
   ]
  },
  {
   "cell_type": "markdown",
   "id": "75b5fd8c-66be-4be4-afc7-caeb9020248e",
   "metadata": {},
   "source": [
    "# Multiple Assignment\n",
    "- Note: The number of variable must be equal to number of values or else it will throw an error"
   ]
  },
  {
   "cell_type": "code",
   "execution_count": 15,
   "id": "53ac0aa3-2ff2-4835-b65e-4cb41edbd47e",
   "metadata": {},
   "outputs": [],
   "source": [
    "a,b=1,2"
   ]
  },
  {
   "cell_type": "code",
   "execution_count": 16,
   "id": "f3a4b3d1-5a11-42e7-923c-fcfd2267672e",
   "metadata": {},
   "outputs": [
    {
     "name": "stdout",
     "output_type": "stream",
     "text": [
      "1\n",
      "2\n"
     ]
    }
   ],
   "source": [
    "print(a)\n",
    "print(b)"
   ]
  },
  {
   "cell_type": "markdown",
   "id": "55c6d1c4-a37d-4e87-98ec-f4ba55d98032",
   "metadata": {},
   "source": [
    "- If you have a collection of values in a list, tuple etc. Python allows you to extract the values into variables. This is called unpacking."
   ]
  },
  {
   "cell_type": "code",
   "execution_count": 150,
   "id": "65b986fe-cda0-484c-aff9-92bff26f35c6",
   "metadata": {},
   "outputs": [
    {
     "name": "stdout",
     "output_type": "stream",
     "text": [
      "apple\n",
      "banana\n",
      "cherry\n"
     ]
    }
   ],
   "source": [
    "fruits = [\"apple\", \"banana\", \"cherry\"]\n",
    "x, y, z = fruits\n",
    "print(x)\n",
    "print(y)\n",
    "print(z)"
   ]
  },
  {
   "cell_type": "code",
   "execution_count": 22,
   "id": "209c5858-68fa-4f87-a4f8-fc0eb97fcb3e",
   "metadata": {},
   "outputs": [],
   "source": [
    "p = 1"
   ]
  },
  {
   "cell_type": "code",
   "execution_count": 24,
   "id": "a53a0408-9645-4aaa-80f6-5a379f87546d",
   "metadata": {},
   "outputs": [
    {
     "name": "stdout",
     "output_type": "stream",
     "text": [
      "1\n"
     ]
    }
   ],
   "source": [
    "print(p)"
   ]
  },
  {
   "cell_type": "markdown",
   "id": "cd4ea583-ef86-4466-833e-1574258da65d",
   "metadata": {},
   "source": [
    "- Del is used to delete the variable from the memory"
   ]
  },
  {
   "cell_type": "code",
   "execution_count": 25,
   "id": "5b5689b1-4877-46a5-88f3-accd142399ee",
   "metadata": {},
   "outputs": [],
   "source": [
    "del(p)"
   ]
  },
  {
   "cell_type": "code",
   "execution_count": 26,
   "id": "2b2daa2e-9d18-461c-9a90-5210437cbf8f",
   "metadata": {},
   "outputs": [
    {
     "ename": "NameError",
     "evalue": "name 'p' is not defined",
     "output_type": "error",
     "traceback": [
      "\u001b[1;31m---------------------------------------------------------------------------\u001b[0m",
      "\u001b[1;31mNameError\u001b[0m                                 Traceback (most recent call last)",
      "Cell \u001b[1;32mIn[26], line 1\u001b[0m\n\u001b[1;32m----> 1\u001b[0m \u001b[38;5;28mprint\u001b[39m(\u001b[43mp\u001b[49m)\n",
      "\u001b[1;31mNameError\u001b[0m: name 'p' is not defined"
     ]
    }
   ],
   "source": [
    "print(p)"
   ]
  },
  {
   "cell_type": "markdown",
   "id": "b220e16f-765c-4e8c-b5d7-d40ce656b271",
   "metadata": {},
   "source": [
    "- if we want to know how many variables are there in the memory then we can use %whos.it gives complete info about the variables and their type that are present in the memory."
   ]
  },
  {
   "cell_type": "code",
   "execution_count": 29,
   "id": "cc547ec2-d7a7-4d48-938a-c111adca3e9b",
   "metadata": {},
   "outputs": [
    {
     "name": "stdout",
     "output_type": "stream",
     "text": [
      "Variable   Type       Data/Info\n",
      "-------------------------------\n",
      "a          int        1\n",
      "b          int        2\n",
      "s          str        Hello\n",
      "x          int        2\n",
      "y          float      5.0\n",
      "z          complex    (2+4j)\n"
     ]
    }
   ],
   "source": [
    "%whos"
   ]
  },
  {
   "cell_type": "code",
   "execution_count": 30,
   "id": "d55d5b33-0128-4e9d-bc3d-54845a11a450",
   "metadata": {},
   "outputs": [],
   "source": [
    "abcd = 1.2345"
   ]
  },
  {
   "cell_type": "code",
   "execution_count": 31,
   "id": "448a2f1a-475d-4b51-ae30-2f09744c07f1",
   "metadata": {},
   "outputs": [
    {
     "name": "stdout",
     "output_type": "stream",
     "text": [
      "1.2345\n"
     ]
    }
   ],
   "source": [
    "print(abcd)"
   ]
  },
  {
   "cell_type": "code",
   "execution_count": 32,
   "id": "a9cb60a3-ebcf-4d48-87f1-8127acf026f0",
   "metadata": {},
   "outputs": [
    {
     "name": "stdout",
     "output_type": "stream",
     "text": [
      "Variable   Type       Data/Info\n",
      "-------------------------------\n",
      "a          int        1\n",
      "abcd       float      1.2345\n",
      "b          int        2\n",
      "s          str        Hello\n",
      "x          int        2\n",
      "y          float      5.0\n",
      "z          complex    (2+4j)\n"
     ]
    }
   ],
   "source": [
    "%whos"
   ]
  },
  {
   "cell_type": "code",
   "execution_count": 33,
   "id": "c290a730-4e27-43b5-b8a7-3f00fc503dd6",
   "metadata": {},
   "outputs": [],
   "source": [
    "del abcd"
   ]
  },
  {
   "cell_type": "code",
   "execution_count": 34,
   "id": "51b2b1e8-4307-4580-8972-86ad7846ab4e",
   "metadata": {},
   "outputs": [
    {
     "name": "stdout",
     "output_type": "stream",
     "text": [
      "Variable   Type       Data/Info\n",
      "-------------------------------\n",
      "a          int        1\n",
      "b          int        2\n",
      "s          str        Hello\n",
      "x          int        2\n",
      "y          float      5.0\n",
      "z          complex    (2+4j)\n"
     ]
    }
   ],
   "source": [
    "%whos"
   ]
  },
  {
   "cell_type": "code",
   "execution_count": 35,
   "id": "7b59fb01-70ee-423a-890c-e2e20025a165",
   "metadata": {},
   "outputs": [],
   "source": [
    "SumOfaAndb = type(a + b)"
   ]
  },
  {
   "cell_type": "code",
   "execution_count": 36,
   "id": "2473a22a-fc80-4b41-b930-e9fcd01944f7",
   "metadata": {},
   "outputs": [
    {
     "name": "stdout",
     "output_type": "stream",
     "text": [
      "<class 'int'>\n"
     ]
    }
   ],
   "source": [
    "print(SumOfaAndb)"
   ]
  },
  {
   "cell_type": "code",
   "execution_count": 37,
   "id": "984f28ff-ff21-48f5-a8de-c711c02fdd1b",
   "metadata": {},
   "outputs": [
    {
     "data": {
      "text/plain": [
       "float"
      ]
     },
     "execution_count": 37,
     "metadata": {},
     "output_type": "execute_result"
    }
   ],
   "source": [
    "type(x+y)"
   ]
  },
  {
   "cell_type": "code",
   "execution_count": 38,
   "id": "72b1a455-e993-470c-9af3-fcc6c76c7112",
   "metadata": {},
   "outputs": [],
   "source": [
    "diffOfaAndb = a-b"
   ]
  },
  {
   "cell_type": "code",
   "execution_count": 39,
   "id": "6abcc57d-6866-40c3-9be9-ebd09e9b88cd",
   "metadata": {},
   "outputs": [
    {
     "name": "stdout",
     "output_type": "stream",
     "text": [
      "-1\n"
     ]
    }
   ],
   "source": [
    "print(diffOfaAndb)"
   ]
  },
  {
   "cell_type": "code",
   "execution_count": 40,
   "id": "e81a0628-cc7d-4b94-99ce-4ef091a6138b",
   "metadata": {},
   "outputs": [
    {
     "name": "stdout",
     "output_type": "stream",
     "text": [
      "10.0\n"
     ]
    }
   ],
   "source": [
    "print(x*y)"
   ]
  },
  {
   "cell_type": "code",
   "execution_count": 41,
   "id": "49205119-ded5-43f9-968e-2abb01692c52",
   "metadata": {},
   "outputs": [
    {
     "name": "stdout",
     "output_type": "stream",
     "text": [
      "0.4\n"
     ]
    }
   ],
   "source": [
    "print(x/y)"
   ]
  },
  {
   "cell_type": "code",
   "execution_count": 42,
   "id": "2ae1780a-5718-4bd5-a6e4-361d2f6d30ac",
   "metadata": {},
   "outputs": [
    {
     "name": "stdout",
     "output_type": "stream",
     "text": [
      "0.0\n"
     ]
    }
   ],
   "source": [
    "print(x//y)"
   ]
  },
  {
   "cell_type": "code",
   "execution_count": 43,
   "id": "2703eb2a-9c20-44f5-83bb-547a1d16c9ab",
   "metadata": {},
   "outputs": [
    {
     "name": "stdout",
     "output_type": "stream",
     "text": [
      "2.0\n"
     ]
    }
   ],
   "source": [
    "print(x%y)"
   ]
  },
  {
   "cell_type": "code",
   "execution_count": 44,
   "id": "acddb85b-5137-4767-a90a-0ace07d8b0ff",
   "metadata": {},
   "outputs": [
    {
     "name": "stdout",
     "output_type": "stream",
     "text": [
      "32.0\n"
     ]
    }
   ],
   "source": [
    "print(x**y)"
   ]
  },
  {
   "cell_type": "markdown",
   "id": "e96a0133-7cac-48bb-9d67-91d984f70f6c",
   "metadata": {},
   "source": [
    "- we can store the value in a variable explicitly but if we didn't store the value then in python the previous value is stored in _ (default variable)"
   ]
  },
  {
   "cell_type": "code",
   "execution_count": 46,
   "id": "4b9cc988-53fd-4b08-868b-1b6ca77edb41",
   "metadata": {},
   "outputs": [
    {
     "data": {
      "text/plain": [
       "1"
      ]
     },
     "execution_count": 46,
     "metadata": {},
     "output_type": "execute_result"
    }
   ],
   "source": [
    "a**b"
   ]
  },
  {
   "cell_type": "code",
   "execution_count": 47,
   "id": "f000731d-3154-443c-86c7-d3147e747100",
   "metadata": {},
   "outputs": [
    {
     "data": {
      "text/plain": [
       "1"
      ]
     },
     "execution_count": 47,
     "metadata": {},
     "output_type": "execute_result"
    }
   ],
   "source": [
    "_"
   ]
  },
  {
   "cell_type": "markdown",
   "id": "ccd0445e-8ec4-4c8e-bbae-c56c34d664d5",
   "metadata": {},
   "source": [
    "- Can a variable name start with a digit i.e, 3x ?"
   ]
  },
  {
   "cell_type": "code",
   "execution_count": 50,
   "id": "b96a2261-8aba-406c-b575-3fa784148ef9",
   "metadata": {},
   "outputs": [
    {
     "ename": "SyntaxError",
     "evalue": "invalid decimal literal (172784892.py, line 1)",
     "output_type": "error",
     "traceback": [
      "\u001b[1;36m  Cell \u001b[1;32mIn[50], line 1\u001b[1;36m\u001b[0m\n\u001b[1;33m    3x = 10\u001b[0m\n\u001b[1;37m    ^\u001b[0m\n\u001b[1;31mSyntaxError\u001b[0m\u001b[1;31m:\u001b[0m invalid decimal literal\n"
     ]
    }
   ],
   "source": [
    "3x = 10"
   ]
  },
  {
   "cell_type": "markdown",
   "id": "47417152-61b5-4fcc-9354-ac172a63f7a7",
   "metadata": {},
   "source": [
    "- So the answer is No."
   ]
  },
  {
   "cell_type": "code",
   "execution_count": 54,
   "id": "7c3c0301-fc20-44d8-9de3-8c8d913a0ced",
   "metadata": {},
   "outputs": [
    {
     "ename": "SyntaxError",
     "evalue": "invalid syntax. Maybe you meant '==' or ':=' instead of '='? (2082238116.py, line 1)",
     "output_type": "error",
     "traceback": [
      "\u001b[1;36m  Cell \u001b[1;32mIn[54], line 1\u001b[1;36m\u001b[0m\n\u001b[1;33m    @y = 5\u001b[0m\n\u001b[1;37m     ^\u001b[0m\n\u001b[1;31mSyntaxError\u001b[0m\u001b[1;31m:\u001b[0m invalid syntax. Maybe you meant '==' or ':=' instead of '='?\n"
     ]
    }
   ],
   "source": [
    "@y = 5"
   ]
  },
  {
   "cell_type": "code",
   "execution_count": 55,
   "id": "ddbbeae9-9569-4c89-8c6b-8ee7ab291d53",
   "metadata": {},
   "outputs": [
    {
     "name": "stderr",
     "output_type": "stream",
     "text": [
      "'z' is not recognized as an internal or external command,\n",
      "operable program or batch file.\n"
     ]
    }
   ],
   "source": [
    "!z = 10"
   ]
  },
  {
   "cell_type": "code",
   "execution_count": 56,
   "id": "2470411c-2f87-4cda-99ee-ad745bff10b5",
   "metadata": {},
   "outputs": [
    {
     "ename": "SyntaxError",
     "evalue": "starred assignment target must be in a list or tuple (1864937.py, line 1)",
     "output_type": "error",
     "traceback": [
      "\u001b[1;36m  Cell \u001b[1;32mIn[56], line 1\u001b[1;36m\u001b[0m\n\u001b[1;33m    *t = 1\u001b[0m\n\u001b[1;37m    ^\u001b[0m\n\u001b[1;31mSyntaxError\u001b[0m\u001b[1;31m:\u001b[0m starred assignment target must be in a list or tuple\n"
     ]
    }
   ],
   "source": [
    "*t = 1"
   ]
  },
  {
   "cell_type": "code",
   "execution_count": 57,
   "id": "7ff02e61-c472-4a13-9df7-0acbb201271f",
   "metadata": {},
   "outputs": [],
   "source": [
    "_e = 10"
   ]
  },
  {
   "cell_type": "code",
   "execution_count": 58,
   "id": "76b94ab7-807e-4ad0-b154-4a77052edab6",
   "metadata": {},
   "outputs": [
    {
     "name": "stdout",
     "output_type": "stream",
     "text": [
      "10\n"
     ]
    }
   ],
   "source": [
    "print(_e)"
   ]
  },
  {
   "cell_type": "markdown",
   "id": "4df54c54-7aa0-449f-87f9-d9cbc7b748c1",
   "metadata": {},
   "source": [
    "- Remember that variable names are case-sensitive."
   ]
  },
  {
   "cell_type": "markdown",
   "id": "f6893dd2-47b1-43b5-ae78-17cc256fd782",
   "metadata": {},
   "source": [
    "# Boolean\n",
    "- Booleans represent one of two values: True or False."
   ]
  },
  {
   "cell_type": "code",
   "execution_count": 62,
   "id": "5f8a83dd-f4dc-44a6-94fe-46d3962938db",
   "metadata": {},
   "outputs": [
    {
     "name": "stdout",
     "output_type": "stream",
     "text": [
      "True\n",
      "<class 'bool'>\n"
     ]
    }
   ],
   "source": [
    "print(a<b)\n",
    "print(type(a<b))"
   ]
  },
  {
   "cell_type": "markdown",
   "id": "d2b09648-1990-4c1a-8c4b-ba94a3bee385",
   "metadata": {},
   "source": [
    "# Comparision Operators"
   ]
  },
  {
   "cell_type": "code",
   "execution_count": 114,
   "id": "2280fde6-310b-4a52-ae60-6186ccf6d644",
   "metadata": {},
   "outputs": [],
   "source": [
    "# == if Equals to \n",
    "# != if not Equal to \n",
    "# > is Greater than\n",
    "# < is less than\n",
    "# >= is Greater than equal to\n",
    "# <= is less than equal to"
   ]
  },
  {
   "cell_type": "markdown",
   "id": "0f33acaa-2c01-429e-b62f-78c336f00442",
   "metadata": {},
   "source": [
    "<!-- - == if it is equal\n",
    "- != if not equal\n",
    "- < less than\n",
    "- > greater than\n",
    "- <= less than or equal to \n",
    "- >= greater than or equal to  -->"
   ]
  },
  {
   "cell_type": "code",
   "execution_count": 112,
   "id": "8854e700-12b8-4f36-bf6c-e984a4d30dbf",
   "metadata": {},
   "outputs": [
    {
     "data": {
      "text/plain": [
       "False"
      ]
     },
     "execution_count": 112,
     "metadata": {},
     "output_type": "execute_result"
    }
   ],
   "source": [
    "a == b"
   ]
  },
  {
   "cell_type": "code",
   "execution_count": 65,
   "id": "8faf08be-e18f-460c-9f6d-09955d2a08fa",
   "metadata": {},
   "outputs": [
    {
     "data": {
      "text/plain": [
       "True"
      ]
     },
     "execution_count": 65,
     "metadata": {},
     "output_type": "execute_result"
    }
   ],
   "source": [
    "a != b"
   ]
  },
  {
   "cell_type": "code",
   "execution_count": 66,
   "id": "4acbade3-2d61-48b2-87c5-a950a9d96446",
   "metadata": {},
   "outputs": [
    {
     "data": {
      "text/plain": [
       "True"
      ]
     },
     "execution_count": 66,
     "metadata": {},
     "output_type": "execute_result"
    }
   ],
   "source": [
    "a < b"
   ]
  },
  {
   "cell_type": "code",
   "execution_count": 67,
   "id": "8eb16532-c13b-4e7e-82b7-d17af69972bd",
   "metadata": {},
   "outputs": [
    {
     "data": {
      "text/plain": [
       "False"
      ]
     },
     "execution_count": 67,
     "metadata": {},
     "output_type": "execute_result"
    }
   ],
   "source": [
    "a > b"
   ]
  },
  {
   "cell_type": "code",
   "execution_count": 68,
   "id": "cd8a8464-35e8-4e95-be22-3fc51214315b",
   "metadata": {},
   "outputs": [
    {
     "data": {
      "text/plain": [
       "False"
      ]
     },
     "execution_count": 68,
     "metadata": {},
     "output_type": "execute_result"
    }
   ],
   "source": [
    "a >= b"
   ]
  },
  {
   "cell_type": "code",
   "execution_count": 69,
   "id": "6231ae7d-c46b-4f1b-8329-87a3542d870c",
   "metadata": {},
   "outputs": [
    {
     "data": {
      "text/plain": [
       "True"
      ]
     },
     "execution_count": 69,
     "metadata": {},
     "output_type": "execute_result"
    }
   ],
   "source": [
    "a <= b"
   ]
  },
  {
   "cell_type": "code",
   "execution_count": 82,
   "id": "7c2b750c-8d86-4f6b-9f38-0ebd31631fd2",
   "metadata": {},
   "outputs": [
    {
     "data": {
      "text/plain": [
       "True"
      ]
     },
     "execution_count": 82,
     "metadata": {},
     "output_type": "execute_result"
    }
   ],
   "source": [
    "3 == 3.0"
   ]
  },
  {
   "cell_type": "markdown",
   "id": "c2836416-742f-4a1c-9dd0-b46f8cb8ae3f",
   "metadata": {},
   "source": [
    "# Logical Operators\n",
    "- Logical operators are used to combine conditional statements\n",
    "- and\n",
    "- or\n",
    "- not"
   ]
  },
  {
   "cell_type": "code",
   "execution_count": 71,
   "id": "fd879bee-5550-47e6-8b9c-cb96c7a56807",
   "metadata": {},
   "outputs": [],
   "source": [
    "m = True\n",
    "n = False\n",
    "o = True"
   ]
  },
  {
   "cell_type": "code",
   "execution_count": 72,
   "id": "05ed6cc8-6727-4f69-92d4-5be4d253eea2",
   "metadata": {},
   "outputs": [
    {
     "name": "stdout",
     "output_type": "stream",
     "text": [
      "False\n",
      "False\n",
      "True\n"
     ]
    }
   ],
   "source": [
    "print(m and n) # False\n",
    "print(n and o) # False\n",
    "print(o and m) # True"
   ]
  },
  {
   "cell_type": "code",
   "execution_count": 73,
   "id": "a9bc12f3-40cb-4534-829b-ff26976ac46d",
   "metadata": {},
   "outputs": [
    {
     "name": "stdout",
     "output_type": "stream",
     "text": [
      "True\n",
      "True\n",
      "True\n"
     ]
    }
   ],
   "source": [
    "print(m or n) # True\n",
    "print(n or o) # True\n",
    "print(o or m) # True"
   ]
  },
  {
   "cell_type": "code",
   "execution_count": 76,
   "id": "aa3cc76e-62a0-43f0-92ec-099358b4f62a",
   "metadata": {},
   "outputs": [
    {
     "name": "stdout",
     "output_type": "stream",
     "text": [
      "False\n",
      "True\n",
      "False\n"
     ]
    }
   ],
   "source": [
    "print(not(m))\n",
    "print(not(n))\n",
    "print(not(o))"
   ]
  },
  {
   "cell_type": "code",
   "execution_count": 77,
   "id": "2fbe0734-b943-4fd3-942a-4a685c32d018",
   "metadata": {},
   "outputs": [
    {
     "data": {
      "text/plain": [
       "False"
      ]
     },
     "execution_count": 77,
     "metadata": {},
     "output_type": "execute_result"
    }
   ],
   "source": [
    "not((m and o) or (n or o) and (m and n) or not(o or n))  "
   ]
  },
  {
   "cell_type": "code",
   "execution_count": 83,
   "id": "fc1bb1ca-b68c-4ee0-bbbf-45901ceddb04",
   "metadata": {},
   "outputs": [
    {
     "name": "stdout",
     "output_type": "stream",
     "text": [
      "False\n"
     ]
    }
   ],
   "source": [
    "print((not(2!=3) and True) or (False and True))"
   ]
  },
  {
   "cell_type": "markdown",
   "id": "ed382aad-fd21-4844-aaa9-ef0c520cdfba",
   "metadata": {},
   "source": [
    "# Other Functions"
   ]
  },
  {
   "cell_type": "markdown",
   "id": "76cb996a-9268-4a43-b029-f54984ab7df8",
   "metadata": {},
   "source": [
    "- round() function is used to round the input value to a specified number of places or to the nearest integer"
   ]
  },
  {
   "cell_type": "code",
   "execution_count": 85,
   "id": "134324a4-9b4a-4daa-aeae-b749a917e7ac",
   "metadata": {},
   "outputs": [
    {
     "name": "stdout",
     "output_type": "stream",
     "text": [
      "2\n"
     ]
    }
   ],
   "source": [
    "print(round(1.923456789))"
   ]
  },
  {
   "cell_type": "code",
   "execution_count": 88,
   "id": "7ebefd69-a90d-43de-9da5-177ad482fa28",
   "metadata": {},
   "outputs": [
    {
     "name": "stdout",
     "output_type": "stream",
     "text": [
      "1.988\n"
     ]
    }
   ],
   "source": [
    "print(round(1.987999999,3))"
   ]
  },
  {
   "cell_type": "markdown",
   "id": "14b9f2ac-549b-4f7f-b178-6404aec235c1",
   "metadata": {},
   "source": [
    "- divmod() function outputs the quotient and the remainder in a tuple"
   ]
  },
  {
   "cell_type": "code",
   "execution_count": 89,
   "id": "388c2d75-9cb7-46ca-abca-153e37d2238a",
   "metadata": {},
   "outputs": [
    {
     "data": {
      "text/plain": [
       "(0, 2)"
      ]
     },
     "execution_count": 89,
     "metadata": {},
     "output_type": "execute_result"
    }
   ],
   "source": [
    "divmod(2,5)"
   ]
  },
  {
   "cell_type": "code",
   "execution_count": 91,
   "id": "1a0dafc2-6c0f-42d8-946a-45bf303fb9f0",
   "metadata": {},
   "outputs": [],
   "source": [
    "g = divmod(27,5)"
   ]
  },
  {
   "cell_type": "code",
   "execution_count": 93,
   "id": "937052c9-a5b4-4267-bb26-c9fe88f3c0a1",
   "metadata": {},
   "outputs": [
    {
     "name": "stdout",
     "output_type": "stream",
     "text": [
      "(5, 2)\n",
      "<class 'tuple'>\n"
     ]
    }
   ],
   "source": [
    "print(g)\n",
    "print(type(g))"
   ]
  },
  {
   "cell_type": "markdown",
   "id": "ab331a21-6c7e-4622-8276-945b5012e8d3",
   "metadata": {},
   "source": [
    "- isinstance() function returns True if the first argument is an instance of that class. Multiple classes can also be checked at once."
   ]
  },
  {
   "cell_type": "code",
   "execution_count": 95,
   "id": "5abe5ce5-b2d1-488b-8e97-dfb01ccd2f78",
   "metadata": {},
   "outputs": [
    {
     "name": "stdout",
     "output_type": "stream",
     "text": [
      "True\n"
     ]
    }
   ],
   "source": [
    "print(isinstance(1,int))"
   ]
  },
  {
   "cell_type": "code",
   "execution_count": 96,
   "id": "81bb0547-ae6d-4f90-a13b-81213cdeb9b8",
   "metadata": {},
   "outputs": [
    {
     "name": "stdout",
     "output_type": "stream",
     "text": [
      "False\n"
     ]
    }
   ],
   "source": [
    "print(isinstance(1.0,int))"
   ]
  },
  {
   "cell_type": "code",
   "execution_count": 100,
   "id": "d9a1c7e9-4f0b-4602-b22f-4def01346a98",
   "metadata": {},
   "outputs": [
    {
     "name": "stdout",
     "output_type": "stream",
     "text": [
      "True\n"
     ]
    }
   ],
   "source": [
    "print(isinstance(1.0,(int,float)))"
   ]
  },
  {
   "cell_type": "code",
   "execution_count": 103,
   "id": "7e61bce7-4c80-4ef3-b274-f6cf8e3acf30",
   "metadata": {},
   "outputs": [
    {
     "name": "stdout",
     "output_type": "stream",
     "text": [
      "False\n"
     ]
    }
   ],
   "source": [
    "print(isinstance('True',(int,float,bool)))"
   ]
  },
  {
   "cell_type": "code",
   "execution_count": 104,
   "id": "2a830fb4-f276-44d1-8b01-ad499d1a9ffc",
   "metadata": {},
   "outputs": [
    {
     "name": "stdout",
     "output_type": "stream",
     "text": [
      "True\n"
     ]
    }
   ],
   "source": [
    "print(isinstance(True,(int,float,str,bool)))"
   ]
  },
  {
   "cell_type": "markdown",
   "id": "2f01f4c3-f1d0-4ab0-929d-7932cfc8aac9",
   "metadata": {},
   "source": [
    "- pow(x,y,z) function x raise to the power y and remainder by z"
   ]
  },
  {
   "cell_type": "code",
   "execution_count": 111,
   "id": "b8787387-8800-4502-9dd1-8c4a939aab25",
   "metadata": {},
   "outputs": [
    {
     "data": {
      "text/plain": [
       "0"
      ]
     },
     "execution_count": 111,
     "metadata": {},
     "output_type": "execute_result"
    }
   ],
   "source": [
    "pow(2,3,4)\n",
    "# 2 ** 3\n",
    "# 8 / 4\n",
    "# remainder is 0"
   ]
  },
  {
   "cell_type": "markdown",
   "id": "aeb32f49-41c1-4427-9596-2230463e07b0",
   "metadata": {},
   "source": [
    "- input() function takes the input from the user"
   ]
  },
  {
   "cell_type": "code",
   "execution_count": 118,
   "id": "bbed3e35-9031-4a8b-bf18-b6d5932fb28a",
   "metadata": {},
   "outputs": [
    {
     "name": "stdin",
     "output_type": "stream",
     "text": [
      "Enter a number 100\n"
     ]
    }
   ],
   "source": [
    "d = input(\"Enter a number\")"
   ]
  },
  {
   "cell_type": "code",
   "execution_count": 119,
   "id": "78198c73-51be-4cc7-bfcd-83cf6f268ed3",
   "metadata": {},
   "outputs": [
    {
     "name": "stdout",
     "output_type": "stream",
     "text": [
      "100\n",
      "<class 'str'>\n"
     ]
    }
   ],
   "source": [
    "print(d)\n",
    "print(type(d))"
   ]
  },
  {
   "cell_type": "code",
   "execution_count": 121,
   "id": "fe90bfda-3c63-4ce9-b1b1-6128805f3a7d",
   "metadata": {},
   "outputs": [
    {
     "name": "stdin",
     "output_type": "stream",
     "text": [
      "Enter a number 100\n"
     ]
    }
   ],
   "source": [
    "d = int(input(\"Enter a number\"))"
   ]
  },
  {
   "cell_type": "code",
   "execution_count": 122,
   "id": "b1b877c0-6c32-4466-9c41-418068c9ee21",
   "metadata": {},
   "outputs": [
    {
     "name": "stdout",
     "output_type": "stream",
     "text": [
      "100\n",
      "<class 'int'>\n"
     ]
    }
   ],
   "source": [
    "print(d)\n",
    "print(type(d))"
   ]
  },
  {
   "cell_type": "code",
   "execution_count": 123,
   "id": "7f592e5c-1ad4-4dce-b118-67c48d6a1a6b",
   "metadata": {},
   "outputs": [
    {
     "name": "stdin",
     "output_type": "stream",
     "text": [
      "Enter a number 100.1\n"
     ]
    }
   ],
   "source": [
    "d = float(input(\"Enter a number\"))"
   ]
  },
  {
   "cell_type": "code",
   "execution_count": 124,
   "id": "1ba22b39-60eb-4919-bae4-e2d1ab779883",
   "metadata": {},
   "outputs": [
    {
     "name": "stdout",
     "output_type": "stream",
     "text": [
      "100.1\n",
      "<class 'float'>\n"
     ]
    }
   ],
   "source": [
    "print(d)\n",
    "print(type(d))"
   ]
  },
  {
   "cell_type": "code",
   "execution_count": 126,
   "id": "63b23b2f-fdab-45bd-8c8a-1944056df862",
   "metadata": {},
   "outputs": [
    {
     "name": "stdin",
     "output_type": "stream",
     "text": [
      "Enter a number 123\n"
     ]
    }
   ],
   "source": [
    "d = float(input(\"Enter a number\"))"
   ]
  },
  {
   "cell_type": "code",
   "execution_count": 127,
   "id": "054914af-664f-4e08-98b8-66d1cb132773",
   "metadata": {},
   "outputs": [
    {
     "name": "stdout",
     "output_type": "stream",
     "text": [
      "123.0\n",
      "<class 'float'>\n"
     ]
    }
   ],
   "source": [
    "print(d)\n",
    "print(type(d))"
   ]
  },
  {
   "cell_type": "code",
   "execution_count": 128,
   "id": "2c988eda-7f61-4a62-b271-e38b7fed856a",
   "metadata": {},
   "outputs": [
    {
     "name": "stdin",
     "output_type": "stream",
     "text": [
      "Enter a real number 100\n"
     ]
    }
   ],
   "source": [
    "d = float(input(\"Enter a real number\"))"
   ]
  },
  {
   "cell_type": "code",
   "execution_count": 129,
   "id": "e6aa3ad7-0591-496d-bf74-9b7540191342",
   "metadata": {},
   "outputs": [
    {
     "name": "stdout",
     "output_type": "stream",
     "text": [
      "100.0\n",
      "<class 'float'>\n"
     ]
    }
   ],
   "source": [
    "print(d)\n",
    "print(type(d))"
   ]
  },
  {
   "cell_type": "code",
   "execution_count": 131,
   "id": "10d364a0-a52b-4f9a-b985-1d400b571d69",
   "metadata": {},
   "outputs": [
    {
     "name": "stdin",
     "output_type": "stream",
     "text": [
      "Enter a integer value 123\n"
     ]
    }
   ],
   "source": [
    "d = int(input(\"Enter a integer value\"))"
   ]
  },
  {
   "cell_type": "code",
   "execution_count": 132,
   "id": "408c4db1-2d6c-408c-be65-477891ea4427",
   "metadata": {},
   "outputs": [
    {
     "name": "stdout",
     "output_type": "stream",
     "text": [
      "123\n",
      "<class 'int'>\n"
     ]
    }
   ],
   "source": [
    "print(d)\n",
    "print(type(d))"
   ]
  },
  {
   "cell_type": "code",
   "execution_count": 133,
   "id": "583bcda6-6191-4598-bcbb-806abf10c91e",
   "metadata": {},
   "outputs": [
    {
     "name": "stdin",
     "output_type": "stream",
     "text": [
      "Enter a real number 123.1\n"
     ]
    }
   ],
   "source": [
    "d = float(input(\"Enter a real number\"))"
   ]
  },
  {
   "cell_type": "code",
   "execution_count": 134,
   "id": "fe5d6c8f-1738-44db-9e15-53541ff8dd98",
   "metadata": {},
   "outputs": [
    {
     "name": "stdout",
     "output_type": "stream",
     "text": [
      "123.1\n",
      "<class 'float'>\n"
     ]
    }
   ],
   "source": [
    "print(d)\n",
    "print(type(d))"
   ]
  },
  {
   "cell_type": "markdown",
   "id": "602d95ca-d26a-4941-b23a-3ee91da83194",
   "metadata": {},
   "source": [
    "- Let's say if there is a function and we don't know what are the arguments to be passed and how to use that function then we can use this method \n",
    "- name of the function?\n",
    "- for example pow?"
   ]
  },
  {
   "cell_type": "code",
   "execution_count": 137,
   "id": "e9225248-7ab4-417b-90e3-6b0257f2efc8",
   "metadata": {},
   "outputs": [
    {
     "data": {
      "text/plain": [
       "\u001b[1;31mSignature:\u001b[0m \u001b[0minput\u001b[0m\u001b[1;33m(\u001b[0m\u001b[0mprompt\u001b[0m\u001b[1;33m=\u001b[0m\u001b[1;34m''\u001b[0m\u001b[1;33m)\u001b[0m\u001b[1;33m\u001b[0m\u001b[1;33m\u001b[0m\u001b[0m\n",
       "\u001b[1;31mDocstring:\u001b[0m\n",
       "Forward raw_input to frontends\n",
       "\n",
       "Raises\n",
       "------\n",
       "StdinNotImplementedError if active frontend doesn't support stdin.\n",
       "\u001b[1;31mFile:\u001b[0m      c:\\users\\dell\\appdata\\roaming\\python\\python312\\site-packages\\ipykernel\\kernelbase.py\n",
       "\u001b[1;31mType:\u001b[0m      method"
      ]
     },
     "metadata": {},
     "output_type": "display_data"
    }
   ],
   "source": [
    "input?"
   ]
  },
  {
   "cell_type": "code",
   "execution_count": 138,
   "id": "7d034810-a654-4da9-bfb7-05f581397033",
   "metadata": {},
   "outputs": [
    {
     "data": {
      "text/plain": [
       "\u001b[1;31mSignature:\u001b[0m \u001b[0mpow\u001b[0m\u001b[1;33m(\u001b[0m\u001b[0mbase\u001b[0m\u001b[1;33m,\u001b[0m \u001b[0mexp\u001b[0m\u001b[1;33m,\u001b[0m \u001b[0mmod\u001b[0m\u001b[1;33m=\u001b[0m\u001b[1;32mNone\u001b[0m\u001b[1;33m)\u001b[0m\u001b[1;33m\u001b[0m\u001b[1;33m\u001b[0m\u001b[0m\n",
       "\u001b[1;31mDocstring:\u001b[0m\n",
       "Equivalent to base**exp with 2 arguments or base**exp % mod with 3 arguments\n",
       "\n",
       "Some types, such as ints, are able to use a more efficient algorithm when\n",
       "invoked using the three argument form.\n",
       "\u001b[1;31mType:\u001b[0m      builtin_function_or_method"
      ]
     },
     "metadata": {},
     "output_type": "display_data"
    }
   ],
   "source": [
    "pow?"
   ]
  },
  {
   "cell_type": "code",
   "execution_count": 139,
   "id": "b2f99aa4-5695-4c15-b241-9fbd743a484f",
   "metadata": {},
   "outputs": [
    {
     "data": {
      "text/plain": [
       "\u001b[1;31mSignature:\u001b[0m \u001b[0misinstance\u001b[0m\u001b[1;33m(\u001b[0m\u001b[0mobj\u001b[0m\u001b[1;33m,\u001b[0m \u001b[0mclass_or_tuple\u001b[0m\u001b[1;33m,\u001b[0m \u001b[1;33m/\u001b[0m\u001b[1;33m)\u001b[0m\u001b[1;33m\u001b[0m\u001b[1;33m\u001b[0m\u001b[0m\n",
       "\u001b[1;31mDocstring:\u001b[0m\n",
       "Return whether an object is an instance of a class or of a subclass thereof.\n",
       "\n",
       "A tuple, as in ``isinstance(x, (A, B, ...))``, may be given as the target to\n",
       "check against. This is equivalent to ``isinstance(x, A) or isinstance(x, B)\n",
       "or ...`` etc.\n",
       "\u001b[1;31mType:\u001b[0m      builtin_function_or_method"
      ]
     },
     "metadata": {},
     "output_type": "display_data"
    }
   ],
   "source": [
    "isinstance?"
   ]
  },
  {
   "cell_type": "code",
   "execution_count": 140,
   "id": "b0c8c193-714a-4c83-a3ef-06ab0a4b51e8",
   "metadata": {},
   "outputs": [
    {
     "data": {
      "text/plain": [
       "\u001b[1;31mSignature:\u001b[0m \u001b[0mdivmod\u001b[0m\u001b[1;33m(\u001b[0m\u001b[0mx\u001b[0m\u001b[1;33m,\u001b[0m \u001b[0my\u001b[0m\u001b[1;33m,\u001b[0m \u001b[1;33m/\u001b[0m\u001b[1;33m)\u001b[0m\u001b[1;33m\u001b[0m\u001b[1;33m\u001b[0m\u001b[0m\n",
       "\u001b[1;31mDocstring:\u001b[0m Return the tuple (x//y, x%y).  Invariant: div*y + mod == x.\n",
       "\u001b[1;31mType:\u001b[0m      builtin_function_or_method"
      ]
     },
     "metadata": {},
     "output_type": "display_data"
    }
   ],
   "source": [
    "divmod?"
   ]
  },
  {
   "cell_type": "markdown",
   "id": "3e87f819-1a20-4004-af7b-d9e44f6be237",
   "metadata": {},
   "source": [
    "- if we want to get help for any specific function then we can use help(name of the function)\n",
    "- for example help(isinstance)"
   ]
  },
  {
   "cell_type": "code",
   "execution_count": 146,
   "id": "3a1ef784-4eb0-4f02-8573-8ed050d28fcd",
   "metadata": {},
   "outputs": [
    {
     "name": "stdout",
     "output_type": "stream",
     "text": [
      "Help on built-in function isinstance in module builtins:\n",
      "\n",
      "isinstance(obj, class_or_tuple, /)\n",
      "    Return whether an object is an instance of a class or of a subclass thereof.\n",
      "\n",
      "    A tuple, as in ``isinstance(x, (A, B, ...))``, may be given as the target to\n",
      "    check against. This is equivalent to ``isinstance(x, A) or isinstance(x, B)\n",
      "    or ...`` etc.\n",
      "\n"
     ]
    }
   ],
   "source": [
    "help(isinstance)"
   ]
  },
  {
   "cell_type": "code",
   "execution_count": 147,
   "id": "295ffe71-f285-4258-9a63-2785bc987978",
   "metadata": {},
   "outputs": [
    {
     "name": "stdout",
     "output_type": "stream",
     "text": [
      "Help on built-in function pow in module builtins:\n",
      "\n",
      "pow(base, exp, mod=None)\n",
      "    Equivalent to base**exp with 2 arguments or base**exp % mod with 3 arguments\n",
      "\n",
      "    Some types, such as ints, are able to use a more efficient algorithm when\n",
      "    invoked using the three argument form.\n",
      "\n"
     ]
    }
   ],
   "source": [
    "help(pow)"
   ]
  },
  {
   "cell_type": "code",
   "execution_count": 148,
   "id": "c12e4b5f-f3aa-4c7f-bfa7-1b179d7b40e0",
   "metadata": {},
   "outputs": [
    {
     "name": "stdout",
     "output_type": "stream",
     "text": [
      "Help on method raw_input in module ipykernel.kernelbase:\n",
      "\n",
      "raw_input(prompt='') method of ipykernel.ipkernel.IPythonKernel instance\n",
      "    Forward raw_input to frontends\n",
      "\n",
      "    Raises\n",
      "    ------\n",
      "    StdinNotImplementedError if active frontend doesn't support stdin.\n",
      "\n"
     ]
    }
   ],
   "source": [
    "help(input)"
   ]
  },
  {
   "cell_type": "markdown",
   "id": "4c204ad8-d2bd-4b36-99b3-259c8f785089",
   "metadata": {},
   "source": [
    "# Slicing\n",
    "- You can return a range of characters by using the slice syntax.\n",
    "- Specify the start index and the end index, separated by a colon, to return a part of the string."
   ]
  },
  {
   "cell_type": "code",
   "execution_count": 153,
   "id": "eb01bfb3-f371-4363-b9dc-5e644a528016",
   "metadata": {},
   "outputs": [
    {
     "name": "stdout",
     "output_type": "stream",
     "text": [
      "llo\n"
     ]
    }
   ],
   "source": [
    "txt = \"Hello, World!\"\n",
    "print(txt[2:5])"
   ]
  },
  {
   "cell_type": "markdown",
   "id": "b018bde6-e059-4a09-b49b-1a0d50f401a2",
   "metadata": {},
   "source": [
    "# Control Flow"
   ]
  },
  {
   "cell_type": "code",
   "execution_count": 38,
   "id": "a6c0b751-6734-4f6c-8dcc-9b7abe635362",
   "metadata": {},
   "outputs": [
    {
     "name": "stdin",
     "output_type": "stream",
     "text": [
      "Enter first number:  10\n",
      "Enter second number:  20\n"
     ]
    },
    {
     "name": "stdout",
     "output_type": "stream",
     "text": [
      "Number2 is greater than Number1 i.e,20.\n"
     ]
    }
   ],
   "source": [
    "num1 = int(input(\"Enter first number: \"))\n",
    "num2 = int(input(\"Enter second number: \"))\n",
    "if num1 > num2 :\n",
    "    result = f\"Number1 is greater than Number2 i.e,{num1}.\"\n",
    "    print(result)\n",
    "elif num1 == num2 :\n",
    "    result = f\"Number1 is equal to Number2.\"\n",
    "    print(result)\n",
    "else :\n",
    "    result = f\"Number2 is greater than Number1 i.e,{num2}.\"\n",
    "    print(result)"
   ]
  },
  {
   "cell_type": "markdown",
   "id": "752bac36-d854-441d-a6a6-22421c7c23eb",
   "metadata": {},
   "source": [
    "- In the above example code snippet I used format strings concept for string concatenation"
   ]
  },
  {
   "cell_type": "code",
   "execution_count": 41,
   "id": "1c1778ae-ff1b-45cd-bf22-3237eb341607",
   "metadata": {},
   "outputs": [
    {
     "name": "stdin",
     "output_type": "stream",
     "text": [
      "Enter Marks:  12\n"
     ]
    },
    {
     "name": "stdout",
     "output_type": "stream",
     "text": [
      "You achieved E Grade! Your are below Average.\n"
     ]
    }
   ],
   "source": [
    "marks = int(input(\"Enter Marks: \"))\n",
    "if marks >= 85:\n",
    "    print(\"Congrats! You achieved A Grade!\")\n",
    "elif (marks >= 80 and marks < 85) :\n",
    "    print(\"You achieved B Grade!\")\n",
    "elif (marks < 80 and marks >= 75) :\n",
    "    print(\"You achieved C Grade!\")\n",
    "elif (marks < 75 and marks >= 65) :\n",
    "    print(\"You achieved D Grade! Need to improve.\")\n",
    "else :\n",
    "    print(\"You achieved E Grade! Your are below Average.\")"
   ]
  },
  {
   "cell_type": "markdown",
   "id": "7050575d-d55f-4747-96bb-891a10f1d2ea",
   "metadata": {},
   "source": [
    "# Nested if\n",
    "- if condition inside another if condition"
   ]
  },
  {
   "cell_type": "code",
   "execution_count": 48,
   "id": "adc9481d-68df-4acd-987d-d10345c88e0b",
   "metadata": {},
   "outputs": [
    {
     "name": "stdin",
     "output_type": "stream",
     "text": [
      "Enter a number:  15\n"
     ]
    },
    {
     "name": "stdout",
     "output_type": "stream",
     "text": [
      "You have entered a number greater than 10!\n",
      "But not greater than 20!\n"
     ]
    }
   ],
   "source": [
    "number = int(input(\"Enter a number: \"))\n",
    "if number > 10 :\n",
    "    print(\"You have entered a number greater than 10!\")\n",
    "    if number >= 20 :\n",
    "        print(\"You have entered a number greater than 20!\")\n",
    "    else :\n",
    "        print(\"But not greater than 20!\")\n",
    "elif number == 10 :\n",
    "    print(\"You have entered a number equal than 10!\")\n",
    "else :\n",
    "    print(\"You have entered a number less than 10!\")"
   ]
  },
  {
   "cell_type": "markdown",
   "id": "8074621b-f676-430c-a2e1-39f85e25f9e2",
   "metadata": {},
   "source": [
    "# Assignment\n",
    "- User will enter a floating point number let say 238.915. Your task\n",
    "is to find out the integer portion before the point (in this case 238) and then check if that integer portion is an even number or not?"
   ]
  },
  {
   "cell_type": "code",
   "execution_count": 127,
   "id": "a214b9d4-16b8-47f4-ac0f-98584e739d40",
   "metadata": {},
   "outputs": [
    {
     "name": "stdin",
     "output_type": "stream",
     "text": [
      "Enter a floating point number:  -89.6\n"
     ]
    },
    {
     "name": "stdout",
     "output_type": "stream",
     "text": [
      "The number you have entered is a Odd Number.\n"
     ]
    }
   ],
   "source": [
    "num = float(input(\"Enter a floating point number: \"))\n",
    "round_num = round(num)\n",
    "if num > 0 :\n",
    "    if round_num > num :\n",
    "        intPortion = round_num - 1\n",
    "    else :\n",
    "        intPortion = round_num\n",
    "else:\n",
    "    if round_num < num :\n",
    "        intPortion = round_num + 1\n",
    "    else :\n",
    "        intPortion = round_num\n",
    "if intPortion % 2 == 0 :\n",
    "    print(\"The number you have entered is a Even Number.\")\n",
    "else :\n",
    "    print(\"The number you have entered is a Odd Number.\")"
   ]
  },
  {
   "cell_type": "markdown",
   "id": "a7dc7cb0-146d-4f7f-ba48-4277a97ae4d0",
   "metadata": {},
   "source": [
    "# Another way"
   ]
  },
  {
   "cell_type": "code",
   "execution_count": 88,
   "id": "2d583d47-a878-4ced-b877-c717dcad38f0",
   "metadata": {},
   "outputs": [
    {
     "name": "stdin",
     "output_type": "stream",
     "text": [
      "Enter a floating point number:  122.123\n"
     ]
    },
    {
     "name": "stdout",
     "output_type": "stream",
     "text": [
      "The number you entered is Even number.\n"
     ]
    }
   ],
   "source": [
    "n = float(input(\"Enter a floating point number: \"))\n",
    "#n = round(n)\n",
    "#print(n)\n",
    "int_num = str(n).split(\".\")\n",
    "#print(int_num)\n",
    "#print(int_num[0])\n",
    "int_num = int(int_num[0])\n",
    "if int_num % 2 == 0:\n",
    "    print(\"The number you entered is Even number.\")\n",
    "else :\n",
    "    print(\"The number you entered is Odd number\")"
   ]
  },
  {
   "cell_type": "markdown",
   "id": "69ebc63f-f8da-4c18-acc9-3a02494e1f8e",
   "metadata": {},
   "source": [
    "# Loops\n",
    "- A loop is a sequence of instruction s that is continually repeated until a certain condition is reached."
   ]
  },
  {
   "cell_type": "code",
   "execution_count": 15,
   "id": "659237d7-ba25-42aa-964c-92a5ea047d6e",
   "metadata": {},
   "outputs": [
    {
     "name": "stdin",
     "output_type": "stream",
     "text": [
      "Enter a number:  10\n"
     ]
    },
    {
     "name": "stdout",
     "output_type": "stream",
     "text": [
      "1\n",
      "2\n",
      "3\n",
      "4\n",
      "5\n",
      "6\n",
      "7\n",
      "8\n",
      "9\n",
      "10\n"
     ]
    }
   ],
   "source": [
    "value = int(input(\"Enter a number: \"))\n",
    "i = 1\n",
    "while i <= value:\n",
    "    print(i)\n",
    "    i += 1"
   ]
  },
  {
   "cell_type": "code",
   "execution_count": 9,
   "id": "a62ea9ad-5b59-4521-abec-df6b84c08317",
   "metadata": {},
   "outputs": [
    {
     "name": "stdin",
     "output_type": "stream",
     "text": [
      "Enter a number:  10\n"
     ]
    },
    {
     "name": "stdout",
     "output_type": "stream",
     "text": [
      "2\n",
      "4\n",
      "6\n",
      "8\n",
      "10\n"
     ]
    }
   ],
   "source": [
    "# Print even numbers using while loop\n",
    "even_num = int(input(\"Enter a number: \"))\n",
    "i = 1\n",
    "while i <= even_num:\n",
    "    if i % 2 == 0 :\n",
    "        print(i)\n",
    "    else :\n",
    "        pass\n",
    "    i+=1"
   ]
  },
  {
   "cell_type": "code",
   "execution_count": 6,
   "id": "d6120a28-d151-4d9b-8fb4-a9be3a8991d7",
   "metadata": {},
   "outputs": [
    {
     "name": "stdin",
     "output_type": "stream",
     "text": [
      "Enter a number:  10\n"
     ]
    },
    {
     "name": "stdout",
     "output_type": "stream",
     "text": [
      "1\n",
      "4\n",
      "9\n",
      "16\n",
      "25\n",
      "36\n",
      "49\n",
      "64\n",
      "81\n",
      "100\n"
     ]
    }
   ],
   "source": [
    "# Print square of number using while loop\n",
    "sqr_num = int(input(\"Enter a number: \"))\n",
    "i = 1 \n",
    "while i <= sqr_num:\n",
    "    sqrd_num = i ** 2\n",
    "    print(sqrd_num)\n",
    "    i += 1"
   ]
  },
  {
   "cell_type": "code",
   "execution_count": 15,
   "id": "7a27b323-53a7-45f0-8136-dd14f798edd8",
   "metadata": {},
   "outputs": [
    {
     "name": "stdin",
     "output_type": "stream",
     "text": [
      "Enter a number:  8\n"
     ]
    },
    {
     "name": "stdout",
     "output_type": "stream",
     "text": [
      "Inside Else\n",
      "Inside Else\n",
      "Inside Else\n",
      "Inside Else\n",
      "Inside Else\n",
      "Inside Else\n",
      "Inside Else\n",
      "Inside Else\n",
      "Inside if\n",
      "Done\n"
     ]
    }
   ],
   "source": [
    "l = int(input(\"Enter a number: \"))\n",
    "i = 1\n",
    "while True :\n",
    "    if i % 9 == 0 :\n",
    "        print(\"Inside if\")\n",
    "        break\n",
    "    else :\n",
    "        print(\"Inside Else\")\n",
    "        i= i + 1\n",
    "print(\"Done\")"
   ]
  },
  {
   "cell_type": "code",
   "execution_count": 19,
   "id": "8ecc1359-41da-4783-b111-70a7c5f153fa",
   "metadata": {},
   "outputs": [
    {
     "name": "stdout",
     "output_type": "stream",
     "text": [
      "Inside if\n",
      "Inside if\n",
      "Inside if\n",
      "Inside if\n",
      "Inside if\n",
      "Inside if\n",
      "Inside if\n",
      "Inside if\n",
      "Something\n",
      "Something Else\n",
      "Done\n"
     ]
    }
   ],
   "source": [
    "d = 10\n",
    "i = 1\n",
    "while True:\n",
    "    if i % 9 != 0:\n",
    "        print('Inside if')\n",
    "        i = i + 1\n",
    "        continue\n",
    "    print(\"Something\")\n",
    "    print(\"Something Else\")\n",
    "    break\n",
    "print(\"Done\")"
   ]
  },
  {
   "cell_type": "markdown",
   "id": "c8cd887d-011d-4e7c-ba20-a3953b82ed67",
   "metadata": {},
   "source": [
    "# For Loop"
   ]
  },
  {
   "cell_type": "code",
   "execution_count": 58,
   "id": "c7fd5f7e-4507-44dc-8b79-61a30d6d47e4",
   "metadata": {},
   "outputs": [
    {
     "name": "stdin",
     "output_type": "stream",
     "text": [
      "Enter a range:  20\n"
     ]
    },
    {
     "name": "stdout",
     "output_type": "stream",
     "text": [
      "[0, 4, 16, 36, 64, 100, 144, 196, 256, 324, 400]\n"
     ]
    }
   ],
   "source": [
    "# Create a empty list and range upto 10 square \n",
    "# the numbers and append it to that empty list\n",
    "l = [] # Empty list\n",
    "j = int(input(\"Enter a range: \"))\n",
    "for i in range (0,j+1,2):\n",
    "    if i % 2 == 0 :\n",
    "        i = i ** 2\n",
    "        l.append(i)\n",
    "print(l)"
   ]
  },
  {
   "cell_type": "markdown",
   "id": "a2c6ed0d-33b5-4465-97a1-cf810fe81418",
   "metadata": {},
   "source": [
    "# Else in for Loops"
   ]
  },
  {
   "cell_type": "code",
   "execution_count": 73,
   "id": "67a883cd-cccd-4222-bebe-c1114f73f2f3",
   "metadata": {},
   "outputs": [
    {
     "name": "stdout",
     "output_type": "stream",
     "text": [
      "apple\n",
      "1.5\n",
      "Outside the loop\n"
     ]
    }
   ],
   "source": [
    "S = {\"apple\",1.5,\"python\",\"programming\"}\n",
    "j = 1\n",
    "for i in S :\n",
    "    print(i)\n",
    "    j = j + 1\n",
    "    if j == 3:\n",
    "        break\n",
    "    else:\n",
    "        pass\n",
    "else :\n",
    "    print(\"Loop completes its iteration\") # Here the else part executes if the complete for loop is executed\n",
    "print(\"Outside the loop\")"
   ]
  },
  {
   "cell_type": "code",
   "execution_count": 82,
   "id": "bac4097a-c786-4dee-b2a5-25d41e1a3920",
   "metadata": {
    "scrolled": true
   },
   "outputs": [
    {
     "name": "stdout",
     "output_type": "stream",
     "text": [
      "Fruit\n",
      "Fruit Apple\n",
      "Game\n",
      "Game Chess\n"
     ]
    }
   ],
   "source": [
    "D = {\"Fruit\":\"Apple\",\"Game\":\"Chess\"}\n",
    "for x in D :\n",
    "    print(x)\n",
    "    print(x,D[x])"
   ]
  },
  {
   "cell_type": "markdown",
   "id": "4441772b-5936-4121-ad1c-57275ff5078b",
   "metadata": {},
   "source": [
    "# Assignment\n",
    "-  Given a list of numbers i.e., [1,2,4,-5,7,9,3,2],make another list that contains all the items in sorted order from min to max i.e., your result will be another list like [-5,1,2,2,3,4,7,9]"
   ]
  },
  {
   "cell_type": "code",
   "execution_count": 116,
   "id": "060278b5-83b0-4ced-a78f-39138b94dab5",
   "metadata": {},
   "outputs": [
    {
     "name": "stdout",
     "output_type": "stream",
     "text": [
      "[-5, 1, 2, 2, 3, 4, 7, 9]\n"
     ]
    }
   ],
   "source": [
    "L = [1,2,4,-5,7,9,3,2]\n",
    "for j in range (len(L)):\n",
    "    m = L[j]\n",
    "    idx = j\n",
    "    c = j\n",
    "    for i in range(j,len(L)):\n",
    "        if L[i] < m:\n",
    "            m = L[i]\n",
    "            idx = c \n",
    "        c = c + 1\n",
    "    tmp = L[j]\n",
    "    L[j] = m\n",
    "    L[idx] = tmp\n",
    "print(L)"
   ]
  },
  {
   "cell_type": "code",
   "execution_count": 104,
   "id": "af35924b-469f-4865-85a1-19fc3a954f1b",
   "metadata": {},
   "outputs": [
    {
     "name": "stdout",
     "output_type": "stream",
     "text": [
      "[-5, 1, 2, 2, 3, 4, 7, 9]\n"
     ]
    }
   ],
   "source": [
    "# In python we have built in functions that are predefined and we can use them without writing a block of code.\n",
    "L = [1,2,4,-5,7,9,3,2]\n",
    "L.sort()\n",
    "print(L)"
   ]
  },
  {
   "cell_type": "markdown",
   "id": "5eb37e7a-4410-4ab9-a2c0-68cf93eb48fd",
   "metadata": {},
   "source": [
    "# Functions"
   ]
  },
  {
   "cell_type": "code",
   "execution_count": 119,
   "id": "300af9d7-5b1c-4bde-bc35-c313e1980d3b",
   "metadata": {},
   "outputs": [],
   "source": [
    "def printSuccess():\n",
    "    print(\"The task was successful!\")\n",
    "    print(\"Moving on to the next task\")\n",
    "    print(\"Send me the next task\")"
   ]
  },
  {
   "cell_type": "code",
   "execution_count": 121,
   "id": "e2c2ea02-375c-4af7-8856-51f2dc28e3c7",
   "metadata": {},
   "outputs": [
    {
     "name": "stdout",
     "output_type": "stream",
     "text": [
      "The task was successful!\n",
      "Moving on to the next task\n",
      "Send me the next task\n"
     ]
    }
   ],
   "source": [
    "printSuccess()"
   ]
  },
  {
   "cell_type": "code",
   "execution_count": 4,
   "id": "123e04f7-f3bf-4b8b-abd6-6520b0e92065",
   "metadata": {},
   "outputs": [
    {
     "data": {
      "text/plain": [
       "\u001b[1;31mSignature:\u001b[0m \u001b[0mlen\u001b[0m\u001b[1;33m(\u001b[0m\u001b[0mobj\u001b[0m\u001b[1;33m,\u001b[0m \u001b[1;33m/\u001b[0m\u001b[1;33m)\u001b[0m\u001b[1;33m\u001b[0m\u001b[1;33m\u001b[0m\u001b[0m\n",
       "\u001b[1;31mDocstring:\u001b[0m Return the number of items in a container.\n",
       "\u001b[1;31mType:\u001b[0m      builtin_function_or_method"
      ]
     },
     "metadata": {},
     "output_type": "display_data"
    }
   ],
   "source": [
    "len?"
   ]
  },
  {
   "cell_type": "code",
   "execution_count": 34,
   "id": "c8d1f092-67f2-40e1-bf73-57dee1856c8f",
   "metadata": {},
   "outputs": [],
   "source": [
    "def printmsg(msg):\n",
    "    \"\"\"The function prints the message supplied by the user\n",
    "    or prints that msg is not in the form of string\"\"\"\n",
    "    if isinstance(msg,str):\n",
    "        print(msg)\n",
    "    else :\n",
    "        print(\"Your input argument is not a string!\")\n",
    "        print(\"Here is the type of what you have supplied:\",type(msg))"
   ]
  },
  {
   "cell_type": "code",
   "execution_count": 35,
   "id": "67d3acf4-6240-4e4f-81ee-bfc0aa9bc51c",
   "metadata": {},
   "outputs": [
    {
     "name": "stdout",
     "output_type": "stream",
     "text": [
      "Your input argument is not a string!\n",
      "Here is the type of what you have supplied: <class 'int'>\n"
     ]
    }
   ],
   "source": [
    "printmsg(123)"
   ]
  },
  {
   "cell_type": "code",
   "execution_count": 36,
   "id": "0b677b0e-bdb8-414d-8335-035833d77b8b",
   "metadata": {},
   "outputs": [],
   "source": [
    "def mypow(a,b):\n",
    "    \"\"\" This function computes power just like builtin pow functions\n",
    "    \"\"\"\n",
    "    c = a ** b\n",
    "    print(c)"
   ]
  },
  {
   "cell_type": "code",
   "execution_count": 42,
   "id": "d049b998-b307-4df1-81c6-da9235ad9d47",
   "metadata": {},
   "outputs": [
    {
     "name": "stdout",
     "output_type": "stream",
     "text": [
      "8\n"
     ]
    }
   ],
   "source": [
    "mypow(2,3)"
   ]
  },
  {
   "cell_type": "code",
   "execution_count": 62,
   "id": "80fb83c7-4a83-4c91-a648-d70d21879764",
   "metadata": {},
   "outputs": [],
   "source": [
    "def twoArgs(arg1,arg2) :\n",
    "    \"\"\" This function is used to pass two args \n",
    "    for the same function \"\"\"\n",
    "    greet = \"Welcome \" + arg1 + \"!\" + \"Your last name is \" + arg2 + \". Glad to see you here!\"\n",
    "    print(greet)"
   ]
  },
  {
   "cell_type": "code",
   "execution_count": 63,
   "id": "78658435-71b8-4e2f-b026-29c2c78189fe",
   "metadata": {},
   "outputs": [
    {
     "name": "stdout",
     "output_type": "stream",
     "text": [
      "Welcome Ravi!Your last name is Kumar. Glad to see you here!\n"
     ]
    }
   ],
   "source": [
    "twoArgs(\"Ravi\",\"Kumar\")"
   ]
  },
  {
   "cell_type": "code",
   "execution_count": 64,
   "id": "f1960277-424a-4213-b7f6-46461afc0302",
   "metadata": {},
   "outputs": [],
   "source": [
    "def checkArgs(a,b,c):\n",
    "    if isinstance(a,(int,float)) and isinstance(b,(int,float)) and isinstance(c,(int,float)) :\n",
    "        print((a+b+c) ** 2)\n",
    "    else :\n",
    "        print(\"Error: The input arguments are not of the expected types!\")"
   ]
  },
  {
   "cell_type": "code",
   "execution_count": 66,
   "id": "b1c5cd10-d17b-4a01-aafa-5bac280c3967",
   "metadata": {},
   "outputs": [
    {
     "name": "stdout",
     "output_type": "stream",
     "text": [
      "36\n"
     ]
    }
   ],
   "source": [
    "checkArgs(1,2,3)"
   ]
  },
  {
   "cell_type": "code",
   "execution_count": 67,
   "id": "d9e78172-f144-48cb-bf87-85ba50ab4f89",
   "metadata": {},
   "outputs": [
    {
     "name": "stdout",
     "output_type": "stream",
     "text": [
      "Error: The input arguments are not of the expected types!\n"
     ]
    }
   ],
   "source": [
    "checkArgs(3,4,\"A\")"
   ]
  },
  {
   "cell_type": "code",
   "execution_count": 68,
   "id": "671c7c41-ef4c-4acc-9fbf-e09d1dac30c9",
   "metadata": {},
   "outputs": [
    {
     "ename": "TypeError",
     "evalue": "checkArgs() missing 1 required positional argument: 'c'",
     "output_type": "error",
     "traceback": [
      "\u001b[1;31m---------------------------------------------------------------------------\u001b[0m",
      "\u001b[1;31mTypeError\u001b[0m                                 Traceback (most recent call last)",
      "Cell \u001b[1;32mIn[68], line 1\u001b[0m\n\u001b[1;32m----> 1\u001b[0m \u001b[43mcheckArgs\u001b[49m\u001b[43m(\u001b[49m\u001b[38;5;241;43m1\u001b[39;49m\u001b[43m,\u001b[49m\u001b[38;5;241;43m2\u001b[39;49m\u001b[43m)\u001b[49m\n",
      "\u001b[1;31mTypeError\u001b[0m: checkArgs() missing 1 required positional argument: 'c'"
     ]
    }
   ],
   "source": [
    "checkArgs(1,2)"
   ]
  },
  {
   "cell_type": "code",
   "execution_count": 69,
   "id": "b1a9f186-3c6f-43ee-b647-691709e66201",
   "metadata": {},
   "outputs": [
    {
     "ename": "TypeError",
     "evalue": "checkArgs() takes 3 positional arguments but 4 were given",
     "output_type": "error",
     "traceback": [
      "\u001b[1;31m---------------------------------------------------------------------------\u001b[0m",
      "\u001b[1;31mTypeError\u001b[0m                                 Traceback (most recent call last)",
      "Cell \u001b[1;32mIn[69], line 1\u001b[0m\n\u001b[1;32m----> 1\u001b[0m \u001b[43mcheckArgs\u001b[49m\u001b[43m(\u001b[49m\u001b[38;5;241;43m1\u001b[39;49m\u001b[43m,\u001b[49m\u001b[38;5;241;43m2\u001b[39;49m\u001b[43m,\u001b[49m\u001b[38;5;241;43m3\u001b[39;49m\u001b[43m,\u001b[49m\u001b[38;5;241;43m4\u001b[39;49m\u001b[43m)\u001b[49m\n",
      "\u001b[1;31mTypeError\u001b[0m: checkArgs() takes 3 positional arguments but 4 were given"
     ]
    }
   ],
   "source": [
    "checkArgs(1,2,3,4)"
   ]
  },
  {
   "cell_type": "code",
   "execution_count": 71,
   "id": "aaabd364-24da-4fdd-9f3d-82c91f826c45",
   "metadata": {},
   "outputs": [],
   "source": [
    "def args(a,b,c):\n",
    "    print(\"A is :\",a)\n",
    "    print(\"B is :\",b)\n",
    "    print(\"C is :\",c)"
   ]
  },
  {
   "cell_type": "code",
   "execution_count": 72,
   "id": "9ad9b369-0562-41fb-8ca7-3f2033f9ce2d",
   "metadata": {},
   "outputs": [
    {
     "name": "stdout",
     "output_type": "stream",
     "text": [
      "A is : 2\n",
      "B is : 3\n",
      "C is : Python\n"
     ]
    }
   ],
   "source": [
    "args(2,3,\"Python\")"
   ]
  },
  {
   "cell_type": "code",
   "execution_count": 73,
   "id": "b81cf8ad-785a-499f-a2a6-47e4a70a0ae5",
   "metadata": {},
   "outputs": [
    {
     "name": "stdout",
     "output_type": "stream",
     "text": [
      "A is : Python\n",
      "B is : 3\n",
      "C is : 2\n"
     ]
    }
   ],
   "source": [
    "args(\"Python\",3,2)"
   ]
  },
  {
   "cell_type": "code",
   "execution_count": 74,
   "id": "fe6a8709-17cd-4079-85ff-3045a02a5b2e",
   "metadata": {},
   "outputs": [
    {
     "name": "stdout",
     "output_type": "stream",
     "text": [
      "A is : 2\n",
      "B is : 3\n",
      "C is : Python\n"
     ]
    }
   ],
   "source": [
    "args(a=2,b=3,c=\"Python\")"
   ]
  },
  {
   "cell_type": "code",
   "execution_count": 75,
   "id": "d88edf4e-139c-4c46-8c86-02c21f63ee51",
   "metadata": {},
   "outputs": [
    {
     "name": "stdout",
     "output_type": "stream",
     "text": [
      "A is : Python\n",
      "B is : 2\n",
      "C is : 3\n"
     ]
    }
   ],
   "source": [
    "args(a=\"Python\",b=2,c=3)"
   ]
  },
  {
   "cell_type": "code",
   "execution_count": 83,
   "id": "efded930-24f5-4195-97e9-d5e59b97414d",
   "metadata": {},
   "outputs": [],
   "source": [
    "def add(x,y):\n",
    "    return x + y"
   ]
  },
  {
   "cell_type": "code",
   "execution_count": 86,
   "id": "53058afa-0066-49e9-8ea8-d45483301f76",
   "metadata": {},
   "outputs": [
    {
     "data": {
      "text/plain": [
       "25"
      ]
     },
     "execution_count": 86,
     "metadata": {},
     "output_type": "execute_result"
    }
   ],
   "source": [
    "add(12,13)"
   ]
  },
  {
   "cell_type": "code",
   "execution_count": 87,
   "id": "7f39fb27-efbf-46f7-97a4-3277a5c89203",
   "metadata": {},
   "outputs": [],
   "source": [
    "variableOutsideTheFunction = 3"
   ]
  },
  {
   "cell_type": "code",
   "execution_count": 96,
   "id": "6443be6b-27fe-4b4a-b577-674f138f05fa",
   "metadata": {},
   "outputs": [],
   "source": [
    "def g():\n",
    "    variableOutsideTheFunction = 5\n",
    "    print(variableOutsideTheFunction)"
   ]
  },
  {
   "cell_type": "code",
   "execution_count": 97,
   "id": "9bb277e1-131a-4afb-919b-54062c1daa77",
   "metadata": {},
   "outputs": [
    {
     "name": "stdout",
     "output_type": "stream",
     "text": [
      "5\n"
     ]
    }
   ],
   "source": [
    "g()"
   ]
  },
  {
   "cell_type": "code",
   "execution_count": 98,
   "id": "2f4920c6-3382-41c5-a6b0-691154d1a8ec",
   "metadata": {},
   "outputs": [
    {
     "name": "stdout",
     "output_type": "stream",
     "text": [
      "3\n"
     ]
    }
   ],
   "source": [
    "print(variableOutsideTheFunction)"
   ]
  },
  {
   "cell_type": "code",
   "execution_count": 99,
   "id": "33812e30-2893-49be-92a1-e0a2dd5bd8a8",
   "metadata": {},
   "outputs": [],
   "source": [
    "def r():\n",
    "    a = 5\n",
    "    b = 7\n",
    "    c = \"Something\"\n",
    "    return a,b,c"
   ]
  },
  {
   "cell_type": "code",
   "execution_count": 100,
   "id": "58f82a9b-b40d-4e61-9e69-1db69c99152f",
   "metadata": {},
   "outputs": [
    {
     "name": "stdout",
     "output_type": "stream",
     "text": [
      "5 7 Something\n"
     ]
    }
   ],
   "source": [
    "x,y,z=r()\n",
    "print(x,y,z)"
   ]
  },
  {
   "cell_type": "code",
   "execution_count": 107,
   "id": "6f92222d-de92-4f05-8722-af7f51320eef",
   "metadata": {},
   "outputs": [],
   "source": [
    "# Functions - variables of input arguments\n",
    "def add(*args):\n",
    "    sum = 0\n",
    "    for i in range(len(args)):\n",
    "        sum = sum + args[i]\n",
    "    return sum"
   ]
  },
  {
   "cell_type": "code",
   "execution_count": 111,
   "id": "1356e011-cdcb-45aa-b8b8-935698fd7a57",
   "metadata": {},
   "outputs": [
    {
     "name": "stdout",
     "output_type": "stream",
     "text": [
      "3\n"
     ]
    }
   ],
   "source": [
    "print(add(1,2))"
   ]
  },
  {
   "cell_type": "code",
   "execution_count": 112,
   "id": "17f84b20-3454-419e-876f-95acab79d26e",
   "metadata": {},
   "outputs": [
    {
     "data": {
      "text/plain": [
       "35"
      ]
     },
     "execution_count": 112,
     "metadata": {},
     "output_type": "execute_result"
    }
   ],
   "source": [
    "add(9,8,7,6,5)"
   ]
  },
  {
   "cell_type": "code",
   "execution_count": 133,
   "id": "b0962e44-9e2b-408e-b25f-52fb8217a8bf",
   "metadata": {},
   "outputs": [],
   "source": [
    "# Functions - variables number of input arguments\n",
    "def f(**args):\n",
    "    for x in args :\n",
    "        print(\"Variable name is : \" ,x,\" And Value is : \", args[x])"
   ]
  },
  {
   "cell_type": "code",
   "execution_count": 134,
   "id": "9aca6480-ddf6-4cea-add8-bc1d88cea6a0",
   "metadata": {},
   "outputs": [
    {
     "name": "stdout",
     "output_type": "stream",
     "text": [
      "Variable name is :  a  And Value is :  1\n",
      "Variable name is :  b  And Value is :  5.9\n",
      "Variable name is :  c  And Value is :  Python\n"
     ]
    }
   ],
   "source": [
    "f(a=1,b=5.9,c=\"Python\")"
   ]
  },
  {
   "cell_type": "code",
   "execution_count": 137,
   "id": "cbe05e3a-8072-427e-9e4f-e1132e35a43d",
   "metadata": {},
   "outputs": [],
   "source": [
    "def f(sum=10):\n",
    "    print(sum)"
   ]
  },
  {
   "cell_type": "code",
   "execution_count": 138,
   "id": "95bd7141-ccb7-4cb2-a468-9bb1bf07417f",
   "metadata": {},
   "outputs": [
    {
     "name": "stdout",
     "output_type": "stream",
     "text": [
      "10\n"
     ]
    }
   ],
   "source": [
    "f()"
   ]
  },
  {
   "cell_type": "code",
   "execution_count": 141,
   "id": "c79c79de-42cd-416b-b6a6-840e6c85a188",
   "metadata": {},
   "outputs": [
    {
     "name": "stdout",
     "output_type": "stream",
     "text": [
      "[-5, 2, 3]\n"
     ]
    }
   ],
   "source": [
    "L = [1,2,3]\n",
    "L2 = L\n",
    "L[0] = -5\n",
    "print(L)"
   ]
  },
  {
   "cell_type": "markdown",
   "id": "7cbb3531-35a0-4f27-94ab-ae1bb12dae3a",
   "metadata": {},
   "source": [
    "# What is a Module?\n",
    "- Consider a module to be the same as a code library.\n",
    "- A file containing a set of functions you want to include in your application."
   ]
  },
  {
   "cell_type": "markdown",
   "id": "16b482c3-df36-4235-a5ed-2d360847320b",
   "metadata": {},
   "source": [
    "# Practicing Functions"
   ]
  },
  {
   "cell_type": "markdown",
   "id": "fc8208fc-ee80-48c5-bd4e-b7a277834621",
   "metadata": {},
   "source": [
    "-  Given a list of numbers i.e., [1,2,4,-5,7,9,3,2],make another list that contains all the items in sorted order from min to max i.e., your result will be another list like [-5,1,2,2,3,4,7,9]"
   ]
  },
  {
   "cell_type": "code",
   "execution_count": 12,
   "id": "145649f1-85b0-41d1-867a-2e94b93c5731",
   "metadata": {},
   "outputs": [],
   "source": [
    "def findMin(L) :\n",
    "    m = L[0]\n",
    "    idx = 0\n",
    "    i = 0\n",
    "    for x in L:\n",
    "        if x < m:\n",
    "            m = x\n",
    "            idx = i\n",
    "        else:\n",
    "            pass\n",
    "        i+=1\n",
    "    return m,idx"
   ]
  },
  {
   "cell_type": "code",
   "execution_count": 13,
   "id": "b3cc9b61-00df-40b1-b849-054709bf2526",
   "metadata": {},
   "outputs": [],
   "source": [
    "a,b = findMin([1,2,-4,5,-10])"
   ]
  },
  {
   "cell_type": "code",
   "execution_count": 14,
   "id": "118ab020-dfe1-4d4e-beef-f7b2031f7658",
   "metadata": {},
   "outputs": [
    {
     "name": "stdout",
     "output_type": "stream",
     "text": [
      "-10 4\n"
     ]
    }
   ],
   "source": [
    "print(a,b)"
   ]
  },
  {
   "cell_type": "markdown",
   "id": "384adb04-878f-4106-9be4-20bec79faa71",
   "metadata": {},
   "source": [
    "# Swap two numbers in a list"
   ]
  },
  {
   "cell_type": "code",
   "execution_count": 22,
   "id": "b976b446-f774-4973-9792-af0b75eaca78",
   "metadata": {},
   "outputs": [],
   "source": [
    "def swap(L,idx1,idx2):\n",
    "    tmp = L[idx1]\n",
    "    L[idx1] = L[idx2]\n",
    "    L[idx2] = tmp\n",
    "    return L"
   ]
  },
  {
   "cell_type": "code",
   "execution_count": 23,
   "id": "4c18b2a5-c7bb-4efb-ad5a-528f160219bf",
   "metadata": {},
   "outputs": [],
   "source": [
    "result = swap([9,8,7,6,5],1,4)"
   ]
  },
  {
   "cell_type": "code",
   "execution_count": 24,
   "id": "0e4cf067-33f5-4bd3-aaa4-3ba527011f5d",
   "metadata": {},
   "outputs": [
    {
     "name": "stdout",
     "output_type": "stream",
     "text": [
      "[9, 5, 7, 6, 8]\n"
     ]
    }
   ],
   "source": [
    "print(result)"
   ]
  },
  {
   "cell_type": "code",
   "execution_count": 32,
   "id": "b1e31b4a-5625-4989-8745-edbb9c915158",
   "metadata": {},
   "outputs": [],
   "source": [
    "Lst = [1,2,3,9,8,7,4,2,-10,-5,-3]\n",
    "Lst.sort()"
   ]
  },
  {
   "cell_type": "code",
   "execution_count": 33,
   "id": "2992c47d-005a-48dc-acfc-d8d3d1cdfca3",
   "metadata": {},
   "outputs": [
    {
     "name": "stdout",
     "output_type": "stream",
     "text": [
      "[-10, -5, -3, 1, 2, 2, 3, 4, 7, 8, 9]\n"
     ]
    }
   ],
   "source": [
    "print(Lst)"
   ]
  },
  {
   "cell_type": "markdown",
   "id": "7c3a09fb-c472-411f-95a4-00aef4be52af",
   "metadata": {},
   "source": [
    "# Python String Function"
   ]
  },
  {
   "cell_type": "markdown",
   "id": "1e2a3bee-e0a0-4cdc-a005-066ef5a318bd",
   "metadata": {},
   "source": [
    "- \"Python\" is as same as 'Python' but be careful and don't mix like this 'Python\" and \"Python'"
   ]
  },
  {
   "cell_type": "markdown",
   "id": "ab4a8fdf-bd7d-43af-867a-76def824b5af",
   "metadata": {},
   "source": [
    "- String Concatenation"
   ]
  },
  {
   "cell_type": "code",
   "execution_count": 5,
   "id": "489b8fbf-c878-4f44-9809-c8a2f0439006",
   "metadata": {},
   "outputs": [
    {
     "name": "stdout",
     "output_type": "stream",
     "text": [
      "Python is best language for Data Science and,in this notebook we shall practice python.\n"
     ]
    }
   ],
   "source": [
    "s = \"Python is best language for Data Science\"\n",
    "t = 'in this notebook we shall practice python.'\n",
    "print(s + ' and,' + t)"
   ]
  },
  {
   "cell_type": "markdown",
   "id": "0340851d-ee27-4dcb-9c36-41b6bf0f9c80",
   "metadata": {},
   "source": [
    "- Concatenating a string and a integer"
   ]
  },
  {
   "cell_type": "code",
   "execution_count": 11,
   "id": "0ed6ed1b-aa68-40ba-89d9-03c4a21d607c",
   "metadata": {},
   "outputs": [
    {
     "name": "stdout",
     "output_type": "stream",
     "text": [
      "The price of this book is: 10\n",
      "The price of this book is: 10\n"
     ]
    }
   ],
   "source": [
    "# Method 1\n",
    "price = 10\n",
    "a = \"The price of this book\"\n",
    "b = a + \" is: \" + str(price)\n",
    "print(b)\n",
    "# Method 2\n",
    "print(a,\"is:\",price)"
   ]
  },
  {
   "cell_type": "markdown",
   "id": "81daa221-030e-441e-b032-46c45f3f62a6",
   "metadata": {},
   "source": [
    "- Multi line String"
   ]
  },
  {
   "cell_type": "code",
   "execution_count": 16,
   "id": "41a18639-f05d-43d9-850d-b8ed9a9f4331",
   "metadata": {},
   "outputs": [],
   "source": [
    "multilineString = \"\"\"This is the first line in the multiline string\n",
    "This is the second line in the multiline string\n",
    "This is the third line and final line in the multiline string.\"\"\""
   ]
  },
  {
   "cell_type": "code",
   "execution_count": 17,
   "id": "cdf06965-16a6-46c8-9267-dcacdf78dd41",
   "metadata": {},
   "outputs": [
    {
     "name": "stdout",
     "output_type": "stream",
     "text": [
      "This is the first line in the multiline string\n",
      "This is the second line in the multiline string\n",
      "This is the third line and final line in the multiline string.\n"
     ]
    }
   ],
   "source": [
    "print(multilineString)"
   ]
  },
  {
   "cell_type": "markdown",
   "id": "d300384a-cbe0-43a0-9403-7764613fbb3a",
   "metadata": {},
   "source": [
    "# String Indexing and Slicing"
   ]
  },
  {
   "cell_type": "code",
   "execution_count": 31,
   "id": "e71de88f-c49b-4c6e-bb9d-5be3b5472d2a",
   "metadata": {},
   "outputs": [
    {
     "name": "stdout",
     "output_type": "stream",
     "text": [
      "e\n",
      "f Prog\n"
     ]
    }
   ],
   "source": [
    "string = \"Game of Programming\"\n",
    "print(string[3]) # Starting from 0th char prints the third character\n",
    "print(string[6:12]) \n",
    "# Starting from 6th char prints till 11th char \n",
    "# but 12th char is not included."
   ]
  },
  {
   "cell_type": "markdown",
   "id": "096fd28e-e893-4ec6-ae10-113c0f02b61e",
   "metadata": {},
   "source": [
    "# Negative Indexing"
   ]
  },
  {
   "cell_type": "markdown",
   "id": "50b5a982-8ee9-4912-b570-edf6b5011e52",
   "metadata": {},
   "source": [
    "- Use negative indexes to start the slice from the end of the string:"
   ]
  },
  {
   "cell_type": "code",
   "execution_count": 39,
   "id": "c3fe4f3a-cd43-4cab-b324-f0cf7f9ee0aa",
   "metadata": {},
   "outputs": [
    {
     "name": "stdout",
     "output_type": "stream",
     "text": [
      " Programm\n"
     ]
    }
   ],
   "source": [
    "string = \"Game of Programming\"\n",
    "print(string[-12:-3])"
   ]
  },
  {
   "cell_type": "code",
   "execution_count": 41,
   "id": "95389894-e8b8-4717-92d7-ce99ba58eb10",
   "metadata": {},
   "outputs": [
    {
     "data": {
      "text/plain": [
       "'Gm fPo'"
      ]
     },
     "execution_count": 41,
     "metadata": {},
     "output_type": "execute_result"
    }
   ],
   "source": [
    "string[0:12:2]"
   ]
  },
  {
   "cell_type": "code",
   "execution_count": 42,
   "id": "5c501473-c07d-4cdd-8dfb-a789568350ab",
   "metadata": {},
   "outputs": [],
   "source": [
    "# string[startindex:endindex:step]\n",
    "# by default step is 1"
   ]
  },
  {
   "cell_type": "code",
   "execution_count": 43,
   "id": "f8d018b1-f954-4714-ada1-52c8470498ba",
   "metadata": {},
   "outputs": [
    {
     "data": {
      "text/plain": [
       "'Game of Prog'"
      ]
     },
     "execution_count": 43,
     "metadata": {},
     "output_type": "execute_result"
    }
   ],
   "source": [
    "# starting from 1st char till 11th char 12th char is not included\n",
    "string[:12]"
   ]
  },
  {
   "cell_type": "code",
   "execution_count": 45,
   "id": "76700df3-e430-4c46-a140-416a273b05fa",
   "metadata": {},
   "outputs": [
    {
     "data": {
      "text/plain": [
       "'e of Programming'"
      ]
     },
     "execution_count": 45,
     "metadata": {},
     "output_type": "execute_result"
    }
   ],
   "source": [
    "# starting from 3rd char till last char\n",
    "string[3:]"
   ]
  },
  {
   "cell_type": "code",
   "execution_count": 46,
   "id": "36eff3c1-4cf2-4e2e-b6e9-c059fc60382e",
   "metadata": {},
   "outputs": [
    {
     "data": {
      "text/plain": [
       "'me of Prog'"
      ]
     },
     "execution_count": 46,
     "metadata": {},
     "output_type": "execute_result"
    }
   ],
   "source": [
    "# starting from 2nd char till 11th char 12th char is not included\n",
    "string[2:12]"
   ]
  },
  {
   "cell_type": "code",
   "execution_count": 47,
   "id": "a27c1199-3ef9-4c24-b394-f85ddf03f493",
   "metadata": {},
   "outputs": [
    {
     "data": {
      "text/plain": [
       "'me of Prog'"
      ]
     },
     "execution_count": 47,
     "metadata": {},
     "output_type": "execute_result"
    }
   ],
   "source": [
    "# starting from 2nd char till 11th char 12th char is not included\n",
    "# with step 1\n",
    "string[2:12:1]"
   ]
  },
  {
   "cell_type": "code",
   "execution_count": 49,
   "id": "e7ac3ba2-5d79-47ed-bc94-24738467eea1",
   "metadata": {},
   "outputs": [
    {
     "data": {
      "text/plain": [
       "'m fPo'"
      ]
     },
     "execution_count": 49,
     "metadata": {},
     "output_type": "execute_result"
    }
   ],
   "source": [
    "# starting from 2nd char till 11th char 12th char is not included\n",
    "# with step 2\n",
    "string[2:12:2]"
   ]
  },
  {
   "cell_type": "code",
   "execution_count": 50,
   "id": "4c43a7f8-3a42-4883-b66b-e5219af9b5ed",
   "metadata": {},
   "outputs": [
    {
     "data": {
      "text/plain": [
       "'gnimmargorP fo emaG'"
      ]
     },
     "execution_count": 50,
     "metadata": {},
     "output_type": "execute_result"
    }
   ],
   "source": [
    "# starting from 1st char till last char but in reverse order\n",
    "string[::-1]"
   ]
  },
  {
   "cell_type": "markdown",
   "id": "bbf1662f-80a1-4100-84fb-a1b0622d8405",
   "metadata": {},
   "source": [
    "# Length of a string"
   ]
  },
  {
   "cell_type": "markdown",
   "id": "ae123390-b5df-4730-8c95-08602379aa27",
   "metadata": {},
   "source": [
    "- To get the length of a string, use the len() function."
   ]
  },
  {
   "cell_type": "code",
   "execution_count": 51,
   "id": "abc04d59-1743-46bb-9c1a-f9ba5d00d7c8",
   "metadata": {},
   "outputs": [
    {
     "data": {
      "text/plain": [
       "19"
      ]
     },
     "execution_count": 51,
     "metadata": {},
     "output_type": "execute_result"
    }
   ],
   "source": [
    "len(string)"
   ]
  },
  {
   "cell_type": "code",
   "execution_count": 53,
   "id": "88db0158-277c-4070-a6e2-7c721168c12e",
   "metadata": {},
   "outputs": [
    {
     "data": {
      "text/plain": [
       "9"
      ]
     },
     "execution_count": 53,
     "metadata": {},
     "output_type": "execute_result"
    }
   ],
   "source": [
    "# Length of substring\n",
    "len(string[3:12])"
   ]
  },
  {
   "cell_type": "markdown",
   "id": "379c6dad-8690-42ad-9111-28b4e7b81a58",
   "metadata": {},
   "source": [
    "# String Functions"
   ]
  },
  {
   "cell_type": "code",
   "execution_count": 58,
   "id": "2efec2f6-edfe-4cce-80d3-0a3f0de92331",
   "metadata": {},
   "outputs": [],
   "source": [
    "a = \"     A lot OF Spaces at The            beGinning and at the END\"\n",
    "b = a.strip()\n",
    "# strip is used to remove all the spaces at the \n",
    "# starting and the ending"
   ]
  },
  {
   "cell_type": "code",
   "execution_count": 59,
   "id": "af3a625a-87bb-4904-bd85-72162723fe45",
   "metadata": {},
   "outputs": [
    {
     "data": {
      "text/plain": [
       "'A lot OF Spaces at The            beGinning and at the END'"
      ]
     },
     "execution_count": 59,
     "metadata": {},
     "output_type": "execute_result"
    }
   ],
   "source": [
    "b"
   ]
  },
  {
   "cell_type": "code",
   "execution_count": 60,
   "id": "5062b5eb-8427-4328-a3aa-6f072cb24e3f",
   "metadata": {},
   "outputs": [
    {
     "name": "stdout",
     "output_type": "stream",
     "text": [
      "a lot of spaces at the            beginning and at the end\n"
     ]
    }
   ],
   "source": [
    "# Converts the string into lower case\n",
    "print(b.lower())"
   ]
  },
  {
   "cell_type": "code",
   "execution_count": 61,
   "id": "9c9666e8-1290-445c-ade2-ed29471d64ef",
   "metadata": {},
   "outputs": [
    {
     "name": "stdout",
     "output_type": "stream",
     "text": [
      "A LOT OF SPACES AT THE            BEGINNING AND AT THE END\n"
     ]
    }
   ],
   "source": [
    "# Converts the string into upper case\n",
    "print(b.upper())"
   ]
  },
  {
   "cell_type": "code",
   "execution_count": 62,
   "id": "94ff4caa-8e45-4a1d-be0e-714340ea570c",
   "metadata": {},
   "outputs": [
    {
     "name": "stdout",
     "output_type": "stream",
     "text": [
      "A,lot,OF,Spaces,at,The,,,,,,,,,,,,beGinning,and,at,the,END\n"
     ]
    }
   ],
   "source": [
    "# The replace() method replaces a specified phrase \n",
    "# with another specified phrase. \n",
    "print(b.replace(\" \",\",\"))"
   ]
  },
  {
   "cell_type": "code",
   "execution_count": 69,
   "id": "93af6af7-5d7d-42ce-924f-a4b39fb9f0df",
   "metadata": {},
   "outputs": [
    {
     "name": "stdout",
     "output_type": "stream",
     "text": [
      "['This ', ' is the ', ' example for split', '', ' string', '', '', '']\n"
     ]
    }
   ],
   "source": [
    "# The split() method splits a string into a list.\n",
    "# You can specify the separator, default separator is any whitespace.\n",
    "# Note: When maxsplit is specified, the list will contain the \n",
    "# specified number of elements plus one.\n",
    "splitString = \"This , is the , example for split,, string,,,\"\n",
    "print(splitString.split(\",\"))"
   ]
  },
  {
   "cell_type": "code",
   "execution_count": 72,
   "id": "0f7925d6-70da-4b5f-a21e-13f409c3f0a2",
   "metadata": {},
   "outputs": [
    {
     "data": {
      "text/plain": [
       "'This is a string'"
      ]
     },
     "execution_count": 72,
     "metadata": {},
     "output_type": "execute_result"
    }
   ],
   "source": [
    "s = \"this is a string\"\n",
    "s.capitalize() # Returns a capitalized version of the string."
   ]
  },
  {
   "cell_type": "code",
   "execution_count": 73,
   "id": "735aec38-6cf4-441a-8b87-387a6bf15988",
   "metadata": {},
   "outputs": [
    {
     "name": "stdout",
     "output_type": "stream",
     "text": [
      "True\n"
     ]
    }
   ],
   "source": [
    "# whether a particular substring is present in string or not\n",
    "print(\"at\" in \"abcdefghijklmnat\")"
   ]
  },
  {
   "cell_type": "code",
   "execution_count": 75,
   "id": "8d3b9c0b-0c05-4594-a4e9-bb48df50a081",
   "metadata": {},
   "outputs": [
    {
     "name": "stdout",
     "output_type": "stream",
     "text": [
      "False\n"
     ]
    }
   ],
   "source": [
    "print(\"at\" not in \"abcdefghijklmnat\")"
   ]
  },
  {
   "cell_type": "code",
   "execution_count": 86,
   "id": "f22d8d96-c9df-4660-a8a9-76c156542b1d",
   "metadata": {},
   "outputs": [
    {
     "data": {
      "text/plain": [
       "True"
      ]
     },
     "execution_count": 86,
     "metadata": {},
     "output_type": "execute_result"
    }
   ],
   "source": [
    "# It compares based on the alphabetical order\n",
    "\"abc\"<\"xyz\""
   ]
  },
  {
   "cell_type": "code",
   "execution_count": 93,
   "id": "564690dd-8b30-463d-a222-ee8f0a794744",
   "metadata": {},
   "outputs": [
    {
     "name": "stdout",
     "output_type": "stream",
     "text": [
      "We are learning 'string' here\n"
     ]
    }
   ],
   "source": [
    "print(\"We are learning 'string' here\")"
   ]
  },
  {
   "cell_type": "code",
   "execution_count": 95,
   "id": "e2ffe62c-1b82-49fc-9e13-12c268331639",
   "metadata": {},
   "outputs": [
    {
     "name": "stdout",
     "output_type": "stream",
     "text": [
      "We are learning \"string\" here\n"
     ]
    }
   ],
   "source": [
    "print(\"We are learning \\\"string\\\" here\")"
   ]
  },
  {
   "cell_type": "code",
   "execution_count": 96,
   "id": "bf2fff79-8836-459f-8d30-2f00a0743aef",
   "metadata": {},
   "outputs": [
    {
     "name": "stdout",
     "output_type": "stream",
     "text": [
      "We are learning \"string\" here\n"
     ]
    }
   ],
   "source": [
    "print('We are learning \"string\" here')"
   ]
  },
  {
   "cell_type": "code",
   "execution_count": 97,
   "id": "2f6146a2-7c67-42b5-b417-6bcb644d5251",
   "metadata": {},
   "outputs": [
    {
     "name": "stdout",
     "output_type": "stream",
     "text": [
      "We are \t on another line\n"
     ]
    }
   ],
   "source": [
    "print(\"We are \\t on another line\")"
   ]
  },
  {
   "cell_type": "code",
   "execution_count": 98,
   "id": "439ad892-8ddb-4d03-a47d-a2de179e13fd",
   "metadata": {},
   "outputs": [
    {
     "name": "stdout",
     "output_type": "stream",
     "text": [
      "c:\n",
      "ame\\drive\n"
     ]
    },
    {
     "name": "stderr",
     "output_type": "stream",
     "text": [
      "<>:1: SyntaxWarning: invalid escape sequence '\\d'\n",
      "<>:1: SyntaxWarning: invalid escape sequence '\\d'\n",
      "C:\\Users\\DELL\\AppData\\Local\\Temp\\ipykernel_19504\\1646069977.py:1: SyntaxWarning: invalid escape sequence '\\d'\n",
      "  print(\"c:\\name\\drive\")\n"
     ]
    }
   ],
   "source": [
    "print(\"c:\\name\\drive\")"
   ]
  },
  {
   "cell_type": "code",
   "execution_count": 99,
   "id": "5f0e36b3-2534-4454-a006-349e86575f7d",
   "metadata": {},
   "outputs": [
    {
     "name": "stdout",
     "output_type": "stream",
     "text": [
      "c:\\name\\drive\n"
     ]
    }
   ],
   "source": [
    "print(r\"c:\\name\\drive\")"
   ]
  },
  {
   "cell_type": "markdown",
   "id": "35ac5882-b101-4a5f-97cb-04a212b0d5b8",
   "metadata": {},
   "source": [
    "# Data Structures in Python\n",
    "1. List - [] -ordered,changeable or mutable,duplicates\n",
    "2. Tuple - () - ordered,Unchangeable  or immutable,duplicates\n",
    "3. Set - {} - Unordered,addable/removable,no duplicates\n",
    "4. Dictionary - {keyvalue:pairs}  - Unordered,changeable,no duplicates"
   ]
  },
  {
   "cell_type": "markdown",
   "id": "c052eef4-53fe-4058-a848-7754460360f1",
   "metadata": {},
   "source": [
    "- Data structure in simple terms is a collection of lot of values and data.\n",
    "- all the data structures have data of heterogeneous types which means one value can be integer another value can be string or float etc. "
   ]
  },
  {
   "cell_type": "code",
   "execution_count": 105,
   "id": "68af9bc2-83a7-4e62-90bd-f0ff373faee6",
   "metadata": {},
   "outputs": [],
   "source": [
    "L = [1,3,4.9,\"name\",3]\n",
    "T = (1,3,4.9,\"name\",3)\n",
    "S = {1,3,4.9,\"name\",3}\n",
    "D = {23:\"Twothree\",\"B\":43,\"C\":\"CCD\"}"
   ]
  },
  {
   "cell_type": "code",
   "execution_count": 106,
   "id": "55fbcea4-7a95-4e51-8668-0f39be0a62f7",
   "metadata": {},
   "outputs": [
    {
     "name": "stdout",
     "output_type": "stream",
     "text": [
      "The type of L is  <class 'list'>\n",
      "The type of T is  <class 'tuple'>\n",
      "The type of S is  <class 'set'>\n",
      "The type of D is  <class 'dict'>\n"
     ]
    }
   ],
   "source": [
    "print(\"The type of L is \",type(L))\n",
    "print(\"The type of T is \",type(T))\n",
    "print(\"The type of S is \",type(S))\n",
    "print(\"The type of D is \",type(D))"
   ]
  },
  {
   "cell_type": "code",
   "execution_count": 107,
   "id": "3c99eb1a-23cc-44bf-b2f0-e335aae851cd",
   "metadata": {},
   "outputs": [
    {
     "name": "stdout",
     "output_type": "stream",
     "text": [
      "3\n",
      "3\n",
      "True\n",
      "Twothree\n"
     ]
    }
   ],
   "source": [
    "print(L[1])\n",
    "print(T[1])\n",
    "print(3 in S)\n",
    "print(D[23])"
   ]
  },
  {
   "cell_type": "code",
   "execution_count": 109,
   "id": "f9af4b32-5bc0-414b-84af-ecb2fa5c2826",
   "metadata": {},
   "outputs": [
    {
     "name": "stdout",
     "output_type": "stream",
     "text": [
      "43\n"
     ]
    }
   ],
   "source": [
    "print(D[\"B\"])"
   ]
  },
  {
   "cell_type": "code",
   "execution_count": 110,
   "id": "5320aea8-6708-4d58-9b0f-7eb1c420f7fb",
   "metadata": {},
   "outputs": [
    {
     "data": {
      "text/plain": [
       "{1, 3, 4.9, 'name'}"
      ]
     },
     "execution_count": 110,
     "metadata": {},
     "output_type": "execute_result"
    }
   ],
   "source": [
    "S\n",
    "# Here we have given the value 3 two times but instead \n",
    "# we got only one time because the set has no duplicate values."
   ]
  },
  {
   "cell_type": "code",
   "execution_count": 111,
   "id": "6ed7d679-5801-404d-80c7-4f8d1b5f579e",
   "metadata": {},
   "outputs": [
    {
     "data": {
      "text/plain": [
       "[3, 4.9]"
      ]
     },
     "execution_count": 111,
     "metadata": {},
     "output_type": "execute_result"
    }
   ],
   "source": [
    "L[1:3]"
   ]
  },
  {
   "cell_type": "code",
   "execution_count": 112,
   "id": "e8a5a2f4-d03f-4097-b928-a5c881cafa09",
   "metadata": {},
   "outputs": [
    {
     "data": {
      "text/plain": [
       "[3, 'name', 4.9, 3, 1]"
      ]
     },
     "execution_count": 112,
     "metadata": {},
     "output_type": "execute_result"
    }
   ],
   "source": [
    "L[::-1]"
   ]
  },
  {
   "cell_type": "code",
   "execution_count": 116,
   "id": "3ab893a0-8b36-4b4c-baba-52e6f1459ed6",
   "metadata": {},
   "outputs": [
    {
     "data": {
      "text/plain": [
       "(1, 3, 4.9)"
      ]
     },
     "execution_count": 116,
     "metadata": {},
     "output_type": "execute_result"
    }
   ],
   "source": [
    "T[:3]"
   ]
  },
  {
   "cell_type": "code",
   "execution_count": 114,
   "id": "072e57de-feca-41c5-9f69-98229f69eeac",
   "metadata": {},
   "outputs": [
    {
     "data": {
      "text/plain": [
       "(3, 4.9)"
      ]
     },
     "execution_count": 114,
     "metadata": {},
     "output_type": "execute_result"
    }
   ],
   "source": [
    "T[1:3]"
   ]
  },
  {
   "cell_type": "code",
   "execution_count": 115,
   "id": "6254f035-85ea-4fc6-af5d-8d469795366d",
   "metadata": {},
   "outputs": [
    {
     "data": {
      "text/plain": [
       "(3, 'name', 4.9, 3, 1)"
      ]
     },
     "execution_count": 115,
     "metadata": {},
     "output_type": "execute_result"
    }
   ],
   "source": [
    "T[::-1]"
   ]
  },
  {
   "cell_type": "code",
   "execution_count": 117,
   "id": "e0277a34-4ef4-415a-b427-dd235127ebe3",
   "metadata": {},
   "outputs": [],
   "source": [
    "# If we want to add new items to list we can do like this\n",
    "L = L + [\"Game\"]"
   ]
  },
  {
   "cell_type": "code",
   "execution_count": 118,
   "id": "528632e6-3fda-4198-832a-77ce27dd104b",
   "metadata": {},
   "outputs": [
    {
     "data": {
      "text/plain": [
       "[1, 3, 4.9, 'name', 3, 'Game']"
      ]
     },
     "execution_count": 118,
     "metadata": {},
     "output_type": "execute_result"
    }
   ],
   "source": [
    "L"
   ]
  },
  {
   "cell_type": "code",
   "execution_count": 132,
   "id": "99e89d6d-fe5c-426c-af4a-e0ee42460cfb",
   "metadata": {},
   "outputs": [],
   "source": [
    "# We can achieve the above result using the predefined python\n",
    "# append function\n",
    "L.append(\"Fruits\")"
   ]
  },
  {
   "cell_type": "code",
   "execution_count": 131,
   "id": "9b0a8aac-7a76-42e4-bc93-162d3b5e0720",
   "metadata": {},
   "outputs": [
    {
     "data": {
      "text/plain": [
       "[1,\n",
       " 3,\n",
       " 4.9,\n",
       " 'name',\n",
       " 3,\n",
       " 'Game',\n",
       " 'Fruits',\n",
       " 'Fruits',\n",
       " 'Fruits',\n",
       " 'Fruits',\n",
       " 'Fruits',\n",
       " 'Fruits']"
      ]
     },
     "execution_count": 131,
     "metadata": {},
     "output_type": "execute_result"
    }
   ],
   "source": [
    "L"
   ]
  },
  {
   "cell_type": "code",
   "execution_count": 133,
   "id": "e4b91ffd-e7b7-4a56-af3e-e8c938bd3ed6",
   "metadata": {},
   "outputs": [
    {
     "data": {
      "text/plain": [
       "(1, 3, 4.9, 'name', 3)"
      ]
     },
     "execution_count": 133,
     "metadata": {},
     "output_type": "execute_result"
    }
   ],
   "source": [
    "T"
   ]
  },
  {
   "cell_type": "code",
   "execution_count": 134,
   "id": "afad7b8a-cfee-49d6-aa45-261892e7ae4a",
   "metadata": {},
   "outputs": [
    {
     "data": {
      "text/plain": [
       "(1, 3, 4.9, 'name', 3, 9, 'Apple', 5.5)"
      ]
     },
     "execution_count": 134,
     "metadata": {},
     "output_type": "execute_result"
    }
   ],
   "source": [
    "T2 = (9,\"Apple\",5.5)\n",
    "T3 = T + T2\n",
    "T3"
   ]
  },
  {
   "cell_type": "code",
   "execution_count": 135,
   "id": "2e43e794-8963-4c86-81c4-a449d3a98b96",
   "metadata": {},
   "outputs": [
    {
     "data": {
      "text/plain": [
       "{1, 3, 4.9, 'name'}"
      ]
     },
     "execution_count": 135,
     "metadata": {},
     "output_type": "execute_result"
    }
   ],
   "source": [
    "S"
   ]
  },
  {
   "cell_type": "code",
   "execution_count": 136,
   "id": "0c31360f-0bda-4577-8e30-ac6d910749b0",
   "metadata": {},
   "outputs": [],
   "source": [
    "S.add(56)"
   ]
  },
  {
   "cell_type": "code",
   "execution_count": 137,
   "id": "c45d1344-b44c-4f10-a5d4-01e54ced7876",
   "metadata": {},
   "outputs": [
    {
     "data": {
      "text/plain": [
       "{1, 3, 4.9, 56, 'name'}"
      ]
     },
     "execution_count": 137,
     "metadata": {},
     "output_type": "execute_result"
    }
   ],
   "source": [
    "S"
   ]
  },
  {
   "cell_type": "code",
   "execution_count": 138,
   "id": "829229ec-cd14-4cb2-8354-105b45954753",
   "metadata": {},
   "outputs": [],
   "source": [
    "S.update({\"Game\",100})"
   ]
  },
  {
   "cell_type": "code",
   "execution_count": 139,
   "id": "9bb87e46-7105-422c-b181-0e03e0876a0f",
   "metadata": {},
   "outputs": [
    {
     "data": {
      "text/plain": [
       "{1, 100, 3, 4.9, 56, 'Game', 'name'}"
      ]
     },
     "execution_count": 139,
     "metadata": {},
     "output_type": "execute_result"
    }
   ],
   "source": [
    "S"
   ]
  },
  {
   "cell_type": "code",
   "execution_count": 140,
   "id": "4b60f124-df04-4a4f-81dc-857a4b70ef15",
   "metadata": {},
   "outputs": [
    {
     "data": {
      "text/plain": [
       "{23: 'Twothree', 'B': 43, 'C': 'CCD'}"
      ]
     },
     "execution_count": 140,
     "metadata": {},
     "output_type": "execute_result"
    }
   ],
   "source": [
    "D"
   ]
  },
  {
   "cell_type": "code",
   "execution_count": 141,
   "id": "965bc102-0684-4421-9f01-0e1bd1a9f490",
   "metadata": {},
   "outputs": [],
   "source": [
    "D['NewKey'] = 'New Value'"
   ]
  },
  {
   "cell_type": "code",
   "execution_count": 142,
   "id": "5d5d0370-42e2-4d05-988a-f02cf2f2d95e",
   "metadata": {},
   "outputs": [
    {
     "data": {
      "text/plain": [
       "{23: 'Twothree', 'B': 43, 'C': 'CCD', 'NewKey': 'New Value'}"
      ]
     },
     "execution_count": 142,
     "metadata": {},
     "output_type": "execute_result"
    }
   ],
   "source": [
    "D"
   ]
  },
  {
   "cell_type": "code",
   "execution_count": 143,
   "id": "7042518e-ed3c-474b-af37-b2c6be9049d9",
   "metadata": {},
   "outputs": [],
   "source": [
    "D2 ={\"y\":\"YY\",\"z\":10}"
   ]
  },
  {
   "cell_type": "code",
   "execution_count": 144,
   "id": "6fa34142-5845-475a-beda-c3eb93fb7f71",
   "metadata": {},
   "outputs": [
    {
     "data": {
      "text/plain": [
       "{'y': 'YY', 'z': 10}"
      ]
     },
     "execution_count": 144,
     "metadata": {},
     "output_type": "execute_result"
    }
   ],
   "source": [
    "D2"
   ]
  },
  {
   "cell_type": "code",
   "execution_count": 145,
   "id": "5ce8a216-76fe-44bd-b380-ef961f5cabec",
   "metadata": {},
   "outputs": [
    {
     "ename": "TypeError",
     "evalue": "unsupported operand type(s) for +: 'dict' and 'dict'",
     "output_type": "error",
     "traceback": [
      "\u001b[1;31m---------------------------------------------------------------------------\u001b[0m",
      "\u001b[1;31mTypeError\u001b[0m                                 Traceback (most recent call last)",
      "Cell \u001b[1;32mIn[145], line 1\u001b[0m\n\u001b[1;32m----> 1\u001b[0m D3 \u001b[38;5;241m=\u001b[39m \u001b[43mD\u001b[49m\u001b[43m \u001b[49m\u001b[38;5;241;43m+\u001b[39;49m\u001b[43m \u001b[49m\u001b[43mD2\u001b[49m\n",
      "\u001b[1;31mTypeError\u001b[0m: unsupported operand type(s) for +: 'dict' and 'dict'"
     ]
    }
   ],
   "source": [
    "D3 = D + D2"
   ]
  },
  {
   "cell_type": "markdown",
   "id": "8eee32eb-2d85-409b-9b76-878b61aef0e0",
   "metadata": {},
   "source": [
    "- removing elements from the list"
   ]
  },
  {
   "cell_type": "code",
   "execution_count": 171,
   "id": "66710af0-8f31-4083-8751-2f743b98c6f5",
   "metadata": {},
   "outputs": [],
   "source": [
    "L.append(\"Fruits\")"
   ]
  },
  {
   "cell_type": "code",
   "execution_count": 172,
   "id": "bab21b6b-7e85-4f5a-bfaa-76da5928cd39",
   "metadata": {},
   "outputs": [
    {
     "data": {
      "text/plain": [
       "[1, 3, 4.9, 'name', 3, 'Game', 'Fruits', 'Fruits']"
      ]
     },
     "execution_count": 172,
     "metadata": {},
     "output_type": "execute_result"
    }
   ],
   "source": [
    "L"
   ]
  },
  {
   "cell_type": "code",
   "execution_count": 174,
   "id": "198dd884-cf6a-4a78-be3a-3ec4303e55c8",
   "metadata": {},
   "outputs": [],
   "source": [
    "del L[6]\n",
    "# Used to delete items from the list"
   ]
  },
  {
   "cell_type": "code",
   "execution_count": 175,
   "id": "909c631f-e6ca-4dd0-8540-f454eeb291d5",
   "metadata": {},
   "outputs": [
    {
     "data": {
      "text/plain": [
       "[1, 3, 4.9, 'name', 3, 'Game', 'Fruits']"
      ]
     },
     "execution_count": 175,
     "metadata": {},
     "output_type": "execute_result"
    }
   ],
   "source": [
    "L"
   ]
  },
  {
   "cell_type": "code",
   "execution_count": 177,
   "id": "e59624c2-3a60-4dc2-aa30-76f7cdff5ac9",
   "metadata": {},
   "outputs": [],
   "source": [
    "# We cannot delete items from the tuple instead del \n",
    "# is used to delete the tuple completely"
   ]
  },
  {
   "cell_type": "code",
   "execution_count": 180,
   "id": "9a1b8be9-4060-44c8-a571-5832029c15b4",
   "metadata": {},
   "outputs": [
    {
     "data": {
      "text/plain": [
       "(1, 3, 4.9, 'name', 3)"
      ]
     },
     "execution_count": 180,
     "metadata": {},
     "output_type": "execute_result"
    }
   ],
   "source": [
    "T"
   ]
  },
  {
   "cell_type": "code",
   "execution_count": 181,
   "id": "b3686424-9170-4b53-a484-84cd9af9ebc2",
   "metadata": {},
   "outputs": [
    {
     "data": {
      "text/plain": [
       "(9, 'Apple', 5.5)"
      ]
     },
     "execution_count": 181,
     "metadata": {},
     "output_type": "execute_result"
    }
   ],
   "source": [
    "T2"
   ]
  },
  {
   "cell_type": "code",
   "execution_count": 182,
   "id": "f5e9d009-f350-4534-9dfc-bc38612d2234",
   "metadata": {},
   "outputs": [
    {
     "data": {
      "text/plain": [
       "(1, 3, 4.9, 'name', 3, 9, 'Apple', 5.5)"
      ]
     },
     "execution_count": 182,
     "metadata": {},
     "output_type": "execute_result"
    }
   ],
   "source": [
    "T3"
   ]
  },
  {
   "cell_type": "code",
   "execution_count": 184,
   "id": "a0c78a2c-4086-4c86-9628-0b9bee3201dd",
   "metadata": {},
   "outputs": [],
   "source": [
    "T4 = (1,2,3,4,5)"
   ]
  },
  {
   "cell_type": "code",
   "execution_count": 185,
   "id": "d0bf5b9d-5faa-4b6e-a495-61e938bf5e91",
   "metadata": {},
   "outputs": [
    {
     "data": {
      "text/plain": [
       "(1, 2, 3, 4, 5)"
      ]
     },
     "execution_count": 185,
     "metadata": {},
     "output_type": "execute_result"
    }
   ],
   "source": [
    "T4"
   ]
  },
  {
   "cell_type": "code",
   "execution_count": 186,
   "id": "76020915-f2cd-47d1-ab39-2ac617295eef",
   "metadata": {},
   "outputs": [],
   "source": [
    "del T4"
   ]
  },
  {
   "cell_type": "code",
   "execution_count": 187,
   "id": "6af5ded7-fc4d-495d-95d1-93e45dfbde7d",
   "metadata": {},
   "outputs": [
    {
     "ename": "NameError",
     "evalue": "name 'T4' is not defined",
     "output_type": "error",
     "traceback": [
      "\u001b[1;31m---------------------------------------------------------------------------\u001b[0m",
      "\u001b[1;31mNameError\u001b[0m                                 Traceback (most recent call last)",
      "Cell \u001b[1;32mIn[187], line 1\u001b[0m\n\u001b[1;32m----> 1\u001b[0m \u001b[43mT4\u001b[49m\n",
      "\u001b[1;31mNameError\u001b[0m: name 'T4' is not defined"
     ]
    }
   ],
   "source": [
    "T4"
   ]
  },
  {
   "cell_type": "code",
   "execution_count": 188,
   "id": "aabd1b25-cc5e-49aa-b231-082b1aabb0ff",
   "metadata": {},
   "outputs": [
    {
     "data": {
      "text/plain": [
       "{1, 100, 3, 4.9, 56, 'Game', 'name'}"
      ]
     },
     "execution_count": 188,
     "metadata": {},
     "output_type": "execute_result"
    }
   ],
   "source": [
    "S"
   ]
  },
  {
   "cell_type": "code",
   "execution_count": 189,
   "id": "aeedd385-2680-4d1b-9322-4fc340473f0b",
   "metadata": {},
   "outputs": [],
   "source": [
    "S.remove('Game')"
   ]
  },
  {
   "cell_type": "code",
   "execution_count": 190,
   "id": "6c07a3a2-894e-488a-a84f-9623fe89d0f6",
   "metadata": {},
   "outputs": [
    {
     "data": {
      "text/plain": [
       "{1, 100, 3, 4.9, 56, 'name'}"
      ]
     },
     "execution_count": 190,
     "metadata": {},
     "output_type": "execute_result"
    }
   ],
   "source": [
    "S"
   ]
  },
  {
   "cell_type": "code",
   "execution_count": 191,
   "id": "97602384-a240-4238-8fe5-906376621c80",
   "metadata": {},
   "outputs": [
    {
     "data": {
      "text/plain": [
       "{23: 'Twothree', 'B': 43, 'C': 'CCD', 'NewKey': 'New Value'}"
      ]
     },
     "execution_count": 191,
     "metadata": {},
     "output_type": "execute_result"
    }
   ],
   "source": [
    "D"
   ]
  },
  {
   "cell_type": "code",
   "execution_count": 192,
   "id": "08d5b9b4-e5e0-4aa0-a9e2-5e8c730c937d",
   "metadata": {},
   "outputs": [],
   "source": [
    "del D[\"C\"]"
   ]
  },
  {
   "cell_type": "code",
   "execution_count": 193,
   "id": "016866fe-54f6-4370-92e1-d41a914638cb",
   "metadata": {},
   "outputs": [
    {
     "data": {
      "text/plain": [
       "{23: 'Twothree', 'B': 43, 'NewKey': 'New Value'}"
      ]
     },
     "execution_count": 193,
     "metadata": {},
     "output_type": "execute_result"
    }
   ],
   "source": [
    "D"
   ]
  },
  {
   "cell_type": "code",
   "execution_count": 199,
   "id": "47e636e4-10ef-4d32-afb0-24348d8e3f52",
   "metadata": {},
   "outputs": [],
   "source": [
    "D.update(D2)"
   ]
  },
  {
   "cell_type": "code",
   "execution_count": 200,
   "id": "de9a17d5-07bf-4ffa-a7fb-f478586c4ecd",
   "metadata": {},
   "outputs": [
    {
     "data": {
      "text/plain": [
       "{23: 'Twothree', 'B': 43, 'NewKey': 'New Value', 'y': 'YY', 'z': 10}"
      ]
     },
     "execution_count": 200,
     "metadata": {},
     "output_type": "execute_result"
    }
   ],
   "source": [
    "D"
   ]
  },
  {
   "cell_type": "code",
   "execution_count": 203,
   "id": "2d12a178-9023-4561-ae9d-39fa4776f12c",
   "metadata": {},
   "outputs": [],
   "source": [
    "L2 = L"
   ]
  },
  {
   "cell_type": "code",
   "execution_count": 204,
   "id": "b6e87e8b-a177-4b0d-ba78-328446a8dfb9",
   "metadata": {},
   "outputs": [
    {
     "data": {
      "text/plain": [
       "[1, 3, 4.9, 'name', 3, 'Game', 'Fruits']"
      ]
     },
     "execution_count": 204,
     "metadata": {},
     "output_type": "execute_result"
    }
   ],
   "source": [
    "L2"
   ]
  },
  {
   "cell_type": "code",
   "execution_count": 205,
   "id": "0c7db0b9-9b2b-4219-bfb7-1acb71c97f05",
   "metadata": {},
   "outputs": [],
   "source": [
    "del L[2]"
   ]
  },
  {
   "cell_type": "code",
   "execution_count": 209,
   "id": "9a5b7f52-10cb-4a35-823c-ed62bd92119f",
   "metadata": {},
   "outputs": [
    {
     "data": {
      "text/plain": [
       "[1, 3, 'name', 3, 'Game', 'Fruits']"
      ]
     },
     "execution_count": 209,
     "metadata": {},
     "output_type": "execute_result"
    }
   ],
   "source": [
    "L\n",
    "# here L and L2 points to the same memory location"
   ]
  },
  {
   "cell_type": "code",
   "execution_count": 210,
   "id": "8169790f-3375-4b5a-af7d-ba91066e6776",
   "metadata": {},
   "outputs": [
    {
     "data": {
      "text/plain": [
       "[1, 3, 'name', 3, 'Game', 'Fruits']"
      ]
     },
     "execution_count": 210,
     "metadata": {},
     "output_type": "execute_result"
    }
   ],
   "source": [
    "L2"
   ]
  },
  {
   "cell_type": "code",
   "execution_count": 215,
   "id": "f7b00f28-576f-4dda-a9a4-004f3055af55",
   "metadata": {},
   "outputs": [],
   "source": [
    "L2[3] = \"Three\""
   ]
  },
  {
   "cell_type": "code",
   "execution_count": 219,
   "id": "0780cfb2-e366-4a46-a6de-3b67b2f0be7a",
   "metadata": {},
   "outputs": [
    {
     "data": {
      "text/plain": [
       "[1, 3, 'name', 'Three', 'Game', 'Fruits']"
      ]
     },
     "execution_count": 219,
     "metadata": {},
     "output_type": "execute_result"
    }
   ],
   "source": [
    "L\n",
    "# Here we modified the third element in L2 but it also modified in L"
   ]
  },
  {
   "cell_type": "code",
   "execution_count": 220,
   "id": "5cc5634e-4d15-4139-8b1e-58bec23b92b9",
   "metadata": {},
   "outputs": [
    {
     "data": {
      "text/plain": [
       "[1, 3, 'name', 'Three', 'Game', 'Fruits']"
      ]
     },
     "execution_count": 220,
     "metadata": {},
     "output_type": "execute_result"
    }
   ],
   "source": [
    "L2"
   ]
  },
  {
   "cell_type": "markdown",
   "id": "239874a7-0c1d-4552-8e62-2632a00de8d4",
   "metadata": {},
   "source": [
    "- If we don't want to affect L but modify L2 then we need to use copy function"
   ]
  },
  {
   "cell_type": "code",
   "execution_count": 221,
   "id": "b6fae684-078f-4650-8b5b-5ed6166839f6",
   "metadata": {},
   "outputs": [],
   "source": [
    "L2 = L.copy()"
   ]
  },
  {
   "cell_type": "code",
   "execution_count": 222,
   "id": "6508f160-786d-41f2-9890-2da12626aeb8",
   "metadata": {},
   "outputs": [
    {
     "data": {
      "text/plain": [
       "[1, 3, 'name', 'Three', 'Game', 'Fruits']"
      ]
     },
     "execution_count": 222,
     "metadata": {},
     "output_type": "execute_result"
    }
   ],
   "source": [
    "L2"
   ]
  },
  {
   "cell_type": "code",
   "execution_count": 223,
   "id": "9af188b7-3ff8-4088-a858-eea53a0b6756",
   "metadata": {},
   "outputs": [
    {
     "data": {
      "text/plain": [
       "[1, 3, 'name', 'Three', 'Game', 'Fruits']"
      ]
     },
     "execution_count": 223,
     "metadata": {},
     "output_type": "execute_result"
    }
   ],
   "source": [
    "L"
   ]
  },
  {
   "cell_type": "code",
   "execution_count": 229,
   "id": "216eb412-b833-4a3f-8f8c-62e72650b50e",
   "metadata": {},
   "outputs": [],
   "source": [
    "L2[3] = 3"
   ]
  },
  {
   "cell_type": "code",
   "execution_count": 230,
   "id": "06202325-5fa6-4ce5-8b46-9323d0085f1c",
   "metadata": {},
   "outputs": [
    {
     "data": {
      "text/plain": [
       "[1, 3, 'name', 3, 'Game', 'Fruits']"
      ]
     },
     "execution_count": 230,
     "metadata": {},
     "output_type": "execute_result"
    }
   ],
   "source": [
    "L2\n",
    "# here the third element is changed"
   ]
  },
  {
   "cell_type": "code",
   "execution_count": 231,
   "id": "382c4dac-7961-4ad6-aa6f-af6451b15dea",
   "metadata": {},
   "outputs": [
    {
     "data": {
      "text/plain": [
       "[1, 3, 'name', 'Three', 'Game', 'Fruits']"
      ]
     },
     "execution_count": 231,
     "metadata": {},
     "output_type": "execute_result"
    }
   ],
   "source": [
    "L\n",
    "# here the third element is not changed it remains the same"
   ]
  },
  {
   "cell_type": "code",
   "execution_count": 232,
   "id": "03f5243a-3a43-40a1-896a-c6c217706715",
   "metadata": {},
   "outputs": [
    {
     "name": "stdout",
     "output_type": "stream",
     "text": [
      "Help on built-in function append:\n",
      "\n",
      "append(object, /) method of builtins.list instance\n",
      "    Append object to the end of the list.\n",
      "\n"
     ]
    }
   ],
   "source": [
    "help(L.append)"
   ]
  },
  {
   "cell_type": "code",
   "execution_count": 233,
   "id": "717ff1f9-2431-42ee-9f0b-385ca0a29254",
   "metadata": {},
   "outputs": [
    {
     "name": "stdout",
     "output_type": "stream",
     "text": [
      "Help on built-in function clear:\n",
      "\n",
      "clear() method of builtins.list instance\n",
      "    Remove all items from list.\n",
      "\n"
     ]
    }
   ],
   "source": [
    "help(L.clear)"
   ]
  },
  {
   "cell_type": "code",
   "execution_count": 234,
   "id": "a70a471a-b875-4a78-88d7-77447185bfaa",
   "metadata": {},
   "outputs": [
    {
     "name": "stdout",
     "output_type": "stream",
     "text": [
      "Help on built-in function count:\n",
      "\n",
      "count(value, /) method of builtins.list instance\n",
      "    Return number of occurrences of value.\n",
      "\n"
     ]
    }
   ],
   "source": [
    "help(L.count)"
   ]
  },
  {
   "cell_type": "code",
   "execution_count": 237,
   "id": "ec1aa89f-73db-42d9-b917-407a4c496046",
   "metadata": {},
   "outputs": [
    {
     "name": "stdout",
     "output_type": "stream",
     "text": [
      "Help on built-in function extend:\n",
      "\n",
      "extend(iterable, /) method of builtins.list instance\n",
      "    Extend list by appending elements from the iterable.\n",
      "\n"
     ]
    }
   ],
   "source": [
    "help(L.extend)"
   ]
  },
  {
   "cell_type": "code",
   "execution_count": 238,
   "id": "58d8f057-812e-4117-a7b8-7bb403fa9a6c",
   "metadata": {},
   "outputs": [
    {
     "name": "stdout",
     "output_type": "stream",
     "text": [
      "Help on built-in function index:\n",
      "\n",
      "index(value, start=0, stop=9223372036854775807, /) method of builtins.list instance\n",
      "    Return first index of value.\n",
      "\n",
      "    Raises ValueError if the value is not present.\n",
      "\n"
     ]
    }
   ],
   "source": [
    "help(L.index)"
   ]
  },
  {
   "cell_type": "code",
   "execution_count": 239,
   "id": "58583292-e82b-402e-9c28-0922b92286eb",
   "metadata": {},
   "outputs": [
    {
     "name": "stdout",
     "output_type": "stream",
     "text": [
      "Help on built-in function insert:\n",
      "\n",
      "insert(index, object, /) method of builtins.list instance\n",
      "    Insert object before index.\n",
      "\n"
     ]
    }
   ],
   "source": [
    "help(L.insert)"
   ]
  },
  {
   "cell_type": "code",
   "execution_count": 240,
   "id": "746f0ec3-384c-4bde-a01b-4beae08f4261",
   "metadata": {},
   "outputs": [
    {
     "name": "stdout",
     "output_type": "stream",
     "text": [
      "Help on built-in function pop:\n",
      "\n",
      "pop(index=-1, /) method of builtins.list instance\n",
      "    Remove and return item at index (default last).\n",
      "\n",
      "    Raises IndexError if list is empty or index is out of range.\n",
      "\n"
     ]
    }
   ],
   "source": [
    "help(L.pop)"
   ]
  },
  {
   "cell_type": "code",
   "execution_count": 241,
   "id": "fa06b718-2ace-43e4-ba30-46e7f11675f8",
   "metadata": {},
   "outputs": [
    {
     "name": "stdout",
     "output_type": "stream",
     "text": [
      "Help on built-in function remove:\n",
      "\n",
      "remove(value, /) method of builtins.list instance\n",
      "    Remove first occurrence of value.\n",
      "\n",
      "    Raises ValueError if the value is not present.\n",
      "\n"
     ]
    }
   ],
   "source": [
    "help(L.remove)"
   ]
  },
  {
   "cell_type": "code",
   "execution_count": 242,
   "id": "05b03ae2-d985-40f6-afc7-5197e4981168",
   "metadata": {},
   "outputs": [
    {
     "name": "stdout",
     "output_type": "stream",
     "text": [
      "Help on built-in function reverse:\n",
      "\n",
      "reverse() method of builtins.list instance\n",
      "    Reverse *IN PLACE*.\n",
      "\n"
     ]
    }
   ],
   "source": [
    "help(L.reverse)"
   ]
  },
  {
   "cell_type": "code",
   "execution_count": 243,
   "id": "502ff0b5-60d8-4cf2-aadc-3eeafd4c023c",
   "metadata": {},
   "outputs": [
    {
     "name": "stdout",
     "output_type": "stream",
     "text": [
      "Help on built-in function sort:\n",
      "\n",
      "sort(*, key=None, reverse=False) method of builtins.list instance\n",
      "    Sort the list in ascending order and return None.\n",
      "\n",
      "    The sort is in-place (i.e. the list itself is modified) and stable (i.e. the\n",
      "    order of two equal elements is maintained).\n",
      "\n",
      "    If a key function is given, apply it once to each list item and sort them,\n",
      "    ascending or descending, according to their function values.\n",
      "\n",
      "    The reverse flag can be set to sort in descending order.\n",
      "\n"
     ]
    }
   ],
   "source": [
    "help(L.sort)"
   ]
  },
  {
   "cell_type": "code",
   "execution_count": 255,
   "id": "a99a1144-d886-446f-84a6-e6d8604e2c23",
   "metadata": {},
   "outputs": [],
   "source": [
    "L.reverse()\n",
    "# It reverses the items in the list"
   ]
  },
  {
   "cell_type": "code",
   "execution_count": 256,
   "id": "7481b89d-63c2-45d7-9246-6fd0ce53a50b",
   "metadata": {},
   "outputs": [
    {
     "data": {
      "text/plain": [
       "[1, 3, 'name', 'Three', 'Game', 'Fruits']"
      ]
     },
     "execution_count": 256,
     "metadata": {},
     "output_type": "execute_result"
    }
   ],
   "source": [
    "L"
   ]
  },
  {
   "cell_type": "code",
   "execution_count": 257,
   "id": "95ee6608-67bd-43c6-8628-1bc45349fa37",
   "metadata": {},
   "outputs": [
    {
     "data": {
      "text/plain": [
       "['Fruits', 'Game', 'Three', 'name', 3, 1]"
      ]
     },
     "execution_count": 257,
     "metadata": {},
     "output_type": "execute_result"
    }
   ],
   "source": [
    "L[::-1]"
   ]
  },
  {
   "cell_type": "code",
   "execution_count": 260,
   "id": "48c6157a-0d18-4340-bda3-bcde7a27d8ce",
   "metadata": {},
   "outputs": [],
   "source": [
    "D3 = {\"A\":L,\"B\":T,\"C\":S,\"D\":D}"
   ]
  },
  {
   "cell_type": "code",
   "execution_count": 262,
   "id": "7e7d71ee-c983-4225-bb3a-d23ca79b6c23",
   "metadata": {},
   "outputs": [
    {
     "data": {
      "text/plain": [
       "{'A': [1, 3, 'name', 'Three', 'Game', 'Fruits'],\n",
       " 'B': (1, 3, 4.9, 'name', 3),\n",
       " 'C': {1, 100, 3, 4.9, 56, 'name'},\n",
       " 'D': {23: 'Twothree', 'B': 43, 'NewKey': 'New Value', 'y': 'YY', 'z': 10}}"
      ]
     },
     "execution_count": 262,
     "metadata": {},
     "output_type": "execute_result"
    }
   ],
   "source": [
    "D3"
   ]
  },
  {
   "cell_type": "code",
   "execution_count": 263,
   "id": "7026785b-a0e4-4f61-bc03-b3e7d7c45608",
   "metadata": {},
   "outputs": [
    {
     "data": {
      "text/plain": [
       "[1, 3, 'name', 'Three', 'Game', 'Fruits']"
      ]
     },
     "execution_count": 263,
     "metadata": {},
     "output_type": "execute_result"
    }
   ],
   "source": [
    "D3[\"A\"]"
   ]
  },
  {
   "cell_type": "code",
   "execution_count": 264,
   "id": "1bf5208f-0af3-4d82-bbc0-8519b6e7155f",
   "metadata": {},
   "outputs": [
    {
     "data": {
      "text/plain": [
       "'Three'"
      ]
     },
     "execution_count": 264,
     "metadata": {},
     "output_type": "execute_result"
    }
   ],
   "source": [
    "D3[\"A\"][3]"
   ]
  },
  {
   "cell_type": "code",
   "execution_count": 266,
   "id": "f0315848-125f-4d2e-ab0f-e1908319abe3",
   "metadata": {},
   "outputs": [],
   "source": [
    "K = D3[\"D\"]"
   ]
  },
  {
   "cell_type": "code",
   "execution_count": 269,
   "id": "ef27a2b2-4d46-429f-b5f7-7addf5c3ae8c",
   "metadata": {},
   "outputs": [
    {
     "name": "stdout",
     "output_type": "stream",
     "text": [
      "23 Twothree\n",
      "B 43\n",
      "NewKey New Value\n",
      "y YY\n",
      "z 10\n"
     ]
    }
   ],
   "source": [
    "for x in K:\n",
    "    print(x,K[x])"
   ]
  },
  {
   "cell_type": "code",
   "execution_count": 270,
   "id": "b7fbbaac-3cc2-4acf-99b1-c4c344e967b9",
   "metadata": {},
   "outputs": [],
   "source": [
    "sqrs = [x**2 for x in range(10)]"
   ]
  },
  {
   "cell_type": "code",
   "execution_count": 271,
   "id": "7df715a9-fda9-4f8d-b9fa-3a14d119d823",
   "metadata": {},
   "outputs": [
    {
     "data": {
      "text/plain": [
       "[0, 1, 4, 9, 16, 25, 36, 49, 64, 81]"
      ]
     },
     "execution_count": 271,
     "metadata": {},
     "output_type": "execute_result"
    }
   ],
   "source": [
    "sqrs"
   ]
  },
  {
   "cell_type": "code",
   "execution_count": 275,
   "id": "89323e4a-e985-4922-b933-1954937d1b63",
   "metadata": {},
   "outputs": [],
   "source": [
    "S3 = [x**2 for x in range(2,20,3)]\n",
    "# it will take these numbers 5,8,11,14,17 and it will not consider 20"
   ]
  },
  {
   "cell_type": "code",
   "execution_count": 276,
   "id": "8d115d86-0635-480a-9988-69935a2b7b45",
   "metadata": {},
   "outputs": [
    {
     "data": {
      "text/plain": [
       "[4, 25, 64, 121, 196, 289]"
      ]
     },
     "execution_count": 276,
     "metadata": {},
     "output_type": "execute_result"
    }
   ],
   "source": [
    "S3"
   ]
  },
  {
   "cell_type": "markdown",
   "id": "fde4c0fd-e86c-40b4-9244-10d5d9fc0d97",
   "metadata": {},
   "source": [
    "# Practice"
   ]
  },
  {
   "cell_type": "markdown",
   "id": "a3e9e81c-23a2-4c91-997f-6b4b13d90840",
   "metadata": {},
   "source": [
    "- Let say you are a teacher and you have different student\n",
    "records containing id of a student and the marks list in each subject\n",
    "where different students have taken different number of subjects. All\n",
    "these records are in hard copy. You want to enter all the data in computer\n",
    "and want to compute the average marks of each student and display"
   ]
  },
  {
   "cell_type": "code",
   "execution_count": 283,
   "id": "73bd4102-6943-470d-96ef-20c5f2507498",
   "metadata": {},
   "outputs": [],
   "source": [
    "def getDataFromUser():\n",
    "    D = {}\n",
    "    while True :\n",
    "        studentId = input(\"Enter student ID\")\n",
    "        marksList = input(\"Enter the marks by comma seperated values: \")\n",
    "        moreStudents = input('Enter \"no\" to quit insertion: ')\n",
    "        if studentId in D :\n",
    "            print(studentId, \"is already inserted\")\n",
    "        else :\n",
    "            D[studentId] = marksList.split(\",\")\n",
    "        if moreStudents.lower() == \"no\":\n",
    "            return D"
   ]
  },
  {
   "cell_type": "code",
   "execution_count": 284,
   "id": "f0f763b8-97ad-44ec-80fa-36482e93a8ad",
   "metadata": {},
   "outputs": [
    {
     "name": "stdin",
     "output_type": "stream",
     "text": [
      "Enter student ID 12\n",
      "Enter the marks by comma seperated values:  24,65,87\n",
      "Enter \"no\" to quit insertion:  asdfa\n",
      "Enter student ID 45\n",
      "Enter the marks by comma seperated values:  20,30,40\n",
      "Enter \"no\" to quit insertion:  abcd\n",
      "Enter student ID 3\n",
      "Enter the marks by comma seperated values:  30,40,50\n",
      "Enter \"no\" to quit insertion:  xyz\n",
      "Enter student ID 14\n",
      "Enter the marks by comma seperated values:  12,45,78\n",
      "Enter \"no\" to quit insertion:  pqr\n",
      "Enter student ID 10\n",
      "Enter the marks by comma seperated values:  11,15,59,95\n",
      "Enter \"no\" to quit insertion:  no\n"
     ]
    }
   ],
   "source": [
    "studentData = getDataFromUser()"
   ]
  },
  {
   "cell_type": "code",
   "execution_count": 285,
   "id": "06e7d744-76c6-43b5-9a63-717b93a91cc2",
   "metadata": {},
   "outputs": [
    {
     "data": {
      "text/plain": [
       "{'12': ['24', '65', '87'],\n",
       " '45': ['20', '30', '40'],\n",
       " '3': ['30', '40', '50'],\n",
       " '14': ['12', '45', '78'],\n",
       " '10': ['11', '15', '59', '95']}"
      ]
     },
     "execution_count": 285,
     "metadata": {},
     "output_type": "execute_result"
    }
   ],
   "source": [
    "studentData"
   ]
  },
  {
   "cell_type": "code",
   "execution_count": 299,
   "id": "3e0d078a-7c51-42fc-872d-91d80c7a00c4",
   "metadata": {},
   "outputs": [],
   "source": [
    "def getAvgMarks(D):\n",
    "    avgMarksDict = {}\n",
    "    for x in D :\n",
    "        L = D[x]\n",
    "        s = 0\n",
    "        for marks in L:\n",
    "            s += int(marks)\n",
    "        avgMarksDict[x] = s/len(L)\n",
    "    return avgMarksDict"
   ]
  },
  {
   "cell_type": "code",
   "execution_count": 300,
   "id": "e5157459-8e70-44a0-a827-077752fd803e",
   "metadata": {},
   "outputs": [],
   "source": [
    "avgMarks = getAvgMarks(studentData)"
   ]
  },
  {
   "cell_type": "code",
   "execution_count": 302,
   "id": "118c7f8b-d870-4c09-86e1-73294d95bdbc",
   "metadata": {},
   "outputs": [
    {
     "name": "stdout",
     "output_type": "stream",
     "text": [
      "Student : 12 got avg Marks as:  58.666666666666664\n",
      "Student : 45 got avg Marks as:  30.0\n",
      "Student : 3 got avg Marks as:  40.0\n",
      "Student : 14 got avg Marks as:  45.0\n",
      "Student : 10 got avg Marks as:  45.0\n"
     ]
    }
   ],
   "source": [
    "for x in avgMarks:\n",
    "    print(\"Student :\",x,\"got avg Marks as: \",avgMarks[x])"
   ]
  },
  {
   "cell_type": "markdown",
   "id": "20ff2530-6d8b-4cdf-adef-5e6479cb8169",
   "metadata": {},
   "source": [
    "# Data Science Libraries"
   ]
  },
  {
   "cell_type": "markdown",
   "id": "6bb9458c-d186-4f11-a1d5-62652902465a",
   "metadata": {},
   "source": [
    "- Numpy - Numerical Python\n",
    "- It is much much faster than list\n",
    "- NumPy: A popular library in Python for numerical computations, providing support for large, multi-dimensional arrays and matrices, along with a collection of mathematical functions to operate on these arrays.\n",
    "- ndim: This attribute of a NumPy array returns the number of dimensions (axes) of the array.\n",
    "- shape: This attribute provides the dimensions of the array in the form of a tuple, where each element represents the size of the array along that dimension."
   ]
  },
  {
   "cell_type": "code",
   "execution_count": 2,
   "id": "e8775de4-ed8e-4f58-a2cb-562c7373ad21",
   "metadata": {},
   "outputs": [],
   "source": [
    "import numpy as np"
   ]
  },
  {
   "cell_type": "code",
   "execution_count": 13,
   "id": "3621c3ec-e3e7-4381-bfbd-597009c29da9",
   "metadata": {},
   "outputs": [],
   "source": [
    "a = np.array([1,2,3,4,5],dtype='i')"
   ]
  },
  {
   "cell_type": "code",
   "execution_count": 14,
   "id": "863c3ae2-dcd1-41bb-be94-6c10d0adb9dd",
   "metadata": {},
   "outputs": [],
   "source": [
    "b = np.array((1,3,5,7,9),dtype='f')"
   ]
  },
  {
   "cell_type": "code",
   "execution_count": 15,
   "id": "69341150-e594-46dd-b60f-eac965f754d5",
   "metadata": {},
   "outputs": [
    {
     "name": "stdout",
     "output_type": "stream",
     "text": [
      "[1 2 3 4 5]\n"
     ]
    },
    {
     "data": {
      "text/plain": [
       "numpy.ndarray"
      ]
     },
     "execution_count": 15,
     "metadata": {},
     "output_type": "execute_result"
    }
   ],
   "source": [
    "print(a)\n",
    "type(a)\n",
    "# now this is not array it is a n dimensional array"
   ]
  },
  {
   "cell_type": "code",
   "execution_count": 16,
   "id": "c83184df-ecdd-4cca-874b-3a293aaf1e4e",
   "metadata": {},
   "outputs": [
    {
     "name": "stdout",
     "output_type": "stream",
     "text": [
      "[1. 3. 5. 7. 9.]\n"
     ]
    },
    {
     "data": {
      "text/plain": [
       "numpy.ndarray"
      ]
     },
     "execution_count": 16,
     "metadata": {},
     "output_type": "execute_result"
    }
   ],
   "source": [
    "print(b)\n",
    "type(b)"
   ]
  },
  {
   "cell_type": "code",
   "execution_count": 18,
   "id": "975945de-a170-4912-b938-5e9cf8058fe2",
   "metadata": {},
   "outputs": [
    {
     "data": {
      "text/plain": [
       "dtype('int32')"
      ]
     },
     "execution_count": 18,
     "metadata": {},
     "output_type": "execute_result"
    }
   ],
   "source": [
    "a.dtype"
   ]
  },
  {
   "cell_type": "code",
   "execution_count": 19,
   "id": "4b738b91-a97b-42c4-8b5a-36e069f91dc6",
   "metadata": {},
   "outputs": [
    {
     "data": {
      "text/plain": [
       "dtype('float32')"
      ]
     },
     "execution_count": 19,
     "metadata": {},
     "output_type": "execute_result"
    }
   ],
   "source": [
    "b.dtype"
   ]
  },
  {
   "cell_type": "markdown",
   "id": "61ac23e7-42f4-4087-b705-93e881e4ac42",
   "metadata": {},
   "source": [
    "- The total number of indicies that are required to access an element in an array is called dimension of the array."
   ]
  },
  {
   "cell_type": "code",
   "execution_count": 86,
   "id": "6edd0766-a30c-4af1-9b8c-6d821a389e52",
   "metadata": {},
   "outputs": [
    {
     "name": "stdout",
     "output_type": "stream",
     "text": [
      "2\n"
     ]
    }
   ],
   "source": [
    "a = np.array([[1,2,3],[4,5,6]])\n",
    "print(a.ndim)"
   ]
  },
  {
   "cell_type": "code",
   "execution_count": 99,
   "id": "60fadbcf-7c20-4a70-adf1-3dc6146d5283",
   "metadata": {},
   "outputs": [
    {
     "data": {
      "text/plain": [
       "(2, 3)"
      ]
     },
     "execution_count": 99,
     "metadata": {},
     "output_type": "execute_result"
    }
   ],
   "source": [
    "a.shape[0],a.shape[1]\n",
    "# [[1,2,3],\n",
    "# [4,5,6]]"
   ]
  },
  {
   "cell_type": "code",
   "execution_count": 67,
   "id": "484c2f74-8b5a-4dba-a87d-868e96f0f54f",
   "metadata": {},
   "outputs": [
    {
     "name": "stdout",
     "output_type": "stream",
     "text": [
      "3\n"
     ]
    }
   ],
   "source": [
    "b = np.array([[[1,2,3],[4,5,6]],[[1,2,3],[4,5,6]]])\n",
    "print(b.ndim)\n",
    "# It is visualized as \n",
    "# Block 1:\n",
    "# [[1, 2, 3],\n",
    "#  [4, 5, 6]]\n",
    "\n",
    "# Block 2:\n",
    "# [[1, 2, 3],\n",
    "#  [4, 5, 6]]"
   ]
  },
  {
   "cell_type": "code",
   "execution_count": 70,
   "id": "9d1f2411-27fe-4132-8bda-371dc06b7a29",
   "metadata": {},
   "outputs": [
    {
     "name": "stdout",
     "output_type": "stream",
     "text": [
      "2 2 3\n"
     ]
    }
   ],
   "source": [
    "print(b.shape[0],b.shape[1],b.shape[2])"
   ]
  },
  {
   "cell_type": "markdown",
   "id": "c5590446-13ec-40f1-bb76-706f06171ae4",
   "metadata": {},
   "source": [
    "- b.shape returns (2, 2, 3), which can be unpacked to get the size of each dimension:\n",
    "- b.shape[0] gives 2 (number of blocks),\n",
    "- b.shape[1] gives 2 (number of rows per block),\n",
    "- b.shape[2] gives 3 (number of columns per row)."
   ]
  },
  {
   "cell_type": "code",
   "execution_count": 71,
   "id": "4af4d4dc-51cc-4d50-ba64-f102f633e480",
   "metadata": {},
   "outputs": [
    {
     "name": "stdout",
     "output_type": "stream",
     "text": [
      "3\n"
     ]
    }
   ],
   "source": [
    "print(b[1,0,2])"
   ]
  },
  {
   "cell_type": "code",
   "execution_count": 72,
   "id": "54842b98-c9c5-4eb5-bc7c-91a6367d33b1",
   "metadata": {},
   "outputs": [
    {
     "name": "stdout",
     "output_type": "stream",
     "text": [
      "3\n"
     ]
    }
   ],
   "source": [
    "k = np.array([[[1,2,3],[4,5,6],[7,8,9]],[[-1,-2,-3],[-4,-5,-6],[-7,-8,-9]]])\n",
    "print(k.ndim)"
   ]
  },
  {
   "cell_type": "code",
   "execution_count": 73,
   "id": "ebffc848-35c0-4442-abd0-73f8bda54d58",
   "metadata": {},
   "outputs": [
    {
     "data": {
      "text/plain": [
       "3"
      ]
     },
     "execution_count": 73,
     "metadata": {},
     "output_type": "execute_result"
    }
   ],
   "source": [
    "k.ndim"
   ]
  },
  {
   "cell_type": "code",
   "execution_count": 74,
   "id": "715c63cb-0596-4dfb-a122-94615381de18",
   "metadata": {},
   "outputs": [
    {
     "name": "stdout",
     "output_type": "stream",
     "text": [
      "9\n"
     ]
    }
   ],
   "source": [
    "print(k[0,2,2])"
   ]
  },
  {
   "cell_type": "code",
   "execution_count": 75,
   "id": "40b6ee19-1bb6-43d0-8399-e4a4f3f3215f",
   "metadata": {},
   "outputs": [
    {
     "data": {
      "text/plain": [
       "np.int64(9)"
      ]
     },
     "execution_count": 75,
     "metadata": {},
     "output_type": "execute_result"
    }
   ],
   "source": [
    "k[0,2,2]"
   ]
  },
  {
   "cell_type": "code",
   "execution_count": 76,
   "id": "4d53b041-22fb-4be1-bc89-a4fb539cf677",
   "metadata": {},
   "outputs": [
    {
     "data": {
      "text/plain": [
       "numpy.ndarray"
      ]
     },
     "execution_count": 76,
     "metadata": {},
     "output_type": "execute_result"
    }
   ],
   "source": [
    "type(k)"
   ]
  },
  {
   "cell_type": "code",
   "execution_count": 77,
   "id": "4bd8270e-1b6e-4226-a274-92f6dcb803cc",
   "metadata": {},
   "outputs": [],
   "source": [
    "A = np.array([3])"
   ]
  },
  {
   "cell_type": "code",
   "execution_count": 78,
   "id": "e4293da4-d87b-4739-a5cb-877b9fa333fc",
   "metadata": {},
   "outputs": [
    {
     "data": {
      "text/plain": [
       "1"
      ]
     },
     "execution_count": 78,
     "metadata": {},
     "output_type": "execute_result"
    }
   ],
   "source": [
    "A.ndim"
   ]
  },
  {
   "cell_type": "code",
   "execution_count": 79,
   "id": "85cbed45-3e31-4f27-9018-c0dc149d323b",
   "metadata": {},
   "outputs": [],
   "source": [
    "B = np.array(2)"
   ]
  },
  {
   "cell_type": "code",
   "execution_count": 80,
   "id": "b1ccdc17-2c97-46c4-b309-995acd717b61",
   "metadata": {},
   "outputs": [
    {
     "data": {
      "text/plain": [
       "0"
      ]
     },
     "execution_count": 80,
     "metadata": {},
     "output_type": "execute_result"
    }
   ],
   "source": [
    "B.ndim"
   ]
  },
  {
   "cell_type": "markdown",
   "id": "4c66eb40-bf3a-43d3-a7eb-c0f88d688f8a",
   "metadata": {},
   "source": [
    "- if we concatenate lot of 0d array we get 1d array\n",
    "- if we concatenate lot of 1d array we get 2d array\n",
    "- if we concatenate lot of 2d arrays we get 3d array"
   ]
  },
  {
   "cell_type": "code",
   "execution_count": 101,
   "id": "aeaadedf-a1d4-44d8-85f0-ce36a6359691",
   "metadata": {},
   "outputs": [
    {
     "data": {
      "text/plain": [
       "12"
      ]
     },
     "execution_count": 101,
     "metadata": {},
     "output_type": "execute_result"
    }
   ],
   "source": [
    "b.size\n",
    "# The NumPy size is a function that is used to calculate the total \n",
    "# elements or values for an axis in the given array"
   ]
  },
  {
   "cell_type": "code",
   "execution_count": 100,
   "id": "29faccdb-68f5-4cf5-ac96-b1bf01886487",
   "metadata": {},
   "outputs": [
    {
     "data": {
      "text/plain": [
       "6"
      ]
     },
     "execution_count": 100,
     "metadata": {},
     "output_type": "execute_result"
    }
   ],
   "source": [
    "a.size"
   ]
  },
  {
   "cell_type": "code",
   "execution_count": 103,
   "id": "c891bb60-9dce-4bc8-97d5-21f0bd65f947",
   "metadata": {},
   "outputs": [
    {
     "data": {
      "text/plain": [
       "48"
      ]
     },
     "execution_count": 103,
     "metadata": {},
     "output_type": "execute_result"
    }
   ],
   "source": [
    "a.nbytes\n",
    "# Total bytes consumed by the elements of the array"
   ]
  },
  {
   "cell_type": "code",
   "execution_count": 104,
   "id": "e2cc1060-7d6e-4edc-9c59-01d3f9825f40",
   "metadata": {},
   "outputs": [
    {
     "data": {
      "text/plain": [
       "96"
      ]
     },
     "execution_count": 104,
     "metadata": {},
     "output_type": "execute_result"
    }
   ],
   "source": [
    "b.nbytes"
   ]
  },
  {
   "cell_type": "code",
   "execution_count": 120,
   "id": "ea1ca004-a478-4abf-9e1a-307620af0457",
   "metadata": {},
   "outputs": [],
   "source": [
    "z = np.zeros([])"
   ]
  },
  {
   "cell_type": "code",
   "execution_count": 123,
   "id": "5226304b-b781-4553-9b14-befc97436fa5",
   "metadata": {},
   "outputs": [
    {
     "name": "stdout",
     "output_type": "stream",
     "text": [
      "0.0\n"
     ]
    }
   ],
   "source": [
    "print(z)"
   ]
  },
  {
   "cell_type": "code",
   "execution_count": 149,
   "id": "c97970d0-2b90-4ac1-a47c-324b9efe461c",
   "metadata": {},
   "outputs": [],
   "source": [
    "x = np.arange(100)"
   ]
  },
  {
   "cell_type": "code",
   "execution_count": 150,
   "id": "adf49c7d-5087-4cab-a0ad-3740915761cb",
   "metadata": {},
   "outputs": [
    {
     "name": "stdout",
     "output_type": "stream",
     "text": [
      "[ 0  1  2  3  4  5  6  7  8  9 10 11 12 13 14 15 16 17 18 19 20 21 22 23\n",
      " 24 25 26 27 28 29 30 31 32 33 34 35 36 37 38 39 40 41 42 43 44 45 46 47\n",
      " 48 49 50 51 52 53 54 55 56 57 58 59 60 61 62 63 64 65 66 67 68 69 70 71\n",
      " 72 73 74 75 76 77 78 79 80 81 82 83 84 85 86 87 88 89 90 91 92 93 94 95\n",
      " 96 97 98 99]\n"
     ]
    }
   ],
   "source": [
    "print(x)"
   ]
  },
  {
   "cell_type": "code",
   "execution_count": 151,
   "id": "d2cbe8ce-1ed6-464f-b369-3faf3a48a790",
   "metadata": {},
   "outputs": [
    {
     "name": "stdout",
     "output_type": "stream",
     "text": [
      "[20 21 22 23 24 25 26 27 28 29 30 31 32 33 34 35 36 37 38 39 40 41 42 43\n",
      " 44 45 46 47 48 49 50 51 52 53 54 55 56 57 58 59 60 61 62 63 64 65 66 67\n",
      " 68 69 70 71 72 73 74 75 76 77 78 79 80 81 82 83 84 85 86 87 88 89 90 91\n",
      " 92 93 94 95 96 97 98 99]\n"
     ]
    }
   ],
   "source": [
    "print(np.arange(20,100))"
   ]
  },
  {
   "cell_type": "code",
   "execution_count": 138,
   "id": "9e3c27c6-26db-4400-ade0-e6b9eeb09f64",
   "metadata": {},
   "outputs": [
    {
     "name": "stdout",
     "output_type": "stream",
     "text": [
      "(100,)\n"
     ]
    }
   ],
   "source": [
    "print(np.shape(x))"
   ]
  },
  {
   "cell_type": "code",
   "execution_count": 136,
   "id": "8b0b598d-048c-4fcb-aa3b-92d30cc284b1",
   "metadata": {},
   "outputs": [
    {
     "name": "stdout",
     "output_type": "stream",
     "text": [
      "1\n"
     ]
    }
   ],
   "source": [
    "print(x.ndim)"
   ]
  },
  {
   "cell_type": "code",
   "execution_count": 179,
   "id": "05077fb8-dc2f-49ec-a0c0-699f2d0d136d",
   "metadata": {},
   "outputs": [],
   "source": [
    "r = np.random.permutation(np.arange(10))"
   ]
  },
  {
   "cell_type": "code",
   "execution_count": 180,
   "id": "9962949b-1330-46b1-831c-ec72b4c47961",
   "metadata": {},
   "outputs": [
    {
     "name": "stdout",
     "output_type": "stream",
     "text": [
      "[2 6 0 4 7 5 3 9 1 8]\n"
     ]
    }
   ],
   "source": [
    "print(r)"
   ]
  },
  {
   "cell_type": "markdown",
   "id": "2a8d350f-5bd5-4272-808f-67b00d099448",
   "metadata": {},
   "source": [
    "- Return random integers from `low` (inclusive) to `high` (exclusive)."
   ]
  },
  {
   "cell_type": "code",
   "execution_count": 352,
   "id": "4b9e7034-b4d4-44b5-bab7-811ab69b38e1",
   "metadata": {},
   "outputs": [
    {
     "data": {
      "text/plain": [
       "7"
      ]
     },
     "execution_count": 352,
     "metadata": {},
     "output_type": "execute_result"
    }
   ],
   "source": [
    "np.random.randint(10)"
   ]
  },
  {
   "cell_type": "code",
   "execution_count": 403,
   "id": "093cc60a-dd0c-4cfa-a41c-138e9c3a61d0",
   "metadata": {},
   "outputs": [],
   "source": [
    "A = np.random.rand(1000)"
   ]
  },
  {
   "cell_type": "code",
   "execution_count": 404,
   "id": "c8cdc6a2-4d98-4381-b8ea-70cee0d04654",
   "metadata": {},
   "outputs": [],
   "source": [
    "import matplotlib.pyplot as plt"
   ]
  },
  {
   "cell_type": "code",
   "execution_count": 406,
   "id": "946b8986-5abf-40a7-b1e1-967b5a6df697",
   "metadata": {},
   "outputs": [
    {
     "data": {
      "text/plain": [
       "(array([12., 11.,  8.,  9.,  6., 18., 15., 10., 11., 17.,  4.,  8.,  5.,\n",
       "        13.,  9., 11., 10., 13., 13., 12., 16., 16.,  8.,  6., 10.,  9.,\n",
       "         5., 17.,  6., 12., 10.,  4.,  9.,  9., 12., 11.,  9., 11., 11.,\n",
       "        10., 14., 16., 10., 11.,  8., 10.,  7., 11., 10., 11., 20.,  5.,\n",
       "         8., 11.,  5.,  7.,  8., 10., 16., 10.,  4.,  8.,  9., 11.,  4.,\n",
       "        11.,  7., 10.,  8.,  9., 12., 15.,  7.,  6., 11., 10.,  8.,  9.,\n",
       "         7., 10., 10.,  8., 10.,  7.,  8., 12.,  3., 11.,  5., 14.,  9.,\n",
       "        14.,  8., 14., 11.,  6., 10., 12., 12., 16.]),\n",
       " array([9.14834185e-04, 1.09035933e-02, 2.08923523e-02, 3.08811114e-02,\n",
       "        4.08698705e-02, 5.08586296e-02, 6.08473886e-02, 7.08361477e-02,\n",
       "        8.08249068e-02, 9.08136659e-02, 1.00802425e-01, 1.10791184e-01,\n",
       "        1.20779943e-01, 1.30768702e-01, 1.40757461e-01, 1.50746220e-01,\n",
       "        1.60734979e-01, 1.70723738e-01, 1.80712498e-01, 1.90701257e-01,\n",
       "        2.00690016e-01, 2.10678775e-01, 2.20667534e-01, 2.30656293e-01,\n",
       "        2.40645052e-01, 2.50633811e-01, 2.60622570e-01, 2.70611329e-01,\n",
       "        2.80600088e-01, 2.90588847e-01, 3.00577606e-01, 3.10566366e-01,\n",
       "        3.20555125e-01, 3.30543884e-01, 3.40532643e-01, 3.50521402e-01,\n",
       "        3.60510161e-01, 3.70498920e-01, 3.80487679e-01, 3.90476438e-01,\n",
       "        4.00465197e-01, 4.10453956e-01, 4.20442715e-01, 4.30431474e-01,\n",
       "        4.40420234e-01, 4.50408993e-01, 4.60397752e-01, 4.70386511e-01,\n",
       "        4.80375270e-01, 4.90364029e-01, 5.00352788e-01, 5.10341547e-01,\n",
       "        5.20330306e-01, 5.30319065e-01, 5.40307824e-01, 5.50296583e-01,\n",
       "        5.60285342e-01, 5.70274101e-01, 5.80262861e-01, 5.90251620e-01,\n",
       "        6.00240379e-01, 6.10229138e-01, 6.20217897e-01, 6.30206656e-01,\n",
       "        6.40195415e-01, 6.50184174e-01, 6.60172933e-01, 6.70161692e-01,\n",
       "        6.80150451e-01, 6.90139210e-01, 7.00127969e-01, 7.10116729e-01,\n",
       "        7.20105488e-01, 7.30094247e-01, 7.40083006e-01, 7.50071765e-01,\n",
       "        7.60060524e-01, 7.70049283e-01, 7.80038042e-01, 7.90026801e-01,\n",
       "        8.00015560e-01, 8.10004319e-01, 8.19993078e-01, 8.29981837e-01,\n",
       "        8.39970597e-01, 8.49959356e-01, 8.59948115e-01, 8.69936874e-01,\n",
       "        8.79925633e-01, 8.89914392e-01, 8.99903151e-01, 9.09891910e-01,\n",
       "        9.19880669e-01, 9.29869428e-01, 9.39858187e-01, 9.49846946e-01,\n",
       "        9.59835705e-01, 9.69824465e-01, 9.79813224e-01, 9.89801983e-01,\n",
       "        9.99790742e-01]),\n",
       " <BarContainer object of 100 artists>)"
      ]
     },
     "execution_count": 406,
     "metadata": {},
     "output_type": "execute_result"
    },
    {
     "data": {
      "image/png": "[encoded data removed]",
      "text/plain": [
       "<Figure size 640x480 with 1 Axes>"
      ]
     },
     "metadata": {},
     "output_type": "display_data"
    }
   ],
   "source": [
    "plt.hist(A,bins=100)"
   ]
  },
  {
   "cell_type": "code",
   "execution_count": 408,
   "id": "a08f17ce-5d76-4749-aeca-fc90c8e70907",
   "metadata": {},
   "outputs": [
    {
     "data": {
      "text/plain": [
       "(array([2.000e+00, 1.000e+00, 1.000e+00, 0.000e+00, 1.000e+00, 0.000e+00,\n",
       "        3.000e+00, 4.000e+00, 0.000e+00, 2.000e+00, 3.000e+00, 1.000e+00,\n",
       "        1.000e+00, 8.000e+00, 7.000e+00, 2.000e+00, 3.000e+00, 6.000e+00,\n",
       "        3.000e+00, 8.000e+00, 8.000e+00, 1.800e+01, 1.400e+01, 5.000e+00,\n",
       "        1.400e+01, 1.700e+01, 2.300e+01, 2.400e+01, 2.900e+01, 2.600e+01,\n",
       "        2.900e+01, 2.400e+01, 4.100e+01, 5.700e+01, 6.000e+01, 5.500e+01,\n",
       "        6.300e+01, 7.500e+01, 7.900e+01, 7.600e+01, 9.400e+01, 1.170e+02,\n",
       "        1.200e+02, 1.160e+02, 1.520e+02, 1.530e+02, 1.900e+02, 1.790e+02,\n",
       "        2.080e+02, 2.290e+02, 2.580e+02, 2.980e+02, 3.030e+02, 3.370e+02,\n",
       "        3.250e+02, 3.520e+02, 3.790e+02, 4.190e+02, 4.540e+02, 4.840e+02,\n",
       "        5.250e+02, 5.430e+02, 6.320e+02, 6.320e+02, 6.430e+02, 7.880e+02,\n",
       "        7.720e+02, 8.100e+02, 8.270e+02, 8.930e+02, 9.870e+02, 1.007e+03,\n",
       "        1.072e+03, 1.114e+03, 1.096e+03, 1.178e+03, 1.173e+03, 1.231e+03,\n",
       "        1.258e+03, 1.299e+03, 1.368e+03, 1.374e+03, 1.455e+03, 1.504e+03,\n",
       "        1.548e+03, 1.578e+03, 1.585e+03, 1.597e+03, 1.597e+03, 1.707e+03,\n",
       "        1.701e+03, 1.722e+03, 1.673e+03, 1.713e+03, 1.727e+03, 1.677e+03,\n",
       "        1.720e+03, 1.696e+03, 1.681e+03, 1.657e+03, 1.753e+03, 1.710e+03,\n",
       "        1.649e+03, 1.636e+03, 1.560e+03, 1.572e+03, 1.551e+03, 1.560e+03,\n",
       "        1.464e+03, 1.507e+03, 1.418e+03, 1.338e+03, 1.323e+03, 1.246e+03,\n",
       "        1.257e+03, 1.237e+03, 1.198e+03, 1.120e+03, 1.060e+03, 1.022e+03,\n",
       "        1.024e+03, 9.630e+02, 8.770e+02, 9.010e+02, 7.890e+02, 7.480e+02,\n",
       "        7.280e+02, 6.560e+02, 6.690e+02, 6.580e+02, 5.640e+02, 5.200e+02,\n",
       "        5.080e+02, 4.320e+02, 4.090e+02, 4.330e+02, 4.150e+02, 3.730e+02,\n",
       "        3.200e+02, 3.070e+02, 2.450e+02, 2.610e+02, 2.050e+02, 2.240e+02,\n",
       "        1.880e+02, 1.630e+02, 1.650e+02, 1.360e+02, 1.270e+02, 1.070e+02,\n",
       "        9.800e+01, 1.020e+02, 8.900e+01, 8.300e+01, 6.900e+01, 6.300e+01,\n",
       "        5.100e+01, 4.600e+01, 3.100e+01, 4.300e+01, 4.300e+01, 2.600e+01,\n",
       "        2.700e+01, 2.800e+01, 2.700e+01, 1.600e+01, 2.500e+01, 1.100e+01,\n",
       "        1.700e+01, 7.000e+00, 1.100e+01, 1.000e+01, 1.000e+01, 8.000e+00,\n",
       "        7.000e+00, 5.000e+00, 7.000e+00, 1.000e+00, 4.000e+00, 2.000e+00,\n",
       "        2.000e+00, 0.000e+00, 4.000e+00, 1.000e+00, 0.000e+00, 1.000e+00,\n",
       "        4.000e+00, 1.000e+00, 2.000e+00, 0.000e+00, 0.000e+00, 0.000e+00,\n",
       "        1.000e+00, 0.000e+00, 0.000e+00, 0.000e+00, 0.000e+00, 0.000e+00,\n",
       "        0.000e+00, 1.000e+00]),\n",
       " array([-4.13737616e+00, -4.09425392e+00, -4.05113169e+00, -4.00800946e+00,\n",
       "        -3.96488723e+00, -3.92176500e+00, -3.87864276e+00, -3.83552053e+00,\n",
       "        -3.79239830e+00, -3.74927607e+00, -3.70615384e+00, -3.66303161e+00,\n",
       "        -3.61990937e+00, -3.57678714e+00, -3.53366491e+00, -3.49054268e+00,\n",
       "        -3.44742045e+00, -3.40429821e+00, -3.36117598e+00, -3.31805375e+00,\n",
       "        -3.27493152e+00, -3.23180929e+00, -3.18868706e+00, -3.14556482e+00,\n",
       "        -3.10244259e+00, -3.05932036e+00, -3.01619813e+00, -2.97307590e+00,\n",
       "        -2.92995367e+00, -2.88683143e+00, -2.84370920e+00, -2.80058697e+00,\n",
       "        -2.75746474e+00, -2.71434251e+00, -2.67122027e+00, -2.62809804e+00,\n",
       "        -2.58497581e+00, -2.54185358e+00, -2.49873135e+00, -2.45560912e+00,\n",
       "        -2.41248688e+00, -2.36936465e+00, -2.32624242e+00, -2.28312019e+00,\n",
       "        -2.23999796e+00, -2.19687572e+00, -2.15375349e+00, -2.11063126e+00,\n",
       "        -2.06750903e+00, -2.02438680e+00, -1.98126457e+00, -1.93814233e+00,\n",
       "        -1.89502010e+00, -1.85189787e+00, -1.80877564e+00, -1.76565341e+00,\n",
       "        -1.72253118e+00, -1.67940894e+00, -1.63628671e+00, -1.59316448e+00,\n",
       "        -1.55004225e+00, -1.50692002e+00, -1.46379778e+00, -1.42067555e+00,\n",
       "        -1.37755332e+00, -1.33443109e+00, -1.29130886e+00, -1.24818663e+00,\n",
       "        -1.20506439e+00, -1.16194216e+00, -1.11881993e+00, -1.07569770e+00,\n",
       "        -1.03257547e+00, -9.89453235e-01, -9.46331003e-01, -9.03208771e-01,\n",
       "        -8.60086540e-01, -8.16964308e-01, -7.73842076e-01, -7.30719844e-01,\n",
       "        -6.87597612e-01, -6.44475381e-01, -6.01353149e-01, -5.58230917e-01,\n",
       "        -5.15108685e-01, -4.71986454e-01, -4.28864222e-01, -3.85741990e-01,\n",
       "        -3.42619758e-01, -2.99497526e-01, -2.56375295e-01, -2.13253063e-01,\n",
       "        -1.70130831e-01, -1.27008599e-01, -8.38863675e-02, -4.07641357e-02,\n",
       "         2.35809611e-03,  4.54803279e-02,  8.86025597e-02,  1.31724791e-01,\n",
       "         1.74847023e-01,  2.17969255e-01,  2.61091487e-01,  3.04213719e-01,\n",
       "         3.47335950e-01,  3.90458182e-01,  4.33580414e-01,  4.76702646e-01,\n",
       "         5.19824878e-01,  5.62947109e-01,  6.06069341e-01,  6.49191573e-01,\n",
       "         6.92313805e-01,  7.35436036e-01,  7.78558268e-01,  8.21680500e-01,\n",
       "         8.64802732e-01,  9.07924964e-01,  9.51047195e-01,  9.94169427e-01,\n",
       "         1.03729166e+00,  1.08041389e+00,  1.12353612e+00,  1.16665835e+00,\n",
       "         1.20978059e+00,  1.25290282e+00,  1.29602505e+00,  1.33914728e+00,\n",
       "         1.38226951e+00,  1.42539174e+00,  1.46851398e+00,  1.51163621e+00,\n",
       "         1.55475844e+00,  1.59788067e+00,  1.64100290e+00,  1.68412514e+00,\n",
       "         1.72724737e+00,  1.77036960e+00,  1.81349183e+00,  1.85661406e+00,\n",
       "         1.89973629e+00,  1.94285853e+00,  1.98598076e+00,  2.02910299e+00,\n",
       "         2.07222522e+00,  2.11534745e+00,  2.15846969e+00,  2.20159192e+00,\n",
       "         2.24471415e+00,  2.28783638e+00,  2.33095861e+00,  2.37408084e+00,\n",
       "         2.41720308e+00,  2.46032531e+00,  2.50344754e+00,  2.54656977e+00,\n",
       "         2.58969200e+00,  2.63281423e+00,  2.67593647e+00,  2.71905870e+00,\n",
       "         2.76218093e+00,  2.80530316e+00,  2.84842539e+00,  2.89154763e+00,\n",
       "         2.93466986e+00,  2.97779209e+00,  3.02091432e+00,  3.06403655e+00,\n",
       "         3.10715878e+00,  3.15028102e+00,  3.19340325e+00,  3.23652548e+00,\n",
       "         3.27964771e+00,  3.32276994e+00,  3.36589218e+00,  3.40901441e+00,\n",
       "         3.45213664e+00,  3.49525887e+00,  3.53838110e+00,  3.58150333e+00,\n",
       "         3.62462557e+00,  3.66774780e+00,  3.71087003e+00,  3.75399226e+00,\n",
       "         3.79711449e+00,  3.84023672e+00,  3.88335896e+00,  3.92648119e+00,\n",
       "         3.96960342e+00,  4.01272565e+00,  4.05584788e+00,  4.09897012e+00,\n",
       "         4.14209235e+00,  4.18521458e+00,  4.22833681e+00,  4.27145904e+00,\n",
       "         4.31458127e+00,  4.35770351e+00,  4.40082574e+00,  4.44394797e+00,\n",
       "         4.48707020e+00]),\n",
       " <BarContainer object of 200 artists>)"
      ]
     },
     "execution_count": 408,
     "metadata": {},
     "output_type": "execute_result"
    },
    {
     "data": {
      "image/png": "[encoded data removed]",
      "text/plain": [
       "<Figure size 640x480 with 1 Axes>"
      ]
     },
     "metadata": {},
     "output_type": "display_data"
    }
   ],
   "source": [
    "B = np.random.randn(100000)\n",
    "plt.hist(B,bins=200)"
   ]
  },
  {
   "cell_type": "code",
   "execution_count": 409,
   "id": "e25a81ca-9c2f-4b8c-a704-645fc57647fe",
   "metadata": {},
   "outputs": [],
   "source": [
    "C = np.random.rand(2,3)"
   ]
  },
  {
   "cell_type": "code",
   "execution_count": 410,
   "id": "6b71f2d1-87f7-4856-ab19-1bd3d5e20a98",
   "metadata": {},
   "outputs": [
    {
     "data": {
      "text/plain": [
       "array([[0.69037685, 0.56881063, 0.04238596],\n",
       "       [0.78427217, 0.43515392, 0.0299574 ]])"
      ]
     },
     "execution_count": 410,
     "metadata": {},
     "output_type": "execute_result"
    }
   ],
   "source": [
    "C"
   ]
  },
  {
   "cell_type": "code",
   "execution_count": 411,
   "id": "3a134889-fff4-4e65-a696-2fc4ce42da8a",
   "metadata": {},
   "outputs": [
    {
     "data": {
      "text/plain": [
       "2"
      ]
     },
     "execution_count": 411,
     "metadata": {},
     "output_type": "execute_result"
    }
   ],
   "source": [
    "C.ndim"
   ]
  },
  {
   "cell_type": "code",
   "execution_count": 417,
   "id": "e6b1e278-28c2-4054-be75-2f7e10a25cd3",
   "metadata": {},
   "outputs": [
    {
     "data": {
      "text/plain": [
       "(2, 3)"
      ]
     },
     "execution_count": 417,
     "metadata": {},
     "output_type": "execute_result"
    }
   ],
   "source": [
    "C.shape[0],C.shape[1]"
   ]
  },
  {
   "cell_type": "code",
   "execution_count": 424,
   "id": "c46f97b1-eafb-4149-95bb-37eb83782277",
   "metadata": {},
   "outputs": [],
   "source": [
    "D = np.arange(100).reshape(4,25)"
   ]
  },
  {
   "cell_type": "code",
   "execution_count": 425,
   "id": "8d5f06c3-65ed-4660-8c00-1610a33210ef",
   "metadata": {},
   "outputs": [
    {
     "data": {
      "text/plain": [
       "(4, 25)"
      ]
     },
     "execution_count": 425,
     "metadata": {},
     "output_type": "execute_result"
    }
   ],
   "source": [
    "D.shape"
   ]
  },
  {
   "cell_type": "code",
   "execution_count": 430,
   "id": "1be51308-313d-48a8-9292-b0aa01bf8db7",
   "metadata": {},
   "outputs": [
    {
     "data": {
      "text/plain": [
       "array([0, 0, 0], dtype=int32)"
      ]
     },
     "execution_count": 430,
     "metadata": {},
     "output_type": "execute_result"
    }
   ],
   "source": [
    "np.zeros(3,dtype='i')"
   ]
  },
  {
   "cell_type": "code",
   "execution_count": 436,
   "id": "95fc52e3-028d-498d-83e1-85bc66f8ba11",
   "metadata": {},
   "outputs": [
    {
     "data": {
      "text/plain": [
       "array([1, 1, 1, 1, 1, 1, 1, 1, 1, 1], dtype=int32)"
      ]
     },
     "execution_count": 436,
     "metadata": {},
     "output_type": "execute_result"
    }
   ],
   "source": [
    "np.ones(10,dtype='i')"
   ]
  },
  {
   "cell_type": "markdown",
   "id": "f7c3235f-fd2e-41d1-86b1-b13b12e04105",
   "metadata": {},
   "source": [
    "- NumPy (Slicing)"
   ]
  },
  {
   "cell_type": "code",
   "execution_count": null,
   "id": "91a54503-9dfd-4030-b54e-ba9a57c99c31",
   "metadata": {},
   "outputs": [],
   "source": [
    "A[start:end:step]\n",
    "a[1:5] # index 1 till 5 but not 5\n",
    "a[:5] # index 0 till 5 but not 5\n",
    "a[:5] # index 0 till 5 but not 5\n",
    "a[2:] # index 2 till end including last element\n",
    "a[::-1] # from end till start (reverse the array)\n",
    "a[::2]# from start till end every other element\n",
    "a[::2,:]"
   ]
  },
  {
   "cell_type": "code",
   "execution_count": 463,
   "id": "b445944d-f852-414c-b7fb-f1e5b7b108c2",
   "metadata": {},
   "outputs": [],
   "source": [
    "a = np.array([1,2,3,4,5,6,7,8,9,10])"
   ]
  },
  {
   "cell_type": "code",
   "execution_count": 464,
   "id": "8c762821-e9cb-498b-bf49-e431608ecec0",
   "metadata": {},
   "outputs": [
    {
     "data": {
      "text/plain": [
       "array([2, 3, 4, 5])"
      ]
     },
     "execution_count": 464,
     "metadata": {},
     "output_type": "execute_result"
    }
   ],
   "source": [
    "a[1:5] # 2,3,4,5"
   ]
  },
  {
   "cell_type": "code",
   "execution_count": 465,
   "id": "e11d3bec-0734-4ef9-ac54-3581df77302a",
   "metadata": {},
   "outputs": [
    {
     "data": {
      "text/plain": [
       "array([1, 2, 3, 4, 5])"
      ]
     },
     "execution_count": 465,
     "metadata": {},
     "output_type": "execute_result"
    }
   ],
   "source": [
    "a[:5] # 1,2,3,4,5"
   ]
  },
  {
   "cell_type": "code",
   "execution_count": 466,
   "id": "a6405df4-7152-4d86-99bc-e0b85dde9e44",
   "metadata": {},
   "outputs": [
    {
     "data": {
      "text/plain": [
       "array([ 3,  4,  5,  6,  7,  8,  9, 10])"
      ]
     },
     "execution_count": 466,
     "metadata": {},
     "output_type": "execute_result"
    }
   ],
   "source": [
    "a[2:] #3,4,5,6,7,8,9,10"
   ]
  },
  {
   "cell_type": "code",
   "execution_count": 467,
   "id": "cb65f200-ced1-43b6-8224-cd76ac9c2a35",
   "metadata": {},
   "outputs": [
    {
     "data": {
      "text/plain": [
       "array([10,  9,  8,  7,  6,  5,  4,  3,  2,  1])"
      ]
     },
     "execution_count": 467,
     "metadata": {},
     "output_type": "execute_result"
    }
   ],
   "source": [
    "a[::-1] # 10,9,8,7,6,5,4,3,2,1"
   ]
  },
  {
   "cell_type": "code",
   "execution_count": 468,
   "id": "bbc2d449-4df0-45ea-9d91-bbcccf3da6ba",
   "metadata": {},
   "outputs": [
    {
     "data": {
      "text/plain": [
       "array([1, 3, 5, 7, 9])"
      ]
     },
     "execution_count": 468,
     "metadata": {},
     "output_type": "execute_result"
    }
   ],
   "source": [
    "a[::2] # 1,3,5,7,9"
   ]
  },
  {
   "cell_type": "code",
   "execution_count": 469,
   "id": "ab44548b-c5f3-4f20-aaab-5fa176f78278",
   "metadata": {},
   "outputs": [
    {
     "data": {
      "text/plain": [
       "array([1, 3, 5, 7, 9])"
      ]
     },
     "execution_count": 469,
     "metadata": {},
     "output_type": "execute_result"
    }
   ],
   "source": [
    "a[::2]"
   ]
  },
  {
   "cell_type": "code",
   "execution_count": 472,
   "id": "b83609b6-9b6d-4811-8cb9-a5f3326fdce8",
   "metadata": {},
   "outputs": [],
   "source": [
    "b = np.array([[1,2,3,4,5,6,7,8,9,10],[-1,-2,-3,-4,-5,-6,-7,-8,-9,-10]])"
   ]
  },
  {
   "cell_type": "code",
   "execution_count": 476,
   "id": "30d11537-7777-44e0-a32b-a168ed07e2c2",
   "metadata": {},
   "outputs": [
    {
     "data": {
      "text/plain": [
       "array([[ 1,  2,  3,  4,  5,  6,  7,  8,  9, 10]])"
      ]
     },
     "execution_count": 476,
     "metadata": {},
     "output_type": "execute_result"
    }
   ],
   "source": [
    "b[::2,:]"
   ]
  },
  {
   "cell_type": "code",
   "execution_count": 480,
   "id": "b14d31d1-e3e2-4436-8bab-277d2a6a5ec0",
   "metadata": {},
   "outputs": [],
   "source": [
    "X = np.arange(100)"
   ]
  },
  {
   "cell_type": "code",
   "execution_count": 482,
   "id": "ec737b06-9444-4552-82ee-1066d264ace9",
   "metadata": {},
   "outputs": [
    {
     "data": {
      "text/plain": [
       "array([ 0,  5, 10, 15, 20, 25, 30, 35, 40, 45, 50, 55, 60, 65, 70, 75, 80,\n",
       "       85, 90, 95])"
      ]
     },
     "execution_count": 482,
     "metadata": {},
     "output_type": "execute_result"
    }
   ],
   "source": [
    "X[::5]"
   ]
  },
  {
   "cell_type": "code",
   "execution_count": 483,
   "id": "1479aa70-b4ca-4dc5-b7e5-e0a1910b5dd2",
   "metadata": {},
   "outputs": [
    {
     "data": {
      "text/plain": [
       "array([99, 94, 89, 84, 79, 74, 69, 64, 59, 54, 49, 44, 39, 34, 29, 24, 19,\n",
       "       14,  9,  4])"
      ]
     },
     "execution_count": 483,
     "metadata": {},
     "output_type": "execute_result"
    }
   ],
   "source": [
    "X[::-5]"
   ]
  },
  {
   "cell_type": "code",
   "execution_count": 484,
   "id": "1227a730-6f84-4512-93fc-30710b1d6b59",
   "metadata": {},
   "outputs": [
    {
     "data": {
      "text/plain": [
       "array([99, 98, 97, 96, 95, 94, 93, 92, 91, 90, 89, 88, 87, 86, 85, 84, 83,\n",
       "       82, 81, 80, 79, 78, 77, 76, 75, 74, 73, 72, 71, 70, 69, 68, 67, 66,\n",
       "       65, 64, 63, 62, 61, 60, 59, 58, 57, 56, 55, 54, 53, 52, 51, 50, 49,\n",
       "       48, 47, 46, 45, 44, 43, 42, 41, 40, 39, 38, 37, 36, 35, 34, 33, 32,\n",
       "       31, 30, 29, 28, 27, 26, 25, 24, 23, 22, 21, 20, 19, 18, 17, 16, 15,\n",
       "       14, 13, 12, 11, 10,  9,  8,  7,  6,  5,  4,  3,  2,  1,  0])"
      ]
     },
     "execution_count": 484,
     "metadata": {},
     "output_type": "execute_result"
    }
   ],
   "source": [
    "X[::-1]"
   ]
  },
  {
   "cell_type": "code",
   "execution_count": 491,
   "id": "00b0fda3-d34d-4498-abb6-4360d1a3be24",
   "metadata": {},
   "outputs": [],
   "source": [
    "V = np.round(np.random.rand(5,4)*10)"
   ]
  },
  {
   "cell_type": "code",
   "execution_count": 493,
   "id": "a95d1bf5-033d-45ec-bada-68d909932f1b",
   "metadata": {},
   "outputs": [
    {
     "data": {
      "text/plain": [
       "array([[ 4.,  3.,  9.,  6.],\n",
       "       [ 9., 10.,  8.,  4.],\n",
       "       [ 0.,  8.,  3.,  4.],\n",
       "       [ 4., 10.,  0.,  8.],\n",
       "       [ 8.,  5.,  5.,  4.]])"
      ]
     },
     "execution_count": 493,
     "metadata": {},
     "output_type": "execute_result"
    }
   ],
   "source": [
    "V"
   ]
  },
  {
   "cell_type": "code",
   "execution_count": 497,
   "id": "f8c82e09-1820-4b2d-8f50-75608b86a036",
   "metadata": {},
   "outputs": [
    {
     "data": {
      "text/plain": [
       "np.float64(8.0)"
      ]
     },
     "execution_count": 497,
     "metadata": {},
     "output_type": "execute_result"
    }
   ],
   "source": [
    "V[1,2]"
   ]
  },
  {
   "cell_type": "code",
   "execution_count": 498,
   "id": "91e4d7dc-11c9-4d5a-95a8-531ae19dacbc",
   "metadata": {},
   "outputs": [
    {
     "data": {
      "text/plain": [
       "array([ 9., 10.,  8.,  4.])"
      ]
     },
     "execution_count": 498,
     "metadata": {},
     "output_type": "execute_result"
    }
   ],
   "source": [
    "V[1,:]"
   ]
  },
  {
   "cell_type": "code",
   "execution_count": 501,
   "id": "73f8adf8-57d1-407d-8cc9-4c0671eb3a43",
   "metadata": {},
   "outputs": [
    {
     "data": {
      "text/plain": [
       "array([ 3., 10.,  8., 10.,  5.])"
      ]
     },
     "execution_count": 501,
     "metadata": {},
     "output_type": "execute_result"
    }
   ],
   "source": [
    "V[:,1]"
   ]
  },
  {
   "cell_type": "code",
   "execution_count": 503,
   "id": "4925f771-0180-4197-98f2-877a569602bd",
   "metadata": {},
   "outputs": [
    {
     "data": {
      "text/plain": [
       "array([[10.,  8.],\n",
       "       [ 8.,  3.]])"
      ]
     },
     "execution_count": 503,
     "metadata": {},
     "output_type": "execute_result"
    }
   ],
   "source": [
    "V[1:3,1:3]"
   ]
  },
  {
   "cell_type": "code",
   "execution_count": 509,
   "id": "74dfc78d-4d64-4ab3-a7cf-32b89790a6d7",
   "metadata": {},
   "outputs": [
    {
     "data": {
      "text/plain": [
       "array([[ 4.,  9.,  0.,  4.,  8.],\n",
       "       [ 3., 10.,  8., 10.,  5.],\n",
       "       [ 9.,  8.,  3.,  0.,  5.],\n",
       "       [ 6.,  4.,  4.,  8.,  4.]])"
      ]
     },
     "execution_count": 509,
     "metadata": {},
     "output_type": "execute_result"
    }
   ],
   "source": [
    "# If we want to transpose the rows and columns then we can\n",
    "# use A.T\n",
    "V.T"
   ]
  },
  {
   "cell_type": "code",
   "execution_count": 510,
   "id": "469389af-0072-4e8b-935b-e6db776ad36b",
   "metadata": {},
   "outputs": [
    {
     "data": {
      "text/plain": [
       "array([[ 4.,  3.,  9.,  6.],\n",
       "       [ 9., 10.,  8.,  4.],\n",
       "       [ 0.,  8.,  3.,  4.],\n",
       "       [ 4., 10.,  0.,  8.],\n",
       "       [ 8.,  5.,  5.,  4.]])"
      ]
     },
     "execution_count": 510,
     "metadata": {},
     "output_type": "execute_result"
    }
   ],
   "source": [
    "V"
   ]
  },
  {
   "cell_type": "code",
   "execution_count": 511,
   "id": "942a6b77-70f8-416b-b76a-dd1989937b1e",
   "metadata": {},
   "outputs": [],
   "source": [
    "# If we want to sort the elements in an numpy array then \n",
    "V.sort(axis=0) # to sort elements in column individually"
   ]
  },
  {
   "cell_type": "code",
   "execution_count": 512,
   "id": "dda3094d-a66f-42f3-a9bf-ae4d0c3c9446",
   "metadata": {},
   "outputs": [
    {
     "data": {
      "text/plain": [
       "array([[ 0.,  3.,  0.,  4.],\n",
       "       [ 4.,  5.,  3.,  4.],\n",
       "       [ 4.,  8.,  5.,  4.],\n",
       "       [ 8., 10.,  8.,  6.],\n",
       "       [ 9., 10.,  9.,  8.]])"
      ]
     },
     "execution_count": 512,
     "metadata": {},
     "output_type": "execute_result"
    }
   ],
   "source": [
    "V"
   ]
  },
  {
   "cell_type": "code",
   "execution_count": 514,
   "id": "8a4364e6-59dd-4996-be1d-1ff8fa3fc2ef",
   "metadata": {},
   "outputs": [],
   "source": [
    "V.sort(axis=1) # to sort elements in column individually"
   ]
  },
  {
   "cell_type": "code",
   "execution_count": 515,
   "id": "5a9c2fd9-862c-4c4c-886f-b50f2addea79",
   "metadata": {},
   "outputs": [
    {
     "data": {
      "text/plain": [
       "array([[ 0.,  0.,  3.,  4.],\n",
       "       [ 3.,  4.,  4.,  5.],\n",
       "       [ 4.,  4.,  5.,  8.],\n",
       "       [ 6.,  8.,  8., 10.],\n",
       "       [ 8.,  9.,  9., 10.]])"
      ]
     },
     "execution_count": 515,
     "metadata": {},
     "output_type": "execute_result"
    }
   ],
   "source": [
    "V"
   ]
  },
  {
   "cell_type": "markdown",
   "id": "7a00fc61-9ede-4962-b616-41ed68df73c8",
   "metadata": {},
   "source": [
    "# NumPy (More Indexing)"
   ]
  },
  {
   "cell_type": "code",
   "execution_count": 516,
   "id": "856f5a13-249e-4c62-ab9a-fbc7d9ebac83",
   "metadata": {},
   "outputs": [],
   "source": [
    "A = np.arange(100)"
   ]
  },
  {
   "cell_type": "code",
   "execution_count": 518,
   "id": "4e751df5-19a0-4a99-abd2-386605c8b144",
   "metadata": {},
   "outputs": [],
   "source": [
    "B = A[[3,5,6]]"
   ]
  },
  {
   "cell_type": "code",
   "execution_count": 519,
   "id": "b6dad4f5-5099-4352-8582-469372a91dfb",
   "metadata": {},
   "outputs": [
    {
     "data": {
      "text/plain": [
       "array([3, 5, 6])"
      ]
     },
     "execution_count": 519,
     "metadata": {},
     "output_type": "execute_result"
    }
   ],
   "source": [
    "B"
   ]
  },
  {
   "cell_type": "code",
   "execution_count": 520,
   "id": "089a6926-5c84-46f1-9c82-c4bcf067550a",
   "metadata": {},
   "outputs": [],
   "source": [
    "B[0] = -4"
   ]
  },
  {
   "cell_type": "code",
   "execution_count": 521,
   "id": "63ad3a9f-7a35-4bd7-9dea-c2d82380447b",
   "metadata": {},
   "outputs": [
    {
     "data": {
      "text/plain": [
       "array([-4,  5,  6])"
      ]
     },
     "execution_count": 521,
     "metadata": {},
     "output_type": "execute_result"
    }
   ],
   "source": [
    "B"
   ]
  },
  {
   "cell_type": "code",
   "execution_count": 522,
   "id": "d473ebfb-37ba-4f2f-bec0-ea4a7aa6d083",
   "metadata": {},
   "outputs": [
    {
     "data": {
      "text/plain": [
       "array([ 0,  1,  2,  3,  4,  5,  6,  7,  8,  9, 10, 11, 12, 13, 14, 15, 16,\n",
       "       17, 18, 19, 20, 21, 22, 23, 24, 25, 26, 27, 28, 29, 30, 31, 32, 33,\n",
       "       34, 35, 36, 37, 38, 39, 40, 41, 42, 43, 44, 45, 46, 47, 48, 49, 50,\n",
       "       51, 52, 53, 54, 55, 56, 57, 58, 59, 60, 61, 62, 63, 64, 65, 66, 67,\n",
       "       68, 69, 70, 71, 72, 73, 74, 75, 76, 77, 78, 79, 80, 81, 82, 83, 84,\n",
       "       85, 86, 87, 88, 89, 90, 91, 92, 93, 94, 95, 96, 97, 98, 99])"
      ]
     },
     "execution_count": 522,
     "metadata": {},
     "output_type": "execute_result"
    }
   ],
   "source": [
    "A"
   ]
  },
  {
   "cell_type": "code",
   "execution_count": 523,
   "id": "e53caa09-c3b8-4c3d-9897-363be32151aa",
   "metadata": {},
   "outputs": [],
   "source": [
    "B = A[A<40]"
   ]
  },
  {
   "cell_type": "code",
   "execution_count": 524,
   "id": "9e1f2397-4271-49f5-943a-b200157472cc",
   "metadata": {},
   "outputs": [
    {
     "data": {
      "text/plain": [
       "array([ 0,  1,  2,  3,  4,  5,  6,  7,  8,  9, 10, 11, 12, 13, 14, 15, 16,\n",
       "       17, 18, 19, 20, 21, 22, 23, 24, 25, 26, 27, 28, 29, 30, 31, 32, 33,\n",
       "       34, 35, 36, 37, 38, 39])"
      ]
     },
     "execution_count": 524,
     "metadata": {},
     "output_type": "execute_result"
    }
   ],
   "source": [
    "B"
   ]
  },
  {
   "cell_type": "code",
   "execution_count": 527,
   "id": "6a4ca9b4-2dec-4f80-a534-6629f011b71a",
   "metadata": {},
   "outputs": [],
   "source": [
    "B = A[(A<40) & (A>30)]"
   ]
  },
  {
   "cell_type": "code",
   "execution_count": 528,
   "id": "84a091c9-bf17-4c0f-943e-3a9c373b9669",
   "metadata": {},
   "outputs": [
    {
     "data": {
      "text/plain": [
       "array([31, 32, 33, 34, 35, 36, 37, 38, 39])"
      ]
     },
     "execution_count": 528,
     "metadata": {},
     "output_type": "execute_result"
    }
   ],
   "source": [
    "B"
   ]
  },
  {
   "cell_type": "markdown",
   "id": "e661fec8-69fb-4170-a8b7-aa6398b9a005",
   "metadata": {},
   "source": [
    "- `&` , `|`, `~` is used for arrays\n",
    "- `and` , `or`, `not` is used for single objects"
   ]
  },
  {
   "cell_type": "markdown",
   "id": "fd123f9c-1d15-4b68-a0de-35604c709c20",
   "metadata": {},
   "source": [
    "# NumPy (BroadCasting)"
   ]
  },
  {
   "cell_type": "markdown",
   "id": "cfc37a99-d31d-4da8-925d-84fd1705bc13",
   "metadata": {},
   "source": [
    "- The term broadcasting describes how NumPy treats arrays with different shapes during arithmetic operations."
   ]
  },
  {
   "cell_type": "code",
   "execution_count": 530,
   "id": "14cd8e97-13fe-4ba7-83cc-92f8f05afdde",
   "metadata": {},
   "outputs": [],
   "source": [
    "A = np.array([[1,2],[3,4]])"
   ]
  },
  {
   "cell_type": "code",
   "execution_count": 531,
   "id": "64c24c1d-3c44-416a-999f-e9bc9bb2ae4d",
   "metadata": {},
   "outputs": [],
   "source": [
    "A = A + 5"
   ]
  },
  {
   "cell_type": "code",
   "execution_count": 534,
   "id": "d0c50e84-51ba-4c0a-b4ba-504330273719",
   "metadata": {},
   "outputs": [
    {
     "data": {
      "text/plain": [
       "array([[6, 7],\n",
       "       [8, 9]])"
      ]
     },
     "execution_count": 534,
     "metadata": {},
     "output_type": "execute_result"
    }
   ],
   "source": [
    "A"
   ]
  },
  {
   "cell_type": "markdown",
   "id": "f59d050a-b30c-4eff-8106-33c2101292f1",
   "metadata": {},
   "source": [
    "- The hstack() function in NumPy is used to stack or arrange arrays in sequence horizontally (column-wise).\n",
    "- numpy. vstack() function is used to stack arrays vertically (row-wise) to make a single array"
   ]
  },
  {
   "cell_type": "code",
   "execution_count": 554,
   "id": "a473ca5a-b773-45cc-9e23-45b6b4d8184d",
   "metadata": {},
   "outputs": [
    {
     "data": {
      "text/plain": [
       "array([[ 6,  7],\n",
       "       [ 9, 10]])"
      ]
     },
     "execution_count": 554,
     "metadata": {},
     "output_type": "execute_result"
    }
   ],
   "source": [
    "A+(np.arange(2).reshape(2,1))"
   ]
  },
  {
   "cell_type": "code",
   "execution_count": 555,
   "id": "797d849a-efa5-4d31-8108-dea4202c4cd3",
   "metadata": {},
   "outputs": [],
   "source": [
    "B = np.round(10*np.random.rand(2,3))"
   ]
  },
  {
   "cell_type": "code",
   "execution_count": 556,
   "id": "e3a02180-4cd2-48e9-8995-88c5c250a763",
   "metadata": {},
   "outputs": [
    {
     "data": {
      "text/plain": [
       "array([[5., 2., 7.],\n",
       "       [0., 1., 6.]])"
      ]
     },
     "execution_count": 556,
     "metadata": {},
     "output_type": "execute_result"
    }
   ],
   "source": [
    "B"
   ]
  },
  {
   "cell_type": "code",
   "execution_count": 557,
   "id": "c4237ecf-4fa5-4ed5-a955-92dbafadb4a7",
   "metadata": {},
   "outputs": [],
   "source": [
    "C = np.hstack((A,B))"
   ]
  },
  {
   "cell_type": "code",
   "execution_count": 558,
   "id": "c7193379-89cc-49d7-8b38-026a8e5bcb88",
   "metadata": {},
   "outputs": [
    {
     "data": {
      "text/plain": [
       "array([[6., 7., 5., 2., 7.],\n",
       "       [8., 9., 0., 1., 6.]])"
      ]
     },
     "execution_count": 558,
     "metadata": {},
     "output_type": "execute_result"
    }
   ],
   "source": [
    "C"
   ]
  },
  {
   "cell_type": "markdown",
   "id": "91fe3ef7-9226-46aa-96fc-14b32383f056",
   "metadata": {},
   "source": [
    "# NumPy Sort"
   ]
  },
  {
   "cell_type": "markdown",
   "id": "3477713f-229b-4e13-a531-2767f9ec86a7",
   "metadata": {},
   "source": [
    "- Sorting means putting elements in an ordered sequence.\n",
    "- Ordered sequence is any sequence that has an order corresponding to elements, like numeric or alphabetical, ascending or descending.\n",
    "- The NumPy ndarray object has a function called sort(), that will sort a specified array."
   ]
  },
  {
   "cell_type": "code",
   "execution_count": 564,
   "id": "eff1e93b-9634-4434-995b-1e37004f987e",
   "metadata": {},
   "outputs": [],
   "source": [
    "A = np.random.permutation(np.arange(10))"
   ]
  },
  {
   "cell_type": "code",
   "execution_count": 565,
   "id": "62789330-c429-4305-b613-44cba6d939e3",
   "metadata": {},
   "outputs": [
    {
     "data": {
      "text/plain": [
       "array([1, 8, 2, 7, 4, 6, 5, 9, 3, 0])"
      ]
     },
     "execution_count": 565,
     "metadata": {},
     "output_type": "execute_result"
    }
   ],
   "source": [
    "A"
   ]
  },
  {
   "cell_type": "code",
   "execution_count": 566,
   "id": "f4ffd473-7287-45eb-beac-1652182a40d3",
   "metadata": {},
   "outputs": [],
   "source": [
    "A.sort()"
   ]
  },
  {
   "cell_type": "code",
   "execution_count": 567,
   "id": "e20071f2-286a-42fe-8ef7-25c35e80a0e0",
   "metadata": {},
   "outputs": [
    {
     "data": {
      "text/plain": [
       "array([0, 1, 2, 3, 4, 5, 6, 7, 8, 9])"
      ]
     },
     "execution_count": 567,
     "metadata": {},
     "output_type": "execute_result"
    }
   ],
   "source": [
    "A"
   ]
  },
  {
   "cell_type": "code",
   "execution_count": 568,
   "id": "0b53ba96-ef60-485c-beca-a6f2669195f0",
   "metadata": {},
   "outputs": [],
   "source": [
    "# Sort in descending order\n",
    "A = A[::-1]"
   ]
  },
  {
   "cell_type": "code",
   "execution_count": 569,
   "id": "001996f7-1ed5-4e43-abd5-f63fb649ae6d",
   "metadata": {},
   "outputs": [
    {
     "data": {
      "text/plain": [
       "array([9, 8, 7, 6, 5, 4, 3, 2, 1, 0])"
      ]
     },
     "execution_count": 569,
     "metadata": {},
     "output_type": "execute_result"
    }
   ],
   "source": [
    "A"
   ]
  },
  {
   "cell_type": "code",
   "execution_count": 571,
   "id": "84c2ad93-f1c0-416d-a08e-3d3db402909a",
   "metadata": {},
   "outputs": [],
   "source": [
    "S = np.array([\"abc\",\"how\" ,\"are\" ,\"you\",\"u765\",\"13er\"])"
   ]
  },
  {
   "cell_type": "code",
   "execution_count": 572,
   "id": "90e22a47-992f-4233-8d8f-b4eb2977f2e9",
   "metadata": {},
   "outputs": [],
   "source": [
    "S.sort()"
   ]
  },
  {
   "cell_type": "code",
   "execution_count": 573,
   "id": "72fa989b-7093-4657-811c-f006769405e6",
   "metadata": {},
   "outputs": [
    {
     "data": {
      "text/plain": [
       "array(['13er', 'abc', 'are', 'how', 'u765', 'you'], dtype='<U4')"
      ]
     },
     "execution_count": 573,
     "metadata": {},
     "output_type": "execute_result"
    }
   ],
   "source": [
    "S"
   ]
  },
  {
   "cell_type": "markdown",
   "id": "fbec4457-1330-4ecf-970a-a2833bf1198c",
   "metadata": {},
   "source": [
    "# Numpy - Speed: Universal Functions"
   ]
  },
  {
   "cell_type": "code",
   "execution_count": 578,
   "id": "c3fd31d3-2a28-46ca-b584-03d9009d3a7c",
   "metadata": {},
   "outputs": [
    {
     "name": "stdout",
     "output_type": "stream",
     "text": [
      "76.9 ms ± 759 μs per loop (mean ± std. dev. of 7 runs, 10 loops each)\n",
      "955 μs ± 25.1 μs per loop (mean ± std. dev. of 7 runs, 1,000 loops each)\n"
     ]
    }
   ],
   "source": [
    "B = np.random.rand(1000000)\n",
    "%timeit sum(B)\n",
    "%timeit np.sum(B)"
   ]
  },
  {
   "cell_type": "markdown",
   "id": "3022bba0-4265-46ce-b5e6-5dea796c44d0",
   "metadata": {},
   "source": [
    "# Pandas"
   ]
  },
  {
   "cell_type": "markdown",
   "id": "cf7ce698-3800-4a07-8598-17c9b8a79cff",
   "metadata": {},
   "source": [
    "- Pandas - built on top of NumPy"
   ]
  },
  {
   "cell_type": "code",
   "execution_count": 579,
   "id": "08cde491-607a-42ff-91f5-adab65e6d714",
   "metadata": {},
   "outputs": [],
   "source": [
    "import pandas as pd"
   ]
  },
  {
   "cell_type": "code",
   "execution_count": 580,
   "id": "01a855cb-84de-48cc-8e38-2722e063f7be",
   "metadata": {},
   "outputs": [
    {
     "name": "stdout",
     "output_type": "stream",
     "text": [
      "2.2.2\n"
     ]
    }
   ],
   "source": [
    "print(pd.__version__)"
   ]
  },
  {
   "cell_type": "code",
   "execution_count": 581,
   "id": "0bf60257-2114-4f3b-934f-77ce3dc756ad",
   "metadata": {},
   "outputs": [],
   "source": [
    "A = pd.Series([2,3,4,5],index=['a','b','c','d'])"
   ]
  },
  {
   "cell_type": "code",
   "execution_count": 582,
   "id": "1c5a5b25-1984-4467-9ed0-789a3a6864a6",
   "metadata": {},
   "outputs": [
    {
     "data": {
      "text/plain": [
       "a    2\n",
       "b    3\n",
       "c    4\n",
       "d    5\n",
       "dtype: int64"
      ]
     },
     "execution_count": 582,
     "metadata": {},
     "output_type": "execute_result"
    }
   ],
   "source": [
    "A"
   ]
  },
  {
   "cell_type": "code",
   "execution_count": 585,
   "id": "bf9b1b56-31de-4b35-ac46-dd52cf4ab208",
   "metadata": {},
   "outputs": [
    {
     "data": {
      "text/plain": [
       "numpy.ndarray"
      ]
     },
     "execution_count": 585,
     "metadata": {},
     "output_type": "execute_result"
    }
   ],
   "source": [
    "type(A.values)"
   ]
  },
  {
   "cell_type": "code",
   "execution_count": 586,
   "id": "5fed154c-a957-492a-85c9-b1bf38c507e6",
   "metadata": {},
   "outputs": [
    {
     "data": {
      "text/plain": [
       "pandas.core.series.Series"
      ]
     },
     "execution_count": 586,
     "metadata": {},
     "output_type": "execute_result"
    }
   ],
   "source": [
    "type(A)"
   ]
  },
  {
   "cell_type": "code",
   "execution_count": 588,
   "id": "789dfa25-b414-4f24-addd-7c20a6bf256f",
   "metadata": {},
   "outputs": [
    {
     "data": {
      "text/plain": [
       "Index(['a', 'b', 'c', 'd'], dtype='object')"
      ]
     },
     "execution_count": 588,
     "metadata": {},
     "output_type": "execute_result"
    }
   ],
   "source": [
    "A.index"
   ]
  },
  {
   "cell_type": "code",
   "execution_count": 589,
   "id": "3b01133e-efba-4b85-bdd0-ddcc4efd787a",
   "metadata": {},
   "outputs": [
    {
     "data": {
      "text/plain": [
       "array([2, 3, 4, 5])"
      ]
     },
     "execution_count": 589,
     "metadata": {},
     "output_type": "execute_result"
    }
   ],
   "source": [
    "A.values"
   ]
  },
  {
   "cell_type": "code",
   "execution_count": 590,
   "id": "4eff3ca5-0666-457b-85d4-d88ec5533d49",
   "metadata": {},
   "outputs": [
    {
     "data": {
      "text/plain": [
       "np.int64(2)"
      ]
     },
     "execution_count": 590,
     "metadata": {},
     "output_type": "execute_result"
    }
   ],
   "source": [
    "A['a']"
   ]
  },
  {
   "cell_type": "code",
   "execution_count": 591,
   "id": "54f08447-05d6-44d1-a28b-9c6f90390dae",
   "metadata": {},
   "outputs": [],
   "source": [
    "A['a'] = 1"
   ]
  },
  {
   "cell_type": "code",
   "execution_count": 592,
   "id": "76b8f65b-ec06-4145-bb6a-8b61f35cc972",
   "metadata": {},
   "outputs": [
    {
     "data": {
      "text/plain": [
       "array([1, 3, 4, 5])"
      ]
     },
     "execution_count": 592,
     "metadata": {},
     "output_type": "execute_result"
    }
   ],
   "source": [
    "A.values"
   ]
  },
  {
   "cell_type": "code",
   "execution_count": 593,
   "id": "52bb6fef-d230-41a7-aa49-2f6d985d3135",
   "metadata": {},
   "outputs": [
    {
     "data": {
      "text/plain": [
       "a    1\n",
       "b    3\n",
       "c    4\n",
       "dtype: int64"
      ]
     },
     "execution_count": 593,
     "metadata": {},
     "output_type": "execute_result"
    }
   ],
   "source": [
    "A['a':'c']"
   ]
  },
  {
   "cell_type": "code",
   "execution_count": 595,
   "id": "2d4857d3-0e44-4404-9bfd-279f418f126c",
   "metadata": {},
   "outputs": [],
   "source": [
    "grades_dict = {\"A\":5,\"B\":4,\"C\":3,\"D\":2,\"E\":1}\n",
    "grades = pd.Series(grades_dict)"
   ]
  },
  {
   "cell_type": "code",
   "execution_count": 596,
   "id": "8f0b0701-ec5c-45cb-9023-68b4cd9f45f5",
   "metadata": {},
   "outputs": [],
   "source": [
    "marks_dict = {\"A\":90,\"B\":85,\"C\":80,\"D\":75,\"E\":70}\n",
    "marks = pd.Series(marks_dict)"
   ]
  },
  {
   "cell_type": "code",
   "execution_count": 600,
   "id": "457e73be-fce5-4bb9-83cf-28b208501d72",
   "metadata": {},
   "outputs": [
    {
     "data": {
      "text/plain": [
       "array([5, 4, 3, 2, 1])"
      ]
     },
     "execution_count": 600,
     "metadata": {},
     "output_type": "execute_result"
    }
   ],
   "source": [
    "grades.values"
   ]
  },
  {
   "cell_type": "code",
   "execution_count": 602,
   "id": "d05bd818-31c5-42d5-8fe1-69c477711832",
   "metadata": {},
   "outputs": [
    {
     "data": {
      "text/plain": [
       "Index(['A', 'B', 'C', 'D', 'E'], dtype='object')"
      ]
     },
     "execution_count": 602,
     "metadata": {},
     "output_type": "execute_result"
    }
   ],
   "source": [
    "grades.index"
   ]
  },
  {
   "cell_type": "code",
   "execution_count": 603,
   "id": "c241e78d-a1d0-40ae-9891-7c949d9c32a1",
   "metadata": {},
   "outputs": [
    {
     "data": {
      "text/plain": [
       "array([90, 85, 80, 75, 70])"
      ]
     },
     "execution_count": 603,
     "metadata": {},
     "output_type": "execute_result"
    }
   ],
   "source": [
    "marks.values"
   ]
  },
  {
   "cell_type": "code",
   "execution_count": 604,
   "id": "3f09ce89-0069-4d24-baf0-d8993dbca51c",
   "metadata": {},
   "outputs": [
    {
     "data": {
      "text/plain": [
       "Index(['A', 'B', 'C', 'D', 'E'], dtype='object')"
      ]
     },
     "execution_count": 604,
     "metadata": {},
     "output_type": "execute_result"
    }
   ],
   "source": [
    "marks.index"
   ]
  },
  {
   "cell_type": "code",
   "execution_count": 605,
   "id": "3cd23b40-ec5c-4c09-9f8a-396a9fc6d669",
   "metadata": {},
   "outputs": [],
   "source": [
    "D = pd.DataFrame({'Marks':marks,'Grades':grades})"
   ]
  },
  {
   "cell_type": "code",
   "execution_count": 606,
   "id": "79c58ce1-f758-4a70-8a62-7cf588e0e7ef",
   "metadata": {},
   "outputs": [
    {
     "data": {
      "text/html": [
       "<div>\n",
       "<style scoped>\n",
       "    .dataframe tbody tr th:only-of-type {\n",
       "        vertical-align: middle;\n",
       "    }\n",
       "\n",
       "    .dataframe tbody tr th {\n",
       "        vertical-align: top;\n",
       "    }\n",
       "\n",
       "    .dataframe thead th {\n",
       "        text-align: right;\n",
       "    }\n",
       "</style>\n",
       "<table border=\"1\" class=\"dataframe\">\n",
       "  <thead>\n",
       "    <tr style=\"text-align: right;\">\n",
       "      <th></th>\n",
       "      <th>Marks</th>\n",
       "      <th>Grades</th>\n",
       "    </tr>\n",
       "  </thead>\n",
       "  <tbody>\n",
       "    <tr>\n",
       "      <th>A</th>\n",
       "      <td>90</td>\n",
       "      <td>5</td>\n",
       "    </tr>\n",
       "    <tr>\n",
       "      <th>B</th>\n",
       "      <td>85</td>\n",
       "      <td>4</td>\n",
       "    </tr>\n",
       "    <tr>\n",
       "      <th>C</th>\n",
       "      <td>80</td>\n",
       "      <td>3</td>\n",
       "    </tr>\n",
       "    <tr>\n",
       "      <th>D</th>\n",
       "      <td>75</td>\n",
       "      <td>2</td>\n",
       "    </tr>\n",
       "    <tr>\n",
       "      <th>E</th>\n",
       "      <td>70</td>\n",
       "      <td>1</td>\n",
       "    </tr>\n",
       "  </tbody>\n",
       "</table>\n",
       "</div>"
      ],
      "text/plain": [
       "   Marks  Grades\n",
       "A     90       5\n",
       "B     85       4\n",
       "C     80       3\n",
       "D     75       2\n",
       "E     70       1"
      ]
     },
     "execution_count": 606,
     "metadata": {},
     "output_type": "execute_result"
    }
   ],
   "source": [
    "D"
   ]
  },
  {
   "cell_type": "code",
   "execution_count": 607,
   "id": "c6fff0e2-81ff-4297-8010-ac62b92fdc08",
   "metadata": {},
   "outputs": [
    {
     "data": {
      "text/html": [
       "<div>\n",
       "<style scoped>\n",
       "    .dataframe tbody tr th:only-of-type {\n",
       "        vertical-align: middle;\n",
       "    }\n",
       "\n",
       "    .dataframe tbody tr th {\n",
       "        vertical-align: top;\n",
       "    }\n",
       "\n",
       "    .dataframe thead th {\n",
       "        text-align: right;\n",
       "    }\n",
       "</style>\n",
       "<table border=\"1\" class=\"dataframe\">\n",
       "  <thead>\n",
       "    <tr style=\"text-align: right;\">\n",
       "      <th></th>\n",
       "      <th>A</th>\n",
       "      <th>B</th>\n",
       "      <th>C</th>\n",
       "      <th>D</th>\n",
       "      <th>E</th>\n",
       "    </tr>\n",
       "  </thead>\n",
       "  <tbody>\n",
       "    <tr>\n",
       "      <th>Marks</th>\n",
       "      <td>90</td>\n",
       "      <td>85</td>\n",
       "      <td>80</td>\n",
       "      <td>75</td>\n",
       "      <td>70</td>\n",
       "    </tr>\n",
       "    <tr>\n",
       "      <th>Grades</th>\n",
       "      <td>5</td>\n",
       "      <td>4</td>\n",
       "      <td>3</td>\n",
       "      <td>2</td>\n",
       "      <td>1</td>\n",
       "    </tr>\n",
       "  </tbody>\n",
       "</table>\n",
       "</div>"
      ],
      "text/plain": [
       "         A   B   C   D   E\n",
       "Marks   90  85  80  75  70\n",
       "Grades   5   4   3   2   1"
      ]
     },
     "execution_count": 607,
     "metadata": {},
     "output_type": "execute_result"
    }
   ],
   "source": [
    "D.T"
   ]
  },
  {
   "cell_type": "code",
   "execution_count": 608,
   "id": "f6fd8e4a-fb61-4754-99d7-8785de5e94a1",
   "metadata": {},
   "outputs": [
    {
     "data": {
      "text/plain": [
       "array([[90,  5],\n",
       "       [85,  4],\n",
       "       [80,  3],\n",
       "       [75,  2],\n",
       "       [70,  1]])"
      ]
     },
     "execution_count": 608,
     "metadata": {},
     "output_type": "execute_result"
    }
   ],
   "source": [
    "D.values"
   ]
  },
  {
   "cell_type": "code",
   "execution_count": 610,
   "id": "1570518f-4667-4b51-abf3-f17259058465",
   "metadata": {},
   "outputs": [],
   "source": [
    "D['Percentage'] = (D['Marks']/100)*100"
   ]
  },
  {
   "cell_type": "code",
   "execution_count": 611,
   "id": "76d357ea-cc21-455d-82e0-0bf495767b0c",
   "metadata": {},
   "outputs": [
    {
     "data": {
      "text/html": [
       "<div>\n",
       "<style scoped>\n",
       "    .dataframe tbody tr th:only-of-type {\n",
       "        vertical-align: middle;\n",
       "    }\n",
       "\n",
       "    .dataframe tbody tr th {\n",
       "        vertical-align: top;\n",
       "    }\n",
       "\n",
       "    .dataframe thead th {\n",
       "        text-align: right;\n",
       "    }\n",
       "</style>\n",
       "<table border=\"1\" class=\"dataframe\">\n",
       "  <thead>\n",
       "    <tr style=\"text-align: right;\">\n",
       "      <th></th>\n",
       "      <th>Marks</th>\n",
       "      <th>Grades</th>\n",
       "      <th>Percentage</th>\n",
       "    </tr>\n",
       "  </thead>\n",
       "  <tbody>\n",
       "    <tr>\n",
       "      <th>A</th>\n",
       "      <td>90</td>\n",
       "      <td>5</td>\n",
       "      <td>90.0</td>\n",
       "    </tr>\n",
       "    <tr>\n",
       "      <th>B</th>\n",
       "      <td>85</td>\n",
       "      <td>4</td>\n",
       "      <td>85.0</td>\n",
       "    </tr>\n",
       "    <tr>\n",
       "      <th>C</th>\n",
       "      <td>80</td>\n",
       "      <td>3</td>\n",
       "      <td>80.0</td>\n",
       "    </tr>\n",
       "    <tr>\n",
       "      <th>D</th>\n",
       "      <td>75</td>\n",
       "      <td>2</td>\n",
       "      <td>75.0</td>\n",
       "    </tr>\n",
       "    <tr>\n",
       "      <th>E</th>\n",
       "      <td>70</td>\n",
       "      <td>1</td>\n",
       "      <td>70.0</td>\n",
       "    </tr>\n",
       "  </tbody>\n",
       "</table>\n",
       "</div>"
      ],
      "text/plain": [
       "   Marks  Grades  Percentage\n",
       "A     90       5        90.0\n",
       "B     85       4        85.0\n",
       "C     80       3        80.0\n",
       "D     75       2        75.0\n",
       "E     70       1        70.0"
      ]
     },
     "execution_count": 611,
     "metadata": {},
     "output_type": "execute_result"
    }
   ],
   "source": [
    "D"
   ]
  },
  {
   "cell_type": "code",
   "execution_count": 612,
   "id": "436b5149-6650-45dd-832a-032e25e82951",
   "metadata": {},
   "outputs": [],
   "source": [
    "# If we feel that percentage column is wrong or unnecessary and we\n",
    "# want to delete it\n",
    "del D['Percentage']"
   ]
  },
  {
   "cell_type": "code",
   "execution_count": 613,
   "id": "570f9f07-35ef-4e6d-ab38-3ad5679eec49",
   "metadata": {},
   "outputs": [
    {
     "data": {
      "text/html": [
       "<div>\n",
       "<style scoped>\n",
       "    .dataframe tbody tr th:only-of-type {\n",
       "        vertical-align: middle;\n",
       "    }\n",
       "\n",
       "    .dataframe tbody tr th {\n",
       "        vertical-align: top;\n",
       "    }\n",
       "\n",
       "    .dataframe thead th {\n",
       "        text-align: right;\n",
       "    }\n",
       "</style>\n",
       "<table border=\"1\" class=\"dataframe\">\n",
       "  <thead>\n",
       "    <tr style=\"text-align: right;\">\n",
       "      <th></th>\n",
       "      <th>Marks</th>\n",
       "      <th>Grades</th>\n",
       "    </tr>\n",
       "  </thead>\n",
       "  <tbody>\n",
       "    <tr>\n",
       "      <th>A</th>\n",
       "      <td>90</td>\n",
       "      <td>5</td>\n",
       "    </tr>\n",
       "    <tr>\n",
       "      <th>B</th>\n",
       "      <td>85</td>\n",
       "      <td>4</td>\n",
       "    </tr>\n",
       "    <tr>\n",
       "      <th>C</th>\n",
       "      <td>80</td>\n",
       "      <td>3</td>\n",
       "    </tr>\n",
       "    <tr>\n",
       "      <th>D</th>\n",
       "      <td>75</td>\n",
       "      <td>2</td>\n",
       "    </tr>\n",
       "    <tr>\n",
       "      <th>E</th>\n",
       "      <td>70</td>\n",
       "      <td>1</td>\n",
       "    </tr>\n",
       "  </tbody>\n",
       "</table>\n",
       "</div>"
      ],
      "text/plain": [
       "   Marks  Grades\n",
       "A     90       5\n",
       "B     85       4\n",
       "C     80       3\n",
       "D     75       2\n",
       "E     70       1"
      ]
     },
     "execution_count": 613,
     "metadata": {},
     "output_type": "execute_result"
    }
   ],
   "source": [
    "D"
   ]
  },
  {
   "cell_type": "code",
   "execution_count": 616,
   "id": "1feabbde-e22e-43bc-ac19-36410c136136",
   "metadata": {},
   "outputs": [],
   "source": [
    "E = pd.DataFrame([{'A':1,'B':2},{'B':3,'C':4}])"
   ]
  },
  {
   "cell_type": "code",
   "execution_count": 617,
   "id": "fb5a9a4a-3742-4409-9b83-aa33d1dc6851",
   "metadata": {},
   "outputs": [
    {
     "data": {
      "text/html": [
       "<div>\n",
       "<style scoped>\n",
       "    .dataframe tbody tr th:only-of-type {\n",
       "        vertical-align: middle;\n",
       "    }\n",
       "\n",
       "    .dataframe tbody tr th {\n",
       "        vertical-align: top;\n",
       "    }\n",
       "\n",
       "    .dataframe thead th {\n",
       "        text-align: right;\n",
       "    }\n",
       "</style>\n",
       "<table border=\"1\" class=\"dataframe\">\n",
       "  <thead>\n",
       "    <tr style=\"text-align: right;\">\n",
       "      <th></th>\n",
       "      <th>A</th>\n",
       "      <th>B</th>\n",
       "      <th>C</th>\n",
       "    </tr>\n",
       "  </thead>\n",
       "  <tbody>\n",
       "    <tr>\n",
       "      <th>0</th>\n",
       "      <td>1.0</td>\n",
       "      <td>2</td>\n",
       "      <td>NaN</td>\n",
       "    </tr>\n",
       "    <tr>\n",
       "      <th>1</th>\n",
       "      <td>NaN</td>\n",
       "      <td>3</td>\n",
       "      <td>4.0</td>\n",
       "    </tr>\n",
       "  </tbody>\n",
       "</table>\n",
       "</div>"
      ],
      "text/plain": [
       "     A  B    C\n",
       "0  1.0  2  NaN\n",
       "1  NaN  3  4.0"
      ]
     },
     "execution_count": 617,
     "metadata": {},
     "output_type": "execute_result"
    }
   ],
   "source": [
    "E"
   ]
  },
  {
   "cell_type": "code",
   "execution_count": 618,
   "id": "af2e1c85-2e1b-45c6-9de8-249b670aee5c",
   "metadata": {},
   "outputs": [
    {
     "data": {
      "text/html": [
       "<div>\n",
       "<style scoped>\n",
       "    .dataframe tbody tr th:only-of-type {\n",
       "        vertical-align: middle;\n",
       "    }\n",
       "\n",
       "    .dataframe tbody tr th {\n",
       "        vertical-align: top;\n",
       "    }\n",
       "\n",
       "    .dataframe thead th {\n",
       "        text-align: right;\n",
       "    }\n",
       "</style>\n",
       "<table border=\"1\" class=\"dataframe\">\n",
       "  <thead>\n",
       "    <tr style=\"text-align: right;\">\n",
       "      <th></th>\n",
       "      <th>A</th>\n",
       "      <th>B</th>\n",
       "      <th>C</th>\n",
       "    </tr>\n",
       "  </thead>\n",
       "  <tbody>\n",
       "    <tr>\n",
       "      <th>0</th>\n",
       "      <td>1.0</td>\n",
       "      <td>2</td>\n",
       "      <td>0.0</td>\n",
       "    </tr>\n",
       "    <tr>\n",
       "      <th>1</th>\n",
       "      <td>0.0</td>\n",
       "      <td>3</td>\n",
       "      <td>4.0</td>\n",
       "    </tr>\n",
       "  </tbody>\n",
       "</table>\n",
       "</div>"
      ],
      "text/plain": [
       "     A  B    C\n",
       "0  1.0  2  0.0\n",
       "1  0.0  3  4.0"
      ]
     },
     "execution_count": 618,
     "metadata": {},
     "output_type": "execute_result"
    }
   ],
   "source": [
    "# If we want to fill the NaN value then we can use this method\n",
    "E.fillna(0)"
   ]
  },
  {
   "cell_type": "code",
   "execution_count": 621,
   "id": "6d584b23-ed85-40fa-ae90-911980879c3c",
   "metadata": {},
   "outputs": [
    {
     "data": {
      "text/html": [
       "<div>\n",
       "<style scoped>\n",
       "    .dataframe tbody tr th:only-of-type {\n",
       "        vertical-align: middle;\n",
       "    }\n",
       "\n",
       "    .dataframe tbody tr th {\n",
       "        vertical-align: top;\n",
       "    }\n",
       "\n",
       "    .dataframe thead th {\n",
       "        text-align: right;\n",
       "    }\n",
       "</style>\n",
       "<table border=\"1\" class=\"dataframe\">\n",
       "  <thead>\n",
       "    <tr style=\"text-align: right;\">\n",
       "      <th></th>\n",
       "      <th>A</th>\n",
       "      <th>B</th>\n",
       "      <th>C</th>\n",
       "    </tr>\n",
       "  </thead>\n",
       "  <tbody>\n",
       "  </tbody>\n",
       "</table>\n",
       "</div>"
      ],
      "text/plain": [
       "Empty DataFrame\n",
       "Columns: [A, B, C]\n",
       "Index: []"
      ]
     },
     "execution_count": 621,
     "metadata": {},
     "output_type": "execute_result"
    }
   ],
   "source": [
    "# Another method to work with the NaN values is removing all the \n",
    "# NaN values\n",
    "E.dropna()"
   ]
  },
  {
   "cell_type": "code",
   "execution_count": 628,
   "id": "22b2a8d2-e364-448c-b455-6c08949f7ca0",
   "metadata": {},
   "outputs": [],
   "source": [
    "A = pd.Series(['a','b','c'],index=[1,3,5])"
   ]
  },
  {
   "cell_type": "code",
   "execution_count": 629,
   "id": "9d72cc8f-8e6a-4389-97d3-02fac1c52961",
   "metadata": {},
   "outputs": [
    {
     "data": {
      "text/plain": [
       "'a'"
      ]
     },
     "execution_count": 629,
     "metadata": {},
     "output_type": "execute_result"
    }
   ],
   "source": [
    "A[1]"
   ]
  },
  {
   "cell_type": "code",
   "execution_count": 630,
   "id": "4c443b60-1e66-44c4-8eae-c267b7a78dec",
   "metadata": {},
   "outputs": [
    {
     "data": {
      "text/plain": [
       "1    a\n",
       "3    b\n",
       "5    c\n",
       "dtype: object"
      ]
     },
     "execution_count": 630,
     "metadata": {},
     "output_type": "execute_result"
    }
   ],
   "source": [
    "A"
   ]
  },
  {
   "cell_type": "code",
   "execution_count": 636,
   "id": "67048729-5ed6-4039-9341-af9a43112d49",
   "metadata": {},
   "outputs": [
    {
     "data": {
      "text/plain": [
       "3    b\n",
       "5    c\n",
       "dtype: object"
      ]
     },
     "execution_count": 636,
     "metadata": {},
     "output_type": "execute_result"
    }
   ],
   "source": [
    "A[1:3]"
   ]
  },
  {
   "cell_type": "code",
   "execution_count": 640,
   "id": "bcf59fa8-d40c-4cc8-8a5a-119e5a6974ad",
   "metadata": {},
   "outputs": [
    {
     "data": {
      "text/plain": [
       "1    a\n",
       "3    b\n",
       "dtype: object"
      ]
     },
     "execution_count": 640,
     "metadata": {},
     "output_type": "execute_result"
    }
   ],
   "source": [
    "A.loc[1:3] # explictly we are telling to give value in index 1 and 3"
   ]
  },
  {
   "cell_type": "code",
   "execution_count": 641,
   "id": "54db03de-cad1-4945-ae97-1c282fb8ae99",
   "metadata": {},
   "outputs": [
    {
     "data": {
      "text/plain": [
       "3    b\n",
       "5    c\n",
       "dtype: object"
      ]
     },
     "execution_count": 641,
     "metadata": {},
     "output_type": "execute_result"
    }
   ],
   "source": [
    "A.iloc[1:3] # implictly we are telling to give value in index 1 and 3"
   ]
  },
  {
   "cell_type": "code",
   "execution_count": 642,
   "id": "64e395ec-dbbd-4a80-8425-3666bb911ade",
   "metadata": {},
   "outputs": [
    {
     "data": {
      "text/html": [
       "<div>\n",
       "<style scoped>\n",
       "    .dataframe tbody tr th:only-of-type {\n",
       "        vertical-align: middle;\n",
       "    }\n",
       "\n",
       "    .dataframe tbody tr th {\n",
       "        vertical-align: top;\n",
       "    }\n",
       "\n",
       "    .dataframe thead th {\n",
       "        text-align: right;\n",
       "    }\n",
       "</style>\n",
       "<table border=\"1\" class=\"dataframe\">\n",
       "  <thead>\n",
       "    <tr style=\"text-align: right;\">\n",
       "      <th></th>\n",
       "      <th>Marks</th>\n",
       "      <th>Grades</th>\n",
       "    </tr>\n",
       "  </thead>\n",
       "  <tbody>\n",
       "    <tr>\n",
       "      <th>A</th>\n",
       "      <td>90</td>\n",
       "      <td>5</td>\n",
       "    </tr>\n",
       "    <tr>\n",
       "      <th>B</th>\n",
       "      <td>85</td>\n",
       "      <td>4</td>\n",
       "    </tr>\n",
       "    <tr>\n",
       "      <th>C</th>\n",
       "      <td>80</td>\n",
       "      <td>3</td>\n",
       "    </tr>\n",
       "    <tr>\n",
       "      <th>D</th>\n",
       "      <td>75</td>\n",
       "      <td>2</td>\n",
       "    </tr>\n",
       "    <tr>\n",
       "      <th>E</th>\n",
       "      <td>70</td>\n",
       "      <td>1</td>\n",
       "    </tr>\n",
       "  </tbody>\n",
       "</table>\n",
       "</div>"
      ],
      "text/plain": [
       "   Marks  Grades\n",
       "A     90       5\n",
       "B     85       4\n",
       "C     80       3\n",
       "D     75       2\n",
       "E     70       1"
      ]
     },
     "execution_count": 642,
     "metadata": {},
     "output_type": "execute_result"
    }
   ],
   "source": [
    "D"
   ]
  },
  {
   "cell_type": "code",
   "execution_count": 643,
   "id": "536a98d9-b614-4bf5-98ff-70a71e5ea0c5",
   "metadata": {},
   "outputs": [
    {
     "data": {
      "text/plain": [
       "Marks     80\n",
       "Grades     3\n",
       "Name: C, dtype: int64"
      ]
     },
     "execution_count": 643,
     "metadata": {},
     "output_type": "execute_result"
    }
   ],
   "source": [
    "D.iloc[2,:]"
   ]
  },
  {
   "cell_type": "code",
   "execution_count": 645,
   "id": "16b23943-353b-48a2-a3f6-1b3eebf607aa",
   "metadata": {},
   "outputs": [
    {
     "data": {
      "text/html": [
       "<div>\n",
       "<style scoped>\n",
       "    .dataframe tbody tr th:only-of-type {\n",
       "        vertical-align: middle;\n",
       "    }\n",
       "\n",
       "    .dataframe tbody tr th {\n",
       "        vertical-align: top;\n",
       "    }\n",
       "\n",
       "    .dataframe thead th {\n",
       "        text-align: right;\n",
       "    }\n",
       "</style>\n",
       "<table border=\"1\" class=\"dataframe\">\n",
       "  <thead>\n",
       "    <tr style=\"text-align: right;\">\n",
       "      <th></th>\n",
       "      <th>Marks</th>\n",
       "      <th>Grades</th>\n",
       "    </tr>\n",
       "  </thead>\n",
       "  <tbody>\n",
       "    <tr>\n",
       "      <th>E</th>\n",
       "      <td>70</td>\n",
       "      <td>1</td>\n",
       "    </tr>\n",
       "    <tr>\n",
       "      <th>D</th>\n",
       "      <td>75</td>\n",
       "      <td>2</td>\n",
       "    </tr>\n",
       "    <tr>\n",
       "      <th>C</th>\n",
       "      <td>80</td>\n",
       "      <td>3</td>\n",
       "    </tr>\n",
       "    <tr>\n",
       "      <th>B</th>\n",
       "      <td>85</td>\n",
       "      <td>4</td>\n",
       "    </tr>\n",
       "    <tr>\n",
       "      <th>A</th>\n",
       "      <td>90</td>\n",
       "      <td>5</td>\n",
       "    </tr>\n",
       "  </tbody>\n",
       "</table>\n",
       "</div>"
      ],
      "text/plain": [
       "   Marks  Grades\n",
       "E     70       1\n",
       "D     75       2\n",
       "C     80       3\n",
       "B     85       4\n",
       "A     90       5"
      ]
     },
     "execution_count": 645,
     "metadata": {},
     "output_type": "execute_result"
    }
   ],
   "source": [
    "D.iloc[::-1,:]"
   ]
  },
  {
   "cell_type": "code",
   "execution_count": 650,
   "id": "c765ece0-c6ed-424d-90c8-3966b7ab916a",
   "metadata": {},
   "outputs": [],
   "source": [
    "import pandas as pd\n",
    "import numpy as np\n",
    "from sklearn.impute import SimpleImputer"
   ]
  },
  {
   "cell_type": "code",
   "execution_count": 655,
   "id": "b4464cc2-02f0-4ccb-bfce-32fdf99dc069",
   "metadata": {},
   "outputs": [],
   "source": [
    "df = pd.read_csv(\"covid_19_data.csv/covid_19_data.csv\")"
   ]
  },
  {
   "cell_type": "code",
   "execution_count": 656,
   "id": "ab2e4b66-47b8-46e2-b32e-1625d92c26a6",
   "metadata": {},
   "outputs": [
    {
     "data": {
      "text/html": [
       "<div>\n",
       "<style scoped>\n",
       "    .dataframe tbody tr th:only-of-type {\n",
       "        vertical-align: middle;\n",
       "    }\n",
       "\n",
       "    .dataframe tbody tr th {\n",
       "        vertical-align: top;\n",
       "    }\n",
       "\n",
       "    .dataframe thead th {\n",
       "        text-align: right;\n",
       "    }\n",
       "</style>\n",
       "<table border=\"1\" class=\"dataframe\">\n",
       "  <thead>\n",
       "    <tr style=\"text-align: right;\">\n",
       "      <th></th>\n",
       "      <th>SNo</th>\n",
       "      <th>ObservationDate</th>\n",
       "      <th>Province/State</th>\n",
       "      <th>Country/Region</th>\n",
       "      <th>Last Update</th>\n",
       "      <th>Confirmed</th>\n",
       "      <th>Deaths</th>\n",
       "      <th>Recovered</th>\n",
       "    </tr>\n",
       "  </thead>\n",
       "  <tbody>\n",
       "    <tr>\n",
       "      <th>0</th>\n",
       "      <td>1</td>\n",
       "      <td>01/22/2020</td>\n",
       "      <td>Anhui</td>\n",
       "      <td>Mainland China</td>\n",
       "      <td>1/22/2020 17:00</td>\n",
       "      <td>1.0</td>\n",
       "      <td>0.0</td>\n",
       "      <td>0.0</td>\n",
       "    </tr>\n",
       "    <tr>\n",
       "      <th>1</th>\n",
       "      <td>2</td>\n",
       "      <td>01/22/2020</td>\n",
       "      <td>Beijing</td>\n",
       "      <td>Mainland China</td>\n",
       "      <td>1/22/2020 17:00</td>\n",
       "      <td>14.0</td>\n",
       "      <td>0.0</td>\n",
       "      <td>0.0</td>\n",
       "    </tr>\n",
       "    <tr>\n",
       "      <th>2</th>\n",
       "      <td>3</td>\n",
       "      <td>01/22/2020</td>\n",
       "      <td>Chongqing</td>\n",
       "      <td>Mainland China</td>\n",
       "      <td>1/22/2020 17:00</td>\n",
       "      <td>6.0</td>\n",
       "      <td>0.0</td>\n",
       "      <td>0.0</td>\n",
       "    </tr>\n",
       "    <tr>\n",
       "      <th>3</th>\n",
       "      <td>4</td>\n",
       "      <td>01/22/2020</td>\n",
       "      <td>Fujian</td>\n",
       "      <td>Mainland China</td>\n",
       "      <td>1/22/2020 17:00</td>\n",
       "      <td>1.0</td>\n",
       "      <td>0.0</td>\n",
       "      <td>0.0</td>\n",
       "    </tr>\n",
       "    <tr>\n",
       "      <th>4</th>\n",
       "      <td>5</td>\n",
       "      <td>01/22/2020</td>\n",
       "      <td>Gansu</td>\n",
       "      <td>Mainland China</td>\n",
       "      <td>1/22/2020 17:00</td>\n",
       "      <td>0.0</td>\n",
       "      <td>0.0</td>\n",
       "      <td>0.0</td>\n",
       "    </tr>\n",
       "  </tbody>\n",
       "</table>\n",
       "</div>"
      ],
      "text/plain": [
       "   SNo ObservationDate Province/State  Country/Region      Last Update  \\\n",
       "0    1      01/22/2020          Anhui  Mainland China  1/22/2020 17:00   \n",
       "1    2      01/22/2020        Beijing  Mainland China  1/22/2020 17:00   \n",
       "2    3      01/22/2020      Chongqing  Mainland China  1/22/2020 17:00   \n",
       "3    4      01/22/2020         Fujian  Mainland China  1/22/2020 17:00   \n",
       "4    5      01/22/2020          Gansu  Mainland China  1/22/2020 17:00   \n",
       "\n",
       "   Confirmed  Deaths  Recovered  \n",
       "0        1.0     0.0        0.0  \n",
       "1       14.0     0.0        0.0  \n",
       "2        6.0     0.0        0.0  \n",
       "3        1.0     0.0        0.0  \n",
       "4        0.0     0.0        0.0  "
      ]
     },
     "execution_count": 656,
     "metadata": {},
     "output_type": "execute_result"
    }
   ],
   "source": [
    "df.head()"
   ]
  },
  {
   "cell_type": "code",
   "execution_count": 657,
   "id": "56e548e3-f5d4-426d-bd37-53d8ed6404ff",
   "metadata": {},
   "outputs": [
    {
     "data": {
      "text/html": [
       "<div>\n",
       "<style scoped>\n",
       "    .dataframe tbody tr th:only-of-type {\n",
       "        vertical-align: middle;\n",
       "    }\n",
       "\n",
       "    .dataframe tbody tr th {\n",
       "        vertical-align: top;\n",
       "    }\n",
       "\n",
       "    .dataframe thead th {\n",
       "        text-align: right;\n",
       "    }\n",
       "</style>\n",
       "<table border=\"1\" class=\"dataframe\">\n",
       "  <thead>\n",
       "    <tr style=\"text-align: right;\">\n",
       "      <th></th>\n",
       "      <th>SNo</th>\n",
       "      <th>ObservationDate</th>\n",
       "      <th>Province/State</th>\n",
       "      <th>Country/Region</th>\n",
       "      <th>Last Update</th>\n",
       "      <th>Confirmed</th>\n",
       "      <th>Deaths</th>\n",
       "      <th>Recovered</th>\n",
       "    </tr>\n",
       "  </thead>\n",
       "  <tbody>\n",
       "    <tr>\n",
       "      <th>0</th>\n",
       "      <td>1</td>\n",
       "      <td>01/22/2020</td>\n",
       "      <td>Anhui</td>\n",
       "      <td>Mainland China</td>\n",
       "      <td>1/22/2020 17:00</td>\n",
       "      <td>1.0</td>\n",
       "      <td>0.0</td>\n",
       "      <td>0.0</td>\n",
       "    </tr>\n",
       "    <tr>\n",
       "      <th>1</th>\n",
       "      <td>2</td>\n",
       "      <td>01/22/2020</td>\n",
       "      <td>Beijing</td>\n",
       "      <td>Mainland China</td>\n",
       "      <td>1/22/2020 17:00</td>\n",
       "      <td>14.0</td>\n",
       "      <td>0.0</td>\n",
       "      <td>0.0</td>\n",
       "    </tr>\n",
       "    <tr>\n",
       "      <th>2</th>\n",
       "      <td>3</td>\n",
       "      <td>01/22/2020</td>\n",
       "      <td>Chongqing</td>\n",
       "      <td>Mainland China</td>\n",
       "      <td>1/22/2020 17:00</td>\n",
       "      <td>6.0</td>\n",
       "      <td>0.0</td>\n",
       "      <td>0.0</td>\n",
       "    </tr>\n",
       "    <tr>\n",
       "      <th>3</th>\n",
       "      <td>4</td>\n",
       "      <td>01/22/2020</td>\n",
       "      <td>Fujian</td>\n",
       "      <td>Mainland China</td>\n",
       "      <td>1/22/2020 17:00</td>\n",
       "      <td>1.0</td>\n",
       "      <td>0.0</td>\n",
       "      <td>0.0</td>\n",
       "    </tr>\n",
       "    <tr>\n",
       "      <th>4</th>\n",
       "      <td>5</td>\n",
       "      <td>01/22/2020</td>\n",
       "      <td>Gansu</td>\n",
       "      <td>Mainland China</td>\n",
       "      <td>1/22/2020 17:00</td>\n",
       "      <td>0.0</td>\n",
       "      <td>0.0</td>\n",
       "      <td>0.0</td>\n",
       "    </tr>\n",
       "    <tr>\n",
       "      <th>5</th>\n",
       "      <td>6</td>\n",
       "      <td>01/22/2020</td>\n",
       "      <td>Guangdong</td>\n",
       "      <td>Mainland China</td>\n",
       "      <td>1/22/2020 17:00</td>\n",
       "      <td>26.0</td>\n",
       "      <td>0.0</td>\n",
       "      <td>0.0</td>\n",
       "    </tr>\n",
       "    <tr>\n",
       "      <th>6</th>\n",
       "      <td>7</td>\n",
       "      <td>01/22/2020</td>\n",
       "      <td>Guangxi</td>\n",
       "      <td>Mainland China</td>\n",
       "      <td>1/22/2020 17:00</td>\n",
       "      <td>2.0</td>\n",
       "      <td>0.0</td>\n",
       "      <td>0.0</td>\n",
       "    </tr>\n",
       "    <tr>\n",
       "      <th>7</th>\n",
       "      <td>8</td>\n",
       "      <td>01/22/2020</td>\n",
       "      <td>Guizhou</td>\n",
       "      <td>Mainland China</td>\n",
       "      <td>1/22/2020 17:00</td>\n",
       "      <td>1.0</td>\n",
       "      <td>0.0</td>\n",
       "      <td>0.0</td>\n",
       "    </tr>\n",
       "    <tr>\n",
       "      <th>8</th>\n",
       "      <td>9</td>\n",
       "      <td>01/22/2020</td>\n",
       "      <td>Hainan</td>\n",
       "      <td>Mainland China</td>\n",
       "      <td>1/22/2020 17:00</td>\n",
       "      <td>4.0</td>\n",
       "      <td>0.0</td>\n",
       "      <td>0.0</td>\n",
       "    </tr>\n",
       "    <tr>\n",
       "      <th>9</th>\n",
       "      <td>10</td>\n",
       "      <td>01/22/2020</td>\n",
       "      <td>Hebei</td>\n",
       "      <td>Mainland China</td>\n",
       "      <td>1/22/2020 17:00</td>\n",
       "      <td>1.0</td>\n",
       "      <td>0.0</td>\n",
       "      <td>0.0</td>\n",
       "    </tr>\n",
       "  </tbody>\n",
       "</table>\n",
       "</div>"
      ],
      "text/plain": [
       "   SNo ObservationDate Province/State  Country/Region      Last Update  \\\n",
       "0    1      01/22/2020          Anhui  Mainland China  1/22/2020 17:00   \n",
       "1    2      01/22/2020        Beijing  Mainland China  1/22/2020 17:00   \n",
       "2    3      01/22/2020      Chongqing  Mainland China  1/22/2020 17:00   \n",
       "3    4      01/22/2020         Fujian  Mainland China  1/22/2020 17:00   \n",
       "4    5      01/22/2020          Gansu  Mainland China  1/22/2020 17:00   \n",
       "5    6      01/22/2020      Guangdong  Mainland China  1/22/2020 17:00   \n",
       "6    7      01/22/2020        Guangxi  Mainland China  1/22/2020 17:00   \n",
       "7    8      01/22/2020        Guizhou  Mainland China  1/22/2020 17:00   \n",
       "8    9      01/22/2020         Hainan  Mainland China  1/22/2020 17:00   \n",
       "9   10      01/22/2020          Hebei  Mainland China  1/22/2020 17:00   \n",
       "\n",
       "   Confirmed  Deaths  Recovered  \n",
       "0        1.0     0.0        0.0  \n",
       "1       14.0     0.0        0.0  \n",
       "2        6.0     0.0        0.0  \n",
       "3        1.0     0.0        0.0  \n",
       "4        0.0     0.0        0.0  \n",
       "5       26.0     0.0        0.0  \n",
       "6        2.0     0.0        0.0  \n",
       "7        1.0     0.0        0.0  \n",
       "8        4.0     0.0        0.0  \n",
       "9        1.0     0.0        0.0  "
      ]
     },
     "execution_count": 657,
     "metadata": {},
     "output_type": "execute_result"
    }
   ],
   "source": [
    "df.head(10)"
   ]
  },
  {
   "cell_type": "code",
   "execution_count": 663,
   "id": "ec8f3835-b1de-4fbb-a603-4774687742bf",
   "metadata": {},
   "outputs": [],
   "source": [
    "df.drop([\"SNo\",\"Last Update\"],axis=1,inplace=True)"
   ]
  },
  {
   "cell_type": "code",
   "execution_count": 664,
   "id": "ddfc4814-e1d2-4424-a095-f5fe53c03191",
   "metadata": {},
   "outputs": [
    {
     "data": {
      "text/html": [
       "<div>\n",
       "<style scoped>\n",
       "    .dataframe tbody tr th:only-of-type {\n",
       "        vertical-align: middle;\n",
       "    }\n",
       "\n",
       "    .dataframe tbody tr th {\n",
       "        vertical-align: top;\n",
       "    }\n",
       "\n",
       "    .dataframe thead th {\n",
       "        text-align: right;\n",
       "    }\n",
       "</style>\n",
       "<table border=\"1\" class=\"dataframe\">\n",
       "  <thead>\n",
       "    <tr style=\"text-align: right;\">\n",
       "      <th></th>\n",
       "      <th>ObservationDate</th>\n",
       "      <th>Province/State</th>\n",
       "      <th>Country/Region</th>\n",
       "      <th>Confirmed</th>\n",
       "      <th>Deaths</th>\n",
       "      <th>Recovered</th>\n",
       "    </tr>\n",
       "  </thead>\n",
       "  <tbody>\n",
       "    <tr>\n",
       "      <th>0</th>\n",
       "      <td>01/22/2020</td>\n",
       "      <td>Anhui</td>\n",
       "      <td>Mainland China</td>\n",
       "      <td>1.0</td>\n",
       "      <td>0.0</td>\n",
       "      <td>0.0</td>\n",
       "    </tr>\n",
       "    <tr>\n",
       "      <th>1</th>\n",
       "      <td>01/22/2020</td>\n",
       "      <td>Beijing</td>\n",
       "      <td>Mainland China</td>\n",
       "      <td>14.0</td>\n",
       "      <td>0.0</td>\n",
       "      <td>0.0</td>\n",
       "    </tr>\n",
       "    <tr>\n",
       "      <th>2</th>\n",
       "      <td>01/22/2020</td>\n",
       "      <td>Chongqing</td>\n",
       "      <td>Mainland China</td>\n",
       "      <td>6.0</td>\n",
       "      <td>0.0</td>\n",
       "      <td>0.0</td>\n",
       "    </tr>\n",
       "    <tr>\n",
       "      <th>3</th>\n",
       "      <td>01/22/2020</td>\n",
       "      <td>Fujian</td>\n",
       "      <td>Mainland China</td>\n",
       "      <td>1.0</td>\n",
       "      <td>0.0</td>\n",
       "      <td>0.0</td>\n",
       "    </tr>\n",
       "    <tr>\n",
       "      <th>4</th>\n",
       "      <td>01/22/2020</td>\n",
       "      <td>Gansu</td>\n",
       "      <td>Mainland China</td>\n",
       "      <td>0.0</td>\n",
       "      <td>0.0</td>\n",
       "      <td>0.0</td>\n",
       "    </tr>\n",
       "  </tbody>\n",
       "</table>\n",
       "</div>"
      ],
      "text/plain": [
       "  ObservationDate Province/State  Country/Region  Confirmed  Deaths  Recovered\n",
       "0      01/22/2020          Anhui  Mainland China        1.0     0.0        0.0\n",
       "1      01/22/2020        Beijing  Mainland China       14.0     0.0        0.0\n",
       "2      01/22/2020      Chongqing  Mainland China        6.0     0.0        0.0\n",
       "3      01/22/2020         Fujian  Mainland China        1.0     0.0        0.0\n",
       "4      01/22/2020          Gansu  Mainland China        0.0     0.0        0.0"
      ]
     },
     "execution_count": 664,
     "metadata": {},
     "output_type": "execute_result"
    }
   ],
   "source": [
    "df.head()"
   ]
  },
  {
   "cell_type": "code",
   "execution_count": 665,
   "id": "47a3cef6-6904-4ad3-ac8f-ee99b549caba",
   "metadata": {},
   "outputs": [],
   "source": [
    "df.rename(columns={'ObservationDate':'Date','Province/State':'Province','Country/Region':'Country'},inplace=True)"
   ]
  },
  {
   "cell_type": "code",
   "execution_count": 666,
   "id": "2ef2860c-9764-4678-94d6-ad188b962912",
   "metadata": {},
   "outputs": [
    {
     "data": {
      "text/html": [
       "<div>\n",
       "<style scoped>\n",
       "    .dataframe tbody tr th:only-of-type {\n",
       "        vertical-align: middle;\n",
       "    }\n",
       "\n",
       "    .dataframe tbody tr th {\n",
       "        vertical-align: top;\n",
       "    }\n",
       "\n",
       "    .dataframe thead th {\n",
       "        text-align: right;\n",
       "    }\n",
       "</style>\n",
       "<table border=\"1\" class=\"dataframe\">\n",
       "  <thead>\n",
       "    <tr style=\"text-align: right;\">\n",
       "      <th></th>\n",
       "      <th>Date</th>\n",
       "      <th>Province</th>\n",
       "      <th>Country</th>\n",
       "      <th>Confirmed</th>\n",
       "      <th>Deaths</th>\n",
       "      <th>Recovered</th>\n",
       "    </tr>\n",
       "  </thead>\n",
       "  <tbody>\n",
       "    <tr>\n",
       "      <th>0</th>\n",
       "      <td>01/22/2020</td>\n",
       "      <td>Anhui</td>\n",
       "      <td>Mainland China</td>\n",
       "      <td>1.0</td>\n",
       "      <td>0.0</td>\n",
       "      <td>0.0</td>\n",
       "    </tr>\n",
       "    <tr>\n",
       "      <th>1</th>\n",
       "      <td>01/22/2020</td>\n",
       "      <td>Beijing</td>\n",
       "      <td>Mainland China</td>\n",
       "      <td>14.0</td>\n",
       "      <td>0.0</td>\n",
       "      <td>0.0</td>\n",
       "    </tr>\n",
       "    <tr>\n",
       "      <th>2</th>\n",
       "      <td>01/22/2020</td>\n",
       "      <td>Chongqing</td>\n",
       "      <td>Mainland China</td>\n",
       "      <td>6.0</td>\n",
       "      <td>0.0</td>\n",
       "      <td>0.0</td>\n",
       "    </tr>\n",
       "    <tr>\n",
       "      <th>3</th>\n",
       "      <td>01/22/2020</td>\n",
       "      <td>Fujian</td>\n",
       "      <td>Mainland China</td>\n",
       "      <td>1.0</td>\n",
       "      <td>0.0</td>\n",
       "      <td>0.0</td>\n",
       "    </tr>\n",
       "    <tr>\n",
       "      <th>4</th>\n",
       "      <td>01/22/2020</td>\n",
       "      <td>Gansu</td>\n",
       "      <td>Mainland China</td>\n",
       "      <td>0.0</td>\n",
       "      <td>0.0</td>\n",
       "      <td>0.0</td>\n",
       "    </tr>\n",
       "  </tbody>\n",
       "</table>\n",
       "</div>"
      ],
      "text/plain": [
       "         Date   Province         Country  Confirmed  Deaths  Recovered\n",
       "0  01/22/2020      Anhui  Mainland China        1.0     0.0        0.0\n",
       "1  01/22/2020    Beijing  Mainland China       14.0     0.0        0.0\n",
       "2  01/22/2020  Chongqing  Mainland China        6.0     0.0        0.0\n",
       "3  01/22/2020     Fujian  Mainland China        1.0     0.0        0.0\n",
       "4  01/22/2020      Gansu  Mainland China        0.0     0.0        0.0"
      ]
     },
     "execution_count": 666,
     "metadata": {},
     "output_type": "execute_result"
    }
   ],
   "source": [
    "df.head()"
   ]
  },
  {
   "cell_type": "code",
   "execution_count": 667,
   "id": "c590c150-5748-492a-9a99-e701a7178cfe",
   "metadata": {},
   "outputs": [],
   "source": [
    "df['Date'] = pd.to_datetime(df['Date'])"
   ]
  },
  {
   "cell_type": "code",
   "execution_count": 668,
   "id": "1fd4293d-1dbc-4dea-b440-f9f86fbdfb46",
   "metadata": {},
   "outputs": [
    {
     "data": {
      "text/html": [
       "<div>\n",
       "<style scoped>\n",
       "    .dataframe tbody tr th:only-of-type {\n",
       "        vertical-align: middle;\n",
       "    }\n",
       "\n",
       "    .dataframe tbody tr th {\n",
       "        vertical-align: top;\n",
       "    }\n",
       "\n",
       "    .dataframe thead th {\n",
       "        text-align: right;\n",
       "    }\n",
       "</style>\n",
       "<table border=\"1\" class=\"dataframe\">\n",
       "  <thead>\n",
       "    <tr style=\"text-align: right;\">\n",
       "      <th></th>\n",
       "      <th>Date</th>\n",
       "      <th>Province</th>\n",
       "      <th>Country</th>\n",
       "      <th>Confirmed</th>\n",
       "      <th>Deaths</th>\n",
       "      <th>Recovered</th>\n",
       "    </tr>\n",
       "  </thead>\n",
       "  <tbody>\n",
       "    <tr>\n",
       "      <th>0</th>\n",
       "      <td>2020-01-22</td>\n",
       "      <td>Anhui</td>\n",
       "      <td>Mainland China</td>\n",
       "      <td>1.0</td>\n",
       "      <td>0.0</td>\n",
       "      <td>0.0</td>\n",
       "    </tr>\n",
       "    <tr>\n",
       "      <th>1</th>\n",
       "      <td>2020-01-22</td>\n",
       "      <td>Beijing</td>\n",
       "      <td>Mainland China</td>\n",
       "      <td>14.0</td>\n",
       "      <td>0.0</td>\n",
       "      <td>0.0</td>\n",
       "    </tr>\n",
       "    <tr>\n",
       "      <th>2</th>\n",
       "      <td>2020-01-22</td>\n",
       "      <td>Chongqing</td>\n",
       "      <td>Mainland China</td>\n",
       "      <td>6.0</td>\n",
       "      <td>0.0</td>\n",
       "      <td>0.0</td>\n",
       "    </tr>\n",
       "    <tr>\n",
       "      <th>3</th>\n",
       "      <td>2020-01-22</td>\n",
       "      <td>Fujian</td>\n",
       "      <td>Mainland China</td>\n",
       "      <td>1.0</td>\n",
       "      <td>0.0</td>\n",
       "      <td>0.0</td>\n",
       "    </tr>\n",
       "    <tr>\n",
       "      <th>4</th>\n",
       "      <td>2020-01-22</td>\n",
       "      <td>Gansu</td>\n",
       "      <td>Mainland China</td>\n",
       "      <td>0.0</td>\n",
       "      <td>0.0</td>\n",
       "      <td>0.0</td>\n",
       "    </tr>\n",
       "  </tbody>\n",
       "</table>\n",
       "</div>"
      ],
      "text/plain": [
       "        Date   Province         Country  Confirmed  Deaths  Recovered\n",
       "0 2020-01-22      Anhui  Mainland China        1.0     0.0        0.0\n",
       "1 2020-01-22    Beijing  Mainland China       14.0     0.0        0.0\n",
       "2 2020-01-22  Chongqing  Mainland China        6.0     0.0        0.0\n",
       "3 2020-01-22     Fujian  Mainland China        1.0     0.0        0.0\n",
       "4 2020-01-22      Gansu  Mainland China        0.0     0.0        0.0"
      ]
     },
     "execution_count": 668,
     "metadata": {},
     "output_type": "execute_result"
    }
   ],
   "source": [
    "df.head()"
   ]
  },
  {
   "cell_type": "code",
   "execution_count": 669,
   "id": "c1827599-349f-4816-939c-d8c5799167dd",
   "metadata": {},
   "outputs": [
    {
     "data": {
      "text/html": [
       "<div>\n",
       "<style scoped>\n",
       "    .dataframe tbody tr th:only-of-type {\n",
       "        vertical-align: middle;\n",
       "    }\n",
       "\n",
       "    .dataframe tbody tr th {\n",
       "        vertical-align: top;\n",
       "    }\n",
       "\n",
       "    .dataframe thead th {\n",
       "        text-align: right;\n",
       "    }\n",
       "</style>\n",
       "<table border=\"1\" class=\"dataframe\">\n",
       "  <thead>\n",
       "    <tr style=\"text-align: right;\">\n",
       "      <th></th>\n",
       "      <th>Date</th>\n",
       "      <th>Confirmed</th>\n",
       "      <th>Deaths</th>\n",
       "      <th>Recovered</th>\n",
       "    </tr>\n",
       "  </thead>\n",
       "  <tbody>\n",
       "    <tr>\n",
       "      <th>count</th>\n",
       "      <td>205951</td>\n",
       "      <td>2.059510e+05</td>\n",
       "      <td>205951.000000</td>\n",
       "      <td>2.059510e+05</td>\n",
       "    </tr>\n",
       "    <tr>\n",
       "      <th>mean</th>\n",
       "      <td>2020-08-31 05:58:00.542459136</td>\n",
       "      <td>4.540148e+04</td>\n",
       "      <td>1262.633850</td>\n",
       "      <td>2.766348e+04</td>\n",
       "    </tr>\n",
       "    <tr>\n",
       "      <th>min</th>\n",
       "      <td>2020-01-22 00:00:00</td>\n",
       "      <td>-3.028440e+05</td>\n",
       "      <td>-178.000000</td>\n",
       "      <td>-8.544050e+05</td>\n",
       "    </tr>\n",
       "    <tr>\n",
       "      <th>25%</th>\n",
       "      <td>2020-06-27 00:00:00</td>\n",
       "      <td>5.960000e+02</td>\n",
       "      <td>7.000000</td>\n",
       "      <td>1.100000e+01</td>\n",
       "    </tr>\n",
       "    <tr>\n",
       "      <th>50%</th>\n",
       "      <td>2020-09-05 00:00:00</td>\n",
       "      <td>5.361000e+03</td>\n",
       "      <td>101.000000</td>\n",
       "      <td>1.028000e+03</td>\n",
       "    </tr>\n",
       "    <tr>\n",
       "      <th>75%</th>\n",
       "      <td>2020-11-13 00:00:00</td>\n",
       "      <td>2.618400e+04</td>\n",
       "      <td>713.000000</td>\n",
       "      <td>9.880000e+03</td>\n",
       "    </tr>\n",
       "    <tr>\n",
       "      <th>max</th>\n",
       "      <td>2021-01-19 00:00:00</td>\n",
       "      <td>3.049037e+06</td>\n",
       "      <td>80143.000000</td>\n",
       "      <td>6.399531e+06</td>\n",
       "    </tr>\n",
       "    <tr>\n",
       "      <th>std</th>\n",
       "      <td>NaN</td>\n",
       "      <td>1.437216e+05</td>\n",
       "      <td>4082.838603</td>\n",
       "      <td>1.334517e+05</td>\n",
       "    </tr>\n",
       "  </tbody>\n",
       "</table>\n",
       "</div>"
      ],
      "text/plain": [
       "                                Date     Confirmed         Deaths  \\\n",
       "count                         205951  2.059510e+05  205951.000000   \n",
       "mean   2020-08-31 05:58:00.542459136  4.540148e+04    1262.633850   \n",
       "min              2020-01-22 00:00:00 -3.028440e+05    -178.000000   \n",
       "25%              2020-06-27 00:00:00  5.960000e+02       7.000000   \n",
       "50%              2020-09-05 00:00:00  5.361000e+03     101.000000   \n",
       "75%              2020-11-13 00:00:00  2.618400e+04     713.000000   \n",
       "max              2021-01-19 00:00:00  3.049037e+06   80143.000000   \n",
       "std                              NaN  1.437216e+05    4082.838603   \n",
       "\n",
       "          Recovered  \n",
       "count  2.059510e+05  \n",
       "mean   2.766348e+04  \n",
       "min   -8.544050e+05  \n",
       "25%    1.100000e+01  \n",
       "50%    1.028000e+03  \n",
       "75%    9.880000e+03  \n",
       "max    6.399531e+06  \n",
       "std    1.334517e+05  "
      ]
     },
     "execution_count": 669,
     "metadata": {},
     "output_type": "execute_result"
    }
   ],
   "source": [
    "df.describe()"
   ]
  },
  {
   "cell_type": "code",
   "execution_count": 675,
   "id": "afc95d17-6c4c-4368-89d8-78a3f4bcc484",
   "metadata": {},
   "outputs": [
    {
     "name": "stdout",
     "output_type": "stream",
     "text": [
      "<class 'pandas.core.frame.DataFrame'>\n",
      "RangeIndex: 205951 entries, 0 to 205950\n",
      "Data columns (total 6 columns):\n",
      " #   Column     Non-Null Count   Dtype         \n",
      "---  ------     --------------   -----         \n",
      " 0   Date       205951 non-null  datetime64[ns]\n",
      " 1   Province   205951 non-null  object        \n",
      " 2   Country    205951 non-null  object        \n",
      " 3   Confirmed  205951 non-null  float64       \n",
      " 4   Deaths     205951 non-null  float64       \n",
      " 5   Recovered  205951 non-null  float64       \n",
      "dtypes: datetime64[ns](1), float64(3), object(2)\n",
      "memory usage: 9.4+ MB\n"
     ]
    }
   ],
   "source": [
    "df.info()"
   ]
  },
  {
   "cell_type": "code",
   "execution_count": 673,
   "id": "5d59ac07-caf3-4dff-89f0-8807e2d6555f",
   "metadata": {},
   "outputs": [],
   "source": [
    "df= df.fillna('NA')"
   ]
  },
  {
   "cell_type": "code",
   "execution_count": 674,
   "id": "ab0026d0-8171-4dd5-bfd3-f42f8e366117",
   "metadata": {},
   "outputs": [
    {
     "name": "stdout",
     "output_type": "stream",
     "text": [
      "<class 'pandas.core.frame.DataFrame'>\n",
      "RangeIndex: 205951 entries, 0 to 205950\n",
      "Data columns (total 6 columns):\n",
      " #   Column     Non-Null Count   Dtype         \n",
      "---  ------     --------------   -----         \n",
      " 0   Date       205951 non-null  datetime64[ns]\n",
      " 1   Province   205951 non-null  object        \n",
      " 2   Country    205951 non-null  object        \n",
      " 3   Confirmed  205951 non-null  float64       \n",
      " 4   Deaths     205951 non-null  float64       \n",
      " 5   Recovered  205951 non-null  float64       \n",
      "dtypes: datetime64[ns](1), float64(3), object(2)\n",
      "memory usage: 9.4+ MB\n"
     ]
    }
   ],
   "source": [
    "df.info()"
   ]
  },
  {
   "cell_type": "code",
   "execution_count": 685,
   "id": "e3ea6530-0320-443f-8dd8-647c301d7af6",
   "metadata": {},
   "outputs": [],
   "source": [
    "df2 = df.groupby(['Country'])[['Confirmed','Deaths','Recovered']].sum().reset_index()"
   ]
  },
  {
   "cell_type": "code",
   "execution_count": 688,
   "id": "91b6a934-8cc6-42c0-b0f9-c78f1fec29d7",
   "metadata": {},
   "outputs": [
    {
     "data": {
      "text/html": [
       "<div>\n",
       "<style scoped>\n",
       "    .dataframe tbody tr th:only-of-type {\n",
       "        vertical-align: middle;\n",
       "    }\n",
       "\n",
       "    .dataframe tbody tr th {\n",
       "        vertical-align: top;\n",
       "    }\n",
       "\n",
       "    .dataframe thead th {\n",
       "        text-align: right;\n",
       "    }\n",
       "</style>\n",
       "<table border=\"1\" class=\"dataframe\">\n",
       "  <thead>\n",
       "    <tr style=\"text-align: right;\">\n",
       "      <th></th>\n",
       "      <th>Country</th>\n",
       "      <th>Confirmed</th>\n",
       "      <th>Deaths</th>\n",
       "      <th>Recovered</th>\n",
       "    </tr>\n",
       "  </thead>\n",
       "  <tbody>\n",
       "    <tr>\n",
       "      <th>0</th>\n",
       "      <td>Azerbaijan</td>\n",
       "      <td>1.0</td>\n",
       "      <td>0.0</td>\n",
       "      <td>0.0</td>\n",
       "    </tr>\n",
       "    <tr>\n",
       "      <th>1</th>\n",
       "      <td>('St. Martin',)</td>\n",
       "      <td>2.0</td>\n",
       "      <td>0.0</td>\n",
       "      <td>0.0</td>\n",
       "    </tr>\n",
       "    <tr>\n",
       "      <th>2</th>\n",
       "      <td>Afghanistan</td>\n",
       "      <td>9497206.0</td>\n",
       "      <td>340564.0</td>\n",
       "      <td>6834349.0</td>\n",
       "    </tr>\n",
       "    <tr>\n",
       "      <th>3</th>\n",
       "      <td>Albania</td>\n",
       "      <td>4933931.0</td>\n",
       "      <td>111888.0</td>\n",
       "      <td>2714547.0</td>\n",
       "    </tr>\n",
       "    <tr>\n",
       "      <th>4</th>\n",
       "      <td>Algeria</td>\n",
       "      <td>12523828.0</td>\n",
       "      <td>431100.0</td>\n",
       "      <td>8457420.0</td>\n",
       "    </tr>\n",
       "    <tr>\n",
       "      <th>5</th>\n",
       "      <td>Andorra</td>\n",
       "      <td>846509.0</td>\n",
       "      <td>17133.0</td>\n",
       "      <td>701853.0</td>\n",
       "    </tr>\n",
       "    <tr>\n",
       "      <th>6</th>\n",
       "      <td>Angola</td>\n",
       "      <td>1689812.0</td>\n",
       "      <td>44796.0</td>\n",
       "      <td>912761.0</td>\n",
       "    </tr>\n",
       "    <tr>\n",
       "      <th>7</th>\n",
       "      <td>Antigua and Barbuda</td>\n",
       "      <td>26189.0</td>\n",
       "      <td>965.0</td>\n",
       "      <td>22303.0</td>\n",
       "    </tr>\n",
       "    <tr>\n",
       "      <th>8</th>\n",
       "      <td>Argentina</td>\n",
       "      <td>181064392.0</td>\n",
       "      <td>4649141.0</td>\n",
       "      <td>150151111.0</td>\n",
       "    </tr>\n",
       "    <tr>\n",
       "      <th>9</th>\n",
       "      <td>Armenia</td>\n",
       "      <td>17634667.0</td>\n",
       "      <td>304101.0</td>\n",
       "      <td>13961711.0</td>\n",
       "    </tr>\n",
       "    <tr>\n",
       "      <th>10</th>\n",
       "      <td>Aruba</td>\n",
       "      <td>19.0</td>\n",
       "      <td>0.0</td>\n",
       "      <td>0.0</td>\n",
       "    </tr>\n",
       "    <tr>\n",
       "      <th>11</th>\n",
       "      <td>Australia</td>\n",
       "      <td>5634473.0</td>\n",
       "      <td>150217.0</td>\n",
       "      <td>4755974.0</td>\n",
       "    </tr>\n",
       "    <tr>\n",
       "      <th>12</th>\n",
       "      <td>Austria</td>\n",
       "      <td>29371572.0</td>\n",
       "      <td>484061.0</td>\n",
       "      <td>24411646.0</td>\n",
       "    </tr>\n",
       "    <tr>\n",
       "      <th>13</th>\n",
       "      <td>Azerbaijan</td>\n",
       "      <td>17205043.0</td>\n",
       "      <td>216747.0</td>\n",
       "      <td>13618696.0</td>\n",
       "    </tr>\n",
       "    <tr>\n",
       "      <th>14</th>\n",
       "      <td>Bahamas</td>\n",
       "      <td>924619.0</td>\n",
       "      <td>20855.0</td>\n",
       "      <td>626938.0</td>\n",
       "    </tr>\n",
       "    <tr>\n",
       "      <th>15</th>\n",
       "      <td>Bahamas, The</td>\n",
       "      <td>10.0</td>\n",
       "      <td>0.0</td>\n",
       "      <td>0.0</td>\n",
       "    </tr>\n",
       "    <tr>\n",
       "      <th>16</th>\n",
       "      <td>Bahrain</td>\n",
       "      <td>14745309.0</td>\n",
       "      <td>54021.0</td>\n",
       "      <td>13718332.0</td>\n",
       "    </tr>\n",
       "    <tr>\n",
       "      <th>17</th>\n",
       "      <td>Bangladesh</td>\n",
       "      <td>78729853.0</td>\n",
       "      <td>1116355.0</td>\n",
       "      <td>58598619.0</td>\n",
       "    </tr>\n",
       "    <tr>\n",
       "      <th>18</th>\n",
       "      <td>Barbados</td>\n",
       "      <td>61087.0</td>\n",
       "      <td>1970.0</td>\n",
       "      <td>45887.0</td>\n",
       "    </tr>\n",
       "    <tr>\n",
       "      <th>19</th>\n",
       "      <td>Belarus</td>\n",
       "      <td>24465335.0</td>\n",
       "      <td>201427.0</td>\n",
       "      <td>20838056.0</td>\n",
       "    </tr>\n",
       "  </tbody>\n",
       "</table>\n",
       "</div>"
      ],
      "text/plain": [
       "                Country    Confirmed     Deaths    Recovered\n",
       "0            Azerbaijan          1.0        0.0          0.0\n",
       "1       ('St. Martin',)          2.0        0.0          0.0\n",
       "2           Afghanistan    9497206.0   340564.0    6834349.0\n",
       "3               Albania    4933931.0   111888.0    2714547.0\n",
       "4               Algeria   12523828.0   431100.0    8457420.0\n",
       "5               Andorra     846509.0    17133.0     701853.0\n",
       "6                Angola    1689812.0    44796.0     912761.0\n",
       "7   Antigua and Barbuda      26189.0      965.0      22303.0\n",
       "8             Argentina  181064392.0  4649141.0  150151111.0\n",
       "9               Armenia   17634667.0   304101.0   13961711.0\n",
       "10                Aruba         19.0        0.0          0.0\n",
       "11            Australia    5634473.0   150217.0    4755974.0\n",
       "12              Austria   29371572.0   484061.0   24411646.0\n",
       "13           Azerbaijan   17205043.0   216747.0   13618696.0\n",
       "14              Bahamas     924619.0    20855.0     626938.0\n",
       "15         Bahamas, The         10.0        0.0          0.0\n",
       "16              Bahrain   14745309.0    54021.0   13718332.0\n",
       "17           Bangladesh   78729853.0  1116355.0   58598619.0\n",
       "18             Barbados      61087.0     1970.0      45887.0\n",
       "19              Belarus   24465335.0   201427.0   20838056.0"
      ]
     },
     "execution_count": 688,
     "metadata": {},
     "output_type": "execute_result"
    }
   ],
   "source": [
    "df2.head(20)"
   ]
  },
  {
   "cell_type": "code",
   "execution_count": 694,
   "id": "7316096f-7d4d-49eb-a980-d662137d2306",
   "metadata": {},
   "outputs": [],
   "source": [
    "df2 = df.groupby(['Country','Date'])[['Confirmed','Deaths','Recovered']].sum().reset_index()"
   ]
  },
  {
   "cell_type": "code",
   "execution_count": 695,
   "id": "7a4771cd-f596-4665-b29a-15927089d642",
   "metadata": {},
   "outputs": [
    {
     "data": {
      "text/html": [
       "<div>\n",
       "<style scoped>\n",
       "    .dataframe tbody tr th:only-of-type {\n",
       "        vertical-align: middle;\n",
       "    }\n",
       "\n",
       "    .dataframe tbody tr th {\n",
       "        vertical-align: top;\n",
       "    }\n",
       "\n",
       "    .dataframe thead th {\n",
       "        text-align: right;\n",
       "    }\n",
       "</style>\n",
       "<table border=\"1\" class=\"dataframe\">\n",
       "  <thead>\n",
       "    <tr style=\"text-align: right;\">\n",
       "      <th></th>\n",
       "      <th>Country</th>\n",
       "      <th>Date</th>\n",
       "      <th>Confirmed</th>\n",
       "      <th>Deaths</th>\n",
       "      <th>Recovered</th>\n",
       "    </tr>\n",
       "  </thead>\n",
       "  <tbody>\n",
       "    <tr>\n",
       "      <th>0</th>\n",
       "      <td>Azerbaijan</td>\n",
       "      <td>2020-02-28</td>\n",
       "      <td>1.0</td>\n",
       "      <td>0.0</td>\n",
       "      <td>0.0</td>\n",
       "    </tr>\n",
       "    <tr>\n",
       "      <th>1</th>\n",
       "      <td>('St. Martin',)</td>\n",
       "      <td>2020-03-10</td>\n",
       "      <td>2.0</td>\n",
       "      <td>0.0</td>\n",
       "      <td>0.0</td>\n",
       "    </tr>\n",
       "    <tr>\n",
       "      <th>2</th>\n",
       "      <td>Afghanistan</td>\n",
       "      <td>2020-02-24</td>\n",
       "      <td>1.0</td>\n",
       "      <td>0.0</td>\n",
       "      <td>0.0</td>\n",
       "    </tr>\n",
       "    <tr>\n",
       "      <th>3</th>\n",
       "      <td>Afghanistan</td>\n",
       "      <td>2020-02-25</td>\n",
       "      <td>1.0</td>\n",
       "      <td>0.0</td>\n",
       "      <td>0.0</td>\n",
       "    </tr>\n",
       "    <tr>\n",
       "      <th>4</th>\n",
       "      <td>Afghanistan</td>\n",
       "      <td>2020-02-26</td>\n",
       "      <td>1.0</td>\n",
       "      <td>0.0</td>\n",
       "      <td>0.0</td>\n",
       "    </tr>\n",
       "    <tr>\n",
       "      <th>5</th>\n",
       "      <td>Afghanistan</td>\n",
       "      <td>2020-02-27</td>\n",
       "      <td>1.0</td>\n",
       "      <td>0.0</td>\n",
       "      <td>0.0</td>\n",
       "    </tr>\n",
       "    <tr>\n",
       "      <th>6</th>\n",
       "      <td>Afghanistan</td>\n",
       "      <td>2020-02-28</td>\n",
       "      <td>1.0</td>\n",
       "      <td>0.0</td>\n",
       "      <td>0.0</td>\n",
       "    </tr>\n",
       "    <tr>\n",
       "      <th>7</th>\n",
       "      <td>Afghanistan</td>\n",
       "      <td>2020-02-29</td>\n",
       "      <td>1.0</td>\n",
       "      <td>0.0</td>\n",
       "      <td>0.0</td>\n",
       "    </tr>\n",
       "    <tr>\n",
       "      <th>8</th>\n",
       "      <td>Afghanistan</td>\n",
       "      <td>2020-03-01</td>\n",
       "      <td>1.0</td>\n",
       "      <td>0.0</td>\n",
       "      <td>0.0</td>\n",
       "    </tr>\n",
       "    <tr>\n",
       "      <th>9</th>\n",
       "      <td>Afghanistan</td>\n",
       "      <td>2020-03-02</td>\n",
       "      <td>1.0</td>\n",
       "      <td>0.0</td>\n",
       "      <td>0.0</td>\n",
       "    </tr>\n",
       "    <tr>\n",
       "      <th>10</th>\n",
       "      <td>Afghanistan</td>\n",
       "      <td>2020-03-03</td>\n",
       "      <td>2.0</td>\n",
       "      <td>0.0</td>\n",
       "      <td>0.0</td>\n",
       "    </tr>\n",
       "    <tr>\n",
       "      <th>11</th>\n",
       "      <td>Afghanistan</td>\n",
       "      <td>2020-03-04</td>\n",
       "      <td>4.0</td>\n",
       "      <td>0.0</td>\n",
       "      <td>0.0</td>\n",
       "    </tr>\n",
       "    <tr>\n",
       "      <th>12</th>\n",
       "      <td>Afghanistan</td>\n",
       "      <td>2020-03-05</td>\n",
       "      <td>4.0</td>\n",
       "      <td>0.0</td>\n",
       "      <td>0.0</td>\n",
       "    </tr>\n",
       "    <tr>\n",
       "      <th>13</th>\n",
       "      <td>Afghanistan</td>\n",
       "      <td>2020-03-06</td>\n",
       "      <td>4.0</td>\n",
       "      <td>0.0</td>\n",
       "      <td>0.0</td>\n",
       "    </tr>\n",
       "    <tr>\n",
       "      <th>14</th>\n",
       "      <td>Afghanistan</td>\n",
       "      <td>2020-03-07</td>\n",
       "      <td>4.0</td>\n",
       "      <td>0.0</td>\n",
       "      <td>0.0</td>\n",
       "    </tr>\n",
       "    <tr>\n",
       "      <th>15</th>\n",
       "      <td>Afghanistan</td>\n",
       "      <td>2020-03-08</td>\n",
       "      <td>5.0</td>\n",
       "      <td>0.0</td>\n",
       "      <td>0.0</td>\n",
       "    </tr>\n",
       "    <tr>\n",
       "      <th>16</th>\n",
       "      <td>Afghanistan</td>\n",
       "      <td>2020-03-09</td>\n",
       "      <td>7.0</td>\n",
       "      <td>0.0</td>\n",
       "      <td>0.0</td>\n",
       "    </tr>\n",
       "    <tr>\n",
       "      <th>17</th>\n",
       "      <td>Afghanistan</td>\n",
       "      <td>2020-03-10</td>\n",
       "      <td>8.0</td>\n",
       "      <td>0.0</td>\n",
       "      <td>0.0</td>\n",
       "    </tr>\n",
       "    <tr>\n",
       "      <th>18</th>\n",
       "      <td>Afghanistan</td>\n",
       "      <td>2020-03-11</td>\n",
       "      <td>11.0</td>\n",
       "      <td>0.0</td>\n",
       "      <td>0.0</td>\n",
       "    </tr>\n",
       "    <tr>\n",
       "      <th>19</th>\n",
       "      <td>Afghanistan</td>\n",
       "      <td>2020-03-12</td>\n",
       "      <td>12.0</td>\n",
       "      <td>0.0</td>\n",
       "      <td>0.0</td>\n",
       "    </tr>\n",
       "  </tbody>\n",
       "</table>\n",
       "</div>"
      ],
      "text/plain": [
       "            Country       Date  Confirmed  Deaths  Recovered\n",
       "0        Azerbaijan 2020-02-28        1.0     0.0        0.0\n",
       "1   ('St. Martin',) 2020-03-10        2.0     0.0        0.0\n",
       "2       Afghanistan 2020-02-24        1.0     0.0        0.0\n",
       "3       Afghanistan 2020-02-25        1.0     0.0        0.0\n",
       "4       Afghanistan 2020-02-26        1.0     0.0        0.0\n",
       "5       Afghanistan 2020-02-27        1.0     0.0        0.0\n",
       "6       Afghanistan 2020-02-28        1.0     0.0        0.0\n",
       "7       Afghanistan 2020-02-29        1.0     0.0        0.0\n",
       "8       Afghanistan 2020-03-01        1.0     0.0        0.0\n",
       "9       Afghanistan 2020-03-02        1.0     0.0        0.0\n",
       "10      Afghanistan 2020-03-03        2.0     0.0        0.0\n",
       "11      Afghanistan 2020-03-04        4.0     0.0        0.0\n",
       "12      Afghanistan 2020-03-05        4.0     0.0        0.0\n",
       "13      Afghanistan 2020-03-06        4.0     0.0        0.0\n",
       "14      Afghanistan 2020-03-07        4.0     0.0        0.0\n",
       "15      Afghanistan 2020-03-08        5.0     0.0        0.0\n",
       "16      Afghanistan 2020-03-09        7.0     0.0        0.0\n",
       "17      Afghanistan 2020-03-10        8.0     0.0        0.0\n",
       "18      Afghanistan 2020-03-11       11.0     0.0        0.0\n",
       "19      Afghanistan 2020-03-12       12.0     0.0        0.0"
      ]
     },
     "execution_count": 695,
     "metadata": {},
     "output_type": "execute_result"
    }
   ],
   "source": [
    "df2.head(20)"
   ]
  },
  {
   "cell_type": "code",
   "execution_count": 696,
   "id": "72a1956b-8d3f-4500-ab35-afad19ce5aac",
   "metadata": {},
   "outputs": [],
   "source": [
    "df3 = df2[df2['Confirmed']>100]"
   ]
  },
  {
   "cell_type": "code",
   "execution_count": 697,
   "id": "c5f46510-256a-4962-b50c-7248267564fb",
   "metadata": {},
   "outputs": [
    {
     "data": {
      "text/html": [
       "<div>\n",
       "<style scoped>\n",
       "    .dataframe tbody tr th:only-of-type {\n",
       "        vertical-align: middle;\n",
       "    }\n",
       "\n",
       "    .dataframe tbody tr th {\n",
       "        vertical-align: top;\n",
       "    }\n",
       "\n",
       "    .dataframe thead th {\n",
       "        text-align: right;\n",
       "    }\n",
       "</style>\n",
       "<table border=\"1\" class=\"dataframe\">\n",
       "  <thead>\n",
       "    <tr style=\"text-align: right;\">\n",
       "      <th></th>\n",
       "      <th>Country</th>\n",
       "      <th>Date</th>\n",
       "      <th>Confirmed</th>\n",
       "      <th>Deaths</th>\n",
       "      <th>Recovered</th>\n",
       "    </tr>\n",
       "  </thead>\n",
       "  <tbody>\n",
       "    <tr>\n",
       "      <th>35</th>\n",
       "      <td>Afghanistan</td>\n",
       "      <td>2020-03-28</td>\n",
       "      <td>107.0</td>\n",
       "      <td>4.0</td>\n",
       "      <td>2.0</td>\n",
       "    </tr>\n",
       "    <tr>\n",
       "      <th>36</th>\n",
       "      <td>Afghanistan</td>\n",
       "      <td>2020-03-29</td>\n",
       "      <td>118.0</td>\n",
       "      <td>4.0</td>\n",
       "      <td>2.0</td>\n",
       "    </tr>\n",
       "    <tr>\n",
       "      <th>37</th>\n",
       "      <td>Afghanistan</td>\n",
       "      <td>2020-03-30</td>\n",
       "      <td>146.0</td>\n",
       "      <td>4.0</td>\n",
       "      <td>2.0</td>\n",
       "    </tr>\n",
       "    <tr>\n",
       "      <th>38</th>\n",
       "      <td>Afghanistan</td>\n",
       "      <td>2020-03-31</td>\n",
       "      <td>175.0</td>\n",
       "      <td>4.0</td>\n",
       "      <td>5.0</td>\n",
       "    </tr>\n",
       "    <tr>\n",
       "      <th>39</th>\n",
       "      <td>Afghanistan</td>\n",
       "      <td>2020-04-01</td>\n",
       "      <td>197.0</td>\n",
       "      <td>4.0</td>\n",
       "      <td>5.0</td>\n",
       "    </tr>\n",
       "    <tr>\n",
       "      <th>40</th>\n",
       "      <td>Afghanistan</td>\n",
       "      <td>2020-04-02</td>\n",
       "      <td>240.0</td>\n",
       "      <td>4.0</td>\n",
       "      <td>10.0</td>\n",
       "    </tr>\n",
       "    <tr>\n",
       "      <th>41</th>\n",
       "      <td>Afghanistan</td>\n",
       "      <td>2020-04-03</td>\n",
       "      <td>275.0</td>\n",
       "      <td>8.0</td>\n",
       "      <td>10.0</td>\n",
       "    </tr>\n",
       "    <tr>\n",
       "      <th>42</th>\n",
       "      <td>Afghanistan</td>\n",
       "      <td>2020-04-04</td>\n",
       "      <td>300.0</td>\n",
       "      <td>10.0</td>\n",
       "      <td>10.0</td>\n",
       "    </tr>\n",
       "    <tr>\n",
       "      <th>43</th>\n",
       "      <td>Afghanistan</td>\n",
       "      <td>2020-04-05</td>\n",
       "      <td>338.0</td>\n",
       "      <td>12.0</td>\n",
       "      <td>15.0</td>\n",
       "    </tr>\n",
       "    <tr>\n",
       "      <th>44</th>\n",
       "      <td>Afghanistan</td>\n",
       "      <td>2020-04-06</td>\n",
       "      <td>368.0</td>\n",
       "      <td>15.0</td>\n",
       "      <td>18.0</td>\n",
       "    </tr>\n",
       "  </tbody>\n",
       "</table>\n",
       "</div>"
      ],
      "text/plain": [
       "        Country       Date  Confirmed  Deaths  Recovered\n",
       "35  Afghanistan 2020-03-28      107.0     4.0        2.0\n",
       "36  Afghanistan 2020-03-29      118.0     4.0        2.0\n",
       "37  Afghanistan 2020-03-30      146.0     4.0        2.0\n",
       "38  Afghanistan 2020-03-31      175.0     4.0        5.0\n",
       "39  Afghanistan 2020-04-01      197.0     4.0        5.0\n",
       "40  Afghanistan 2020-04-02      240.0     4.0       10.0\n",
       "41  Afghanistan 2020-04-03      275.0     8.0       10.0\n",
       "42  Afghanistan 2020-04-04      300.0    10.0       10.0\n",
       "43  Afghanistan 2020-04-05      338.0    12.0       15.0\n",
       "44  Afghanistan 2020-04-06      368.0    15.0       18.0"
      ]
     },
     "execution_count": 697,
     "metadata": {},
     "output_type": "execute_result"
    }
   ],
   "source": [
    "df3.head(10)"
   ]
  },
  {
   "cell_type": "markdown",
   "id": "8f759009-31bc-4f1f-80ab-a29a73e1cbfd",
   "metadata": {},
   "source": [
    "# Matplotlib"
   ]
  },
  {
   "cell_type": "code",
   "execution_count": 11,
   "id": "c564fb31-652e-4746-b27c-7ac92cde0e48",
   "metadata": {},
   "outputs": [],
   "source": [
    "import matplotlib.pyplot as plt"
   ]
  },
  {
   "cell_type": "code",
   "execution_count": 16,
   "id": "9c7aebac-928b-45d4-b7df-d38ab72d2d99",
   "metadata": {},
   "outputs": [
    {
     "data": {
      "text/plain": [
       "[<matplotlib.lines.Line2D at 0x251eb44b020>]"
      ]
     },
     "execution_count": 16,
     "metadata": {},
     "output_type": "execute_result"
    },
    {
     "data": {
      "image/png": "[encoded data removed]",
      "text/plain": [
       "<Figure size 640x480 with 1 Axes>"
      ]
     },
     "metadata": {},
     "output_type": "display_data"
    }
   ],
   "source": [
    "x = np.linspace(0,10,1000)\n",
    "y = np.sin(x)\n",
    "plt.plot(x,y)"
   ]
  },
  {
   "cell_type": "code",
   "execution_count": 19,
   "id": "56455838-dfd3-4b1c-a775-547554483479",
   "metadata": {},
   "outputs": [
    {
     "data": {
      "text/plain": [
       "<matplotlib.collections.PathCollection at 0x251eb5ed1f0>"
      ]
     },
     "execution_count": 19,
     "metadata": {},
     "output_type": "execute_result"
    },
    {
     "data": {
      "image/png": "[encoded data removed]",
      "text/plain": [
       "<Figure size 640x480 with 1 Axes>"
      ]
     },
     "metadata": {},
     "output_type": "display_data"
    }
   ],
   "source": [
    "plt.scatter(x[::10],y[::10])"
   ]
  },
  {
   "cell_type": "code",
   "execution_count": null,
   "id": "f7327a76-8a51-4de0-8ca8-fd960242a6da",
   "metadata": {},
   "outputs": [],
   "source": []
  }
 ],
 "metadata": {
  "kernelspec": {
   "display_name": "Python 3 (ipykernel)",
   "language": "python",
   "name": "python3"
  },
  "language_info": {
   "codemirror_mode": {
    "name": "ipython",
    "version": 3
   },
   "file_extension": ".py",
   "mimetype": "text/x-python",
   "name": "python",
   "nbconvert_exporter": "python",
   "pygments_lexer": "ipython3",
   "version": "3.12.5"
  }
 },
 "nbformat": 4,
 "nbformat_minor": 5
}
