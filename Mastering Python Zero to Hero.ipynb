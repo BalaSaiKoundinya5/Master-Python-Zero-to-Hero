{
 "cells": [
  {
   "cell_type": "markdown",
   "id": "199e73a6-3962-407d-b834-1a017e03c377",
   "metadata": {},
   "source": [
    "# Why Python?\n",
    "1. Beginner Friendly \n",
    "2. Versatile and Flexible\n",
    "3. Most Popular in Machine learning world\n",
    "4. Most Mature package libraries around"
   ]
  },
  {
   "cell_type": "markdown",
   "id": "785b79f2-9312-421f-8944-814118820d3f",
   "metadata": {},
   "source": [
    "- As of today, there are over 137,000 Python libraries and a significantly larger number of packages available, with estimates placing the total package count on the Python Package Index (PyPI) at over 530,000 packages."
   ]
  },
  {
   "cell_type": "code",
   "execution_count": 1,
   "id": "2f00ca7d-fcb5-43c2-82de-4a5abd4b108b",
   "metadata": {},
   "outputs": [
    {
     "name": "stdout",
     "output_type": "stream",
     "text": [
      "Hello World!\n"
     ]
    }
   ],
   "source": [
    "print(\"Hello World!\")"
   ]
  },
  {
   "cell_type": "markdown",
   "id": "315c2b36-b3a3-4102-ba27-9702f15bb7b9",
   "metadata": {},
   "source": [
    "- If we want to write a math equation then change it into markdown cell and then apply $ at the starting and ending of the equation.\n",
    "\n",
    "$a=b+c$"
   ]
  },
  {
   "cell_type": "markdown",
   "id": "5a73d4bb-4086-429a-a730-6af672f5bd65",
   "metadata": {},
   "source": [
    "# Variable \n",
    "- It is like a container to store the value in it.\n",
    "# Operators\n",
    "- Operators are used to perform operations on variables and values."
   ]
  },
  {
   "cell_type": "markdown",
   "id": "2189d099-6232-4c28-b919-de75d0810dab",
   "metadata": {},
   "source": [
    "- Here = is used for assigning the value on the right hand side to the variable that is present in the left hand side."
   ]
  },
  {
   "cell_type": "code",
   "execution_count": 20,
   "id": "a26d5296-a936-4d87-a99b-643eca136e80",
   "metadata": {},
   "outputs": [],
   "source": [
    "x = 2\n",
    "y = 5.0\n",
    "z = 2 + 4j\n",
    "s = 'Hello'"
   ]
  },
  {
   "cell_type": "code",
   "execution_count": 21,
   "id": "723f12a6-5c89-44cf-98c8-6cde411a52bc",
   "metadata": {},
   "outputs": [
    {
     "name": "stdout",
     "output_type": "stream",
     "text": [
      "<class 'int'>\n",
      "<class 'float'>\n",
      "<class 'complex'>\n",
      "<class 'str'>\n"
     ]
    }
   ],
   "source": [
    "print(type(x))\n",
    "print(type(y))\n",
    "print(type(z))\n",
    "print(type(s))"
   ]
  },
  {
   "cell_type": "markdown",
   "id": "75b5fd8c-66be-4be4-afc7-caeb9020248e",
   "metadata": {},
   "source": [
    "# Multiple Assignment\n",
    "- Note: The number of variable must be equal to number of values or else it will throw an error"
   ]
  },
  {
   "cell_type": "code",
   "execution_count": 15,
   "id": "53ac0aa3-2ff2-4835-b65e-4cb41edbd47e",
   "metadata": {},
   "outputs": [],
   "source": [
    "a,b=1,2"
   ]
  },
  {
   "cell_type": "code",
   "execution_count": 16,
   "id": "f3a4b3d1-5a11-42e7-923c-fcfd2267672e",
   "metadata": {},
   "outputs": [
    {
     "name": "stdout",
     "output_type": "stream",
     "text": [
      "1\n",
      "2\n"
     ]
    }
   ],
   "source": [
    "print(a)\n",
    "print(b)"
   ]
  },
  {
   "cell_type": "code",
   "execution_count": 22,
   "id": "209c5858-68fa-4f87-a4f8-fc0eb97fcb3e",
   "metadata": {},
   "outputs": [],
   "source": [
    "p = 1"
   ]
  },
  {
   "cell_type": "code",
   "execution_count": 23,
   "id": "a53a0408-9645-4aaa-80f6-5a379f87546d",
   "metadata": {},
   "outputs": [
    {
     "name": "stdout",
     "output_type": "stream",
     "text": [
      "1\n"
     ]
    }
   ],
   "source": [
    "print(p)"
   ]
  },
  {
   "cell_type": "code",
   "execution_count": null,
   "id": "5b5689b1-4877-46a5-88f3-accd142399ee",
   "metadata": {},
   "outputs": [],
   "source": []
  }
 ],
 "metadata": {
  "kernelspec": {
   "display_name": "Python 3 (ipykernel)",
   "language": "python",
   "name": "python3"
  },
  "language_info": {
   "codemirror_mode": {
    "name": "ipython",
    "version": 3
   },
   "file_extension": ".py",
   "mimetype": "text/x-python",
   "name": "python",
   "nbconvert_exporter": "python",
   "pygments_lexer": "ipython3",
   "version": "3.12.5"
  }
 },
 "nbformat": 4,
 "nbformat_minor": 5
}
